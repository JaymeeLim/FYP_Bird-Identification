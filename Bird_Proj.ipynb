{
 "cells": [
  {
   "cell_type": "markdown",
   "id": "e2586fff-dcdb-49e2-8625-8032df125d95",
   "metadata": {
    "jp-MarkdownHeadingCollapsed": true
   },
   "source": [
    "# Split Dataset into train/val/test"
   ]
  },
  {
   "cell_type": "code",
   "execution_count": 2,
   "id": "95799d57-9ddf-4d51-87d2-977804101ae5",
   "metadata": {
    "scrolled": true
   },
   "outputs": [
    {
     "name": "stdout",
     "output_type": "stream",
     "text": [
      "Class 001.Black_footed_Albatross: 42 train, 9 val, 9 test\n",
      "Class 002.Laysan_Albatross: 42 train, 9 val, 9 test\n",
      "Class 003.Sooty_Albatross: 40 train, 8 val, 10 test\n",
      "Class 004.Groove_billed_Ani: 42 train, 9 val, 9 test\n",
      "Class 005.Crested_Auklet: 30 train, 6 val, 8 test\n",
      "Class 006.Least_Auklet: 28 train, 6 val, 7 test\n",
      "Class 007.Parakeet_Auklet: 37 train, 7 val, 9 test\n",
      "Class 008.Rhinoceros_Auklet: 33 train, 7 val, 8 test\n",
      "Class 009.Brewer_Blackbird: 42 train, 9 val, 9 test\n",
      "Class 010.Red_winged_Blackbird: 42 train, 9 val, 9 test\n",
      "Class 011.Rusty_Blackbird: 42 train, 9 val, 9 test\n",
      "Class 012.Yellow_headed_Blackbird: 39 train, 8 val, 9 test\n",
      "Class 013.Bobolink: 42 train, 9 val, 9 test\n",
      "Class 014.Indigo_Bunting: 42 train, 9 val, 9 test\n",
      "Class 015.Lazuli_Bunting: 40 train, 8 val, 10 test\n",
      "Class 016.Painted_Bunting: 40 train, 8 val, 10 test\n",
      "Class 017.Cardinal: 39 train, 8 val, 10 test\n",
      "Class 018.Spotted_Catbird: 31 train, 6 val, 8 test\n",
      "Class 019.Gray_Catbird: 41 train, 8 val, 10 test\n",
      "Class 020.Yellow_breasted_Chat: 41 train, 8 val, 10 test\n",
      "Class 021.Eastern_Towhee: 42 train, 9 val, 9 test\n",
      "Class 022.Chuck_will_Widow: 39 train, 8 val, 9 test\n",
      "Class 023.Brandt_Cormorant: 41 train, 8 val, 10 test\n",
      "Class 024.Red_faced_Cormorant: 36 train, 7 val, 9 test\n",
      "Class 025.Pelagic_Cormorant: 42 train, 9 val, 10 test\n",
      "Class 026.Bronzed_Cowbird: 42 train, 9 val, 9 test\n",
      "Class 027.Shiny_Cowbird: 42 train, 9 val, 9 test\n",
      "Class 028.Brown_Creeper: 41 train, 8 val, 10 test\n",
      "Class 029.American_Crow: 42 train, 9 val, 9 test\n",
      "Class 030.Fish_Crow: 42 train, 9 val, 9 test\n",
      "Class 031.Black_billed_Cuckoo: 42 train, 9 val, 9 test\n",
      "Class 032.Mangrove_Cuckoo: 37 train, 7 val, 9 test\n",
      "Class 033.Yellow_billed_Cuckoo: 41 train, 8 val, 10 test\n",
      "Class 034.Gray_crowned_Rosy_Finch: 41 train, 8 val, 10 test\n",
      "Class 035.Purple_Finch: 42 train, 9 val, 9 test\n",
      "Class 036.Northern_Flicker: 42 train, 9 val, 9 test\n",
      "Class 037.Acadian_Flycatcher: 41 train, 8 val, 10 test\n",
      "Class 038.Great_Crested_Flycatcher: 42 train, 9 val, 9 test\n",
      "Class 039.Least_Flycatcher: 41 train, 8 val, 10 test\n",
      "Class 040.Olive_sided_Flycatcher: 42 train, 9 val, 9 test\n",
      "Class 041.Scissor_tailed_Flycatcher: 42 train, 9 val, 9 test\n",
      "Class 042.Vermilion_Flycatcher: 42 train, 9 val, 9 test\n",
      "Class 043.Yellow_bellied_Flycatcher: 41 train, 8 val, 10 test\n",
      "Class 044.Frigatebird: 42 train, 9 val, 9 test\n",
      "Class 045.Northern_Fulmar: 42 train, 9 val, 9 test\n",
      "Class 046.Gadwall: 42 train, 9 val, 9 test\n",
      "Class 047.American_Goldfinch: 42 train, 9 val, 9 test\n",
      "Class 048.European_Goldfinch: 42 train, 9 val, 9 test\n",
      "Class 049.Boat_tailed_Grackle: 42 train, 9 val, 9 test\n",
      "Class 050.Eared_Grebe: 42 train, 9 val, 9 test\n",
      "Class 051.Horned_Grebe: 42 train, 9 val, 9 test\n",
      "Class 052.Pied_billed_Grebe: 42 train, 9 val, 9 test\n",
      "Class 053.Western_Grebe: 42 train, 9 val, 9 test\n",
      "Class 054.Blue_Grosbeak: 42 train, 9 val, 9 test\n",
      "Class 055.Evening_Grosbeak: 42 train, 9 val, 9 test\n",
      "Class 056.Pine_Grosbeak: 42 train, 9 val, 9 test\n",
      "Class 057.Rose_breasted_Grosbeak: 42 train, 9 val, 9 test\n",
      "Class 058.Pigeon_Guillemot: 40 train, 8 val, 10 test\n",
      "Class 059.California_Gull: 42 train, 9 val, 9 test\n",
      "Class 060.Glaucous_winged_Gull: 41 train, 8 val, 10 test\n",
      "Class 061.Heermann_Gull: 42 train, 9 val, 9 test\n",
      "Class 062.Herring_Gull: 42 train, 9 val, 9 test\n",
      "Class 063.Ivory_Gull: 43 train, 9 val, 10 test\n",
      "Class 064.Ring_billed_Gull: 42 train, 9 val, 9 test\n",
      "Class 065.Slaty_backed_Gull: 35 train, 7 val, 8 test\n",
      "Class 066.Western_Gull: 42 train, 9 val, 10 test\n",
      "Class 067.Anna_Hummingbird: 42 train, 9 val, 9 test\n",
      "Class 068.Ruby_throated_Hummingbird: 42 train, 9 val, 9 test\n",
      "Class 069.Rufous_Hummingbird: 42 train, 9 val, 9 test\n",
      "Class 070.Green_Violetear: 42 train, 9 val, 9 test\n",
      "Class 071.Long_tailed_Jaeger: 42 train, 9 val, 9 test\n",
      "Class 072.Pomarine_Jaeger: 42 train, 9 val, 9 test\n",
      "Class 073.Blue_Jay: 42 train, 9 val, 9 test\n",
      "Class 074.Florida_Jay: 42 train, 9 val, 9 test\n",
      "Class 075.Green_Jay: 39 train, 8 val, 10 test\n",
      "Class 076.Dark_eyed_Junco: 42 train, 9 val, 9 test\n",
      "Class 077.Tropical_Kingbird: 42 train, 9 val, 9 test\n",
      "Class 078.Gray_Kingbird: 41 train, 8 val, 10 test\n",
      "Class 079.Belted_Kingfisher: 42 train, 9 val, 9 test\n",
      "Class 080.Green_Kingfisher: 42 train, 9 val, 9 test\n",
      "Class 081.Pied_Kingfisher: 42 train, 9 val, 9 test\n",
      "Class 082.Ringed_Kingfisher: 42 train, 9 val, 9 test\n",
      "Class 083.White_breasted_Kingfisher: 42 train, 9 val, 9 test\n",
      "Class 084.Red_legged_Kittiwake: 37 train, 7 val, 9 test\n",
      "Class 085.Horned_Lark: 42 train, 9 val, 9 test\n",
      "Class 086.Pacific_Loon: 42 train, 9 val, 9 test\n",
      "Class 087.Mallard: 42 train, 9 val, 10 test\n",
      "Class 088.Western_Meadowlark: 42 train, 9 val, 9 test\n",
      "Class 089.Hooded_Merganser: 42 train, 9 val, 9 test\n",
      "Class 090.Red_breasted_Merganser: 42 train, 9 val, 9 test\n",
      "Class 091.Mockingbird: 42 train, 9 val, 9 test\n",
      "Class 092.Nighthawk: 42 train, 9 val, 9 test\n",
      "Class 093.Clark_Nutcracker: 42 train, 9 val, 10 test\n",
      "Class 094.White_breasted_Nuthatch: 42 train, 9 val, 9 test\n",
      "Class 095.Baltimore_Oriole: 42 train, 9 val, 9 test\n",
      "Class 096.Hooded_Oriole: 42 train, 9 val, 9 test\n",
      "Class 097.Orchard_Oriole: 41 train, 8 val, 10 test\n",
      "Class 098.Scott_Oriole: 42 train, 9 val, 9 test\n",
      "Class 099.Ovenbird: 42 train, 9 val, 9 test\n",
      "Class 100.Brown_Pelican: 42 train, 9 val, 9 test\n",
      "Class 101.White_Pelican: 35 train, 7 val, 8 test\n",
      "Class 102.Western_Wood_Pewee: 42 train, 9 val, 9 test\n",
      "Class 103.Sayornis: 42 train, 9 val, 9 test\n",
      "Class 104.American_Pipit: 42 train, 9 val, 9 test\n",
      "Class 105.Whip_poor_Will: 34 train, 7 val, 8 test\n",
      "Class 106.Horned_Puffin: 42 train, 9 val, 9 test\n",
      "Class 107.Common_Raven: 41 train, 8 val, 10 test\n",
      "Class 108.White_necked_Raven: 42 train, 9 val, 10 test\n",
      "Class 109.American_Redstart: 42 train, 9 val, 9 test\n",
      "Class 110.Geococcyx: 42 train, 9 val, 9 test\n",
      "Class 111.Loggerhead_Shrike: 42 train, 9 val, 9 test\n",
      "Class 112.Great_Grey_Shrike: 42 train, 9 val, 9 test\n",
      "Class 113.Baird_Sparrow: 35 train, 7 val, 8 test\n",
      "Class 114.Black_throated_Sparrow: 42 train, 9 val, 9 test\n",
      "Class 115.Brewer_Sparrow: 41 train, 8 val, 10 test\n",
      "Class 116.Chipping_Sparrow: 42 train, 9 val, 9 test\n",
      "Class 117.Clay_colored_Sparrow: 41 train, 8 val, 10 test\n",
      "Class 118.House_Sparrow: 42 train, 9 val, 9 test\n",
      "Class 119.Field_Sparrow: 41 train, 8 val, 10 test\n",
      "Class 120.Fox_Sparrow: 42 train, 9 val, 9 test\n",
      "Class 121.Grasshopper_Sparrow: 42 train, 9 val, 9 test\n",
      "Class 122.Harris_Sparrow: 42 train, 9 val, 9 test\n",
      "Class 123.Henslow_Sparrow: 42 train, 9 val, 9 test\n",
      "Class 124.Le_Conte_Sparrow: 41 train, 8 val, 10 test\n",
      "Class 125.Lincoln_Sparrow: 41 train, 8 val, 10 test\n",
      "Class 126.Nelson_Sharp_tailed_Sparrow: 41 train, 8 val, 10 test\n",
      "Class 127.Savannah_Sparrow: 42 train, 9 val, 9 test\n",
      "Class 128.Seaside_Sparrow: 42 train, 9 val, 9 test\n",
      "Class 129.Song_Sparrow: 42 train, 9 val, 9 test\n",
      "Class 130.Tree_Sparrow: 42 train, 9 val, 9 test\n",
      "Class 131.Vesper_Sparrow: 42 train, 9 val, 9 test\n",
      "Class 132.White_crowned_Sparrow: 42 train, 9 val, 9 test\n",
      "Class 133.White_throated_Sparrow: 42 train, 9 val, 9 test\n",
      "Class 134.Cape_Glossy_Starling: 42 train, 9 val, 9 test\n",
      "Class 135.Bank_Swallow: 41 train, 8 val, 10 test\n",
      "Class 136.Barn_Swallow: 42 train, 9 val, 9 test\n",
      "Class 137.Cliff_Swallow: 42 train, 9 val, 9 test\n",
      "Class 138.Tree_Swallow: 42 train, 9 val, 9 test\n",
      "Class 139.Scarlet_Tanager: 42 train, 9 val, 9 test\n",
      "Class 140.Summer_Tanager: 42 train, 9 val, 9 test\n",
      "Class 141.Artic_Tern: 40 train, 8 val, 10 test\n",
      "Class 142.Black_Tern: 42 train, 9 val, 9 test\n",
      "Class 143.Caspian_Tern: 42 train, 9 val, 9 test\n",
      "Class 144.Common_Tern: 42 train, 9 val, 9 test\n",
      "Class 145.Elegant_Tern: 42 train, 9 val, 9 test\n",
      "Class 146.Forsters_Tern: 42 train, 9 val, 9 test\n",
      "Class 147.Least_Tern: 42 train, 9 val, 9 test\n",
      "Class 148.Green_tailed_Towhee: 42 train, 9 val, 9 test\n",
      "Class 149.Brown_Thrasher: 41 train, 8 val, 10 test\n",
      "Class 150.Sage_Thrasher: 42 train, 9 val, 9 test\n",
      "Class 151.Black_capped_Vireo: 35 train, 7 val, 9 test\n",
      "Class 152.Blue_headed_Vireo: 42 train, 9 val, 9 test\n",
      "Class 153.Philadelphia_Vireo: 41 train, 8 val, 10 test\n",
      "Class 154.Red_eyed_Vireo: 42 train, 9 val, 9 test\n",
      "Class 155.Warbling_Vireo: 42 train, 9 val, 9 test\n",
      "Class 156.White_eyed_Vireo: 42 train, 9 val, 9 test\n",
      "Class 157.Yellow_throated_Vireo: 41 train, 8 val, 10 test\n",
      "Class 158.Bay_breasted_Warbler: 42 train, 9 val, 9 test\n",
      "Class 159.Black_and_white_Warbler: 42 train, 9 val, 9 test\n",
      "Class 160.Black_throated_Blue_Warbler: 41 train, 8 val, 10 test\n",
      "Class 161.Blue_winged_Warbler: 42 train, 9 val, 9 test\n",
      "Class 162.Canada_Warbler: 42 train, 9 val, 9 test\n",
      "Class 163.Cape_May_Warbler: 42 train, 9 val, 9 test\n",
      "Class 164.Cerulean_Warbler: 42 train, 9 val, 9 test\n",
      "Class 165.Chestnut_sided_Warbler: 42 train, 9 val, 9 test\n",
      "Class 166.Golden_winged_Warbler: 41 train, 8 val, 10 test\n",
      "Class 167.Hooded_Warbler: 42 train, 9 val, 9 test\n",
      "Class 168.Kentucky_Warbler: 41 train, 8 val, 10 test\n",
      "Class 169.Magnolia_Warbler: 41 train, 8 val, 10 test\n",
      "Class 170.Mourning_Warbler: 42 train, 9 val, 9 test\n",
      "Class 171.Myrtle_Warbler: 42 train, 9 val, 9 test\n",
      "Class 172.Nashville_Warbler: 42 train, 9 val, 9 test\n",
      "Class 173.Orange_crowned_Warbler: 42 train, 9 val, 9 test\n",
      "Class 174.Palm_Warbler: 42 train, 9 val, 9 test\n",
      "Class 175.Pine_Warbler: 42 train, 9 val, 9 test\n",
      "Class 176.Prairie_Warbler: 42 train, 9 val, 9 test\n",
      "Class 177.Prothonotary_Warbler: 42 train, 9 val, 9 test\n",
      "Class 178.Swainson_Warbler: 39 train, 8 val, 9 test\n",
      "Class 179.Tennessee_Warbler: 41 train, 8 val, 10 test\n",
      "Class 180.Wilson_Warbler: 42 train, 9 val, 9 test\n",
      "Class 181.Worm_eating_Warbler: 41 train, 8 val, 10 test\n",
      "Class 182.Yellow_Warbler: 42 train, 9 val, 9 test\n",
      "Class 183.Northern_Waterthrush: 42 train, 9 val, 9 test\n",
      "Class 184.Louisiana_Waterthrush: 42 train, 9 val, 9 test\n",
      "Class 185.Bohemian_Waxwing: 42 train, 9 val, 9 test\n",
      "Class 186.Cedar_Waxwing: 42 train, 9 val, 9 test\n",
      "Class 187.American_Three_toed_Woodpecker: 35 train, 7 val, 8 test\n",
      "Class 188.Pileated_Woodpecker: 42 train, 9 val, 9 test\n",
      "Class 189.Red_bellied_Woodpecker: 42 train, 9 val, 9 test\n",
      "Class 190.Red_cockaded_Woodpecker: 40 train, 8 val, 10 test\n",
      "Class 191.Red_headed_Woodpecker: 42 train, 9 val, 9 test\n",
      "Class 192.Downy_Woodpecker: 42 train, 9 val, 9 test\n",
      "Class 193.Bewick_Wren: 42 train, 9 val, 9 test\n",
      "Class 194.Cactus_Wren: 42 train, 9 val, 9 test\n",
      "Class 195.Carolina_Wren: 42 train, 9 val, 9 test\n",
      "Class 196.House_Wren: 41 train, 8 val, 10 test\n",
      "Class 197.Marsh_Wren: 42 train, 9 val, 9 test\n",
      "Class 198.Rock_Wren: 42 train, 9 val, 9 test\n",
      "Class 199.Winter_Wren: 42 train, 9 val, 9 test\n",
      "Class 200.Common_Yellowthroat: 42 train, 9 val, 9 test\n",
      "Class Accipiter_cooperii: 14 train, 3 val, 3 test\n",
      "Class Agelaius_phoeniceus: 14 train, 3 val, 3 test\n",
      "Class Aix_sponsa: 14 train, 3 val, 3 test\n",
      "Class Alcedo_atthis: 14 train, 3 val, 3 test\n",
      "Class Amazona_ochrocephala: 14 train, 3 val, 3 test\n",
      "Class Ammodramus_savannarum: 14 train, 3 val, 3 test\n",
      "Class Ammospiza_caudacuta: 14 train, 3 val, 3 test\n",
      "Class Anas_platyrhynchos: 14 train, 3 val, 3 test\n",
      "Class Anodorhynchus_hyacinthinus: 14 train, 3 val, 3 test\n",
      "Class Anthus_rubescens: 14 train, 3 val, 3 test\n",
      "Class Apteryx_australis: 14 train, 3 val, 3 test\n",
      "Class Aquila_chrysaetos: 14 train, 3 val, 3 test\n",
      "Class Ara_ararauna: 14 train, 3 val, 3 test\n",
      "Class Ara_macao: 14 train, 3 val, 3 test\n",
      "Class Ardea_alba: 14 train, 3 val, 3 test\n",
      "Class Athene_cunicularia: 14 train, 3 val, 3 test\n",
      "Class Aythya_affinis: 14 train, 3 val, 3 test\n",
      "Class Botaurus_stellaris: 14 train, 3 val, 3 test\n",
      "Class Bubo_virginianus: 14 train, 3 val, 3 test\n",
      "Class Bucephala_clangula: 14 train, 3 val, 3 test\n",
      "Class Buteo_jamaicensis: 14 train, 3 val, 3 test\n",
      "Class Cacatua_galerita: 14 train, 3 val, 3 test\n",
      "Class Calcarius_ornatus: 14 train, 3 val, 3 test\n",
      "Class Cardinalis_cardinalis: 14 train, 3 val, 3 test\n",
      "Class Carduelis_carduelis: 14 train, 3 val, 3 test\n",
      "Class Carpodacus_erythrinus: 14 train, 3 val, 3 test\n",
      "Class Catharus_guttatus: 14 train, 3 val, 3 test\n",
      "Class Catharus_minimus: 14 train, 3 val, 3 test\n",
      "Class Catharus_ustulatus: 14 train, 3 val, 3 test\n",
      "Class Catherpes_mexicanus: 14 train, 3 val, 3 test\n",
      "Class Ceryle_rudis: 14 train, 3 val, 3 test\n",
      "Class Chloris_ambigua: 14 train, 3 val, 3 test\n",
      "Class Chloris_chloris: 14 train, 3 val, 3 test\n",
      "Class Circus_cyaneus: 14 train, 3 val, 3 test\n",
      "Class Cistothorus_palustris: 14 train, 3 val, 3 test\n",
      "Class Coccothraustes_coccothraustes: 14 train, 3 val, 3 test\n",
      "Class Colaptes_auratus: 14 train, 3 val, 3 test\n",
      "Class Colinus_virginianus: 14 train, 3 val, 3 test\n",
      "Class Columba_livia: 14 train, 3 val, 3 test\n",
      "Class Contopus_virens: 14 train, 3 val, 3 test\n",
      "Class Coracias_garrulus: 14 train, 3 val, 3 test\n",
      "Class Corvus_brachyrhynchos: 14 train, 3 val, 3 test\n",
      "Class Corvus_corax: 14 train, 3 val, 3 test\n",
      "Class Cuculus_canorus: 14 train, 3 val, 3 test\n",
      "Class Cyanocitta_cristata: 14 train, 3 val, 3 test\n",
      "Class Cyanoloxia_cyanoides: 14 train, 3 val, 3 test\n",
      "Class Cygnus_olor: 14 train, 3 val, 3 test\n",
      "Class Dolichonyx_oryzivorus: 14 train, 3 val, 3 test\n",
      "Class Dromaius_novaehollandiae: 14 train, 3 val, 3 test\n",
      "Class Dryocopus_pileatus: 14 train, 3 val, 3 test\n",
      "Class Dumetella_carolinensis: 14 train, 3 val, 3 test\n",
      "Class Egretta_thula: 14 train, 3 val, 3 test\n",
      "Class Elaenia_flavogaster: 14 train, 3 val, 3 test\n",
      "Class Empidonax_minimus: 14 train, 3 val, 3 test\n",
      "Class Euphagus_cyanocephalus: 14 train, 3 val, 3 test\n",
      "Class Falco_peregrinus: 14 train, 3 val, 3 test\n",
      "Class Falco_rusticolus: 14 train, 3 val, 3 test\n",
      "Class Falco_sparverius: 14 train, 3 val, 3 test\n",
      "Class Fratercula_arctica: 14 train, 3 val, 3 test\n",
      "Class Fringilla_coelebs: 14 train, 3 val, 3 test\n",
      "Class Fringilla_montifringilla: 14 train, 3 val, 3 test\n",
      "Class Gallus_gallus: 14 train, 3 val, 3 test\n",
      "Class Geococcyx_californianus: 14 train, 3 val, 3 test\n",
      "Class Geopelia_cuneata: 14 train, 3 val, 3 test\n",
      "Class Geothlypis_trichas: 14 train, 3 val, 3 test\n",
      "Class Haemorhous_mexicanus: 14 train, 3 val, 3 test\n",
      "Class Haemorhous_purpureus: 14 train, 3 val, 3 test\n",
      "Class Halcyon_smyrnensis: 14 train, 3 val, 3 test\n",
      "Class Haliaeetus_leucocephalus: 14 train, 3 val, 3 test\n",
      "Class Helmitheros_vermivorum: 14 train, 3 val, 3 test\n",
      "Class Icteria_virens: 14 train, 3 val, 3 test\n",
      "Class Icterus_cucullatus: 14 train, 3 val, 3 test\n",
      "Class Icterus_galbula: 14 train, 3 val, 3 test\n",
      "Class Icterus_parisorum: 14 train, 3 val, 3 test\n",
      "Class Junco_hyemalis: 14 train, 3 val, 3 test\n",
      "Class Lanius_excubitor: 14 train, 3 val, 3 test\n",
      "Class Loxia_curvirostra: 14 train, 3 val, 3 test\n",
      "Class Megaceryle_alcyon: 14 train, 3 val, 3 test\n",
      "Class Meleagris_gallopavo: 14 train, 3 val, 3 test\n",
      "Class Melopsittacus_undulatus: 14 train, 3 val, 3 test\n",
      "Class Melospiza_georgiana: 14 train, 3 val, 3 test\n",
      "Class Melospiza_melodia: 14 train, 3 val, 3 test\n",
      "Class Merops_apiaster: 14 train, 3 val, 3 test\n",
      "Class Mimus_polyglottos: 14 train, 3 val, 3 test\n",
      "Class Mniotilta_varia: 14 train, 3 val, 3 test\n",
      "Class Molothrus_ater: 14 train, 3 val, 3 test\n",
      "Class Motacilla_alba: 14 train, 3 val, 3 test\n",
      "Class Motacilla_cinerea: 14 train, 3 val, 3 test\n",
      "Class Motacilla_flava: 14 train, 3 val, 3 test\n",
      "Class Mycteria_americana: 14 train, 3 val, 3 test\n",
      "Class Myiarchus_crinitus: 14 train, 3 val, 3 test\n",
      "Class Nucifraga_columbiana: 14 train, 3 val, 3 test\n",
      "Class Numida_meleagris: 14 train, 3 val, 3 test\n",
      "Class Nycticorax_nycticorax: 14 train, 3 val, 3 test\n",
      "Class Oreoscoptes_montanus: 14 train, 3 val, 3 test\n",
      "Class Pandion_haliaetus: 14 train, 3 val, 3 test\n",
      "Class Parkesia_motacilla: 14 train, 3 val, 3 test\n",
      "Class Parkesia_noveboracensis: 14 train, 3 val, 3 test\n",
      "Class Passerculus_sandwichensis: 14 train, 3 val, 3 test\n",
      "Class Passerina_amoena: 14 train, 3 val, 3 test\n",
      "Class Passerina_ciris: 14 train, 3 val, 3 test\n",
      "Class Passerina_cyanea: 14 train, 3 val, 3 test\n",
      "Class Passer_domesticus: 14 train, 3 val, 3 test\n",
      "Class Passer_montanus: 14 train, 3 val, 3 test\n",
      "Class Patagioenas_fasciata: 14 train, 3 val, 3 test\n",
      "Class Perisoreus_canadensis: 14 train, 3 val, 3 test\n",
      "Class Phasianus_colchicus: 14 train, 3 val, 3 test\n",
      "Class Pheucticus_ludovicianus: 14 train, 3 val, 3 test\n",
      "Class Pheucticus_melanocephalus: 14 train, 3 val, 3 test\n",
      "Class Phoebastria_immutabilis: 14 train, 3 val, 3 test\n",
      "Class Phoebastria_nigripes: 14 train, 3 val, 3 test\n",
      "Class Pica_pica: 14 train, 3 val, 3 test\n",
      "Class Picus_viridis: 14 train, 3 val, 3 test\n",
      "Class Pipilo_erythrophthalmus: 14 train, 3 val, 3 test\n",
      "Class Pipilo_maculatus: 14 train, 3 val, 3 test\n",
      "Class Piranga_ludoviciana: 14 train, 3 val, 3 test\n",
      "Class Piranga_olivacea: 14 train, 3 val, 3 test\n",
      "Class Piranga_rubra: 14 train, 3 val, 3 test\n",
      "Class Pitangus_sulphuratus: 14 train, 3 val, 3 test\n",
      "Class Platalea_ajaja: 14 train, 3 val, 3 test\n",
      "Class Podiceps_cristatus: 14 train, 3 val, 3 test\n",
      "Class Poecile_atricapillus: 14 train, 3 val, 3 test\n",
      "Class Poecile_gambeli: 14 train, 3 val, 3 test\n",
      "Class Polioptila_caerulea: 14 train, 3 val, 3 test\n",
      "Class Pooecetes_gramineus: 14 train, 3 val, 3 test\n",
      "Class Psittacus_erithacus: 14 train, 3 val, 3 test\n",
      "Class Puffinus_puffinus: 14 train, 3 val, 3 test\n",
      "Class Pyrrhula_pyrrhula: 14 train, 3 val, 3 test\n",
      "Class Quiscalus_quiscula: 14 train, 3 val, 3 test\n",
      "Class Ramphastos_toco: 14 train, 3 val, 3 test\n",
      "Class Regulus_calendula: 14 train, 3 val, 3 test\n",
      "Class Regulus_satrapa: 14 train, 3 val, 3 test\n",
      "Class Sayornis_phoebe: 14 train, 3 val, 3 test\n",
      "Class Seiurus_aurocapilla: 14 train, 3 val, 3 test\n",
      "Class Setophaga_americana: 14 train, 3 val, 3 test\n",
      "Class Setophaga_castanea: 14 train, 3 val, 3 test\n",
      "Class Setophaga_coronata: 14 train, 3 val, 3 test\n",
      "Class Setophaga_fusca: 14 train, 3 val, 3 test\n",
      "Class Setophaga_magnolia: 14 train, 3 val, 3 test\n",
      "Class Setophaga_pensylvanica: 14 train, 3 val, 3 test\n",
      "Class Setophaga_petechia: 14 train, 3 val, 3 test\n",
      "Class Setophaga_ruticilla: 14 train, 3 val, 3 test\n",
      "Class Setophaga_tigrina: 14 train, 3 val, 3 test\n",
      "Class Sialia_currucoides: 14 train, 3 val, 3 test\n",
      "Class Sialia_mexicana: 14 train, 3 val, 3 test\n",
      "Class Sialia_sialis: 14 train, 3 val, 3 test\n",
      "Class Sitta_carolinensis: 14 train, 3 val, 3 test\n",
      "Class Sitta_europaea: 14 train, 3 val, 3 test\n",
      "Class Sitta_pygmaea: 14 train, 3 val, 3 test\n",
      "Class Spatula_clypeata: 14 train, 3 val, 3 test\n",
      "Class Sphyrapicus_varius: 14 train, 3 val, 3 test\n",
      "Class Spinus_pinus: 14 train, 3 val, 3 test\n",
      "Class Spinus_spinus: 14 train, 3 val, 3 test\n",
      "Class Spinus_tristis: 14 train, 3 val, 3 test\n",
      "Class Spizella_arborea: 14 train, 3 val, 3 test\n",
      "Class Spizella_passerina: 14 train, 3 val, 3 test\n",
      "Class Strix_varia: 14 train, 3 val, 3 test\n",
      "Class Struthio_camelus: 14 train, 3 val, 3 test\n",
      "Class Sturnus_vulgaris: 14 train, 3 val, 3 test\n",
      "Class Tachybaptus_ruficollis: 14 train, 3 val, 3 test\n",
      "Class Thalassarche_melanophris: 14 train, 3 val, 3 test\n",
      "Class Tichodroma_muraria: 14 train, 3 val, 3 test\n",
      "Class Toxostoma_rufum: 14 train, 3 val, 3 test\n",
      "Class Troglodytes_aedon: 14 train, 3 val, 3 test\n",
      "Class Trogon_collaris: 14 train, 3 val, 3 test\n",
      "Class Turdus_merula: 14 train, 3 val, 3 test\n",
      "Class Turdus_migratorius: 14 train, 3 val, 3 test\n",
      "Class Tyrannus_tyrannus: 14 train, 3 val, 3 test\n",
      "Class Tyto_alba: 14 train, 3 val, 3 test\n",
      "Class Upupa_epops: 14 train, 3 val, 3 test\n",
      "Class Vermivora_chrysoptera: 14 train, 3 val, 3 test\n",
      "Class Vermivora_cyanoptera: 14 train, 3 val, 3 test\n",
      "Class Zenaida_macroura: 14 train, 3 val, 3 test\n",
      "Class Zonotrichia_albicollis: 14 train, 3 val, 3 test\n",
      "Class Zonotrichia_capensis: 14 train, 3 val, 3 test\n",
      "Class Zonotrichia_leucophrys: 14 train, 3 val, 3 test\n",
      "Class Acadian_Flycatcher: 7 train, 1 val, 2 test\n",
      "Class Accipiter_cooperii: 7 train, 1 val, 2 test\n",
      "Class Agelaius_phoeniceus: 7 train, 1 val, 2 test\n",
      "Class Aix_sponsa: 7 train, 1 val, 2 test\n",
      "Class Alcedo_atthis: 7 train, 1 val, 2 test\n",
      "Class Amazona_ochrocephala: 7 train, 1 val, 2 test\n",
      "Class American_Crow: 7 train, 1 val, 2 test\n",
      "Class American_Goldfinch: 7 train, 1 val, 2 test\n",
      "Class American_Pipit: 3 train, 0 val, 2 test\n",
      "Class American_Redstart: 7 train, 1 val, 2 test\n",
      "Class American_Three_toed_Woodpecker: 3 train, 0 val, 2 test\n",
      "Class Ammodramus_savannarum: 7 train, 1 val, 2 test\n",
      "Class Ammospiza_caudacuta: 6 train, 1 val, 2 test\n",
      "Class Anas_platyrhynchos: 7 train, 1 val, 2 test\n",
      "Class Anna_Hummingbird: 7 train, 1 val, 2 test\n",
      "Class Anodorhynchus_hyacinthinus: 7 train, 1 val, 2 test\n",
      "Class Anthus_rubescens: 7 train, 1 val, 2 test\n",
      "Class Apteryx_australis: 2 train, 0 val, 1 test\n",
      "Class Aquila_chrysaetos: 7 train, 1 val, 2 test\n",
      "Class Ara_ararauna: 7 train, 1 val, 2 test\n",
      "Class Ara_macao: 7 train, 1 val, 2 test\n",
      "Class Ardea_alba: 7 train, 1 val, 2 test\n",
      "Class Artic_Tern: 3 train, 0 val, 2 test\n",
      "Class Athene_cunicularia: 7 train, 1 val, 2 test\n",
      "Class Aythya_affinis: 7 train, 1 val, 2 test\n",
      "Class Baird_Sparrow: 3 train, 0 val, 2 test\n",
      "Class Baltimore_Oriole: 7 train, 1 val, 2 test\n",
      "Class Bank_Swallow: 3 train, 0 val, 2 test\n",
      "Class Barn_Swallow: 7 train, 1 val, 2 test\n",
      "Class Bay_breasted_Warbler: 3 train, 0 val, 2 test\n",
      "Class Belted_Kingfisher: 7 train, 1 val, 2 test\n",
      "Class Bewick_Wren: 4 train, 0 val, 2 test\n",
      "Class Black_and_white_Warbler: 3 train, 0 val, 2 test\n",
      "Class Black_billed_Cuckoo: 7 train, 1 val, 2 test\n",
      "Class Black_capped_Vireo: 3 train, 0 val, 2 test\n",
      "Class Black_footed_Albatross: 7 train, 1 val, 2 test\n",
      "Class Black_Tern: 7 train, 1 val, 2 test\n",
      "Class Black_throated_Blue_Warbler: 3 train, 0 val, 2 test\n",
      "Class Black_throated_Sparrow: 3 train, 0 val, 2 test\n",
      "Class Blue_Grosbeak: 7 train, 1 val, 2 test\n",
      "Class Blue_Jay: 7 train, 1 val, 2 test\n",
      "Class Blue_winged_Warbler: 3 train, 0 val, 2 test\n",
      "Class Boat_tailed_Grackle: 7 train, 1 val, 2 test\n",
      "Class Bobolink: 7 train, 1 val, 2 test\n",
      "Class Bohemian_Waxwing: 7 train, 1 val, 2 test\n",
      "Class Botaurus_stellaris: 7 train, 1 val, 2 test\n",
      "Class Brandt_Cormorant: 4 train, 1 val, 2 test\n",
      "Class Brewer_Blackbird: 7 train, 1 val, 2 test\n",
      "Class Brewer_Sparrow: 3 train, 0 val, 2 test\n",
      "Class Bronzed_Cowbird: 7 train, 1 val, 2 test\n",
      "Class Brown_Creeper: 7 train, 1 val, 2 test\n",
      "Class Brown_Pelican: 7 train, 1 val, 2 test\n",
      "Class Brown_Thrasher: 7 train, 1 val, 2 test\n",
      "Class Bubo_virginianus: 7 train, 1 val, 2 test\n",
      "Class Bucephala_clangula: 7 train, 1 val, 2 test\n",
      "Class Buteo_jamaicensis: 7 train, 1 val, 2 test\n",
      "Class Cacatua_galerita: 7 train, 1 val, 2 test\n",
      "Class Cactus_Wren: 7 train, 1 val, 2 test\n",
      "Class Calcarius_ornatus: 7 train, 1 val, 2 test\n",
      "Class California_Gull: 7 train, 1 val, 2 test\n",
      "Class Canada_Warbler: 7 train, 1 val, 2 test\n",
      "Class Cape_Glossy_Starling: 3 train, 0 val, 2 test\n",
      "Class Cape_May_Warbler: 7 train, 1 val, 2 test\n",
      "Class Cardinal: 7 train, 1 val, 2 test\n",
      "Class Cardinalis_cardinalis: 7 train, 1 val, 2 test\n",
      "Class Carduelis_carduelis: 7 train, 1 val, 2 test\n",
      "Class Carolina_Wren: 7 train, 1 val, 2 test\n",
      "Class Carpodacus_erythrinus: 7 train, 1 val, 2 test\n",
      "Class Caspian_Tern: 7 train, 1 val, 2 test\n",
      "Class Catharus_guttatus: 7 train, 1 val, 2 test\n",
      "Class Catharus_minimus: 7 train, 1 val, 2 test\n",
      "Class Catharus_ustulatus: 7 train, 1 val, 2 test\n",
      "Class Catherpes_mexicanus: 7 train, 1 val, 2 test\n",
      "Class Cedar_Waxwing: 7 train, 1 val, 2 test\n",
      "Class Cerulean_Warbler: 7 train, 1 val, 2 test\n",
      "Class Ceryle_rudis: 7 train, 1 val, 2 test\n",
      "Class Chestnut_sided_Warbler: 3 train, 0 val, 2 test\n",
      "Class Chipping_Sparrow: 7 train, 1 val, 2 test\n",
      "Class Chloris_ambigua: 7 train, 1 val, 2 test\n",
      "Class Chloris_chloris: 7 train, 1 val, 2 test\n",
      "Class Chuck_will_Widow: 5 train, 1 val, 2 test\n",
      "Class Circus_cyaneus: 7 train, 1 val, 2 test\n",
      "Class Cistothorus_palustris: 7 train, 1 val, 2 test\n",
      "Class Clark_Nutcracker: 3 train, 0 val, 2 test\n",
      "Class Clay_colored_Sparrow: 3 train, 0 val, 2 test\n",
      "Class Cliff_Swallow: 7 train, 1 val, 2 test\n",
      "Class Coccothraustes_coccothraustes: 7 train, 1 val, 2 test\n",
      "Class Colaptes_auratus: 7 train, 1 val, 2 test\n",
      "Class Colinus_virginianus: 7 train, 1 val, 2 test\n",
      "Class Columba_livia: 7 train, 1 val, 2 test\n",
      "Class Common_Raven: 3 train, 0 val, 2 test\n",
      "Class Common_Tern: 7 train, 1 val, 2 test\n",
      "Class Common_Yellowthroat: 7 train, 1 val, 2 test\n",
      "Class Contopus_virens: 7 train, 1 val, 2 test\n",
      "Class Coracias_garrulus: 7 train, 1 val, 2 test\n",
      "Class Corvus_brachyrhynchos: 7 train, 1 val, 2 test\n",
      "Class Corvus_corax: 7 train, 1 val, 2 test\n",
      "Class Crested_Auklet: 2 train, 0 val, 2 test\n",
      "Class Cuculus_canorus: 7 train, 1 val, 2 test\n",
      "Class Cyanocitta_cristata: 7 train, 1 val, 2 test\n",
      "Class Cyanoloxia_cyanoides: 7 train, 1 val, 2 test\n",
      "Class Cygnus_olor: 7 train, 1 val, 2 test\n",
      "Class Dark_eyed_Junco: 4 train, 1 val, 2 test\n",
      "Class Dolichonyx_oryzivorus: 7 train, 1 val, 2 test\n",
      "Class Downy_Woodpecker: 7 train, 1 val, 2 test\n",
      "Class Dromaius_novaehollandiae: 7 train, 1 val, 2 test\n",
      "Class Dryocopus_pileatus: 7 train, 1 val, 2 test\n",
      "Class Dumetella_carolinensis: 7 train, 1 val, 2 test\n",
      "Class Eared_Grebe: 7 train, 1 val, 2 test\n",
      "Class Eastern_Towhee: 7 train, 1 val, 2 test\n",
      "Class Egretta_thula: 7 train, 1 val, 2 test\n",
      "Class Elaenia_flavogaster: 7 train, 1 val, 2 test\n",
      "Class Elegant_Tern: 7 train, 1 val, 2 test\n",
      "Class Empidonax_minimus: 7 train, 1 val, 2 test\n",
      "Class Euphagus_cyanocephalus: 7 train, 1 val, 2 test\n",
      "Class European_Goldfinch: 7 train, 1 val, 2 test\n",
      "Class Evening_Grosbeak: 7 train, 1 val, 2 test\n",
      "Class Falco_peregrinus: 7 train, 1 val, 2 test\n",
      "Class Falco_rusticolus: 7 train, 1 val, 2 test\n",
      "Class Falco_sparverius: 7 train, 1 val, 2 test\n",
      "Class Field_Sparrow: 7 train, 1 val, 2 test\n",
      "Class Fish_Crow: 7 train, 1 val, 2 test\n",
      "Class Florida_Jay: 7 train, 1 val, 2 test\n",
      "Class Forsters_Tern: 3 train, 0 val, 2 test\n",
      "Class Fox_Sparrow: 7 train, 1 val, 2 test\n",
      "Class Fratercula_arctica: 7 train, 1 val, 2 test\n",
      "Class Frigatebird: 7 train, 1 val, 2 test\n",
      "Class Fringilla_coelebs: 7 train, 1 val, 2 test\n",
      "Class Fringilla_montifringilla: 7 train, 1 val, 2 test\n",
      "Class Gadwall: 7 train, 1 val, 2 test\n",
      "Class Gallus_gallus: 7 train, 1 val, 2 test\n",
      "Class Geococcyx: 7 train, 1 val, 2 test\n",
      "Class Geococcyx_californianus: 7 train, 1 val, 2 test\n",
      "Class Geopelia_cuneata: 7 train, 1 val, 2 test\n",
      "Class Geothlypis_trichas: 7 train, 1 val, 2 test\n",
      "Class Glaucous_winged_Gull: 7 train, 1 val, 2 test\n",
      "Class Golden_winged_Warbler: 3 train, 0 val, 2 test\n",
      "Class Grasshopper_Sparrow: 7 train, 1 val, 2 test\n",
      "Class Gray_Catbird: 7 train, 1 val, 2 test\n",
      "Class Gray_crowned_Rosy_Finch: 7 train, 1 val, 2 test\n",
      "Class Gray_Kingbird: 4 train, 1 val, 2 test\n",
      "Class Great_Crested_Flycatcher: 7 train, 1 val, 2 test\n",
      "Class Great_Grey_Shrike: 7 train, 1 val, 2 test\n",
      "Class Green_Jay: 7 train, 1 val, 2 test\n",
      "Class Green_Kingfisher: 7 train, 1 val, 2 test\n",
      "Class Green_tailed_Towhee: 3 train, 0 val, 2 test\n",
      "Class Green_Violetear: 7 train, 1 val, 2 test\n",
      "Class Haemorhous_mexicanus: 7 train, 1 val, 2 test\n",
      "Class Haemorhous_purpureus: 7 train, 1 val, 2 test\n",
      "Class Halcyon_smyrnensis: 7 train, 1 val, 2 test\n",
      "Class Haliaeetus_leucocephalus: 7 train, 1 val, 2 test\n",
      "Class Harris_Sparrow: 3 train, 0 val, 2 test\n",
      "Class Heermann_Gull: 7 train, 1 val, 2 test\n",
      "Class Helmitheros_vermivorum: 7 train, 1 val, 2 test\n",
      "Class Henslow_Sparrow: 3 train, 0 val, 2 test\n",
      "Class Herring_Gull: 7 train, 1 val, 2 test\n",
      "Class Hooded_Merganser: 7 train, 1 val, 2 test\n",
      "Class Hooded_Oriole: 7 train, 1 val, 2 test\n",
      "Class Hooded_Warbler: 7 train, 1 val, 2 test\n",
      "Class Horned_Grebe: 7 train, 1 val, 2 test\n",
      "Class Horned_Lark: 7 train, 1 val, 2 test\n",
      "Class Horned_Puffin: 0 train, 0 val, 1 test\n",
      "Class House_Sparrow: 7 train, 1 val, 2 test\n",
      "Class House_Wren: 7 train, 1 val, 2 test\n",
      "Class Icteria_virens: 7 train, 1 val, 2 test\n",
      "Class Icterus_cucullatus: 7 train, 1 val, 2 test\n",
      "Class Icterus_galbula: 7 train, 1 val, 2 test\n",
      "Class Icterus_parisorum: 7 train, 1 val, 2 test\n",
      "Class Indigo_Bunting: 7 train, 1 val, 2 test\n",
      "Class Ivory_Gull: 6 train, 1 val, 2 test\n",
      "Class Junco_hyemalis: 7 train, 1 val, 2 test\n",
      "Class Kentucky_Warbler: 7 train, 1 val, 2 test\n",
      "Class Lanius_excubitor: 7 train, 1 val, 2 test\n",
      "Class Laysan_Albatross: 7 train, 1 val, 2 test\n",
      "Class Lazuli_Bunting: 7 train, 1 val, 2 test\n",
      "Class Least_Auklet: 7 train, 1 val, 2 test\n",
      "Class Least_Flycatcher: 7 train, 1 val, 2 test\n",
      "Class Least_Tern: 7 train, 1 val, 2 test\n",
      "Class Lincoln_Sparrow: 3 train, 0 val, 2 test\n",
      "Class Loggerhead_Shrike: 7 train, 1 val, 2 test\n",
      "Class Long_tailed_Jaeger: 7 train, 1 val, 2 test\n",
      "Class Louisiana_Waterthrush: 7 train, 1 val, 2 test\n",
      "Class Loxia_curvirostra: 7 train, 1 val, 2 test\n",
      "Class Magnolia_Warbler: 7 train, 1 val, 2 test\n",
      "Class Mallard: 7 train, 1 val, 2 test\n",
      "Class Mangrove_Cuckoo: 7 train, 1 val, 2 test\n",
      "Class Marsh_Wren: 7 train, 1 val, 2 test\n",
      "Class Megaceryle_alcyon: 7 train, 1 val, 2 test\n",
      "Class Meleagris_gallopavo: 7 train, 1 val, 2 test\n",
      "Class Melopsittacus_undulatus: 7 train, 1 val, 2 test\n",
      "Class Melospiza_georgiana: 7 train, 1 val, 2 test\n",
      "Class Melospiza_melodia: 7 train, 1 val, 2 test\n",
      "Class Merops_apiaster: 7 train, 1 val, 2 test\n",
      "Class Mimus_polyglottos: 7 train, 1 val, 2 test\n",
      "Class Mniotilta_varia: 7 train, 1 val, 2 test\n",
      "Class Mockingbird: 7 train, 1 val, 2 test\n",
      "Class Molothrus_ater: 7 train, 1 val, 2 test\n",
      "Class Motacilla_alba: 7 train, 1 val, 2 test\n",
      "Class Motacilla_cinerea: 7 train, 1 val, 2 test\n",
      "Class Motacilla_flava: 7 train, 1 val, 2 test\n",
      "Class Mourning_Warbler: 7 train, 1 val, 2 test\n",
      "Class Mycteria_americana: 7 train, 1 val, 2 test\n",
      "Class Myiarchus_crinitus: 7 train, 1 val, 2 test\n",
      "Class Myrtle_Warbler: 7 train, 1 val, 2 test\n",
      "Class Nashville_Warbler: 7 train, 1 val, 2 test\n",
      "Class Nelson_Sharp_tailed_Sparrow: 3 train, 0 val, 2 test\n",
      "Class Nighthawk: 7 train, 1 val, 2 test\n",
      "Class Northern_Flicker: 7 train, 1 val, 2 test\n",
      "Class Northern_Fulmar: 7 train, 1 val, 2 test\n",
      "Class Northern_Waterthrush: 7 train, 1 val, 2 test\n",
      "Class Nucifraga_columbiana: 7 train, 1 val, 2 test\n",
      "Class Numida_meleagris: 7 train, 1 val, 2 test\n",
      "Class Nycticorax_nycticorax: 7 train, 1 val, 2 test\n",
      "Class Olive_sided_Flycatcher: 6 train, 1 val, 2 test\n",
      "Class Orange_crowned_Warbler: 3 train, 0 val, 2 test\n",
      "Class Orchard_Oriole: 7 train, 1 val, 2 test\n",
      "Class Oreoscoptes_montanus: 7 train, 1 val, 2 test\n",
      "Class Ovenbird: 7 train, 1 val, 2 test\n",
      "Class Pacific_Loon: 7 train, 1 val, 2 test\n",
      "Class Painted_Bunting: 7 train, 1 val, 2 test\n",
      "Class Palm_Warbler: 7 train, 1 val, 2 test\n",
      "Class Pandion_haliaetus: 7 train, 1 val, 2 test\n",
      "Class Parakeet_Auklet: 4 train, 0 val, 2 test\n",
      "Class Parkesia_motacilla: 7 train, 1 val, 2 test\n",
      "Class Parkesia_noveboracensis: 7 train, 1 val, 2 test\n",
      "Class Passerculus_sandwichensis: 7 train, 1 val, 2 test\n",
      "Class Passerina_amoena: 7 train, 1 val, 2 test\n",
      "Class Passerina_ciris: 7 train, 1 val, 2 test\n",
      "Class Passerina_cyanea: 7 train, 1 val, 2 test\n",
      "Class Passer_domesticus: 7 train, 1 val, 2 test\n",
      "Class Passer_montanus: 7 train, 1 val, 2 test\n",
      "Class Patagioenas_fasciata: 7 train, 1 val, 2 test\n",
      "Class Pelagic_Cormorant: 4 train, 0 val, 2 test\n",
      "Class Perisoreus_canadensis: 7 train, 1 val, 2 test\n",
      "Class Phasianus_colchicus: 7 train, 1 val, 2 test\n",
      "Class Pheucticus_ludovicianus: 7 train, 1 val, 2 test\n",
      "Class Pheucticus_melanocephalus: 7 train, 1 val, 2 test\n",
      "Class Philadelphia_Vireo: 7 train, 1 val, 2 test\n",
      "Class Phoebastria_immutabilis: 7 train, 1 val, 2 test\n",
      "Class Phoebastria_nigripes: 7 train, 1 val, 2 test\n",
      "Class Pica_pica: 7 train, 1 val, 2 test\n",
      "Class Picus_viridis: 7 train, 1 val, 2 test\n",
      "Class Pied_billed_Grebe: 7 train, 1 val, 2 test\n",
      "Class Pied_Kingfisher: 7 train, 1 val, 2 test\n",
      "Class Pigeon_Guillemot: 7 train, 1 val, 2 test\n",
      "Class Pileated_Woodpecker: 7 train, 1 val, 2 test\n",
      "Class Pine_Grosbeak: 7 train, 1 val, 2 test\n",
      "Class Pine_Warbler: 7 train, 1 val, 2 test\n",
      "Class Pipilo_erythrophthalmus: 7 train, 1 val, 2 test\n",
      "Class Pipilo_maculatus: 7 train, 1 val, 2 test\n",
      "Class Piranga_ludoviciana: 7 train, 1 val, 2 test\n",
      "Class Piranga_olivacea: 7 train, 1 val, 2 test\n",
      "Class Piranga_rubra: 7 train, 1 val, 2 test\n",
      "Class Pitangus_sulphuratus: 7 train, 1 val, 2 test\n",
      "Class Platalea_ajaja: 7 train, 1 val, 2 test\n",
      "Class Podiceps_cristatus: 7 train, 1 val, 2 test\n",
      "Class Poecile_atricapillus: 7 train, 1 val, 2 test\n",
      "Class Poecile_gambeli: 7 train, 1 val, 2 test\n",
      "Class Polioptila_caerulea: 7 train, 1 val, 2 test\n",
      "Class Pomarine_Jaeger: 6 train, 1 val, 2 test\n",
      "Class Pooecetes_gramineus: 7 train, 1 val, 2 test\n",
      "Class Prairie_Warbler: 7 train, 1 val, 2 test\n",
      "Class Prothonotary_Warbler: 7 train, 1 val, 2 test\n",
      "Class Psittacus_erithacus: 7 train, 1 val, 2 test\n",
      "Class Puffinus_puffinus: 7 train, 1 val, 2 test\n",
      "Class Purple_Finch: 7 train, 1 val, 2 test\n",
      "Class Pyrrhula_pyrrhula: 7 train, 1 val, 2 test\n",
      "Class Quiscalus_quiscula: 7 train, 1 val, 2 test\n",
      "Class Ramphastos_toco: 7 train, 1 val, 2 test\n",
      "Class Red_bellied_Woodpecker: 3 train, 0 val, 2 test\n",
      "Class Red_breasted_Merganser: 3 train, 0 val, 2 test\n",
      "Class Red_cockaded_Woodpecker: 3 train, 0 val, 2 test\n",
      "Class Red_eyed_Vireo: 2 train, 0 val, 2 test\n",
      "Class Red_faced_Cormorant: 3 train, 0 val, 2 test\n",
      "Class Red_headed_Woodpecker: 3 train, 0 val, 2 test\n",
      "Class Red_legged_Kittiwake: 2 train, 0 val, 2 test\n",
      "Class Red_winged_Blackbird: 7 train, 1 val, 2 test\n",
      "⚠️ Skipping bird_audio\\Regulus_satrapa\\Regulus_satrapa_3.mp3: [Errno 28] No space left on device\n",
      "⚠️ Skipping bird_audio\\Regulus_satrapa\\Regulus_satrapa_6.mp3: [Errno 28] No space left on device\n",
      "⚠️ Skipping bird_audio\\Regulus_satrapa\\Regulus_satrapa_7.mp3: [Errno 28] No space left on device\n",
      "⚠️ Skipping bird_audio\\Regulus_satrapa\\Regulus_satrapa_9.mp3: [Errno 28] No space left on device\n",
      "⚠️ Skipping bird_audio\\Regulus_satrapa\\Regulus_satrapa_8.mp3: [Errno 28] No space left on device\n",
      "⚠️ Skipping bird_audio\\Regulus_satrapa\\Regulus_satrapa_5.mp3: [Errno 28] No space left on device\n",
      "⚠️ Skipping bird_audio\\Regulus_satrapa\\Regulus_satrapa_4.mp3: [Errno 28] No space left on device\n",
      "⚠️ Skipping bird_audio\\Regulus_satrapa\\Regulus_satrapa_10.mp3: [Errno 28] No space left on device\n",
      "Class Regulus_satrapa: 7 train, 1 val, 2 test\n",
      "Class Rhinoceros_Auklet: 0 train, 0 val, 1 test\n",
      "⚠️ Skipping bird_audio\\Ringed_Kingfisher\\Ringed_Kingfisher_9.mp3: [Errno 28] No space left on device\n",
      "⚠️ Skipping bird_audio\\Ringed_Kingfisher\\Ringed_Kingfisher_2.mp3: [Errno 28] No space left on device\n",
      "⚠️ Skipping bird_audio\\Ringed_Kingfisher\\Ringed_Kingfisher_0.mp3: [Errno 28] No space left on device\n",
      "⚠️ Skipping bird_audio\\Ringed_Kingfisher\\Ringed_Kingfisher_1.mp3: [Errno 28] No space left on device\n",
      "⚠️ Skipping bird_audio\\Ringed_Kingfisher\\Ringed_Kingfisher_3.mp3: [Errno 28] No space left on device\n",
      "⚠️ Skipping bird_audio\\Ringed_Kingfisher\\Ringed_Kingfisher_4.mp3: [Errno 28] No space left on device\n",
      "⚠️ Skipping bird_audio\\Ringed_Kingfisher\\Ringed_Kingfisher_8.mp3: [Errno 28] No space left on device\n",
      "⚠️ Skipping bird_audio\\Ringed_Kingfisher\\Ringed_Kingfisher_6.mp3: [Errno 28] No space left on device\n",
      "⚠️ Skipping bird_audio\\Ringed_Kingfisher\\Ringed_Kingfisher_5.mp3: [Errno 28] No space left on device\n",
      "⚠️ Skipping bird_audio\\Ringed_Kingfisher\\Ringed_Kingfisher_7.mp3: [Errno 28] No space left on device\n",
      "Class Ringed_Kingfisher: 7 train, 1 val, 2 test\n",
      "⚠️ Skipping bird_audio\\Ring_billed_Gull\\XC1013504 - Ring-billed Gull - Larus delawarensis.wav: [Errno 28] No space left on device\n",
      "⚠️ Skipping bird_audio\\Ring_billed_Gull\\XC461003 - Ring-billed Gull - Larus delawarensis.mp3: [Errno 28] No space left on device\n",
      "⚠️ Skipping bird_audio\\Ring_billed_Gull\\XC624505 - Ring-billed Gull - Larus delawarensis.mp3: [Errno 28] No space left on device\n",
      "⚠️ Skipping bird_audio\\Ring_billed_Gull\\XC1012651 - Ring-billed Gull - Larus delawarensis.wav: [Errno 28] No space left on device\n",
      "⚠️ Skipping bird_audio\\Ring_billed_Gull\\XC290058 - Ring-billed Gull - Larus delawarensis.mp3: [Errno 28] No space left on device\n",
      "⚠️ Skipping bird_audio\\Ring_billed_Gull\\XC531833 - Ring-billed Gull - Larus delawarensis.mp3: [Errno 28] No space left on device\n",
      "⚠️ Skipping bird_audio\\Ring_billed_Gull\\XC477057 - Ring-billed Gull - Larus delawarensis.mp3: [Errno 28] No space left on device\n",
      "⚠️ Skipping bird_audio\\Ring_billed_Gull\\XC771232 - Ring-billed Gull - Larus delawarensis.wav: [Errno 28] No space left on device\n",
      "⚠️ Skipping bird_audio\\Ring_billed_Gull\\XC918482 - Ring-billed Gull - Larus delawarensis.mp3: [Errno 28] No space left on device\n",
      "Class Ring_billed_Gull: 6 train, 1 val, 2 test\n",
      "⚠️ Skipping bird_audio\\Rock_Wren\\Rock_Wren_9.mp3: [Errno 28] No space left on device\n",
      "⚠️ Skipping bird_audio\\Rock_Wren\\Rock_Wren_2.mp3: [Errno 28] No space left on device\n",
      "⚠️ Skipping bird_audio\\Rock_Wren\\Rock_Wren_7.mp3: [Errno 28] No space left on device\n",
      "⚠️ Skipping bird_audio\\Rock_Wren\\Rock_Wren_5.mp3: [Errno 28] No space left on device\n",
      "⚠️ Skipping bird_audio\\Rock_Wren\\Rock_Wren_1.mp3: [Errno 28] No space left on device\n",
      "⚠️ Skipping bird_audio\\Rock_Wren\\Rock_Wren_6.mp3: [Errno 28] No space left on device\n",
      "⚠️ Skipping bird_audio\\Rock_Wren\\Rock_Wren_3.mp3: [Errno 28] No space left on device\n",
      "⚠️ Skipping bird_audio\\Rock_Wren\\Rock_Wren_8.mp3: [Errno 28] No space left on device\n",
      "⚠️ Skipping bird_audio\\Rock_Wren\\Rock_Wren_0.mp3: [Errno 28] No space left on device\n",
      "Class Rock_Wren: 7 train, 1 val, 2 test\n",
      "⚠️ Skipping bird_audio\\Rose_breasted_Grosbeak\\XC1012549 - Rose-breasted Grosbeak - Pheucticus ludovicianus.wav: [Errno 28] No space left on device\n",
      "⚠️ Skipping bird_audio\\Rose_breasted_Grosbeak\\XC1015048 - Rose-breasted Grosbeak - Pheucticus ludovicianus.wav: [Errno 28] No space left on device\n",
      "⚠️ Skipping bird_audio\\Rose_breasted_Grosbeak\\XC1015046 - Rose-breasted Grosbeak - Pheucticus ludovicianus.wav: [Errno 28] No space left on device\n",
      "⚠️ Skipping bird_audio\\Rose_breasted_Grosbeak\\XC1013965 - Rose-breasted Grosbeak - Pheucticus ludovicianus.wav: [Errno 28] No space left on device\n",
      "⚠️ Skipping bird_audio\\Rose_breasted_Grosbeak\\XC1012545 - Rose-breasted Grosbeak - Pheucticus ludovicianus.wav: [Errno 28] No space left on device\n",
      "⚠️ Skipping bird_audio\\Rose_breasted_Grosbeak\\XC1017884 - Rose-breasted Grosbeak - Pheucticus ludovicianus.wav: [Errno 28] No space left on device\n",
      "⚠️ Skipping bird_audio\\Rose_breasted_Grosbeak\\XC1013045 - Rose-breasted Grosbeak - Pheucticus ludovicianus.wav: [Errno 28] No space left on device\n",
      "⚠️ Skipping bird_audio\\Rose_breasted_Grosbeak\\XC1020890 - Rose-breasted Grosbeak - Pheucticus ludovicianus.wav: [Errno 28] No space left on device\n",
      "⚠️ Skipping bird_audio\\Rose_breasted_Grosbeak\\XC1015047 - Rose-breasted Grosbeak - Pheucticus ludovicianus.wav: [Errno 28] No space left on device\n",
      "⚠️ Skipping bird_audio\\Rose_breasted_Grosbeak\\XC1013044 - Rose-breasted Grosbeak - Pheucticus ludovicianus.wav: [Errno 28] No space left on device\n",
      "⚠️ Skipping bird_audio\\Rose_breasted_Grosbeak\\XC1012548 - Rose-breasted Grosbeak - Pheucticus ludovicianus.wav: [Errno 28] No space left on device\n",
      "Class Rose_breasted_Grosbeak: 7 train, 1 val, 3 test\n",
      "⚠️ Skipping bird_audio\\Ruby_throated_Hummingbird\\XC588003 - Ruby-throated Hummingbird - Archilochus colubris.mp3: [Errno 28] No space left on device\n",
      "⚠️ Skipping bird_audio\\Ruby_throated_Hummingbird\\XC505916 - Ruby-throated Hummingbird - Archilochus colubris.mp3: [Errno 28] No space left on device\n",
      "⚠️ Skipping bird_audio\\Ruby_throated_Hummingbird\\XC1013237 - Ruby-throated Hummingbird - Archilochus colubris.wav: [Errno 28] No space left on device\n",
      "⚠️ Skipping bird_audio\\Ruby_throated_Hummingbird\\XC505916 - Ruby-throated Hummingbird - Archilochus colubris (1).mp3: [Errno 28] No space left on device\n",
      "⚠️ Skipping bird_audio\\Ruby_throated_Hummingbird\\XC758917 - Ruby-throated Hummingbird - Archilochus colubris.mp3: [Errno 28] No space left on device\n",
      "⚠️ Skipping bird_audio\\Ruby_throated_Hummingbird\\XC333513 - Ruby-throated Hummingbird - Archilochus colubris.mp3: [Errno 28] No space left on device\n",
      "⚠️ Skipping bird_audio\\Ruby_throated_Hummingbird\\XC577496 - Ruby-throated Hummingbird - Archilochus colubris.mp3: [Errno 28] No space left on device\n",
      "⚠️ Skipping bird_audio\\Ruby_throated_Hummingbird\\XC956457 - Ruby-throated Hummingbird - Archilochus colubris.mp3: [Errno 28] No space left on device\n",
      "⚠️ Skipping bird_audio\\Ruby_throated_Hummingbird\\XC1013051 - Ruby-throated Hummingbird - Archilochus colubris.wav: [Errno 28] No space left on device\n",
      "⚠️ Skipping bird_audio\\Ruby_throated_Hummingbird\\XC691886 - Ruby-throated Hummingbird - Archilochus colubris.mp3: [Errno 28] No space left on device\n",
      "Class Ruby_throated_Hummingbird: 7 train, 1 val, 2 test\n",
      "⚠️ Skipping bird_audio\\Rufous_Hummingbird\\Rufous_Hummingbird_5.mp3: [Errno 28] No space left on device\n",
      "⚠️ Skipping bird_audio\\Rufous_Hummingbird\\Rufous_Hummingbird_8.mp3: [Errno 28] No space left on device\n",
      "⚠️ Skipping bird_audio\\Rufous_Hummingbird\\Rufous_Hummingbird_6.mp3: [Errno 28] No space left on device\n",
      "⚠️ Skipping bird_audio\\Rufous_Hummingbird\\Rufous_Hummingbird_4.mp3: [Errno 28] No space left on device\n",
      "⚠️ Skipping bird_audio\\Rufous_Hummingbird\\Rufous_Hummingbird_7.mp3: [Errno 28] No space left on device\n",
      "⚠️ Skipping bird_audio\\Rufous_Hummingbird\\Rufous_Hummingbird_2.mp3: [Errno 28] No space left on device\n",
      "⚠️ Skipping bird_audio\\Rufous_Hummingbird\\Rufous_Hummingbird_9.mp3: [Errno 28] No space left on device\n",
      "⚠️ Skipping bird_audio\\Rufous_Hummingbird\\Rufous_Hummingbird_0.mp3: [Errno 28] No space left on device\n",
      "⚠️ Skipping bird_audio\\Rufous_Hummingbird\\Rufous_Hummingbird_1.mp3: [Errno 28] No space left on device\n",
      "⚠️ Skipping bird_audio\\Rufous_Hummingbird\\Rufous_Hummingbird_3.mp3: [Errno 28] No space left on device\n",
      "Class Rufous_Hummingbird: 7 train, 1 val, 2 test\n",
      "⚠️ Skipping bird_audio\\Rusty_Blackbird\\Rusty_Blackbird_9.mp3: [Errno 28] No space left on device\n",
      "⚠️ Skipping bird_audio\\Rusty_Blackbird\\Rusty_Blackbird_8.mp3: [Errno 28] No space left on device\n",
      "⚠️ Skipping bird_audio\\Rusty_Blackbird\\Rusty_Blackbird_5.mp3: [Errno 28] No space left on device\n",
      "⚠️ Skipping bird_audio\\Rusty_Blackbird\\Rusty_Blackbird_2.mp3: [Errno 28] No space left on device\n",
      "⚠️ Skipping bird_audio\\Rusty_Blackbird\\Rusty_Blackbird_3.mp3: [Errno 28] No space left on device\n",
      "⚠️ Skipping bird_audio\\Rusty_Blackbird\\Rusty_Blackbird_7.mp3: [Errno 28] No space left on device\n",
      "⚠️ Skipping bird_audio\\Rusty_Blackbird\\Rusty_Blackbird_1.mp3: [Errno 28] No space left on device\n",
      "⚠️ Skipping bird_audio\\Rusty_Blackbird\\Rusty_Blackbird_6.mp3: [Errno 28] No space left on device\n",
      "⚠️ Skipping bird_audio\\Rusty_Blackbird\\Rusty_Blackbird_4.mp3: [Errno 28] No space left on device\n",
      "⚠️ Skipping bird_audio\\Rusty_Blackbird\\Rusty_Blackbird_0.mp3: [Errno 28] No space left on device\n",
      "Class Rusty_Blackbird: 7 train, 1 val, 2 test\n",
      "⚠️ Skipping bird_audio\\Sage_Thrasher\\Sage_Thrasher_0.mp3: [Errno 28] No space left on device\n",
      "⚠️ Skipping bird_audio\\Sage_Thrasher\\Sage_Thrasher_3.mp3: [Errno 28] No space left on device\n",
      "⚠️ Skipping bird_audio\\Sage_Thrasher\\Sage_Thrasher_2.mp3: [Errno 28] No space left on device\n",
      "⚠️ Skipping bird_audio\\Sage_Thrasher\\Sage_Thrasher_7.mp3: [Errno 28] No space left on device\n",
      "⚠️ Skipping bird_audio\\Sage_Thrasher\\Sage_Thrasher_4.mp3: [Errno 28] No space left on device\n",
      "⚠️ Skipping bird_audio\\Sage_Thrasher\\Sage_Thrasher_8.mp3: [Errno 28] No space left on device\n",
      "⚠️ Skipping bird_audio\\Sage_Thrasher\\Sage_Thrasher_5.mp3: [Errno 28] No space left on device\n",
      "⚠️ Skipping bird_audio\\Sage_Thrasher\\Sage_Thrasher_1.mp3: [Errno 28] No space left on device\n",
      "⚠️ Skipping bird_audio\\Sage_Thrasher\\Sage_Thrasher_9.mp3: [Errno 28] No space left on device\n",
      "⚠️ Skipping bird_audio\\Sage_Thrasher\\Sage_Thrasher_6.mp3: [Errno 28] No space left on device\n",
      "Class Sage_Thrasher: 7 train, 1 val, 2 test\n",
      "⚠️ Skipping bird_audio\\Savannah_Sparrow\\Savannah_Sparrow_8.mp3: [Errno 28] No space left on device\n",
      "⚠️ Skipping bird_audio\\Savannah_Sparrow\\Savannah_Sparrow_7.mp3: [Errno 28] No space left on device\n",
      "⚠️ Skipping bird_audio\\Savannah_Sparrow\\Savannah_Sparrow_3.mp3: [Errno 28] No space left on device\n",
      "⚠️ Skipping bird_audio\\Savannah_Sparrow\\Savannah_Sparrow_0.mp3: [Errno 28] No space left on device\n",
      "⚠️ Skipping bird_audio\\Savannah_Sparrow\\Savannah_Sparrow_5.mp3: [Errno 28] No space left on device\n",
      "⚠️ Skipping bird_audio\\Savannah_Sparrow\\Savannah_Sparrow_9.mp3: [Errno 28] No space left on device\n",
      "⚠️ Skipping bird_audio\\Savannah_Sparrow\\Savannah_Sparrow_4.mp3: [Errno 28] No space left on device\n",
      "⚠️ Skipping bird_audio\\Savannah_Sparrow\\Savannah_Sparrow_6.mp3: [Errno 28] No space left on device\n",
      "⚠️ Skipping bird_audio\\Savannah_Sparrow\\Savannah_Sparrow_2.mp3: [Errno 28] No space left on device\n",
      "⚠️ Skipping bird_audio\\Savannah_Sparrow\\Savannah_Sparrow_1.mp3: [Errno 28] No space left on device\n",
      "Class Savannah_Sparrow: 7 train, 1 val, 2 test\n",
      "⚠️ Skipping bird_audio\\Sayornis\\Sayornis_0.mp3: [Errno 28] No space left on device\n",
      "⚠️ Skipping bird_audio\\Sayornis\\Sayornis_2.mp3: [Errno 28] No space left on device\n",
      "⚠️ Skipping bird_audio\\Sayornis\\Sayornis_5.mp3: [Errno 28] No space left on device\n",
      "⚠️ Skipping bird_audio\\Sayornis\\Sayornis_9.mp3: [Errno 28] No space left on device: 'Xeno_split\\\\train\\\\Sayornis\\\\Sayornis_9.mp3'\n",
      "⚠️ Skipping bird_audio\\Sayornis\\Sayornis_1.mp3: [Errno 28] No space left on device: 'Xeno_split\\\\train\\\\Sayornis\\\\Sayornis_1.mp3'\n",
      "⚠️ Skipping bird_audio\\Sayornis\\Sayornis_3.mp3: [Errno 28] No space left on device: 'Xeno_split\\\\train\\\\Sayornis\\\\Sayornis_3.mp3'\n",
      "⚠️ Skipping bird_audio\\Sayornis\\Sayornis_4.mp3: [Errno 28] No space left on device: 'Xeno_split\\\\train\\\\Sayornis\\\\Sayornis_4.mp3'\n",
      "⚠️ Skipping bird_audio\\Sayornis\\Sayornis_6.mp3: [Errno 28] No space left on device\n",
      "⚠️ Skipping bird_audio\\Sayornis\\Sayornis_8.mp3: [Errno 28] No space left on device\n",
      "⚠️ Skipping bird_audio\\Sayornis\\Sayornis_7.mp3: [Errno 28] No space left on device\n",
      "Class Sayornis: 7 train, 1 val, 2 test\n",
      "⚠️ Skipping bird_audio\\Sayornis_phoebe\\Sayornis_phoebe_10.mp3: [Errno 28] No space left on device\n",
      "⚠️ Skipping bird_audio\\Sayornis_phoebe\\Sayornis_phoebe_8.mp3: [Errno 28] No space left on device\n",
      "⚠️ Skipping bird_audio\\Sayornis_phoebe\\Sayornis_phoebe_9.mp3: [Errno 28] No space left on device: 'Xeno_split\\\\train\\\\Sayornis_phoebe\\\\Sayornis_phoebe_9.mp3'\n",
      "⚠️ Skipping bird_audio\\Sayornis_phoebe\\Sayornis_phoebe_7.mp3: [Errno 28] No space left on device: 'Xeno_split\\\\train\\\\Sayornis_phoebe\\\\Sayornis_phoebe_7.mp3'\n",
      "⚠️ Skipping bird_audio\\Sayornis_phoebe\\Sayornis_phoebe_6.mp3: [Errno 28] No space left on device: 'Xeno_split\\\\train\\\\Sayornis_phoebe\\\\Sayornis_phoebe_6.mp3'\n",
      "⚠️ Skipping bird_audio\\Sayornis_phoebe\\Sayornis_phoebe_1.mp3: [Errno 28] No space left on device: 'Xeno_split\\\\train\\\\Sayornis_phoebe\\\\Sayornis_phoebe_1.mp3'\n",
      "⚠️ Skipping bird_audio\\Sayornis_phoebe\\Sayornis_phoebe_5.mp3: [Errno 28] No space left on device: 'Xeno_split\\\\train\\\\Sayornis_phoebe\\\\Sayornis_phoebe_5.mp3'\n",
      "⚠️ Skipping bird_audio\\Sayornis_phoebe\\Sayornis_phoebe_3.mp3: [Errno 28] No space left on device\n",
      "⚠️ Skipping bird_audio\\Sayornis_phoebe\\Sayornis_phoebe_4.mp3: [Errno 28] No space left on device\n",
      "⚠️ Skipping bird_audio\\Sayornis_phoebe\\Sayornis_phoebe_2.mp3: [Errno 28] No space left on device\n",
      "Class Sayornis_phoebe: 7 train, 1 val, 2 test\n",
      "⚠️ Skipping bird_audio\\Scarlet_Tanager\\Scarlet_Tanager_7.mp3: [Errno 28] No space left on device\n",
      "⚠️ Skipping bird_audio\\Scarlet_Tanager\\Scarlet_Tanager_5.mp3: [Errno 28] No space left on device\n",
      "⚠️ Skipping bird_audio\\Scarlet_Tanager\\Scarlet_Tanager_2.mp3: [Errno 28] No space left on device: 'Xeno_split\\\\train\\\\Scarlet_Tanager\\\\Scarlet_Tanager_2.mp3'\n",
      "⚠️ Skipping bird_audio\\Scarlet_Tanager\\Scarlet_Tanager_8.mp3: [Errno 28] No space left on device: 'Xeno_split\\\\train\\\\Scarlet_Tanager\\\\Scarlet_Tanager_8.mp3'\n",
      "⚠️ Skipping bird_audio\\Scarlet_Tanager\\Scarlet_Tanager_6.mp3: [Errno 28] No space left on device: 'Xeno_split\\\\train\\\\Scarlet_Tanager\\\\Scarlet_Tanager_6.mp3'\n",
      "⚠️ Skipping bird_audio\\Scarlet_Tanager\\Scarlet_Tanager_4.mp3: [Errno 28] No space left on device: 'Xeno_split\\\\train\\\\Scarlet_Tanager\\\\Scarlet_Tanager_4.mp3'\n",
      "⚠️ Skipping bird_audio\\Scarlet_Tanager\\Scarlet_Tanager_0.mp3: [Errno 28] No space left on device: 'Xeno_split\\\\train\\\\Scarlet_Tanager\\\\Scarlet_Tanager_0.mp3'\n",
      "⚠️ Skipping bird_audio\\Scarlet_Tanager\\Scarlet_Tanager_1.mp3: [Errno 28] No space left on device\n",
      "⚠️ Skipping bird_audio\\Scarlet_Tanager\\Scarlet_Tanager_9.mp3: [Errno 28] No space left on device\n",
      "⚠️ Skipping bird_audio\\Scarlet_Tanager\\Scarlet_Tanager_3.mp3: [Errno 28] No space left on device\n",
      "Class Scarlet_Tanager: 7 train, 1 val, 2 test\n",
      "⚠️ Skipping bird_audio\\Scissor_tailed_Flycatcher\\XC684364 - Scissor-tailed Flycatcher - Tyrannus forficatus.mp3: [Errno 28] No space left on device\n",
      "⚠️ Skipping bird_audio\\Scissor_tailed_Flycatcher\\XC323767 - Scissor-tailed Flycatcher - Tyrannus forficatus.mp3: [Errno 28] No space left on device: 'Xeno_split\\\\train\\\\Scissor_tailed_Flycatcher\\\\XC323767 - Scissor-tailed Flycatcher - Tyrannus forficatus.mp3'\n",
      "⚠️ Skipping bird_audio\\Scissor_tailed_Flycatcher\\XC816234 - Scissor-tailed Flycatcher - Tyrannus forficatus.wav: [Errno 28] No space left on device: 'Xeno_split\\\\train\\\\Scissor_tailed_Flycatcher\\\\XC816234 - Scissor-tailed Flycatcher - Tyrannus forficatus.wav'\n",
      "⚠️ Skipping bird_audio\\Scissor_tailed_Flycatcher\\XC410734 - Scissor-tailed Flycatcher - Tyrannus forficatus.mp3: [Errno 28] No space left on device: 'Xeno_split\\\\train\\\\Scissor_tailed_Flycatcher\\\\XC410734 - Scissor-tailed Flycatcher - Tyrannus forficatus.mp3'\n",
      "⚠️ Skipping bird_audio\\Scissor_tailed_Flycatcher\\XC323788 - Scissor-tailed Flycatcher - Tyrannus forficatus.mp3: [Errno 28] No space left on device: 'Xeno_split\\\\train\\\\Scissor_tailed_Flycatcher\\\\XC323788 - Scissor-tailed Flycatcher - Tyrannus forficatus.mp3'\n",
      "⚠️ Skipping bird_audio\\Scissor_tailed_Flycatcher\\XC323754 - Scissor-tailed Flycatcher - Tyrannus forficatus.mp3: [Errno 28] No space left on device: 'Xeno_split\\\\train\\\\Scissor_tailed_Flycatcher\\\\XC323754 - Scissor-tailed Flycatcher - Tyrannus forficatus.mp3'\n",
      "⚠️ Skipping bird_audio\\Scissor_tailed_Flycatcher\\XC952633 - Scissor-tailed Flycatcher - Tyrannus forficatus.mp3: [Errno 28] No space left on device: 'Xeno_split\\\\train\\\\Scissor_tailed_Flycatcher\\\\XC952633 - Scissor-tailed Flycatcher - Tyrannus forficatus.mp3'\n",
      "⚠️ Skipping bird_audio\\Scissor_tailed_Flycatcher\\XC538195 - Scissor-tailed Flycatcher - Tyrannus forficatus.mp3: [Errno 28] No space left on device\n",
      "⚠️ Skipping bird_audio\\Scissor_tailed_Flycatcher\\XC247701 - Scissor-tailed Flycatcher - Tyrannus forficatus.mp3: [Errno 28] No space left on device\n",
      "⚠️ Skipping bird_audio\\Scissor_tailed_Flycatcher\\XC323784 - Scissor-tailed Flycatcher - Tyrannus forficatus.mp3: [Errno 28] No space left on device: 'Xeno_split\\\\test\\\\Scissor_tailed_Flycatcher\\\\XC323784 - Scissor-tailed Flycatcher - Tyrannus forficatus.mp3'\n",
      "Class Scissor_tailed_Flycatcher: 7 train, 1 val, 2 test\n",
      "⚠️ Skipping bird_audio\\Scott_Oriole\\XC1000436 - Scott's Oriole - Icterus parisorum (1).mp3: [Errno 28] No space left on device\n",
      "⚠️ Skipping bird_audio\\Scott_Oriole\\XC846109 - Scott's Oriole - Icterus parisorum.wav: [Errno 28] No space left on device: \"Xeno_split\\\\train\\\\Scott_Oriole\\\\XC846109 - Scott's Oriole - Icterus parisorum.wav\"\n",
      "⚠️ Skipping bird_audio\\Scott_Oriole\\XC983515 - Scott's Oriole - Icterus parisorum.wav: [Errno 28] No space left on device: \"Xeno_split\\\\train\\\\Scott_Oriole\\\\XC983515 - Scott's Oriole - Icterus parisorum.wav\"\n",
      "⚠️ Skipping bird_audio\\Scott_Oriole\\XC1000436 - Scott's Oriole - Icterus parisorum.mp3: [Errno 28] No space left on device: \"Xeno_split\\\\train\\\\Scott_Oriole\\\\XC1000436 - Scott's Oriole - Icterus parisorum.mp3\"\n",
      "⚠️ Skipping bird_audio\\Scott_Oriole\\XC785638 - Scott's Oriole - Icterus parisorum.mp3: [Errno 28] No space left on device\n",
      "⚠️ Skipping bird_audio\\Scott_Oriole\\XC983514 - Scott's Oriole - Icterus parisorum.wav: [Errno 28] No space left on device: \"Xeno_split\\\\test\\\\Scott_Oriole\\\\XC983514 - Scott's Oriole - Icterus parisorum.wav\"\n",
      "Class Scott_Oriole: 4 train, 0 val, 2 test\n",
      "⚠️ Skipping bird_audio\\Seaside_Sparrow\\Seaside_Sparrow_0.mp3: [Errno 28] No space left on device\n",
      "⚠️ Skipping bird_audio\\Seaside_Sparrow\\Seaside_Sparrow_6.mp3: [Errno 28] No space left on device\n",
      "⚠️ Skipping bird_audio\\Seaside_Sparrow\\Seaside_Sparrow_7.mp3: [Errno 28] No space left on device: 'Xeno_split\\\\train\\\\Seaside_Sparrow\\\\Seaside_Sparrow_7.mp3'\n",
      "⚠️ Skipping bird_audio\\Seaside_Sparrow\\Seaside_Sparrow_8.mp3: [Errno 28] No space left on device: 'Xeno_split\\\\train\\\\Seaside_Sparrow\\\\Seaside_Sparrow_8.mp3'\n",
      "⚠️ Skipping bird_audio\\Seaside_Sparrow\\Seaside_Sparrow_4.mp3: [Errno 28] No space left on device: 'Xeno_split\\\\train\\\\Seaside_Sparrow\\\\Seaside_Sparrow_4.mp3'\n",
      "⚠️ Skipping bird_audio\\Seaside_Sparrow\\Seaside_Sparrow_1.mp3: [Errno 28] No space left on device: 'Xeno_split\\\\train\\\\Seaside_Sparrow\\\\Seaside_Sparrow_1.mp3'\n",
      "⚠️ Skipping bird_audio\\Seaside_Sparrow\\Seaside_Sparrow_2.mp3: [Errno 28] No space left on device: 'Xeno_split\\\\train\\\\Seaside_Sparrow\\\\Seaside_Sparrow_2.mp3'\n",
      "⚠️ Skipping bird_audio\\Seaside_Sparrow\\Seaside_Sparrow_3.mp3: [Errno 28] No space left on device\n",
      "⚠️ Skipping bird_audio\\Seaside_Sparrow\\Seaside_Sparrow_5.mp3: [Errno 28] No space left on device\n",
      "⚠️ Skipping bird_audio\\Seaside_Sparrow\\Seaside_Sparrow_9.mp3: [Errno 28] No space left on device\n",
      "Class Seaside_Sparrow: 7 train, 1 val, 2 test\n",
      "⚠️ Skipping bird_audio\\Seiurus_aurocapilla\\Seiurus_aurocapilla_7.mp3: [Errno 28] No space left on device\n",
      "⚠️ Skipping bird_audio\\Seiurus_aurocapilla\\Seiurus_aurocapilla_10.mp3: [Errno 28] No space left on device\n",
      "⚠️ Skipping bird_audio\\Seiurus_aurocapilla\\Seiurus_aurocapilla_8.mp3: [Errno 28] No space left on device: 'Xeno_split\\\\train\\\\Seiurus_aurocapilla\\\\Seiurus_aurocapilla_8.mp3'\n",
      "⚠️ Skipping bird_audio\\Seiurus_aurocapilla\\Seiurus_aurocapilla_9.mp3: [Errno 28] No space left on device: 'Xeno_split\\\\train\\\\Seiurus_aurocapilla\\\\Seiurus_aurocapilla_9.mp3'\n",
      "⚠️ Skipping bird_audio\\Seiurus_aurocapilla\\Seiurus_aurocapilla_3.mp3: [Errno 28] No space left on device: 'Xeno_split\\\\train\\\\Seiurus_aurocapilla\\\\Seiurus_aurocapilla_3.mp3'\n",
      "⚠️ Skipping bird_audio\\Seiurus_aurocapilla\\Seiurus_aurocapilla_6.mp3: [Errno 28] No space left on device: 'Xeno_split\\\\train\\\\Seiurus_aurocapilla\\\\Seiurus_aurocapilla_6.mp3'\n",
      "⚠️ Skipping bird_audio\\Seiurus_aurocapilla\\Seiurus_aurocapilla_5.mp3: [Errno 28] No space left on device: 'Xeno_split\\\\train\\\\Seiurus_aurocapilla\\\\Seiurus_aurocapilla_5.mp3'\n",
      "⚠️ Skipping bird_audio\\Seiurus_aurocapilla\\Seiurus_aurocapilla_2.mp3: [Errno 28] No space left on device\n",
      "⚠️ Skipping bird_audio\\Seiurus_aurocapilla\\Seiurus_aurocapilla_1.mp3: [Errno 28] No space left on device\n",
      "⚠️ Skipping bird_audio\\Seiurus_aurocapilla\\Seiurus_aurocapilla_4.mp3: [Errno 28] No space left on device\n",
      "Class Seiurus_aurocapilla: 7 train, 1 val, 2 test\n",
      "⚠️ Skipping bird_audio\\Setophaga_americana\\Setophaga_americana_1.mp3: [Errno 28] No space left on device\n",
      "⚠️ Skipping bird_audio\\Setophaga_americana\\Setophaga_americana_2.mp3: [Errno 28] No space left on device\n",
      "⚠️ Skipping bird_audio\\Setophaga_americana\\Setophaga_americana_4.mp3: [Errno 28] No space left on device: 'Xeno_split\\\\train\\\\Setophaga_americana\\\\Setophaga_americana_4.mp3'\n",
      "⚠️ Skipping bird_audio\\Setophaga_americana\\Setophaga_americana_10.mp3: [Errno 28] No space left on device: 'Xeno_split\\\\train\\\\Setophaga_americana\\\\Setophaga_americana_10.mp3'\n",
      "⚠️ Skipping bird_audio\\Setophaga_americana\\Setophaga_americana_9.mp3: [Errno 28] No space left on device: 'Xeno_split\\\\train\\\\Setophaga_americana\\\\Setophaga_americana_9.mp3'\n",
      "⚠️ Skipping bird_audio\\Setophaga_americana\\Setophaga_americana_3.mp3: [Errno 28] No space left on device: 'Xeno_split\\\\train\\\\Setophaga_americana\\\\Setophaga_americana_3.mp3'\n",
      "⚠️ Skipping bird_audio\\Setophaga_americana\\Setophaga_americana_7.mp3: [Errno 28] No space left on device: 'Xeno_split\\\\train\\\\Setophaga_americana\\\\Setophaga_americana_7.mp3'\n",
      "⚠️ Skipping bird_audio\\Setophaga_americana\\Setophaga_americana_5.mp3: [Errno 28] No space left on device\n",
      "⚠️ Skipping bird_audio\\Setophaga_americana\\Setophaga_americana_8.mp3: [Errno 28] No space left on device\n",
      "⚠️ Skipping bird_audio\\Setophaga_americana\\Setophaga_americana_6.mp3: [Errno 28] No space left on device\n",
      "Class Setophaga_americana: 7 train, 1 val, 2 test\n",
      "⚠️ Skipping bird_audio\\Setophaga_castanea\\Setophaga_castanea_4.mp3: [Errno 28] No space left on device\n",
      "⚠️ Skipping bird_audio\\Setophaga_castanea\\Setophaga_castanea_1.mp3: [Errno 28] No space left on device\n",
      "⚠️ Skipping bird_audio\\Setophaga_castanea\\Setophaga_castanea_3.mp3: [Errno 28] No space left on device: 'Xeno_split\\\\train\\\\Setophaga_castanea\\\\Setophaga_castanea_3.mp3'\n",
      "⚠️ Skipping bird_audio\\Setophaga_castanea\\Setophaga_castanea_5.mp3: [Errno 28] No space left on device: 'Xeno_split\\\\train\\\\Setophaga_castanea\\\\Setophaga_castanea_5.mp3'\n",
      "⚠️ Skipping bird_audio\\Setophaga_castanea\\Setophaga_castanea_9.mp3: [Errno 28] No space left on device: 'Xeno_split\\\\train\\\\Setophaga_castanea\\\\Setophaga_castanea_9.mp3'\n",
      "⚠️ Skipping bird_audio\\Setophaga_castanea\\Setophaga_castanea_6.mp3: [Errno 28] No space left on device: 'Xeno_split\\\\train\\\\Setophaga_castanea\\\\Setophaga_castanea_6.mp3'\n",
      "⚠️ Skipping bird_audio\\Setophaga_castanea\\Setophaga_castanea_10.mp3: [Errno 28] No space left on device: 'Xeno_split\\\\train\\\\Setophaga_castanea\\\\Setophaga_castanea_10.mp3'\n",
      "⚠️ Skipping bird_audio\\Setophaga_castanea\\Setophaga_castanea_7.mp3: [Errno 28] No space left on device\n",
      "⚠️ Skipping bird_audio\\Setophaga_castanea\\Setophaga_castanea_8.mp3: [Errno 28] No space left on device\n",
      "⚠️ Skipping bird_audio\\Setophaga_castanea\\Setophaga_castanea_2.mp3: [Errno 28] No space left on device\n",
      "Class Setophaga_castanea: 7 train, 1 val, 2 test\n",
      "⚠️ Skipping bird_audio\\Setophaga_coronata\\Setophaga_coronata_2.mp3: [Errno 28] No space left on device\n",
      "⚠️ Skipping bird_audio\\Setophaga_coronata\\Setophaga_coronata_5.mp3: [Errno 28] No space left on device\n",
      "⚠️ Skipping bird_audio\\Setophaga_coronata\\Setophaga_coronata_1.mp3: [Errno 28] No space left on device: 'Xeno_split\\\\train\\\\Setophaga_coronata\\\\Setophaga_coronata_1.mp3'\n",
      "⚠️ Skipping bird_audio\\Setophaga_coronata\\Setophaga_coronata_3.mp3: [Errno 28] No space left on device: 'Xeno_split\\\\train\\\\Setophaga_coronata\\\\Setophaga_coronata_3.mp3'\n",
      "⚠️ Skipping bird_audio\\Setophaga_coronata\\Setophaga_coronata_10.mp3: [Errno 28] No space left on device: 'Xeno_split\\\\train\\\\Setophaga_coronata\\\\Setophaga_coronata_10.mp3'\n",
      "⚠️ Skipping bird_audio\\Setophaga_coronata\\Setophaga_coronata_7.mp3: [Errno 28] No space left on device: 'Xeno_split\\\\train\\\\Setophaga_coronata\\\\Setophaga_coronata_7.mp3'\n",
      "⚠️ Skipping bird_audio\\Setophaga_coronata\\Setophaga_coronata_4.mp3: [Errno 28] No space left on device: 'Xeno_split\\\\train\\\\Setophaga_coronata\\\\Setophaga_coronata_4.mp3'\n",
      "⚠️ Skipping bird_audio\\Setophaga_coronata\\Setophaga_coronata_9.mp3: [Errno 28] No space left on device\n",
      "⚠️ Skipping bird_audio\\Setophaga_coronata\\Setophaga_coronata_6.mp3: [Errno 28] No space left on device\n",
      "⚠️ Skipping bird_audio\\Setophaga_coronata\\Setophaga_coronata_8.mp3: [Errno 28] No space left on device\n",
      "Class Setophaga_coronata: 7 train, 1 val, 2 test\n"
     ]
    },
    {
     "ename": "OSError",
     "evalue": "[WinError 112] There is not enough space on the disk: 'Xeno_split\\\\train\\\\Setophaga_fusca'",
     "output_type": "error",
     "traceback": [
      "\u001b[1;31m---------------------------------------------------------------------------\u001b[0m",
      "\u001b[1;31mOSError\u001b[0m                                   Traceback (most recent call last)",
      "Cell \u001b[1;32mIn[2], line 57\u001b[0m\n\u001b[0;32m     55\u001b[0m split_dataset(\u001b[38;5;124m\"\u001b[39m\u001b[38;5;124mbird_dataset_CUB\u001b[39m\u001b[38;5;124m\"\u001b[39m, \u001b[38;5;124m\"\u001b[39m\u001b[38;5;124mCUB_split\u001b[39m\u001b[38;5;124m\"\u001b[39m)\n\u001b[0;32m     56\u001b[0m split_dataset(\u001b[38;5;124m\"\u001b[39m\u001b[38;5;124mbird_dataset_INAT\u001b[39m\u001b[38;5;124m\"\u001b[39m, \u001b[38;5;124m\"\u001b[39m\u001b[38;5;124miNat_split\u001b[39m\u001b[38;5;124m\"\u001b[39m)\n\u001b[1;32m---> 57\u001b[0m \u001b[43msplit_dataset\u001b[49m\u001b[43m(\u001b[49m\u001b[38;5;124;43m\"\u001b[39;49m\u001b[38;5;124;43mbird_audio\u001b[39;49m\u001b[38;5;124;43m\"\u001b[39;49m\u001b[43m,\u001b[49m\u001b[43m \u001b[49m\u001b[38;5;124;43m\"\u001b[39;49m\u001b[38;5;124;43mXeno_split\u001b[39;49m\u001b[38;5;124;43m\"\u001b[39;49m\u001b[43m)\u001b[49m\n",
      "Cell \u001b[1;32mIn[2], line 48\u001b[0m, in \u001b[0;36msplit_dataset\u001b[1;34m(dataset_dir, output_dir, train_ratio, val_ratio, test_ratio, seed)\u001b[0m\n\u001b[0;32m     45\u001b[0m             \u001b[38;5;28mprint\u001b[39m(\u001b[38;5;124mf\u001b[39m\u001b[38;5;124m\"\u001b[39m\u001b[38;5;124m⚠️ Skipping \u001b[39m\u001b[38;5;132;01m{\u001b[39;00mf\u001b[38;5;132;01m}\u001b[39;00m\u001b[38;5;124m: \u001b[39m\u001b[38;5;132;01m{\u001b[39;00me\u001b[38;5;132;01m}\u001b[39;00m\u001b[38;5;124m\"\u001b[39m)\n\u001b[0;32m     47\u001b[0m \u001b[38;5;66;03m# Copy to respective folders\u001b[39;00m\n\u001b[1;32m---> 48\u001b[0m \u001b[43mcopy_files\u001b[49m\u001b[43m(\u001b[49m\u001b[43mtrain_files\u001b[49m\u001b[43m,\u001b[49m\u001b[43m \u001b[49m\u001b[38;5;124;43m\"\u001b[39;49m\u001b[38;5;124;43mtrain\u001b[39;49m\u001b[38;5;124;43m\"\u001b[39;49m\u001b[43m)\u001b[49m\n\u001b[0;32m     49\u001b[0m copy_files(val_files, \u001b[38;5;124m\"\u001b[39m\u001b[38;5;124mval\u001b[39m\u001b[38;5;124m\"\u001b[39m)\n\u001b[0;32m     50\u001b[0m copy_files(test_files, \u001b[38;5;124m\"\u001b[39m\u001b[38;5;124mtest\u001b[39m\u001b[38;5;124m\"\u001b[39m)\n",
      "Cell \u001b[1;32mIn[2], line 40\u001b[0m, in \u001b[0;36msplit_dataset.<locals>.copy_files\u001b[1;34m(file_list, split)\u001b[0m\n\u001b[0;32m     38\u001b[0m \u001b[38;5;28;01mdef\u001b[39;00m\u001b[38;5;250m \u001b[39m\u001b[38;5;21mcopy_files\u001b[39m(file_list, split):\n\u001b[0;32m     39\u001b[0m     split_class_dir \u001b[38;5;241m=\u001b[39m output_dir \u001b[38;5;241m/\u001b[39m split \u001b[38;5;241m/\u001b[39m class_folder\n\u001b[1;32m---> 40\u001b[0m     \u001b[43msplit_class_dir\u001b[49m\u001b[38;5;241;43m.\u001b[39;49m\u001b[43mmkdir\u001b[49m\u001b[43m(\u001b[49m\u001b[43mparents\u001b[49m\u001b[38;5;241;43m=\u001b[39;49m\u001b[38;5;28;43;01mTrue\u001b[39;49;00m\u001b[43m,\u001b[49m\u001b[43m \u001b[49m\u001b[43mexist_ok\u001b[49m\u001b[38;5;241;43m=\u001b[39;49m\u001b[38;5;28;43;01mTrue\u001b[39;49;00m\u001b[43m)\u001b[49m\n\u001b[0;32m     41\u001b[0m     \u001b[38;5;28;01mfor\u001b[39;00m f \u001b[38;5;129;01min\u001b[39;00m file_list:\n\u001b[0;32m     42\u001b[0m         \u001b[38;5;28;01mtry\u001b[39;00m:\n",
      "File \u001b[1;32m~\\anaconda3\\envs\\bird-env\\lib\\pathlib.py:1251\u001b[0m, in \u001b[0;36mPath.mkdir\u001b[1;34m(self, mode, parents, exist_ok)\u001b[0m\n\u001b[0;32m   1247\u001b[0m \u001b[38;5;250m\u001b[39m\u001b[38;5;124;03m\"\"\"\u001b[39;00m\n\u001b[0;32m   1248\u001b[0m \u001b[38;5;124;03mCreate a new directory at this given path.\u001b[39;00m\n\u001b[0;32m   1249\u001b[0m \u001b[38;5;124;03m\"\"\"\u001b[39;00m\n\u001b[0;32m   1250\u001b[0m \u001b[38;5;28;01mtry\u001b[39;00m:\n\u001b[1;32m-> 1251\u001b[0m     \u001b[38;5;28;43mself\u001b[39;49m\u001b[38;5;241;43m.\u001b[39;49m\u001b[43m_accessor\u001b[49m\u001b[38;5;241;43m.\u001b[39;49m\u001b[43mmkdir\u001b[49m\u001b[43m(\u001b[49m\u001b[38;5;28;43mself\u001b[39;49m\u001b[43m,\u001b[49m\u001b[43m \u001b[49m\u001b[43mmode\u001b[49m\u001b[43m)\u001b[49m\n\u001b[0;32m   1252\u001b[0m \u001b[38;5;28;01mexcept\u001b[39;00m \u001b[38;5;167;01mFileNotFoundError\u001b[39;00m:\n\u001b[0;32m   1253\u001b[0m     \u001b[38;5;28;01mif\u001b[39;00m \u001b[38;5;129;01mnot\u001b[39;00m parents \u001b[38;5;129;01mor\u001b[39;00m \u001b[38;5;28mself\u001b[39m\u001b[38;5;241m.\u001b[39mparent \u001b[38;5;241m==\u001b[39m \u001b[38;5;28mself\u001b[39m:\n",
      "\u001b[1;31mOSError\u001b[0m: [WinError 112] There is not enough space on the disk: 'Xeno_split\\\\train\\\\Setophaga_fusca'"
     ]
    }
   ],
   "source": [
    "import os\n",
    "import shutil\n",
    "import random\n",
    "from pathlib import Path\n",
    "\n",
    "def split_dataset(dataset_dir, output_dir, train_ratio=0.7, val_ratio=0.15, test_ratio=0.15, seed=42):\n",
    "    random.seed(seed)\n",
    "    dataset_dir = Path(dataset_dir)\n",
    "    output_dir = Path(output_dir)\n",
    "\n",
    "    # Create output directories\n",
    "    for split in [\"train\", \"val\", \"test\"]:\n",
    "        (output_dir / split).mkdir(parents=True, exist_ok=True)\n",
    "\n",
    "    # Loop over each species/class\n",
    "    for class_folder in os.listdir(dataset_dir):\n",
    "        class_path = dataset_dir / class_folder\n",
    "        if not class_path.is_dir():\n",
    "            continue\n",
    "\n",
    "        # Collect only valid files (skip hidden/system files)\n",
    "        files = [f for f in class_path.glob(\"*\") if f.is_file() and not f.name.startswith(\".\")]\n",
    "        if not files:\n",
    "            continue\n",
    "\n",
    "        random.shuffle(files)\n",
    "\n",
    "        # Compute split sizes\n",
    "        n_total = len(files)\n",
    "        n_train = int(n_total * train_ratio)\n",
    "        n_val = int(n_total * val_ratio)\n",
    "\n",
    "        train_files = files[:n_train]\n",
    "        val_files = files[n_train:n_train+n_val]\n",
    "        test_files = files[n_train+n_val:]\n",
    "\n",
    "        # Function to copy files into new structure\n",
    "        def copy_files(file_list, split):\n",
    "            split_class_dir = output_dir / split / class_folder\n",
    "            split_class_dir.mkdir(parents=True, exist_ok=True)\n",
    "            for f in file_list:\n",
    "                try:\n",
    "                    shutil.copy(f, split_class_dir / f.name)\n",
    "                except Exception as e:\n",
    "                    print(f\"⚠️ Skipping {f}: {e}\")\n",
    "\n",
    "        # Copy to respective folders\n",
    "        copy_files(train_files, \"train\")\n",
    "        copy_files(val_files, \"val\")\n",
    "        copy_files(test_files, \"test\")\n",
    "\n",
    "        print(f\"Class {class_folder}: {n_train} train, {n_val} val, {len(test_files)} test\")\n",
    "\n",
    "# Example usage:\n",
    "split_dataset(\"bird_dataset_CUB\", \"CUB_split\")\n",
    "split_dataset(\"bird_dataset_INAT\", \"iNat_split\")\n",
    "split_dataset(\"bird_audio\", \"Xeno_split\")\n",
    "\n"
   ]
  },
  {
   "cell_type": "code",
   "execution_count": 3,
   "id": "ef43ccbc-85eb-42c9-b498-d10c1d9169ea",
   "metadata": {
    "scrolled": true
   },
   "outputs": [
    {
     "name": "stdout",
     "output_type": "stream",
     "text": [
      "✅ 001.Black_footed_Albatross: 42 train, 9 val, 9 test\n",
      "✅ 002.Laysan_Albatross: 42 train, 9 val, 9 test\n",
      "✅ 003.Sooty_Albatross: 40 train, 8 val, 10 test\n",
      "✅ 004.Groove_billed_Ani: 42 train, 9 val, 9 test\n",
      "✅ 005.Crested_Auklet: 30 train, 6 val, 8 test\n",
      "✅ 006.Least_Auklet: 28 train, 6 val, 7 test\n",
      "✅ 007.Parakeet_Auklet: 37 train, 7 val, 9 test\n",
      "✅ 008.Rhinoceros_Auklet: 33 train, 7 val, 8 test\n",
      "✅ 009.Brewer_Blackbird: 42 train, 9 val, 9 test\n",
      "✅ 010.Red_winged_Blackbird: 42 train, 9 val, 9 test\n",
      "✅ 011.Rusty_Blackbird: 42 train, 9 val, 9 test\n",
      "✅ 012.Yellow_headed_Blackbird: 39 train, 8 val, 9 test\n",
      "✅ 013.Bobolink: 42 train, 9 val, 9 test\n",
      "✅ 014.Indigo_Bunting: 42 train, 9 val, 9 test\n",
      "✅ 015.Lazuli_Bunting: 40 train, 8 val, 10 test\n",
      "✅ 016.Painted_Bunting: 40 train, 8 val, 10 test\n",
      "✅ 017.Cardinal: 39 train, 8 val, 10 test\n",
      "✅ 018.Spotted_Catbird: 31 train, 6 val, 8 test\n",
      "✅ 019.Gray_Catbird: 41 train, 8 val, 10 test\n",
      "✅ 020.Yellow_breasted_Chat: 41 train, 8 val, 10 test\n",
      "✅ 021.Eastern_Towhee: 42 train, 9 val, 9 test\n",
      "✅ 022.Chuck_will_Widow: 39 train, 8 val, 9 test\n",
      "✅ 023.Brandt_Cormorant: 41 train, 8 val, 10 test\n",
      "✅ 024.Red_faced_Cormorant: 36 train, 7 val, 9 test\n",
      "✅ 025.Pelagic_Cormorant: 42 train, 9 val, 10 test\n",
      "✅ 026.Bronzed_Cowbird: 42 train, 9 val, 9 test\n",
      "✅ 027.Shiny_Cowbird: 42 train, 9 val, 9 test\n",
      "✅ 028.Brown_Creeper: 41 train, 8 val, 10 test\n",
      "✅ 029.American_Crow: 42 train, 9 val, 9 test\n",
      "✅ 030.Fish_Crow: 42 train, 9 val, 9 test\n",
      "✅ 031.Black_billed_Cuckoo: 42 train, 9 val, 9 test\n",
      "✅ 032.Mangrove_Cuckoo: 37 train, 7 val, 9 test\n",
      "✅ 033.Yellow_billed_Cuckoo: 41 train, 8 val, 10 test\n",
      "✅ 034.Gray_crowned_Rosy_Finch: 41 train, 8 val, 10 test\n",
      "✅ 035.Purple_Finch: 42 train, 9 val, 9 test\n",
      "✅ 036.Northern_Flicker: 42 train, 9 val, 9 test\n",
      "✅ 037.Acadian_Flycatcher: 41 train, 8 val, 10 test\n",
      "✅ 038.Great_Crested_Flycatcher: 42 train, 9 val, 9 test\n",
      "✅ 039.Least_Flycatcher: 41 train, 8 val, 10 test\n",
      "✅ 040.Olive_sided_Flycatcher: 42 train, 9 val, 9 test\n",
      "✅ 041.Scissor_tailed_Flycatcher: 42 train, 9 val, 9 test\n",
      "✅ 042.Vermilion_Flycatcher: 42 train, 9 val, 9 test\n",
      "✅ 043.Yellow_bellied_Flycatcher: 41 train, 8 val, 10 test\n",
      "✅ 044.Frigatebird: 42 train, 9 val, 9 test\n",
      "✅ 045.Northern_Fulmar: 42 train, 9 val, 9 test\n",
      "✅ 046.Gadwall: 42 train, 9 val, 9 test\n",
      "✅ 047.American_Goldfinch: 42 train, 9 val, 9 test\n",
      "✅ 048.European_Goldfinch: 42 train, 9 val, 9 test\n",
      "✅ 049.Boat_tailed_Grackle: 42 train, 9 val, 9 test\n",
      "✅ 050.Eared_Grebe: 42 train, 9 val, 9 test\n",
      "✅ 051.Horned_Grebe: 42 train, 9 val, 9 test\n",
      "✅ 052.Pied_billed_Grebe: 42 train, 9 val, 9 test\n",
      "✅ 053.Western_Grebe: 42 train, 9 val, 9 test\n",
      "✅ 054.Blue_Grosbeak: 42 train, 9 val, 9 test\n",
      "✅ 055.Evening_Grosbeak: 42 train, 9 val, 9 test\n",
      "✅ 056.Pine_Grosbeak: 42 train, 9 val, 9 test\n",
      "✅ 057.Rose_breasted_Grosbeak: 42 train, 9 val, 9 test\n",
      "✅ 058.Pigeon_Guillemot: 40 train, 8 val, 10 test\n",
      "✅ 059.California_Gull: 42 train, 9 val, 9 test\n",
      "✅ 060.Glaucous_winged_Gull: 41 train, 8 val, 10 test\n",
      "✅ 061.Heermann_Gull: 42 train, 9 val, 9 test\n",
      "✅ 062.Herring_Gull: 42 train, 9 val, 9 test\n",
      "✅ 063.Ivory_Gull: 43 train, 9 val, 10 test\n",
      "✅ 064.Ring_billed_Gull: 42 train, 9 val, 9 test\n",
      "✅ 065.Slaty_backed_Gull: 35 train, 7 val, 8 test\n",
      "✅ 066.Western_Gull: 42 train, 9 val, 10 test\n",
      "✅ 067.Anna_Hummingbird: 42 train, 9 val, 9 test\n",
      "✅ 068.Ruby_throated_Hummingbird: 42 train, 9 val, 9 test\n",
      "✅ 069.Rufous_Hummingbird: 42 train, 9 val, 9 test\n",
      "✅ 070.Green_Violetear: 42 train, 9 val, 9 test\n",
      "✅ 071.Long_tailed_Jaeger: 42 train, 9 val, 9 test\n",
      "✅ 072.Pomarine_Jaeger: 42 train, 9 val, 9 test\n",
      "✅ 073.Blue_Jay: 42 train, 9 val, 9 test\n",
      "✅ 074.Florida_Jay: 42 train, 9 val, 9 test\n",
      "✅ 075.Green_Jay: 39 train, 8 val, 10 test\n",
      "✅ 076.Dark_eyed_Junco: 42 train, 9 val, 9 test\n",
      "✅ 077.Tropical_Kingbird: 42 train, 9 val, 9 test\n",
      "✅ 078.Gray_Kingbird: 41 train, 8 val, 10 test\n",
      "✅ 079.Belted_Kingfisher: 42 train, 9 val, 9 test\n",
      "✅ 080.Green_Kingfisher: 42 train, 9 val, 9 test\n",
      "✅ 081.Pied_Kingfisher: 42 train, 9 val, 9 test\n",
      "✅ 082.Ringed_Kingfisher: 42 train, 9 val, 9 test\n",
      "✅ 083.White_breasted_Kingfisher: 42 train, 9 val, 9 test\n",
      "✅ 084.Red_legged_Kittiwake: 37 train, 7 val, 9 test\n",
      "✅ 085.Horned_Lark: 42 train, 9 val, 9 test\n",
      "✅ 086.Pacific_Loon: 42 train, 9 val, 9 test\n",
      "✅ 087.Mallard: 42 train, 9 val, 10 test\n",
      "✅ 088.Western_Meadowlark: 42 train, 9 val, 9 test\n",
      "✅ 089.Hooded_Merganser: 42 train, 9 val, 9 test\n",
      "✅ 090.Red_breasted_Merganser: 42 train, 9 val, 9 test\n",
      "✅ 091.Mockingbird: 42 train, 9 val, 9 test\n",
      "✅ 092.Nighthawk: 42 train, 9 val, 9 test\n",
      "✅ 093.Clark_Nutcracker: 42 train, 9 val, 10 test\n",
      "✅ 094.White_breasted_Nuthatch: 42 train, 9 val, 9 test\n",
      "✅ 095.Baltimore_Oriole: 42 train, 9 val, 9 test\n",
      "✅ 096.Hooded_Oriole: 42 train, 9 val, 9 test\n",
      "✅ 097.Orchard_Oriole: 41 train, 8 val, 10 test\n",
      "✅ 098.Scott_Oriole: 42 train, 9 val, 9 test\n",
      "✅ 099.Ovenbird: 42 train, 9 val, 9 test\n",
      "✅ 100.Brown_Pelican: 42 train, 9 val, 9 test\n",
      "✅ 101.White_Pelican: 35 train, 7 val, 8 test\n",
      "✅ 102.Western_Wood_Pewee: 42 train, 9 val, 9 test\n",
      "✅ 103.Sayornis: 42 train, 9 val, 9 test\n",
      "✅ 104.American_Pipit: 42 train, 9 val, 9 test\n",
      "✅ 105.Whip_poor_Will: 34 train, 7 val, 8 test\n",
      "✅ 106.Horned_Puffin: 42 train, 9 val, 9 test\n",
      "✅ 107.Common_Raven: 41 train, 8 val, 10 test\n",
      "✅ 108.White_necked_Raven: 42 train, 9 val, 10 test\n",
      "✅ 109.American_Redstart: 42 train, 9 val, 9 test\n",
      "✅ 110.Geococcyx: 42 train, 9 val, 9 test\n",
      "✅ 111.Loggerhead_Shrike: 42 train, 9 val, 9 test\n",
      "✅ 112.Great_Grey_Shrike: 42 train, 9 val, 9 test\n",
      "✅ 113.Baird_Sparrow: 35 train, 7 val, 8 test\n",
      "✅ 114.Black_throated_Sparrow: 42 train, 9 val, 9 test\n",
      "✅ 115.Brewer_Sparrow: 41 train, 8 val, 10 test\n",
      "✅ 116.Chipping_Sparrow: 42 train, 9 val, 9 test\n",
      "✅ 117.Clay_colored_Sparrow: 41 train, 8 val, 10 test\n",
      "✅ 118.House_Sparrow: 42 train, 9 val, 9 test\n",
      "✅ 119.Field_Sparrow: 41 train, 8 val, 10 test\n",
      "✅ 120.Fox_Sparrow: 42 train, 9 val, 9 test\n",
      "✅ 121.Grasshopper_Sparrow: 42 train, 9 val, 9 test\n",
      "✅ 122.Harris_Sparrow: 42 train, 9 val, 9 test\n",
      "✅ 123.Henslow_Sparrow: 42 train, 9 val, 9 test\n",
      "✅ 124.Le_Conte_Sparrow: 41 train, 8 val, 10 test\n",
      "✅ 125.Lincoln_Sparrow: 41 train, 8 val, 10 test\n",
      "✅ 126.Nelson_Sharp_tailed_Sparrow: 41 train, 8 val, 10 test\n",
      "✅ 127.Savannah_Sparrow: 42 train, 9 val, 9 test\n",
      "✅ 128.Seaside_Sparrow: 42 train, 9 val, 9 test\n",
      "✅ 129.Song_Sparrow: 42 train, 9 val, 9 test\n",
      "✅ 130.Tree_Sparrow: 42 train, 9 val, 9 test\n",
      "✅ 131.Vesper_Sparrow: 42 train, 9 val, 9 test\n",
      "✅ 132.White_crowned_Sparrow: 42 train, 9 val, 9 test\n",
      "✅ 133.White_throated_Sparrow: 42 train, 9 val, 9 test\n",
      "✅ 134.Cape_Glossy_Starling: 42 train, 9 val, 9 test\n",
      "✅ 135.Bank_Swallow: 41 train, 8 val, 10 test\n",
      "✅ 136.Barn_Swallow: 42 train, 9 val, 9 test\n",
      "✅ 137.Cliff_Swallow: 42 train, 9 val, 9 test\n",
      "✅ 138.Tree_Swallow: 42 train, 9 val, 9 test\n",
      "✅ 139.Scarlet_Tanager: 42 train, 9 val, 9 test\n",
      "✅ 140.Summer_Tanager: 42 train, 9 val, 9 test\n",
      "✅ 141.Artic_Tern: 40 train, 8 val, 10 test\n",
      "✅ 142.Black_Tern: 42 train, 9 val, 9 test\n",
      "✅ 143.Caspian_Tern: 42 train, 9 val, 9 test\n",
      "✅ 144.Common_Tern: 42 train, 9 val, 9 test\n",
      "✅ 145.Elegant_Tern: 42 train, 9 val, 9 test\n",
      "✅ 146.Forsters_Tern: 42 train, 9 val, 9 test\n",
      "✅ 147.Least_Tern: 42 train, 9 val, 9 test\n",
      "✅ 148.Green_tailed_Towhee: 42 train, 9 val, 9 test\n",
      "✅ 149.Brown_Thrasher: 41 train, 8 val, 10 test\n",
      "✅ 150.Sage_Thrasher: 42 train, 9 val, 9 test\n",
      "✅ 151.Black_capped_Vireo: 35 train, 7 val, 9 test\n",
      "✅ 152.Blue_headed_Vireo: 42 train, 9 val, 9 test\n",
      "✅ 153.Philadelphia_Vireo: 41 train, 8 val, 10 test\n",
      "✅ 154.Red_eyed_Vireo: 42 train, 9 val, 9 test\n",
      "✅ 155.Warbling_Vireo: 42 train, 9 val, 9 test\n",
      "✅ 156.White_eyed_Vireo: 42 train, 9 val, 9 test\n",
      "✅ 157.Yellow_throated_Vireo: 41 train, 8 val, 10 test\n",
      "✅ 158.Bay_breasted_Warbler: 42 train, 9 val, 9 test\n",
      "✅ 159.Black_and_white_Warbler: 42 train, 9 val, 9 test\n",
      "✅ 160.Black_throated_Blue_Warbler: 41 train, 8 val, 10 test\n",
      "✅ 161.Blue_winged_Warbler: 42 train, 9 val, 9 test\n",
      "✅ 162.Canada_Warbler: 42 train, 9 val, 9 test\n",
      "✅ 163.Cape_May_Warbler: 42 train, 9 val, 9 test\n",
      "✅ 164.Cerulean_Warbler: 42 train, 9 val, 9 test\n",
      "✅ 165.Chestnut_sided_Warbler: 42 train, 9 val, 9 test\n",
      "✅ 166.Golden_winged_Warbler: 41 train, 8 val, 10 test\n",
      "✅ 167.Hooded_Warbler: 42 train, 9 val, 9 test\n",
      "✅ 168.Kentucky_Warbler: 41 train, 8 val, 10 test\n",
      "✅ 169.Magnolia_Warbler: 41 train, 8 val, 10 test\n",
      "✅ 170.Mourning_Warbler: 42 train, 9 val, 9 test\n",
      "✅ 171.Myrtle_Warbler: 42 train, 9 val, 9 test\n",
      "✅ 172.Nashville_Warbler: 42 train, 9 val, 9 test\n",
      "✅ 173.Orange_crowned_Warbler: 42 train, 9 val, 9 test\n",
      "✅ 174.Palm_Warbler: 42 train, 9 val, 9 test\n",
      "✅ 175.Pine_Warbler: 42 train, 9 val, 9 test\n",
      "✅ 176.Prairie_Warbler: 42 train, 9 val, 9 test\n",
      "✅ 177.Prothonotary_Warbler: 42 train, 9 val, 9 test\n",
      "✅ 178.Swainson_Warbler: 39 train, 8 val, 9 test\n",
      "✅ 179.Tennessee_Warbler: 41 train, 8 val, 10 test\n",
      "✅ 180.Wilson_Warbler: 42 train, 9 val, 9 test\n",
      "✅ 181.Worm_eating_Warbler: 41 train, 8 val, 10 test\n",
      "✅ 182.Yellow_Warbler: 42 train, 9 val, 9 test\n",
      "✅ 183.Northern_Waterthrush: 42 train, 9 val, 9 test\n",
      "✅ 184.Louisiana_Waterthrush: 42 train, 9 val, 9 test\n",
      "✅ 185.Bohemian_Waxwing: 42 train, 9 val, 9 test\n",
      "✅ 186.Cedar_Waxwing: 42 train, 9 val, 9 test\n",
      "✅ 187.American_Three_toed_Woodpecker: 35 train, 7 val, 8 test\n",
      "✅ 188.Pileated_Woodpecker: 42 train, 9 val, 9 test\n",
      "✅ 189.Red_bellied_Woodpecker: 42 train, 9 val, 9 test\n",
      "✅ 190.Red_cockaded_Woodpecker: 40 train, 8 val, 10 test\n",
      "✅ 191.Red_headed_Woodpecker: 42 train, 9 val, 9 test\n",
      "✅ 192.Downy_Woodpecker: 42 train, 9 val, 9 test\n",
      "✅ 193.Bewick_Wren: 42 train, 9 val, 9 test\n",
      "✅ 194.Cactus_Wren: 42 train, 9 val, 9 test\n",
      "✅ 195.Carolina_Wren: 42 train, 9 val, 9 test\n",
      "✅ 196.House_Wren: 41 train, 8 val, 10 test\n",
      "✅ 197.Marsh_Wren: 42 train, 9 val, 9 test\n",
      "✅ 198.Rock_Wren: 42 train, 9 val, 9 test\n",
      "✅ 199.Winter_Wren: 42 train, 9 val, 9 test\n",
      "✅ 200.Common_Yellowthroat: 42 train, 9 val, 9 test\n",
      "✅ Accipiter_cooperii: 14 train, 3 val, 3 test\n",
      "✅ Agelaius_phoeniceus: 14 train, 3 val, 3 test\n",
      "✅ Aix_sponsa: 14 train, 3 val, 3 test\n",
      "✅ Alcedo_atthis: 14 train, 3 val, 3 test\n",
      "✅ Amazona_ochrocephala: 14 train, 3 val, 3 test\n",
      "✅ Ammodramus_savannarum: 14 train, 3 val, 3 test\n",
      "✅ Ammospiza_caudacuta: 14 train, 3 val, 3 test\n",
      "✅ Anas_platyrhynchos: 14 train, 3 val, 3 test\n",
      "✅ Anodorhynchus_hyacinthinus: 14 train, 3 val, 3 test\n",
      "✅ Anthus_rubescens: 14 train, 3 val, 3 test\n",
      "✅ Apteryx_australis: 14 train, 3 val, 3 test\n",
      "✅ Aquila_chrysaetos: 14 train, 3 val, 3 test\n",
      "✅ Ara_ararauna: 14 train, 3 val, 3 test\n",
      "✅ Ara_macao: 14 train, 3 val, 3 test\n",
      "✅ Ardea_alba: 14 train, 3 val, 3 test\n",
      "✅ Athene_cunicularia: 14 train, 3 val, 3 test\n",
      "✅ Aythya_affinis: 14 train, 3 val, 3 test\n",
      "✅ Botaurus_stellaris: 14 train, 3 val, 3 test\n",
      "✅ Bubo_virginianus: 14 train, 3 val, 3 test\n",
      "✅ Bucephala_clangula: 14 train, 3 val, 3 test\n",
      "✅ Buteo_jamaicensis: 14 train, 3 val, 3 test\n",
      "✅ Cacatua_galerita: 14 train, 3 val, 3 test\n",
      "✅ Calcarius_ornatus: 14 train, 3 val, 3 test\n",
      "✅ Cardinalis_cardinalis: 14 train, 3 val, 3 test\n",
      "✅ Carduelis_carduelis: 14 train, 3 val, 3 test\n",
      "✅ Carpodacus_erythrinus: 14 train, 3 val, 3 test\n",
      "✅ Catharus_guttatus: 14 train, 3 val, 3 test\n",
      "✅ Catharus_minimus: 14 train, 3 val, 3 test\n",
      "✅ Catharus_ustulatus: 14 train, 3 val, 3 test\n",
      "✅ Catherpes_mexicanus: 14 train, 3 val, 3 test\n",
      "✅ Ceryle_rudis: 14 train, 3 val, 3 test\n",
      "✅ Chloris_ambigua: 14 train, 3 val, 3 test\n",
      "✅ Chloris_chloris: 14 train, 3 val, 3 test\n",
      "✅ Circus_cyaneus: 14 train, 3 val, 3 test\n",
      "✅ Cistothorus_palustris: 14 train, 3 val, 3 test\n",
      "✅ Coccothraustes_coccothraustes: 14 train, 3 val, 3 test\n",
      "✅ Colaptes_auratus: 14 train, 3 val, 3 test\n",
      "✅ Colinus_virginianus: 14 train, 3 val, 3 test\n",
      "✅ Columba_livia: 14 train, 3 val, 3 test\n",
      "✅ Contopus_virens: 14 train, 3 val, 3 test\n",
      "✅ Coracias_garrulus: 14 train, 3 val, 3 test\n",
      "✅ Corvus_brachyrhynchos: 14 train, 3 val, 3 test\n",
      "✅ Corvus_corax: 14 train, 3 val, 3 test\n",
      "✅ Cuculus_canorus: 14 train, 3 val, 3 test\n",
      "✅ Cyanocitta_cristata: 14 train, 3 val, 3 test\n",
      "✅ Cyanoloxia_cyanoides: 14 train, 3 val, 3 test\n",
      "✅ Cygnus_olor: 14 train, 3 val, 3 test\n",
      "✅ Dolichonyx_oryzivorus: 14 train, 3 val, 3 test\n",
      "✅ Dromaius_novaehollandiae: 14 train, 3 val, 3 test\n",
      "✅ Dryocopus_pileatus: 14 train, 3 val, 3 test\n",
      "✅ Dumetella_carolinensis: 14 train, 3 val, 3 test\n",
      "✅ Egretta_thula: 14 train, 3 val, 3 test\n",
      "✅ Elaenia_flavogaster: 14 train, 3 val, 3 test\n",
      "✅ Empidonax_minimus: 14 train, 3 val, 3 test\n",
      "✅ Euphagus_cyanocephalus: 14 train, 3 val, 3 test\n",
      "✅ Falco_peregrinus: 14 train, 3 val, 3 test\n",
      "✅ Falco_rusticolus: 14 train, 3 val, 3 test\n",
      "✅ Falco_sparverius: 14 train, 3 val, 3 test\n",
      "✅ Fratercula_arctica: 14 train, 3 val, 3 test\n",
      "✅ Fringilla_coelebs: 14 train, 3 val, 3 test\n",
      "✅ Fringilla_montifringilla: 14 train, 3 val, 3 test\n",
      "✅ Gallus_gallus: 14 train, 3 val, 3 test\n",
      "✅ Geococcyx_californianus: 14 train, 3 val, 3 test\n",
      "✅ Geopelia_cuneata: 14 train, 3 val, 3 test\n",
      "✅ Geothlypis_trichas: 14 train, 3 val, 3 test\n",
      "⚠️ No valid files in Glaucidium_gnome, skipping.\n",
      "✅ Haemorhous_mexicanus: 14 train, 3 val, 3 test\n",
      "✅ Haemorhous_purpureus: 14 train, 3 val, 3 test\n",
      "✅ Halcyon_smyrnensis: 14 train, 3 val, 3 test\n",
      "✅ Haliaeetus_leucocephalus: 14 train, 3 val, 3 test\n",
      "✅ Helmitheros_vermivorum: 14 train, 3 val, 3 test\n",
      "✅ Icteria_virens: 14 train, 3 val, 3 test\n",
      "✅ Icterus_cucullatus: 14 train, 3 val, 3 test\n",
      "✅ Icterus_galbula: 14 train, 3 val, 3 test\n",
      "✅ Icterus_parisorum: 14 train, 3 val, 3 test\n",
      "⚠️ No valid files in Ixoreus_naevii, skipping.\n",
      "✅ Junco_hyemalis: 14 train, 3 val, 3 test\n",
      "✅ Lanius_excubitor: 14 train, 3 val, 3 test\n",
      "✅ Loxia_curvirostra: 14 train, 3 val, 3 test\n",
      "✅ Megaceryle_alcyon: 14 train, 3 val, 3 test\n",
      "✅ Meleagris_gallopavo: 14 train, 3 val, 3 test\n",
      "✅ Melopsittacus_undulatus: 14 train, 3 val, 3 test\n",
      "✅ Melospiza_georgiana: 14 train, 3 val, 3 test\n",
      "✅ Melospiza_melodia: 14 train, 3 val, 3 test\n",
      "✅ Merops_apiaster: 14 train, 3 val, 3 test\n",
      "✅ Mimus_polyglottos: 14 train, 3 val, 3 test\n",
      "✅ Mniotilta_varia: 14 train, 3 val, 3 test\n",
      "✅ Molothrus_ater: 14 train, 3 val, 3 test\n",
      "✅ Motacilla_alba: 14 train, 3 val, 3 test\n",
      "✅ Motacilla_cinerea: 14 train, 3 val, 3 test\n",
      "✅ Motacilla_flava: 14 train, 3 val, 3 test\n",
      "✅ Mycteria_americana: 14 train, 3 val, 3 test\n",
      "✅ Myiarchus_crinitus: 14 train, 3 val, 3 test\n",
      "✅ Nucifraga_columbiana: 14 train, 3 val, 3 test\n",
      "✅ Numida_meleagris: 14 train, 3 val, 3 test\n",
      "✅ Nycticorax_nycticorax: 14 train, 3 val, 3 test\n",
      "✅ Oreoscoptes_montanus: 14 train, 3 val, 3 test\n",
      "✅ Pandion_haliaetus: 14 train, 3 val, 3 test\n",
      "✅ Parkesia_motacilla: 14 train, 3 val, 3 test\n",
      "✅ Parkesia_noveboracensis: 14 train, 3 val, 3 test\n",
      "✅ Passerculus_sandwichensis: 14 train, 3 val, 3 test\n",
      "✅ Passerina_amoena: 14 train, 3 val, 3 test\n",
      "✅ Passerina_ciris: 14 train, 3 val, 3 test\n",
      "✅ Passerina_cyanea: 14 train, 3 val, 3 test\n",
      "✅ Passer_domesticus: 14 train, 3 val, 3 test\n",
      "✅ Passer_montanus: 14 train, 3 val, 3 test\n",
      "✅ Patagioenas_fasciata: 14 train, 3 val, 3 test\n",
      "✅ Perisoreus_canadensis: 14 train, 3 val, 3 test\n",
      "✅ Phasianus_colchicus: 14 train, 3 val, 3 test\n",
      "✅ Pheucticus_ludovicianus: 14 train, 3 val, 3 test\n",
      "✅ Pheucticus_melanocephalus: 14 train, 3 val, 3 test\n",
      "✅ Phoebastria_immutabilis: 14 train, 3 val, 3 test\n",
      "✅ Phoebastria_nigripes: 14 train, 3 val, 3 test\n",
      "✅ Pica_pica: 14 train, 3 val, 3 test\n",
      "✅ Picus_viridis: 14 train, 3 val, 3 test\n",
      "✅ Pipilo_erythrophthalmus: 14 train, 3 val, 3 test\n",
      "✅ Pipilo_maculatus: 14 train, 3 val, 3 test\n",
      "✅ Piranga_ludoviciana: 14 train, 3 val, 3 test\n",
      "✅ Piranga_olivacea: 14 train, 3 val, 3 test\n",
      "✅ Piranga_rubra: 14 train, 3 val, 3 test\n",
      "✅ Pitangus_sulphuratus: 14 train, 3 val, 3 test\n",
      "✅ Platalea_ajaja: 14 train, 3 val, 3 test\n",
      "✅ Podiceps_cristatus: 14 train, 3 val, 3 test\n",
      "✅ Poecile_atricapillus: 14 train, 3 val, 3 test\n",
      "✅ Poecile_gambeli: 14 train, 3 val, 3 test\n",
      "✅ Polioptila_caerulea: 14 train, 3 val, 3 test\n",
      "✅ Pooecetes_gramineus: 14 train, 3 val, 3 test\n",
      "✅ Psittacus_erithacus: 14 train, 3 val, 3 test\n",
      "✅ Puffinus_puffinus: 14 train, 3 val, 3 test\n",
      "✅ Pyrrhula_pyrrhula: 14 train, 3 val, 3 test\n",
      "✅ Quiscalus_quiscula: 14 train, 3 val, 3 test\n",
      "✅ Ramphastos_toco: 14 train, 3 val, 3 test\n",
      "✅ Regulus_calendula: 14 train, 3 val, 3 test\n",
      "✅ Regulus_satrapa: 14 train, 3 val, 3 test\n",
      "✅ Sayornis_phoebe: 14 train, 3 val, 3 test\n",
      "✅ Seiurus_aurocapilla: 14 train, 3 val, 3 test\n",
      "✅ Setophaga_americana: 14 train, 3 val, 3 test\n",
      "✅ Setophaga_castanea: 14 train, 3 val, 3 test\n",
      "✅ Setophaga_coronata: 14 train, 3 val, 3 test\n",
      "✅ Setophaga_fusca: 14 train, 3 val, 3 test\n",
      "✅ Setophaga_magnolia: 14 train, 3 val, 3 test\n",
      "⚠️ No valid files in Setophaga_palmae, skipping.\n",
      "✅ Setophaga_pensylvanica: 14 train, 3 val, 3 test\n",
      "✅ Setophaga_petechia: 14 train, 3 val, 3 test\n",
      "✅ Setophaga_ruticilla: 14 train, 3 val, 3 test\n",
      "✅ Setophaga_tigrina: 14 train, 3 val, 3 test\n",
      "✅ Sialia_currucoides: 14 train, 3 val, 3 test\n",
      "✅ Sialia_mexicana: 14 train, 3 val, 3 test\n",
      "✅ Sialia_sialis: 14 train, 3 val, 3 test\n",
      "✅ Sitta_carolinensis: 14 train, 3 val, 3 test\n",
      "✅ Sitta_europaea: 14 train, 3 val, 3 test\n",
      "✅ Sitta_pygmaea: 14 train, 3 val, 3 test\n",
      "✅ Spatula_clypeata: 14 train, 3 val, 3 test\n",
      "✅ Sphyrapicus_varius: 14 train, 3 val, 3 test\n",
      "✅ Spinus_pinus: 14 train, 3 val, 3 test\n",
      "✅ Spinus_spinus: 14 train, 3 val, 3 test\n",
      "✅ Spinus_tristis: 14 train, 3 val, 3 test\n",
      "✅ Spizella_arborea: 14 train, 3 val, 3 test\n",
      "✅ Spizella_passerina: 14 train, 3 val, 3 test\n",
      "✅ Strix_varia: 14 train, 3 val, 3 test\n",
      "✅ Struthio_camelus: 14 train, 3 val, 3 test\n",
      "✅ Sturnus_vulgaris: 14 train, 3 val, 3 test\n",
      "✅ Tachybaptus_ruficollis: 14 train, 3 val, 3 test\n",
      "✅ Thalassarche_melanophris: 14 train, 3 val, 3 test\n",
      "✅ Tichodroma_muraria: 14 train, 3 val, 3 test\n",
      "✅ Toxostoma_rufum: 14 train, 3 val, 3 test\n",
      "✅ Troglodytes_aedon: 14 train, 3 val, 3 test\n",
      "✅ Trogon_collaris: 14 train, 3 val, 3 test\n",
      "✅ Turdus_merula: 14 train, 3 val, 3 test\n",
      "✅ Turdus_migratorius: 14 train, 3 val, 3 test\n",
      "✅ Tyrannus_tyrannus: 14 train, 3 val, 3 test\n",
      "✅ Tyto_alba: 14 train, 3 val, 3 test\n",
      "✅ Upupa_epops: 14 train, 3 val, 3 test\n",
      "✅ Vermivora_chrysoptera: 14 train, 3 val, 3 test\n",
      "✅ Vermivora_cyanoptera: 14 train, 3 val, 3 test\n",
      "✅ Zenaida_macroura: 14 train, 3 val, 3 test\n",
      "✅ Zonotrichia_albicollis: 14 train, 3 val, 3 test\n",
      "✅ Zonotrichia_capensis: 14 train, 3 val, 3 test\n",
      "✅ Zonotrichia_leucophrys: 14 train, 3 val, 3 test\n",
      "✅ Acadian_Flycatcher: 7 train, 1 val, 2 test\n",
      "✅ Accipiter_cooperii: 7 train, 1 val, 2 test\n",
      "✅ Agelaius_phoeniceus: 7 train, 1 val, 2 test\n",
      "✅ Aix_sponsa: 7 train, 1 val, 2 test\n",
      "✅ Alcedo_atthis: 7 train, 1 val, 2 test\n",
      "✅ Amazona_ochrocephala: 7 train, 1 val, 2 test\n",
      "✅ American_Crow: 7 train, 1 val, 2 test\n",
      "✅ American_Goldfinch: 7 train, 1 val, 2 test\n",
      "✅ American_Pipit: 3 train, 0 val, 2 test\n",
      "✅ American_Redstart: 7 train, 1 val, 2 test\n",
      "✅ American_Three_toed_Woodpecker: 3 train, 0 val, 2 test\n",
      "✅ Ammodramus_savannarum: 7 train, 1 val, 2 test\n",
      "✅ Ammospiza_caudacuta: 6 train, 1 val, 2 test\n",
      "✅ Anas_platyrhynchos: 7 train, 1 val, 2 test\n",
      "✅ Anna_Hummingbird: 7 train, 1 val, 2 test\n",
      "✅ Anodorhynchus_hyacinthinus: 7 train, 1 val, 2 test\n",
      "✅ Anthus_rubescens: 7 train, 1 val, 2 test\n",
      "✅ Apteryx_australis: 2 train, 0 val, 1 test\n",
      "✅ Aquila_chrysaetos: 7 train, 1 val, 2 test\n",
      "✅ Ara_ararauna: 7 train, 1 val, 2 test\n",
      "✅ Ara_macao: 7 train, 1 val, 2 test\n",
      "✅ Ardea_alba: 7 train, 1 val, 2 test\n",
      "✅ Artic_Tern: 3 train, 0 val, 2 test\n",
      "✅ Athene_cunicularia: 7 train, 1 val, 2 test\n",
      "✅ Aythya_affinis: 7 train, 1 val, 2 test\n",
      "✅ Baird_Sparrow: 3 train, 0 val, 2 test\n",
      "✅ Baltimore_Oriole: 7 train, 1 val, 2 test\n",
      "✅ Bank_Swallow: 3 train, 0 val, 2 test\n",
      "✅ Barn_Swallow: 7 train, 1 val, 2 test\n",
      "✅ Bay_breasted_Warbler: 3 train, 0 val, 2 test\n",
      "✅ Belted_Kingfisher: 7 train, 1 val, 2 test\n",
      "✅ Bewick_Wren: 4 train, 0 val, 2 test\n",
      "✅ Black_and_white_Warbler: 3 train, 0 val, 2 test\n",
      "✅ Black_billed_Cuckoo: 7 train, 1 val, 2 test\n",
      "✅ Black_capped_Vireo: 3 train, 0 val, 2 test\n",
      "✅ Black_footed_Albatross: 7 train, 1 val, 2 test\n",
      "✅ Black_Tern: 7 train, 1 val, 2 test\n",
      "✅ Black_throated_Blue_Warbler: 3 train, 0 val, 2 test\n",
      "✅ Black_throated_Sparrow: 3 train, 0 val, 2 test\n",
      "✅ Blue_Grosbeak: 7 train, 1 val, 2 test\n",
      "⚠️ No valid files in Blue_headed_Vireo, skipping.\n",
      "✅ Blue_Jay: 7 train, 1 val, 2 test\n",
      "✅ Blue_winged_Warbler: 3 train, 0 val, 2 test\n",
      "✅ Boat_tailed_Grackle: 7 train, 1 val, 2 test\n",
      "✅ Bobolink: 7 train, 1 val, 2 test\n",
      "✅ Bohemian_Waxwing: 7 train, 1 val, 2 test\n",
      "✅ Botaurus_stellaris: 7 train, 1 val, 2 test\n",
      "✅ Brandt_Cormorant: 4 train, 1 val, 2 test\n",
      "✅ Brewer_Blackbird: 7 train, 1 val, 2 test\n",
      "✅ Brewer_Sparrow: 3 train, 0 val, 2 test\n",
      "✅ Bronzed_Cowbird: 7 train, 1 val, 2 test\n",
      "✅ Brown_Creeper: 7 train, 1 val, 2 test\n",
      "✅ Brown_Pelican: 7 train, 1 val, 2 test\n",
      "✅ Brown_Thrasher: 7 train, 1 val, 2 test\n",
      "✅ Bubo_virginianus: 7 train, 1 val, 2 test\n",
      "✅ Bucephala_clangula: 7 train, 1 val, 2 test\n",
      "✅ Buteo_jamaicensis: 7 train, 1 val, 2 test\n",
      "✅ Cacatua_galerita: 7 train, 1 val, 2 test\n",
      "✅ Cactus_Wren: 7 train, 1 val, 2 test\n",
      "✅ Calcarius_ornatus: 7 train, 1 val, 2 test\n",
      "✅ California_Gull: 7 train, 1 val, 2 test\n",
      "✅ Canada_Warbler: 7 train, 1 val, 2 test\n",
      "✅ Cape_Glossy_Starling: 3 train, 0 val, 2 test\n",
      "✅ Cape_May_Warbler: 7 train, 1 val, 2 test\n",
      "✅ Cardinal: 7 train, 1 val, 2 test\n",
      "✅ Cardinalis_cardinalis: 7 train, 1 val, 2 test\n",
      "✅ Carduelis_carduelis: 7 train, 1 val, 2 test\n",
      "✅ Carolina_Wren: 7 train, 1 val, 2 test\n",
      "✅ Carpodacus_erythrinus: 7 train, 1 val, 2 test\n",
      "✅ Caspian_Tern: 7 train, 1 val, 2 test\n",
      "✅ Catharus_guttatus: 7 train, 1 val, 2 test\n",
      "✅ Catharus_minimus: 7 train, 1 val, 2 test\n",
      "✅ Catharus_ustulatus: 7 train, 1 val, 2 test\n",
      "✅ Catherpes_mexicanus: 7 train, 1 val, 2 test\n",
      "✅ Cedar_Waxwing: 7 train, 1 val, 2 test\n",
      "✅ Cerulean_Warbler: 7 train, 1 val, 2 test\n",
      "✅ Ceryle_rudis: 7 train, 1 val, 2 test\n",
      "✅ Chestnut_sided_Warbler: 3 train, 0 val, 2 test\n",
      "✅ Chipping_Sparrow: 7 train, 1 val, 2 test\n",
      "✅ Chloris_ambigua: 7 train, 1 val, 2 test\n",
      "✅ Chloris_chloris: 7 train, 1 val, 2 test\n",
      "✅ Chuck_will_Widow: 5 train, 1 val, 2 test\n",
      "✅ Circus_cyaneus: 7 train, 1 val, 2 test\n",
      "✅ Cistothorus_palustris: 7 train, 1 val, 2 test\n",
      "✅ Clark_Nutcracker: 3 train, 0 val, 2 test\n",
      "✅ Clay_colored_Sparrow: 3 train, 0 val, 2 test\n",
      "✅ Cliff_Swallow: 7 train, 1 val, 2 test\n",
      "✅ Coccothraustes_coccothraustes: 7 train, 1 val, 2 test\n",
      "✅ Colaptes_auratus: 7 train, 1 val, 2 test\n",
      "✅ Colinus_virginianus: 7 train, 1 val, 2 test\n",
      "✅ Columba_livia: 7 train, 1 val, 2 test\n",
      "✅ Common_Raven: 3 train, 0 val, 2 test\n",
      "✅ Common_Tern: 7 train, 1 val, 2 test\n",
      "✅ Common_Yellowthroat: 7 train, 1 val, 2 test\n",
      "✅ Contopus_virens: 7 train, 1 val, 2 test\n",
      "✅ Coracias_garrulus: 7 train, 1 val, 2 test\n",
      "✅ Corvus_brachyrhynchos: 7 train, 1 val, 2 test\n",
      "✅ Corvus_corax: 7 train, 1 val, 2 test\n",
      "✅ Crested_Auklet: 2 train, 0 val, 2 test\n",
      "✅ Cuculus_canorus: 7 train, 1 val, 2 test\n",
      "✅ Cyanocitta_cristata: 7 train, 1 val, 2 test\n",
      "✅ Cyanoloxia_cyanoides: 7 train, 1 val, 2 test\n",
      "✅ Cygnus_olor: 7 train, 1 val, 2 test\n",
      "✅ Dark_eyed_Junco: 4 train, 1 val, 2 test\n",
      "✅ Dolichonyx_oryzivorus: 7 train, 1 val, 2 test\n",
      "✅ Downy_Woodpecker: 7 train, 1 val, 2 test\n",
      "✅ Dromaius_novaehollandiae: 7 train, 1 val, 2 test\n",
      "✅ Dryocopus_pileatus: 7 train, 1 val, 2 test\n",
      "✅ Dumetella_carolinensis: 7 train, 1 val, 2 test\n",
      "✅ Eared_Grebe: 7 train, 1 val, 2 test\n",
      "✅ Eastern_Towhee: 7 train, 1 val, 2 test\n",
      "✅ Egretta_thula: 7 train, 1 val, 2 test\n",
      "✅ Elaenia_flavogaster: 7 train, 1 val, 2 test\n",
      "✅ Elegant_Tern: 7 train, 1 val, 2 test\n",
      "✅ Empidonax_minimus: 7 train, 1 val, 2 test\n",
      "✅ Euphagus_cyanocephalus: 7 train, 1 val, 2 test\n",
      "✅ European_Goldfinch: 7 train, 1 val, 2 test\n",
      "✅ Evening_Grosbeak: 7 train, 1 val, 2 test\n",
      "✅ Falco_peregrinus: 7 train, 1 val, 2 test\n",
      "✅ Falco_rusticolus: 7 train, 1 val, 2 test\n",
      "✅ Falco_sparverius: 7 train, 1 val, 2 test\n",
      "✅ Field_Sparrow: 7 train, 1 val, 2 test\n",
      "✅ Fish_Crow: 7 train, 1 val, 2 test\n",
      "✅ Florida_Jay: 7 train, 1 val, 2 test\n",
      "✅ Forsters_Tern: 3 train, 0 val, 2 test\n",
      "✅ Fox_Sparrow: 7 train, 1 val, 2 test\n",
      "✅ Fratercula_arctica: 7 train, 1 val, 2 test\n",
      "✅ Frigatebird: 7 train, 1 val, 2 test\n",
      "✅ Fringilla_coelebs: 7 train, 1 val, 2 test\n",
      "✅ Fringilla_montifringilla: 7 train, 1 val, 2 test\n",
      "✅ Gadwall: 7 train, 1 val, 2 test\n",
      "✅ Gallus_gallus: 7 train, 1 val, 2 test\n",
      "✅ Geococcyx: 7 train, 1 val, 2 test\n",
      "✅ Geococcyx_californianus: 7 train, 1 val, 2 test\n",
      "✅ Geopelia_cuneata: 7 train, 1 val, 2 test\n",
      "✅ Geothlypis_trichas: 7 train, 1 val, 2 test\n",
      "⚠️ No valid files in Glaucidium_gnome, skipping.\n",
      "✅ Glaucous_winged_Gull: 7 train, 1 val, 2 test\n",
      "✅ Golden_winged_Warbler: 3 train, 0 val, 2 test\n",
      "✅ Grasshopper_Sparrow: 7 train, 1 val, 2 test\n",
      "✅ Gray_Catbird: 7 train, 1 val, 2 test\n",
      "✅ Gray_crowned_Rosy_Finch: 7 train, 1 val, 2 test\n",
      "✅ Gray_Kingbird: 4 train, 1 val, 2 test\n",
      "✅ Great_Crested_Flycatcher: 7 train, 1 val, 2 test\n",
      "✅ Great_Grey_Shrike: 7 train, 1 val, 2 test\n",
      "✅ Green_Jay: 7 train, 1 val, 2 test\n",
      "✅ Green_Kingfisher: 7 train, 1 val, 2 test\n",
      "✅ Green_tailed_Towhee: 3 train, 0 val, 2 test\n",
      "✅ Green_Violetear: 7 train, 1 val, 2 test\n",
      "⚠️ No valid files in Groove_billed_Ani, skipping.\n",
      "✅ Haemorhous_mexicanus: 7 train, 1 val, 2 test\n",
      "✅ Haemorhous_purpureus: 7 train, 1 val, 2 test\n",
      "✅ Halcyon_smyrnensis: 7 train, 1 val, 2 test\n",
      "✅ Haliaeetus_leucocephalus: 7 train, 1 val, 2 test\n",
      "✅ Harris_Sparrow: 3 train, 0 val, 2 test\n",
      "✅ Heermann_Gull: 7 train, 1 val, 2 test\n",
      "✅ Helmitheros_vermivorum: 7 train, 1 val, 2 test\n",
      "✅ Henslow_Sparrow: 3 train, 0 val, 2 test\n",
      "✅ Herring_Gull: 7 train, 1 val, 2 test\n",
      "✅ Hooded_Merganser: 7 train, 1 val, 2 test\n",
      "✅ Hooded_Oriole: 7 train, 1 val, 2 test\n",
      "✅ Hooded_Warbler: 7 train, 1 val, 2 test\n",
      "✅ Horned_Grebe: 7 train, 1 val, 2 test\n",
      "✅ Horned_Lark: 7 train, 1 val, 2 test\n",
      "✅ Horned_Puffin: 0 train, 0 val, 1 test\n",
      "✅ House_Sparrow: 7 train, 1 val, 2 test\n",
      "✅ House_Wren: 7 train, 1 val, 2 test\n",
      "✅ Icteria_virens: 7 train, 1 val, 2 test\n",
      "✅ Icterus_cucullatus: 7 train, 1 val, 2 test\n",
      "✅ Icterus_galbula: 7 train, 1 val, 2 test\n",
      "✅ Icterus_parisorum: 7 train, 1 val, 2 test\n",
      "✅ Indigo_Bunting: 7 train, 1 val, 2 test\n",
      "✅ Ivory_Gull: 6 train, 1 val, 2 test\n",
      "⚠️ No valid files in Ixoreus_naevii, skipping.\n",
      "✅ Junco_hyemalis: 7 train, 1 val, 2 test\n",
      "✅ Kentucky_Warbler: 7 train, 1 val, 2 test\n",
      "✅ Lanius_excubitor: 7 train, 1 val, 2 test\n",
      "✅ Laysan_Albatross: 7 train, 1 val, 2 test\n",
      "✅ Lazuli_Bunting: 7 train, 1 val, 2 test\n",
      "✅ Least_Auklet: 7 train, 1 val, 2 test\n",
      "✅ Least_Flycatcher: 7 train, 1 val, 2 test\n",
      "✅ Least_Tern: 7 train, 1 val, 2 test\n",
      "⚠️ No valid files in Le_Conte_Sparrow, skipping.\n",
      "✅ Lincoln_Sparrow: 3 train, 0 val, 2 test\n",
      "✅ Loggerhead_Shrike: 7 train, 1 val, 2 test\n",
      "✅ Long_tailed_Jaeger: 7 train, 1 val, 2 test\n",
      "✅ Louisiana_Waterthrush: 7 train, 1 val, 2 test\n",
      "✅ Loxia_curvirostra: 7 train, 1 val, 2 test\n",
      "✅ Magnolia_Warbler: 7 train, 1 val, 2 test\n",
      "✅ Mallard: 7 train, 1 val, 2 test\n",
      "✅ Mangrove_Cuckoo: 7 train, 1 val, 2 test\n",
      "✅ Marsh_Wren: 7 train, 1 val, 2 test\n",
      "✅ Megaceryle_alcyon: 7 train, 1 val, 2 test\n",
      "✅ Meleagris_gallopavo: 7 train, 1 val, 2 test\n",
      "✅ Melopsittacus_undulatus: 7 train, 1 val, 2 test\n",
      "✅ Melospiza_georgiana: 7 train, 1 val, 2 test\n",
      "✅ Melospiza_melodia: 7 train, 1 val, 2 test\n",
      "✅ Merops_apiaster: 7 train, 1 val, 2 test\n",
      "✅ Mimus_polyglottos: 7 train, 1 val, 2 test\n",
      "✅ Mniotilta_varia: 7 train, 1 val, 2 test\n",
      "✅ Mockingbird: 7 train, 1 val, 2 test\n",
      "✅ Molothrus_ater: 7 train, 1 val, 2 test\n",
      "✅ Motacilla_alba: 7 train, 1 val, 2 test\n",
      "✅ Motacilla_cinerea: 7 train, 1 val, 2 test\n",
      "✅ Motacilla_flava: 7 train, 1 val, 2 test\n",
      "✅ Mourning_Warbler: 7 train, 1 val, 2 test\n",
      "✅ Mycteria_americana: 7 train, 1 val, 2 test\n",
      "✅ Myiarchus_crinitus: 7 train, 1 val, 2 test\n",
      "✅ Myrtle_Warbler: 7 train, 1 val, 2 test\n",
      "✅ Nashville_Warbler: 7 train, 1 val, 2 test\n",
      "✅ Nelson_Sharp_tailed_Sparrow: 3 train, 0 val, 2 test\n",
      "✅ Nighthawk: 7 train, 1 val, 2 test\n",
      "✅ Northern_Flicker: 7 train, 1 val, 2 test\n",
      "✅ Northern_Fulmar: 7 train, 1 val, 2 test\n",
      "✅ Northern_Waterthrush: 7 train, 1 val, 2 test\n",
      "✅ Nucifraga_columbiana: 7 train, 1 val, 2 test\n",
      "✅ Numida_meleagris: 7 train, 1 val, 2 test\n",
      "✅ Nycticorax_nycticorax: 7 train, 1 val, 2 test\n",
      "✅ Olive_sided_Flycatcher: 6 train, 1 val, 2 test\n",
      "✅ Orange_crowned_Warbler: 3 train, 0 val, 2 test\n",
      "✅ Orchard_Oriole: 7 train, 1 val, 2 test\n",
      "✅ Oreoscoptes_montanus: 7 train, 1 val, 2 test\n",
      "✅ Ovenbird: 7 train, 1 val, 2 test\n",
      "✅ Pacific_Loon: 7 train, 1 val, 2 test\n",
      "✅ Painted_Bunting: 7 train, 1 val, 2 test\n",
      "✅ Palm_Warbler: 7 train, 1 val, 2 test\n",
      "✅ Pandion_haliaetus: 7 train, 1 val, 2 test\n",
      "✅ Parakeet_Auklet: 4 train, 0 val, 2 test\n",
      "✅ Parkesia_motacilla: 7 train, 1 val, 2 test\n",
      "✅ Parkesia_noveboracensis: 7 train, 1 val, 2 test\n",
      "✅ Passerculus_sandwichensis: 7 train, 1 val, 2 test\n",
      "✅ Passerina_amoena: 7 train, 1 val, 2 test\n",
      "✅ Passerina_ciris: 7 train, 1 val, 2 test\n",
      "✅ Passerina_cyanea: 7 train, 1 val, 2 test\n",
      "✅ Passer_domesticus: 7 train, 1 val, 2 test\n",
      "✅ Passer_montanus: 7 train, 1 val, 2 test\n",
      "✅ Patagioenas_fasciata: 7 train, 1 val, 2 test\n",
      "✅ Pelagic_Cormorant: 4 train, 0 val, 2 test\n",
      "✅ Perisoreus_canadensis: 7 train, 1 val, 2 test\n",
      "✅ Phasianus_colchicus: 7 train, 1 val, 2 test\n",
      "✅ Pheucticus_ludovicianus: 7 train, 1 val, 2 test\n",
      "✅ Pheucticus_melanocephalus: 7 train, 1 val, 2 test\n",
      "✅ Philadelphia_Vireo: 7 train, 1 val, 2 test\n",
      "✅ Phoebastria_immutabilis: 7 train, 1 val, 2 test\n",
      "✅ Phoebastria_nigripes: 7 train, 1 val, 2 test\n",
      "✅ Pica_pica: 7 train, 1 val, 2 test\n",
      "✅ Picus_viridis: 7 train, 1 val, 2 test\n",
      "✅ Pied_billed_Grebe: 7 train, 1 val, 2 test\n",
      "✅ Pied_Kingfisher: 7 train, 1 val, 2 test\n",
      "✅ Pigeon_Guillemot: 7 train, 1 val, 2 test\n",
      "✅ Pileated_Woodpecker: 7 train, 1 val, 2 test\n",
      "✅ Pine_Grosbeak: 7 train, 1 val, 2 test\n",
      "✅ Pine_Warbler: 7 train, 1 val, 2 test\n",
      "✅ Pipilo_erythrophthalmus: 7 train, 1 val, 2 test\n",
      "✅ Pipilo_maculatus: 7 train, 1 val, 2 test\n",
      "✅ Piranga_ludoviciana: 7 train, 1 val, 2 test\n",
      "✅ Piranga_olivacea: 7 train, 1 val, 2 test\n",
      "✅ Piranga_rubra: 7 train, 1 val, 2 test\n",
      "✅ Pitangus_sulphuratus: 7 train, 1 val, 2 test\n",
      "✅ Platalea_ajaja: 7 train, 1 val, 2 test\n",
      "✅ Podiceps_cristatus: 7 train, 1 val, 2 test\n",
      "✅ Poecile_atricapillus: 7 train, 1 val, 2 test\n",
      "✅ Poecile_gambeli: 7 train, 1 val, 2 test\n",
      "✅ Polioptila_caerulea: 7 train, 1 val, 2 test\n",
      "✅ Pomarine_Jaeger: 6 train, 1 val, 2 test\n",
      "✅ Pooecetes_gramineus: 7 train, 1 val, 2 test\n",
      "✅ Prairie_Warbler: 7 train, 1 val, 2 test\n",
      "✅ Prothonotary_Warbler: 7 train, 1 val, 2 test\n",
      "✅ Psittacus_erithacus: 7 train, 1 val, 2 test\n",
      "✅ Puffinus_puffinus: 7 train, 1 val, 2 test\n",
      "✅ Purple_Finch: 7 train, 1 val, 2 test\n",
      "✅ Pyrrhula_pyrrhula: 7 train, 1 val, 2 test\n",
      "✅ Quiscalus_quiscula: 7 train, 1 val, 2 test\n",
      "✅ Ramphastos_toco: 7 train, 1 val, 2 test\n",
      "✅ Red_bellied_Woodpecker: 3 train, 0 val, 2 test\n",
      "✅ Red_breasted_Merganser: 3 train, 0 val, 2 test\n",
      "✅ Red_cockaded_Woodpecker: 3 train, 0 val, 2 test\n",
      "✅ Red_eyed_Vireo: 2 train, 0 val, 2 test\n",
      "✅ Red_faced_Cormorant: 3 train, 0 val, 2 test\n",
      "✅ Red_headed_Woodpecker: 3 train, 0 val, 2 test\n",
      "✅ Red_legged_Kittiwake: 2 train, 0 val, 2 test\n",
      "✅ Red_winged_Blackbird: 7 train, 1 val, 2 test\n",
      "⚠️ No valid files in Regulus_calendula, skipping.\n",
      "✅ Regulus_satrapa: 7 train, 1 val, 2 test\n",
      "✅ Rhinoceros_Auklet: 0 train, 0 val, 1 test\n",
      "✅ Ringed_Kingfisher: 7 train, 1 val, 2 test\n",
      "✅ Ring_billed_Gull: 6 train, 1 val, 2 test\n",
      "✅ Rock_Wren: 7 train, 1 val, 2 test\n",
      "✅ Rose_breasted_Grosbeak: 7 train, 1 val, 3 test\n",
      "✅ Ruby_throated_Hummingbird: 7 train, 1 val, 2 test\n",
      "✅ Rufous_Hummingbird: 7 train, 1 val, 2 test\n",
      "✅ Rusty_Blackbird: 7 train, 1 val, 2 test\n",
      "✅ Sage_Thrasher: 7 train, 1 val, 2 test\n",
      "✅ Savannah_Sparrow: 7 train, 1 val, 2 test\n",
      "✅ Sayornis: 7 train, 1 val, 2 test\n",
      "✅ Sayornis_phoebe: 7 train, 1 val, 2 test\n",
      "✅ Scarlet_Tanager: 7 train, 1 val, 2 test\n",
      "✅ Scissor_tailed_Flycatcher: 7 train, 1 val, 2 test\n",
      "✅ Scott_Oriole: 4 train, 0 val, 2 test\n",
      "✅ Seaside_Sparrow: 7 train, 1 val, 2 test\n",
      "✅ Seiurus_aurocapilla: 7 train, 1 val, 2 test\n",
      "✅ Setophaga_americana: 7 train, 1 val, 2 test\n",
      "✅ Setophaga_castanea: 7 train, 1 val, 2 test\n",
      "✅ Setophaga_coronata: 7 train, 1 val, 2 test\n",
      "✅ Setophaga_fusca: 7 train, 1 val, 2 test\n",
      "✅ Setophaga_magnolia: 7 train, 1 val, 2 test\n",
      "⚠️ No valid files in Setophaga_palmae, skipping.\n",
      "✅ Setophaga_pensylvanica: 7 train, 1 val, 2 test\n",
      "✅ Setophaga_petechia: 7 train, 1 val, 2 test\n",
      "✅ Setophaga_ruticilla: 7 train, 1 val, 2 test\n",
      "✅ Setophaga_tigrina: 7 train, 1 val, 2 test\n",
      "✅ Shiny_Cowbird: 7 train, 1 val, 2 test\n",
      "✅ Sialia_currucoides: 7 train, 1 val, 2 test\n",
      "✅ Sialia_mexicana: 7 train, 1 val, 2 test\n",
      "✅ Sialia_sialis: 7 train, 1 val, 2 test\n",
      "✅ Sitta_carolinensis: 7 train, 1 val, 2 test\n",
      "✅ Sitta_europaea: 7 train, 1 val, 2 test\n",
      "✅ Sitta_pygmaea: 7 train, 1 val, 2 test\n",
      "✅ Slaty_backed_Gull: 7 train, 1 val, 2 test\n",
      "✅ Song_Sparrow: 7 train, 1 val, 2 test\n",
      "✅ Sooty_Albatross: 7 train, 1 val, 2 test\n",
      "✅ Spatula_clypeata: 7 train, 1 val, 2 test\n",
      "✅ Sphyrapicus_varius: 7 train, 1 val, 2 test\n",
      "✅ Spinus_pinus: 7 train, 1 val, 2 test\n",
      "✅ Spinus_spinus: 7 train, 1 val, 2 test\n",
      "✅ Spinus_tristis: 7 train, 1 val, 2 test\n",
      "⚠️ No valid files in Spizella_arborea, skipping.\n",
      "✅ Spizella_passerina: 7 train, 1 val, 2 test\n",
      "✅ Spotted_Catbird: 7 train, 1 val, 2 test\n",
      "✅ Strix_varia: 7 train, 1 val, 2 test\n",
      "✅ Struthio_camelus: 7 train, 1 val, 2 test\n",
      "✅ Sturnus_vulgaris: 7 train, 1 val, 2 test\n",
      "✅ Summer_Tanager: 7 train, 1 val, 2 test\n",
      "✅ Swainson_Warbler: 3 train, 0 val, 2 test\n",
      "✅ Tachybaptus_ruficollis: 7 train, 1 val, 2 test\n",
      "✅ Tennessee_Warbler: 7 train, 1 val, 2 test\n",
      "✅ Thalassarche_melanophris: 7 train, 1 val, 2 test\n",
      "✅ Tichodroma_muraria: 7 train, 1 val, 2 test\n",
      "✅ Toxostoma_rufum: 7 train, 1 val, 2 test\n",
      "✅ Tree_Sparrow: 7 train, 1 val, 2 test\n",
      "✅ Tree_Swallow: 7 train, 1 val, 2 test\n",
      "✅ Troglodytes_aedon: 7 train, 1 val, 2 test\n",
      "✅ Trogon_collaris: 7 train, 1 val, 2 test\n",
      "✅ Tropical_Kingbird: 7 train, 1 val, 2 test\n",
      "✅ Turdus_merula: 7 train, 1 val, 2 test\n",
      "✅ Turdus_migratorius: 7 train, 1 val, 2 test\n",
      "✅ Tyrannus_tyrannus: 7 train, 1 val, 2 test\n",
      "✅ Tyto_alba: 7 train, 1 val, 2 test\n",
      "✅ Upupa_epops: 7 train, 1 val, 2 test\n",
      "✅ Vermilion_Flycatcher: 7 train, 1 val, 2 test\n",
      "✅ Vermivora_chrysoptera: 7 train, 1 val, 2 test\n",
      "✅ Vermivora_cyanoptera: 7 train, 1 val, 2 test\n",
      "✅ Vesper_Sparrow: 7 train, 1 val, 2 test\n",
      "✅ Warbling_Vireo: 7 train, 1 val, 2 test\n",
      "✅ Western_Grebe: 7 train, 1 val, 2 test\n",
      "✅ Western_Gull: 7 train, 1 val, 2 test\n",
      "✅ Western_Meadowlark: 7 train, 1 val, 2 test\n",
      "✅ Western_Wood_Pewee: 7 train, 1 val, 2 test\n",
      "✅ Whip_poor_Will: 3 train, 0 val, 2 test\n",
      "✅ White_breasted_Kingfisher: 4 train, 0 val, 2 test\n",
      "✅ White_breasted_Nuthatch: 3 train, 0 val, 2 test\n",
      "✅ White_crowned_Sparrow: 3 train, 0 val, 2 test\n",
      "✅ White_eyed_Vireo: 3 train, 0 val, 2 test\n",
      "✅ White_necked_Raven: 3 train, 0 val, 2 test\n",
      "✅ White_Pelican: 7 train, 1 val, 2 test\n",
      "✅ White_throated_Sparrow: 3 train, 0 val, 2 test\n",
      "✅ Wilson_Warbler: 3 train, 0 val, 2 test\n",
      "✅ Winter_Wren: 7 train, 1 val, 2 test\n",
      "✅ Worm_eating_Warbler: 3 train, 0 val, 2 test\n",
      "✅ Yellow_bellied_Flycatcher: 7 train, 1 val, 2 test\n",
      "✅ Yellow_billed_Cuckoo: 7 train, 1 val, 2 test\n",
      "✅ Yellow_breasted_Chat: 7 train, 1 val, 2 test\n",
      "✅ Yellow_headed_Blackbird: 7 train, 1 val, 2 test\n",
      "✅ Yellow_throated_Vireo: 3 train, 0 val, 2 test\n",
      "✅ Yellow_Warbler: 7 train, 1 val, 2 test\n",
      "✅ Zenaida_macroura: 7 train, 1 val, 2 test\n",
      "✅ Zonotrichia_albicollis: 7 train, 1 val, 2 test\n",
      "✅ Zonotrichia_capensis: 7 train, 1 val, 2 test\n",
      "✅ Zonotrichia_leucophrys: 7 train, 1 val, 2 test\n"
     ]
    }
   ],
   "source": [
    "import os\n",
    "import shutil\n",
    "import random\n",
    "from pathlib import Path\n",
    "\n",
    "def split_dataset(\n",
    "    dataset_dir,\n",
    "    output_dir,\n",
    "    train_ratio=0.7,\n",
    "    val_ratio=0.15,\n",
    "    test_ratio=0.15,\n",
    "    seed=42,\n",
    "    valid_exts=(\".jpg\", \".jpeg\", \".png\", \".mp3\", \".wav\")  # allowed file types\n",
    "):\n",
    "    random.seed(seed)\n",
    "    dataset_dir = Path(dataset_dir)\n",
    "    output_dir = Path(output_dir)\n",
    "\n",
    "    # Create output directories\n",
    "    for split in [\"train\", \"val\", \"test\"]:\n",
    "        (output_dir / split).mkdir(parents=True, exist_ok=True)\n",
    "\n",
    "    # Loop over each species/class\n",
    "    for class_folder in os.listdir(dataset_dir):\n",
    "        class_path = dataset_dir / class_folder\n",
    "        if not class_path.is_dir():\n",
    "            continue\n",
    "\n",
    "        # Collect only valid files\n",
    "        files = [\n",
    "            f for f in class_path.glob(\"*\")\n",
    "            if f.is_file() and not f.name.startswith(\".\") and f.suffix.lower() in valid_exts\n",
    "        ]\n",
    "        if not files:\n",
    "            print(f\"⚠️ No valid files in {class_folder}, skipping.\")\n",
    "            continue\n",
    "\n",
    "        random.shuffle(files)\n",
    "\n",
    "        # Compute split sizes\n",
    "        n_total = len(files)\n",
    "        n_train = int(n_total * train_ratio)\n",
    "        n_val = int(n_total * val_ratio)\n",
    "\n",
    "        train_files = files[:n_train]\n",
    "        val_files = files[n_train:n_train+n_val]\n",
    "        test_files = files[n_train+n_val:]\n",
    "\n",
    "        # Copy function\n",
    "        def copy_files(file_list, split):\n",
    "            split_class_dir = output_dir / split / class_folder\n",
    "            split_class_dir.mkdir(parents=True, exist_ok=True)\n",
    "            for f in file_list:\n",
    "                try:\n",
    "                    shutil.copy(f, split_class_dir / f.name)\n",
    "                except Exception as e:\n",
    "                    print(f\"⚠️ Skipping {f}: {e}\")\n",
    "\n",
    "        # Copy to respective folders\n",
    "        copy_files(train_files, \"train\")\n",
    "        copy_files(val_files, \"val\")\n",
    "        copy_files(test_files, \"test\")\n",
    "\n",
    "        print(f\"✅ {class_folder}: {n_train} train, {n_val} val, {len(test_files)} test\")\n",
    "\n",
    "# Example usage:\n",
    "split_dataset(\"bird_dataset_CUB\", \"CUB_split\")\n",
    "split_dataset(\"bird_dataset_INAT\", \"iNat_split\")\n",
    "split_dataset(\"bird_audio\", \"Xeno_split\")"
   ]
  },
  {
   "cell_type": "markdown",
   "id": "0655e691-fee2-45bc-86a7-8950a6f05576",
   "metadata": {
    "jp-MarkdownHeadingCollapsed": true
   },
   "source": [
    "# Training the Models"
   ]
  },
  {
   "cell_type": "markdown",
   "id": "53d23a62-bcba-40cf-a3df-51d3c464a80b",
   "metadata": {
    "jp-MarkdownHeadingCollapsed": true
   },
   "source": [
    "## Train EfficientNet using CUB-2011-200"
   ]
  },
  {
   "cell_type": "code",
   "execution_count": 2,
   "id": "5ee53f17-3f5a-4358-a840-48162474f060",
   "metadata": {
    "scrolled": true
   },
   "outputs": [
    {
     "name": "stdout",
     "output_type": "stream",
     "text": [
      "Collecting torch\n",
      "  Downloading torch-2.8.0-cp39-cp39-win_amd64.whl.metadata (30 kB)\n",
      "Collecting torchvision\n",
      "  Downloading torchvision-0.23.0-cp39-cp39-win_amd64.whl.metadata (6.1 kB)\n",
      "Collecting torchaudio\n",
      "  Downloading torchaudio-2.8.0-cp39-cp39-win_amd64.whl.metadata (7.2 kB)\n",
      "Collecting filelock (from torch)\n",
      "  Downloading filelock-3.19.1-py3-none-any.whl.metadata (2.1 kB)\n",
      "Requirement already satisfied: typing-extensions>=4.10.0 in c:\\users\\jayme\\anaconda3\\envs\\bird-env\\lib\\site-packages (from torch) (4.12.2)\n",
      "Collecting sympy>=1.13.3 (from torch)\n",
      "  Using cached sympy-1.14.0-py3-none-any.whl.metadata (12 kB)\n",
      "Collecting networkx (from torch)\n",
      "  Downloading networkx-3.2.1-py3-none-any.whl.metadata (5.2 kB)\n",
      "Requirement already satisfied: jinja2 in c:\\users\\jayme\\anaconda3\\envs\\bird-env\\lib\\site-packages (from torch) (3.1.6)\n",
      "Collecting fsspec (from torch)\n",
      "  Downloading fsspec-2025.7.0-py3-none-any.whl.metadata (12 kB)\n",
      "Requirement already satisfied: numpy in c:\\users\\jayme\\anaconda3\\envs\\bird-env\\lib\\site-packages (from torchvision) (1.23.5)\n",
      "Requirement already satisfied: pillow!=8.3.*,>=5.3.0 in c:\\users\\jayme\\anaconda3\\envs\\bird-env\\lib\\site-packages (from torchvision) (11.2.1)\n",
      "Collecting mpmath<1.4,>=1.1.0 (from sympy>=1.13.3->torch)\n",
      "  Using cached mpmath-1.3.0-py3-none-any.whl.metadata (8.6 kB)\n",
      "Requirement already satisfied: MarkupSafe>=2.0 in c:\\users\\jayme\\anaconda3\\envs\\bird-env\\lib\\site-packages (from jinja2->torch) (3.0.2)\n",
      "Downloading torch-2.8.0-cp39-cp39-win_amd64.whl (241.2 MB)\n",
      "   ---------------------------------------- 0.0/241.2 MB ? eta -:--:--\n",
      "   - -------------------------------------- 7.9/241.2 MB 37.4 MB/s eta 0:00:07\n",
      "   -- ------------------------------------- 17.0/241.2 MB 41.3 MB/s eta 0:00:06\n",
      "   ---- ----------------------------------- 26.7/241.2 MB 42.4 MB/s eta 0:00:06\n",
      "   ------ --------------------------------- 37.7/241.2 MB 46.2 MB/s eta 0:00:05\n",
      "   -------- ------------------------------- 49.0/241.2 MB 48.0 MB/s eta 0:00:05\n",
      "   --------- ------------------------------ 59.8/241.2 MB 48.2 MB/s eta 0:00:04\n",
      "   ----------- ---------------------------- 69.7/241.2 MB 48.3 MB/s eta 0:00:04\n",
      "   ------------- -------------------------- 80.7/241.2 MB 49.1 MB/s eta 0:00:04\n",
      "   --------------- ------------------------ 92.5/241.2 MB 50.1 MB/s eta 0:00:03\n",
      "   ---------------- ----------------------- 97.5/241.2 MB 50.6 MB/s eta 0:00:03\n",
      "   ---------------- ----------------------- 98.6/241.2 MB 47.3 MB/s eta 0:00:04\n",
      "   ----------------- --------------------- 106.7/241.2 MB 43.1 MB/s eta 0:00:04\n",
      "   ------------------- ------------------- 118.0/241.2 MB 44.1 MB/s eta 0:00:03\n",
      "   -------------------- ------------------ 127.7/241.2 MB 44.3 MB/s eta 0:00:03\n",
      "   ---------------------- ---------------- 139.2/241.2 MB 45.1 MB/s eta 0:00:03\n",
      "   ------------------------ -------------- 150.2/241.2 MB 45.7 MB/s eta 0:00:02\n",
      "   ------------------------- ------------- 160.7/241.2 MB 45.8 MB/s eta 0:00:02\n",
      "   --------------------------- ----------- 171.4/241.2 MB 46.2 MB/s eta 0:00:02\n",
      "   ----------------------------- --------- 179.6/241.2 MB 45.7 MB/s eta 0:00:02\n",
      "   ------------------------------ -------- 188.5/241.2 MB 46.0 MB/s eta 0:00:02\n",
      "   -------------------------------- ------ 199.2/241.2 MB 46.0 MB/s eta 0:00:01\n",
      "   ---------------------------------- ---- 210.8/241.2 MB 46.5 MB/s eta 0:00:01\n",
      "   ----------------------------------- --- 221.0/241.2 MB 46.6 MB/s eta 0:00:01\n",
      "   ------------------------------------- - 232.8/241.2 MB 46.9 MB/s eta 0:00:01\n",
      "   --------------------------------------  240.6/241.2 MB 47.2 MB/s eta 0:00:01\n",
      "   --------------------------------------  241.2/241.2 MB 46.2 MB/s eta 0:00:01\n",
      "   --------------------------------------- 241.2/241.2 MB 43.9 MB/s eta 0:00:00\n",
      "Downloading torchvision-0.23.0-cp39-cp39-win_amd64.whl (1.6 MB)\n",
      "   ---------------------------------------- 0.0/1.6 MB ? eta -:--:--\n",
      "   ---------------------------------------- 1.6/1.6 MB 41.8 MB/s eta 0:00:00\n",
      "Downloading torchaudio-2.8.0-cp39-cp39-win_amd64.whl (2.5 MB)\n",
      "   ---------------------------------------- 0.0/2.5 MB ? eta -:--:--\n",
      "   ---------------------------------------- 2.5/2.5 MB 20.3 MB/s eta 0:00:00\n",
      "Using cached sympy-1.14.0-py3-none-any.whl (6.3 MB)\n",
      "Using cached mpmath-1.3.0-py3-none-any.whl (536 kB)\n",
      "Downloading filelock-3.19.1-py3-none-any.whl (15 kB)\n",
      "Downloading fsspec-2025.7.0-py3-none-any.whl (199 kB)\n",
      "Downloading networkx-3.2.1-py3-none-any.whl (1.6 MB)\n",
      "   ---------------------------------------- 0.0/1.6 MB ? eta -:--:--\n",
      "   ---------------------------------------- 1.6/1.6 MB 22.3 MB/s eta 0:00:00\n",
      "Installing collected packages: mpmath, sympy, networkx, fsspec, filelock, torch, torchvision, torchaudio\n",
      "\n",
      "   ---------------------------------------- 0/8 [mpmath]\n",
      "   ---------------------------------------- 0/8 [mpmath]\n",
      "   ---------------------------------------- 0/8 [mpmath]\n",
      "   ----- ---------------------------------- 1/8 [sympy]\n",
      "   ----- ---------------------------------- 1/8 [sympy]\n",
      "   ----- ---------------------------------- 1/8 [sympy]\n",
      "   ----- ---------------------------------- 1/8 [sympy]\n",
      "   ----- ---------------------------------- 1/8 [sympy]\n",
      "   ----- ---------------------------------- 1/8 [sympy]\n",
      "   ----- ---------------------------------- 1/8 [sympy]\n",
      "   ----- ---------------------------------- 1/8 [sympy]\n",
      "   ----- ---------------------------------- 1/8 [sympy]\n",
      "   ----- ---------------------------------- 1/8 [sympy]\n",
      "   ----- ---------------------------------- 1/8 [sympy]\n",
      "   ----- ---------------------------------- 1/8 [sympy]\n",
      "   ----- ---------------------------------- 1/8 [sympy]\n",
      "   ----- ---------------------------------- 1/8 [sympy]\n",
      "   ----- ---------------------------------- 1/8 [sympy]\n",
      "   ----- ---------------------------------- 1/8 [sympy]\n",
      "   ----- ---------------------------------- 1/8 [sympy]\n",
      "   ----- ---------------------------------- 1/8 [sympy]\n",
      "   ----- ---------------------------------- 1/8 [sympy]\n",
      "   ----- ---------------------------------- 1/8 [sympy]\n",
      "   ----- ---------------------------------- 1/8 [sympy]\n",
      "   ----- ---------------------------------- 1/8 [sympy]\n",
      "   ----- ---------------------------------- 1/8 [sympy]\n",
      "   ----- ---------------------------------- 1/8 [sympy]\n",
      "   ----- ---------------------------------- 1/8 [sympy]\n",
      "   ----- ---------------------------------- 1/8 [sympy]\n",
      "   ----- ---------------------------------- 1/8 [sympy]\n",
      "   ----- ---------------------------------- 1/8 [sympy]\n",
      "   ----- ---------------------------------- 1/8 [sympy]\n",
      "   ----- ---------------------------------- 1/8 [sympy]\n",
      "   ----- ---------------------------------- 1/8 [sympy]\n",
      "   ----- ---------------------------------- 1/8 [sympy]\n",
      "   ----- ---------------------------------- 1/8 [sympy]\n",
      "   ----- ---------------------------------- 1/8 [sympy]\n",
      "   ----- ---------------------------------- 1/8 [sympy]\n",
      "   ----- ---------------------------------- 1/8 [sympy]\n",
      "   ----- ---------------------------------- 1/8 [sympy]\n",
      "   ----- ---------------------------------- 1/8 [sympy]\n",
      "   ----- ---------------------------------- 1/8 [sympy]\n",
      "   ----- ---------------------------------- 1/8 [sympy]\n",
      "   ----- ---------------------------------- 1/8 [sympy]\n",
      "   ----- ---------------------------------- 1/8 [sympy]\n",
      "   ----- ---------------------------------- 1/8 [sympy]\n",
      "   ----- ---------------------------------- 1/8 [sympy]\n",
      "   ----- ---------------------------------- 1/8 [sympy]\n",
      "   ----- ---------------------------------- 1/8 [sympy]\n",
      "   ----- ---------------------------------- 1/8 [sympy]\n",
      "   ----- ---------------------------------- 1/8 [sympy]\n",
      "   ----- ---------------------------------- 1/8 [sympy]\n",
      "   ---------- ----------------------------- 2/8 [networkx]\n",
      "   ---------- ----------------------------- 2/8 [networkx]\n",
      "   ---------- ----------------------------- 2/8 [networkx]\n",
      "   ---------- ----------------------------- 2/8 [networkx]\n",
      "   ---------- ----------------------------- 2/8 [networkx]\n",
      "   ---------- ----------------------------- 2/8 [networkx]\n",
      "   ---------- ----------------------------- 2/8 [networkx]\n",
      "   ---------- ----------------------------- 2/8 [networkx]\n",
      "   ---------- ----------------------------- 2/8 [networkx]\n",
      "   ---------- ----------------------------- 2/8 [networkx]\n",
      "   ---------- ----------------------------- 2/8 [networkx]\n",
      "   ---------- ----------------------------- 2/8 [networkx]\n",
      "   ---------- ----------------------------- 2/8 [networkx]\n",
      "   --------------- ------------------------ 3/8 [fsspec]\n",
      "   --------------- ------------------------ 3/8 [fsspec]\n",
      "   ------------------------- -------------- 5/8 [torch]\n",
      "   ------------------------- -------------- 5/8 [torch]\n",
      "   ------------------------- -------------- 5/8 [torch]\n",
      "   ------------------------- -------------- 5/8 [torch]\n",
      "   ------------------------- -------------- 5/8 [torch]\n",
      "   ------------------------- -------------- 5/8 [torch]\n",
      "   ------------------------- -------------- 5/8 [torch]\n",
      "   ------------------------- -------------- 5/8 [torch]\n",
      "   ------------------------- -------------- 5/8 [torch]\n",
      "   ------------------------- -------------- 5/8 [torch]\n",
      "   ------------------------- -------------- 5/8 [torch]\n",
      "   ------------------------- -------------- 5/8 [torch]\n",
      "   ------------------------- -------------- 5/8 [torch]\n",
      "   ------------------------- -------------- 5/8 [torch]\n",
      "   ------------------------- -------------- 5/8 [torch]\n",
      "   ------------------------- -------------- 5/8 [torch]\n",
      "   ------------------------- -------------- 5/8 [torch]\n",
      "   ------------------------- -------------- 5/8 [torch]\n",
      "   ------------------------- -------------- 5/8 [torch]\n",
      "   ------------------------- -------------- 5/8 [torch]\n",
      "   ------------------------- -------------- 5/8 [torch]\n",
      "   ------------------------- -------------- 5/8 [torch]\n",
      "   ------------------------- -------------- 5/8 [torch]\n",
      "   ------------------------- -------------- 5/8 [torch]\n",
      "   ------------------------- -------------- 5/8 [torch]\n",
      "   ------------------------- -------------- 5/8 [torch]\n",
      "   ------------------------- -------------- 5/8 [torch]\n",
      "   ------------------------- -------------- 5/8 [torch]\n",
      "   ------------------------- -------------- 5/8 [torch]\n",
      "   ------------------------- -------------- 5/8 [torch]\n",
      "   ------------------------- -------------- 5/8 [torch]\n",
      "   ------------------------- -------------- 5/8 [torch]\n",
      "   ------------------------- -------------- 5/8 [torch]\n",
      "   ------------------------- -------------- 5/8 [torch]\n",
      "   ------------------------- -------------- 5/8 [torch]\n",
      "   ------------------------- -------------- 5/8 [torch]\n",
      "   ------------------------- -------------- 5/8 [torch]\n",
      "   ------------------------- -------------- 5/8 [torch]\n",
      "   ------------------------- -------------- 5/8 [torch]\n",
      "   ------------------------- -------------- 5/8 [torch]\n",
      "   ------------------------- -------------- 5/8 [torch]\n",
      "   ------------------------- -------------- 5/8 [torch]\n",
      "   ------------------------- -------------- 5/8 [torch]\n",
      "   ------------------------- -------------- 5/8 [torch]\n",
      "   ------------------------- -------------- 5/8 [torch]\n",
      "   ------------------------- -------------- 5/8 [torch]\n",
      "   ------------------------- -------------- 5/8 [torch]\n",
      "   ------------------------- -------------- 5/8 [torch]\n",
      "   ------------------------- -------------- 5/8 [torch]\n",
      "   ------------------------- -------------- 5/8 [torch]\n",
      "   ------------------------- -------------- 5/8 [torch]\n",
      "   ------------------------- -------------- 5/8 [torch]\n",
      "   ------------------------- -------------- 5/8 [torch]\n",
      "   ------------------------- -------------- 5/8 [torch]\n",
      "   ------------------------- -------------- 5/8 [torch]\n",
      "   ------------------------- -------------- 5/8 [torch]\n",
      "   ------------------------- -------------- 5/8 [torch]\n",
      "   ------------------------- -------------- 5/8 [torch]\n",
      "   ------------------------- -------------- 5/8 [torch]\n",
      "   ------------------------- -------------- 5/8 [torch]\n",
      "   ------------------------- -------------- 5/8 [torch]\n",
      "   ------------------------- -------------- 5/8 [torch]\n",
      "   ------------------------- -------------- 5/8 [torch]\n",
      "   ------------------------- -------------- 5/8 [torch]\n",
      "   ------------------------- -------------- 5/8 [torch]\n",
      "   ------------------------- -------------- 5/8 [torch]\n",
      "   ------------------------- -------------- 5/8 [torch]\n",
      "   ------------------------- -------------- 5/8 [torch]\n",
      "   ------------------------- -------------- 5/8 [torch]\n",
      "   ------------------------- -------------- 5/8 [torch]\n",
      "   ------------------------- -------------- 5/8 [torch]\n",
      "   ------------------------- -------------- 5/8 [torch]\n",
      "   ------------------------- -------------- 5/8 [torch]\n",
      "   ------------------------- -------------- 5/8 [torch]\n",
      "   ------------------------- -------------- 5/8 [torch]\n",
      "   ------------------------- -------------- 5/8 [torch]\n",
      "   ------------------------- -------------- 5/8 [torch]\n",
      "   ------------------------- -------------- 5/8 [torch]\n",
      "   ------------------------- -------------- 5/8 [torch]\n",
      "   ------------------------- -------------- 5/8 [torch]\n",
      "   ------------------------- -------------- 5/8 [torch]\n",
      "   ------------------------- -------------- 5/8 [torch]\n",
      "   ------------------------- -------------- 5/8 [torch]\n",
      "   ------------------------- -------------- 5/8 [torch]\n",
      "   ------------------------- -------------- 5/8 [torch]\n",
      "   ------------------------- -------------- 5/8 [torch]\n",
      "   ------------------------- -------------- 5/8 [torch]\n",
      "   ------------------------- -------------- 5/8 [torch]\n",
      "   ------------------------- -------------- 5/8 [torch]\n",
      "   ------------------------- -------------- 5/8 [torch]\n",
      "   ------------------------- -------------- 5/8 [torch]\n",
      "   ------------------------- -------------- 5/8 [torch]\n",
      "   ------------------------- -------------- 5/8 [torch]\n",
      "   ------------------------- -------------- 5/8 [torch]\n",
      "   ------------------------- -------------- 5/8 [torch]\n",
      "   ------------------------- -------------- 5/8 [torch]\n",
      "   ------------------------- -------------- 5/8 [torch]\n",
      "   ------------------------- -------------- 5/8 [torch]\n",
      "   ------------------------- -------------- 5/8 [torch]\n",
      "   ------------------------- -------------- 5/8 [torch]\n",
      "   ------------------------- -------------- 5/8 [torch]\n",
      "   ------------------------- -------------- 5/8 [torch]\n",
      "   ------------------------- -------------- 5/8 [torch]\n",
      "   ------------------------- -------------- 5/8 [torch]\n",
      "   ------------------------- -------------- 5/8 [torch]\n",
      "   ------------------------- -------------- 5/8 [torch]\n",
      "   ------------------------- -------------- 5/8 [torch]\n",
      "   ------------------------- -------------- 5/8 [torch]\n",
      "   ------------------------- -------------- 5/8 [torch]\n",
      "   ------------------------- -------------- 5/8 [torch]\n",
      "   ------------------------- -------------- 5/8 [torch]\n",
      "   ------------------------- -------------- 5/8 [torch]\n",
      "   ------------------------- -------------- 5/8 [torch]\n",
      "   ------------------------- -------------- 5/8 [torch]\n",
      "   ------------------------- -------------- 5/8 [torch]\n",
      "   ------------------------- -------------- 5/8 [torch]\n",
      "   ------------------------- -------------- 5/8 [torch]\n",
      "   ------------------------- -------------- 5/8 [torch]\n",
      "   ------------------------- -------------- 5/8 [torch]\n",
      "   ------------------------- -------------- 5/8 [torch]\n",
      "   ------------------------- -------------- 5/8 [torch]\n",
      "   ------------------------------ --------- 6/8 [torchvision]\n",
      "   ------------------------------ --------- 6/8 [torchvision]\n",
      "   ------------------------------ --------- 6/8 [torchvision]\n",
      "   ------------------------------ --------- 6/8 [torchvision]\n",
      "   ------------------------------ --------- 6/8 [torchvision]\n",
      "   ----------------------------------- ---- 7/8 [torchaudio]\n",
      "   ----------------------------------- ---- 7/8 [torchaudio]\n",
      "   ----------------------------------- ---- 7/8 [torchaudio]\n",
      "   ---------------------------------------- 8/8 [torchaudio]\n",
      "\n",
      "Successfully installed filelock-3.19.1 fsspec-2025.7.0 mpmath-1.3.0 networkx-3.2.1 sympy-1.14.0 torch-2.8.0 torchaudio-2.8.0 torchvision-0.23.0\n",
      "Note: you may need to restart the kernel to use updated packages.\n"
     ]
    }
   ],
   "source": [
    "pip install torch torchvision torchaudio"
   ]
  },
  {
   "cell_type": "code",
   "execution_count": 1,
   "id": "fff062d8-1d8a-49fa-a972-fdcf2c32a92c",
   "metadata": {},
   "outputs": [
    {
     "name": "stderr",
     "output_type": "stream",
     "text": [
      "C:\\Users\\jayme\\anaconda3\\envs\\bird-env\\lib\\site-packages\\torchvision\\models\\_utils.py:208: UserWarning: The parameter 'pretrained' is deprecated since 0.13 and may be removed in the future, please use 'weights' instead.\n",
      "  warnings.warn(\n",
      "C:\\Users\\jayme\\anaconda3\\envs\\bird-env\\lib\\site-packages\\torchvision\\models\\_utils.py:223: UserWarning: Arguments other than a weight enum or `None` for 'weights' are deprecated since 0.13 and may be removed in the future. The current behavior is equivalent to passing `weights=EfficientNet_B0_Weights.IMAGENET1K_V1`. You can also use `weights=EfficientNet_B0_Weights.DEFAULT` to get the most up-to-date weights.\n",
      "  warnings.warn(msg)\n"
     ]
    },
    {
     "name": "stdout",
     "output_type": "stream",
     "text": [
      "Epoch [1/10] Train Loss: 3.2120, Train Acc: 0.2820 Val Loss: 1.8343, Val Acc: 0.5139\n",
      "Epoch [2/10] Train Loss: 1.4894, Train Acc: 0.6022 Val Loss: 1.5257, Val Acc: 0.5885\n",
      "Epoch [3/10] Train Loss: 1.0106, Train Acc: 0.7139 Val Loss: 1.4044, Val Acc: 0.6221\n",
      "Epoch [4/10] Train Loss: 0.7325, Train Acc: 0.7930 Val Loss: 1.4411, Val Acc: 0.6308\n",
      "Epoch [5/10] Train Loss: 0.5315, Train Acc: 0.8514 Val Loss: 1.4533, Val Acc: 0.6262\n",
      "Epoch [6/10] Train Loss: 0.4133, Train Acc: 0.8858 Val Loss: 1.5347, Val Acc: 0.6262\n",
      "Epoch [7/10] Train Loss: 0.3376, Train Acc: 0.9075 Val Loss: 1.5178, Val Acc: 0.6377\n",
      "Epoch [8/10] Train Loss: 0.2672, Train Acc: 0.9264 Val Loss: 1.5349, Val Acc: 0.6285\n",
      "Epoch [9/10] Train Loss: 0.2394, Train Acc: 0.9313 Val Loss: 1.5861, Val Acc: 0.6372\n",
      "Epoch [10/10] Train Loss: 0.1990, Train Acc: 0.9457 Val Loss: 1.5775, Val Acc: 0.6458\n",
      "✅ Training finished and model saved!\n"
     ]
    }
   ],
   "source": [
    "import torch\n",
    "import torch.nn as nn\n",
    "import torch.optim as optim\n",
    "from torchvision import datasets, transforms, models\n",
    "from torch.utils.data import DataLoader\n",
    "import os\n",
    "\n",
    "# =========================\n",
    "# CONFIG\n",
    "# =========================\n",
    "DATA_DIR = \"CUB_split\"   # your split dataset folder\n",
    "BATCH_SIZE = 32\n",
    "EPOCHS = 10\n",
    "LR = 1e-3\n",
    "NUM_CLASSES = 200   # change this depending on your dataset\n",
    "\n",
    "DEVICE = torch.device(\"cuda\" if torch.cuda.is_available() else \"cpu\")\n",
    "\n",
    "# =========================\n",
    "# DATA\n",
    "# =========================\n",
    "transform = {\n",
    "    \"train\": transforms.Compose([\n",
    "        transforms.Resize((224, 224)),\n",
    "        transforms.RandomHorizontalFlip(),\n",
    "        transforms.ToTensor(),\n",
    "        transforms.Normalize([0.485, 0.456, 0.406],\n",
    "                             [0.229, 0.224, 0.225]),\n",
    "    ]),\n",
    "    \"val\": transforms.Compose([\n",
    "        transforms.Resize((224, 224)),\n",
    "        transforms.ToTensor(),\n",
    "        transforms.Normalize([0.485, 0.456, 0.406],\n",
    "                             [0.229, 0.224, 0.225]),\n",
    "    ])\n",
    "}\n",
    "\n",
    "train_data = datasets.ImageFolder(os.path.join(DATA_DIR, \"train\"), transform[\"train\"])\n",
    "val_data = datasets.ImageFolder(os.path.join(DATA_DIR, \"val\"), transform[\"val\"])\n",
    "\n",
    "train_loader = DataLoader(train_data, batch_size=BATCH_SIZE, shuffle=True)\n",
    "val_loader = DataLoader(val_data, batch_size=BATCH_SIZE, shuffle=False)\n",
    "\n",
    "# =========================\n",
    "# MODEL\n",
    "# =========================\n",
    "model = models.efficientnet_b0(pretrained=True)\n",
    "\n",
    "# Freeze 80% of layers\n",
    "num_layers = len(list(model.features.children()))\n",
    "freeze_until = int(num_layers * 0.8)\n",
    "\n",
    "for i, child in enumerate(model.features.children()):\n",
    "    if i < freeze_until:\n",
    "        for param in child.parameters():\n",
    "            param.requires_grad = False\n",
    "\n",
    "# Replace classifier\n",
    "model.classifier[1] = nn.Linear(model.classifier[1].in_features, NUM_CLASSES)\n",
    "model = model.to(DEVICE)\n",
    "\n",
    "# Optimizer and Loss\n",
    "trainable_params = [p for p in model.parameters() if p.requires_grad]\n",
    "optimizer = optim.Adam(trainable_params, lr=LR)\n",
    "criterion = nn.CrossEntropyLoss()\n",
    "\n",
    "# =========================\n",
    "# TRAINING LOOP\n",
    "# =========================\n",
    "def train_model(model, train_loader, val_loader, criterion, optimizer, epochs=EPOCHS):\n",
    "    for epoch in range(epochs):\n",
    "        # ---- Train ----\n",
    "        model.train()\n",
    "        running_loss, correct, total = 0, 0, 0\n",
    "        for inputs, labels in train_loader:\n",
    "            inputs, labels = inputs.to(DEVICE), labels.to(DEVICE)\n",
    "\n",
    "            optimizer.zero_grad()\n",
    "            outputs = model(inputs)\n",
    "            loss = criterion(outputs, labels)\n",
    "            loss.backward()\n",
    "            optimizer.step()\n",
    "\n",
    "            running_loss += loss.item() * inputs.size(0)\n",
    "            _, preds = outputs.max(1)\n",
    "            correct += preds.eq(labels).sum().item()\n",
    "            total += labels.size(0)\n",
    "\n",
    "        train_loss = running_loss / len(train_loader.dataset)\n",
    "        train_acc = correct / total\n",
    "\n",
    "        # ---- Validation ----\n",
    "        model.eval()\n",
    "        val_loss, val_correct, val_total = 0, 0, 0\n",
    "        with torch.no_grad():\n",
    "            for inputs, labels in val_loader:\n",
    "                inputs, labels = inputs.to(DEVICE), labels.to(DEVICE)\n",
    "                outputs = model(inputs)\n",
    "                loss = criterion(outputs, labels)\n",
    "\n",
    "                val_loss += loss.item() * inputs.size(0)\n",
    "                _, preds = outputs.max(1)\n",
    "                val_correct += preds.eq(labels).sum().item()\n",
    "                val_total += labels.size(0)\n",
    "\n",
    "        val_loss /= len(val_loader.dataset)\n",
    "        val_acc = val_correct / val_total\n",
    "\n",
    "        print(f\"Epoch [{epoch+1}/{epochs}] \"\n",
    "              f\"Train Loss: {train_loss:.4f}, Train Acc: {train_acc:.4f} \"\n",
    "              f\"Val Loss: {val_loss:.4f}, Val Acc: {val_acc:.4f}\")\n",
    "\n",
    "    return model\n",
    "\n",
    "# =========================\n",
    "# RUN TRAINING\n",
    "# =========================\n",
    "trained_model = train_model(model, train_loader, val_loader, criterion, optimizer)\n",
    "torch.save(trained_model.state_dict(), \"efficientnet_birds.pth\")\n",
    "print(\"✅ Training finished and model saved!\")\n"
   ]
  },
  {
   "cell_type": "markdown",
   "id": "8c4f9a34-daab-42b1-a7cc-da720d283fb2",
   "metadata": {
    "jp-MarkdownHeadingCollapsed": true
   },
   "source": [
    "## Train resnet50 using iNat"
   ]
  },
  {
   "cell_type": "code",
   "execution_count": 2,
   "id": "85d41bbe-11ce-4f95-a784-f0023174a7e1",
   "metadata": {
    "scrolled": true
   },
   "outputs": [
    {
     "name": "stdout",
     "output_type": "stream",
     "text": [
      "Downloading: \"https://download.pytorch.org/models/resnet50-11ad3fa6.pth\" to C:\\Users\\jayme/.cache\\torch\\hub\\checkpoints\\resnet50-11ad3fa6.pth\n"
     ]
    },
    {
     "name": "stderr",
     "output_type": "stream",
     "text": [
      "100.0%\n"
     ]
    },
    {
     "name": "stdout",
     "output_type": "stream",
     "text": [
      "\n",
      "Epoch 1/10\n",
      "--------------------\n",
      "train Loss: 4.8192 Acc: 0.1092\n",
      "val Loss: 4.1191 Acc: 0.3011\n",
      "\n",
      "Epoch 2/10\n",
      "--------------------\n",
      "train Loss: 3.2600 Acc: 0.5166\n",
      "val Loss: 3.4789 Acc: 0.3864\n",
      "\n",
      "Epoch 3/10\n",
      "--------------------\n",
      "train Loss: 2.4218 Acc: 0.6924\n",
      "val Loss: 3.1372 Acc: 0.4318\n",
      "\n",
      "Epoch 4/10\n",
      "--------------------\n",
      "train Loss: 1.8589 Acc: 0.7829\n",
      "val Loss: 2.8664 Acc: 0.4583\n",
      "\n",
      "Epoch 5/10\n",
      "--------------------\n",
      "train Loss: 1.4632 Acc: 0.8531\n",
      "val Loss: 2.7334 Acc: 0.4830\n",
      "\n",
      "Epoch 6/10\n",
      "--------------------\n",
      "train Loss: 1.1571 Acc: 0.9067\n",
      "val Loss: 2.6077 Acc: 0.4830\n",
      "\n",
      "Epoch 7/10\n",
      "--------------------\n",
      "train Loss: 0.9489 Acc: 0.9290\n",
      "val Loss: 2.5262 Acc: 0.5095\n",
      "\n",
      "Epoch 8/10\n",
      "--------------------\n",
      "train Loss: 0.7860 Acc: 0.9452\n",
      "val Loss: 2.4576 Acc: 0.5341\n",
      "\n",
      "Epoch 9/10\n",
      "--------------------\n",
      "train Loss: 0.6584 Acc: 0.9619\n",
      "val Loss: 2.3890 Acc: 0.5303\n",
      "\n",
      "Epoch 10/10\n",
      "--------------------\n",
      "train Loss: 0.5639 Acc: 0.9688\n",
      "val Loss: 2.3629 Acc: 0.5227\n",
      "✅ Model saved as resnet_inat_frozen.pth\n"
     ]
    }
   ],
   "source": [
    "import torch\n",
    "import torch.nn as nn\n",
    "import torch.optim as optim\n",
    "from torchvision import datasets, models, transforms\n",
    "from torch.utils.data import DataLoader\n",
    "import os\n",
    "\n",
    "# ============================\n",
    "# Parameters\n",
    "# ============================\n",
    "data_dir = \"iNat_split\"   # <- your split dataset folder\n",
    "batch_size = 32\n",
    "num_epochs = 10\n",
    "learning_rate = 0.001\n",
    "freeze_ratio = 0.8  # freeze 80% of layers\n",
    "device = torch.device(\"cuda\" if torch.cuda.is_available() else \"cpu\")\n",
    "\n",
    "# ============================\n",
    "# Data transforms\n",
    "# ============================\n",
    "data_transforms = {\n",
    "    \"train\": transforms.Compose([\n",
    "        transforms.Resize((224, 224)),\n",
    "        transforms.RandomHorizontalFlip(),\n",
    "        transforms.ToTensor(),\n",
    "        transforms.Normalize([0.485, 0.456, 0.406],\n",
    "                             [0.229, 0.224, 0.225]),\n",
    "    ]),\n",
    "    \"val\": transforms.Compose([\n",
    "        transforms.Resize((224, 224)),\n",
    "        transforms.ToTensor(),\n",
    "        transforms.Normalize([0.485, 0.456, 0.406],\n",
    "                             [0.229, 0.224, 0.225]),\n",
    "    ]),\n",
    "    \"test\": transforms.Compose([\n",
    "        transforms.Resize((224, 224)),\n",
    "        transforms.ToTensor(),\n",
    "        transforms.Normalize([0.485, 0.456, 0.406],\n",
    "                             [0.229, 0.224, 0.225]),\n",
    "    ]),\n",
    "}\n",
    "\n",
    "# ============================\n",
    "# Datasets and loaders\n",
    "# ============================\n",
    "image_datasets = {\n",
    "    x: datasets.ImageFolder(os.path.join(data_dir, x), data_transforms[x])\n",
    "    for x in [\"train\", \"val\", \"test\"]\n",
    "}\n",
    "\n",
    "dataloaders = {\n",
    "    x: DataLoader(image_datasets[x], batch_size=batch_size, shuffle=True, num_workers=2)\n",
    "    for x in [\"train\", \"val\", \"test\"]\n",
    "}\n",
    "\n",
    "class_names = image_datasets[\"train\"].classes\n",
    "num_classes = len(class_names)\n",
    "\n",
    "# ============================\n",
    "# Load ResNet model\n",
    "# ============================\n",
    "model = models.resnet50(weights=models.ResNet50_Weights.DEFAULT)\n",
    "\n",
    "# Freeze 80% of layers\n",
    "all_layers = list(model.children())\n",
    "num_freeze = int(len(all_layers) * freeze_ratio)\n",
    "for i, child in enumerate(all_layers):\n",
    "    if i < num_freeze:\n",
    "        for param in child.parameters():\n",
    "            param.requires_grad = False\n",
    "\n",
    "# Replace final fully connected layer\n",
    "in_features = model.fc.in_features\n",
    "model.fc = nn.Linear(in_features, num_classes)\n",
    "\n",
    "model = model.to(device)\n",
    "\n",
    "# ============================\n",
    "# Loss & Optimizer\n",
    "# ============================\n",
    "criterion = nn.CrossEntropyLoss()\n",
    "optimizer = optim.Adam(filter(lambda p: p.requires_grad, model.parameters()),\n",
    "                       lr=learning_rate)\n",
    "\n",
    "# ============================\n",
    "# Training loop\n",
    "# ============================\n",
    "def train_model(model, criterion, optimizer, num_epochs=10):\n",
    "    for epoch in range(num_epochs):\n",
    "        print(f\"\\nEpoch {epoch+1}/{num_epochs}\")\n",
    "        print(\"-\" * 20)\n",
    "\n",
    "        # Each epoch has training and validation phase\n",
    "        for phase in [\"train\", \"val\"]:\n",
    "            if phase == \"train\":\n",
    "                model.train()\n",
    "            else:\n",
    "                model.eval()\n",
    "\n",
    "            running_loss = 0.0\n",
    "            running_corrects = 0\n",
    "\n",
    "            for inputs, labels in dataloaders[phase]:\n",
    "                inputs, labels = inputs.to(device), labels.to(device)\n",
    "\n",
    "                optimizer.zero_grad()\n",
    "\n",
    "                with torch.set_grad_enabled(phase == \"train\"):\n",
    "                    outputs = model(inputs)\n",
    "                    _, preds = torch.max(outputs, 1)\n",
    "                    loss = criterion(outputs, labels)\n",
    "\n",
    "                    if phase == \"train\":\n",
    "                        loss.backward()\n",
    "                        optimizer.step()\n",
    "\n",
    "                running_loss += loss.item() * inputs.size(0)\n",
    "                running_corrects += torch.sum(preds == labels.data)\n",
    "\n",
    "            epoch_loss = running_loss / len(image_datasets[phase])\n",
    "            epoch_acc = running_corrects.double() / len(image_datasets[phase])\n",
    "\n",
    "            print(f\"{phase} Loss: {epoch_loss:.4f} Acc: {epoch_acc:.4f}\")\n",
    "\n",
    "    return model\n",
    "\n",
    "# ============================\n",
    "# Train the model\n",
    "# ============================\n",
    "model = train_model(model, criterion, optimizer, num_epochs=num_epochs)\n",
    "\n",
    "# ============================\n",
    "# Save the trained model\n",
    "# ============================\n",
    "torch.save(model.state_dict(), \"resnet_inat_frozen.pth\")\n",
    "print(\"✅ Model saved as resnet_inat_frozen.pth\")\n"
   ]
  },
  {
   "cell_type": "markdown",
   "id": "a2fbc904-2ab5-4821-9cdb-20cb6c21c20c",
   "metadata": {
    "jp-MarkdownHeadingCollapsed": true
   },
   "source": [
    "# Audio Models"
   ]
  },
  {
   "cell_type": "markdown",
   "id": "7dbea58c-8d93-4a88-baa1-1d460ea7f0be",
   "metadata": {},
   "source": [
    "I am going to train both YAMNet and BirdNet model using the same method. YAMNet is a more generalised audio model while BirdNet focuces on Birds so it can identify bird down to the species. Since BirdNet is trained using Xeno-Canto audio, i cannot fine tune it using my own data as my own audio data is also gathered from xeno-canto. \n",
    "I am however going to compare the 2 models to and compare the results. If BirdNet performs suspiciously well, it could indicate leakage of the data. (Trade-offs between audio model will then be discussed in the report)\n"
   ]
  },
  {
   "cell_type": "markdown",
   "id": "6f27061a-2050-408e-a76f-fcf87d792e9f",
   "metadata": {},
   "source": [
    "## Train YAMNet model using Xeno-Canto"
   ]
  },
  {
   "cell_type": "code",
   "execution_count": 5,
   "id": "3d729f73-e55d-4528-bd39-e6c496f852a2",
   "metadata": {
    "scrolled": true
   },
   "outputs": [
    {
     "name": "stdout",
     "output_type": "stream",
     "text": [
      "Classes: 371\n",
      "Train: 136 | Val: 11 | Test: 60\n",
      "Model: \"model\"\n",
      "_________________________________________________________________\n",
      " Layer (type)                Output Shape              Param #   \n",
      "=================================================================\n",
      " input_1 (InputLayer)        [(None, 1024)]            0         \n",
      "                                                                 \n",
      " dense (Dense)               (None, 512)               524800    \n",
      "                                                                 \n",
      " dropout (Dropout)           (None, 512)               0         \n",
      "                                                                 \n",
      " dense_1 (Dense)             (None, 371)               190323    \n",
      "                                                                 \n",
      "=================================================================\n",
      "Total params: 715,123\n",
      "Trainable params: 715,123\n",
      "Non-trainable params: 0\n",
      "_________________________________________________________________\n",
      "Epoch 1/20\n",
      "5/5 [==============================] - 0s 33ms/step - loss: 5.9477 - accuracy: 0.0074 - val_loss: 5.9694 - val_accuracy: 0.0000e+00\n",
      "Epoch 2/20\n",
      "5/5 [==============================] - 0s 9ms/step - loss: 5.7851 - accuracy: 0.0368 - val_loss: 5.8804 - val_accuracy: 0.0000e+00\n",
      "Epoch 3/20\n",
      "5/5 [==============================] - 0s 9ms/step - loss: 5.6633 - accuracy: 0.0441 - val_loss: 5.7967 - val_accuracy: 0.0000e+00\n",
      "Epoch 4/20\n",
      "5/5 [==============================] - 0s 9ms/step - loss: 5.5514 - accuracy: 0.0368 - val_loss: 5.7115 - val_accuracy: 0.0000e+00\n",
      "Epoch 5/20\n",
      "5/5 [==============================] - 0s 9ms/step - loss: 5.4968 - accuracy: 0.0368 - val_loss: 5.6306 - val_accuracy: 0.0000e+00\n",
      "Epoch 6/20\n",
      "5/5 [==============================] - 0s 10ms/step - loss: 5.3696 - accuracy: 0.0662 - val_loss: 5.5463 - val_accuracy: 0.0000e+00\n",
      "Epoch 7/20\n",
      "5/5 [==============================] - 0s 10ms/step - loss: 5.2948 - accuracy: 0.0956 - val_loss: 5.4605 - val_accuracy: 0.0000e+00\n",
      "Epoch 8/20\n",
      "5/5 [==============================] - 0s 9ms/step - loss: 5.2157 - accuracy: 0.0882 - val_loss: 5.3697 - val_accuracy: 0.0000e+00\n",
      "Epoch 9/20\n",
      "5/5 [==============================] - 0s 9ms/step - loss: 5.1060 - accuracy: 0.0956 - val_loss: 5.2774 - val_accuracy: 0.0000e+00\n",
      "Epoch 10/20\n",
      "5/5 [==============================] - 0s 10ms/step - loss: 4.9810 - accuracy: 0.0735 - val_loss: 5.1817 - val_accuracy: 0.0000e+00\n",
      "Epoch 11/20\n",
      "5/5 [==============================] - 0s 9ms/step - loss: 4.8879 - accuracy: 0.0809 - val_loss: 5.0862 - val_accuracy: 0.0000e+00\n",
      "Epoch 12/20\n",
      "5/5 [==============================] - 0s 9ms/step - loss: 4.7937 - accuracy: 0.0956 - val_loss: 4.9902 - val_accuracy: 0.0909\n",
      "Epoch 13/20\n",
      "5/5 [==============================] - 0s 9ms/step - loss: 4.6840 - accuracy: 0.1029 - val_loss: 4.8911 - val_accuracy: 0.0909\n",
      "Epoch 14/20\n",
      "5/5 [==============================] - 0s 18ms/step - loss: 4.6139 - accuracy: 0.1471 - val_loss: 4.7885 - val_accuracy: 0.0909\n",
      "Epoch 15/20\n",
      "5/5 [==============================] - 0s 12ms/step - loss: 4.5163 - accuracy: 0.1029 - val_loss: 4.6859 - val_accuracy: 0.0909\n",
      "Epoch 16/20\n",
      "5/5 [==============================] - 0s 15ms/step - loss: 4.3403 - accuracy: 0.1838 - val_loss: 4.5852 - val_accuracy: 0.0909\n",
      "Epoch 17/20\n",
      "5/5 [==============================] - 0s 9ms/step - loss: 4.2680 - accuracy: 0.1324 - val_loss: 4.4819 - val_accuracy: 0.0909\n",
      "Epoch 18/20\n",
      "5/5 [==============================] - 0s 9ms/step - loss: 4.2052 - accuracy: 0.1471 - val_loss: 4.3819 - val_accuracy: 0.1818\n",
      "Epoch 19/20\n",
      "5/5 [==============================] - 0s 9ms/step - loss: 4.1501 - accuracy: 0.1324 - val_loss: 4.2816 - val_accuracy: 0.1818\n",
      "Epoch 20/20\n",
      "5/5 [==============================] - 0s 9ms/step - loss: 4.0345 - accuracy: 0.1471 - val_loss: 4.1861 - val_accuracy: 0.1818\n",
      "2/2 [==============================] - 0s 2ms/step - loss: 4.3519 - accuracy: 0.0833\n",
      "\n",
      "✅ Test Accuracy: 0.0833\n",
      "Model saved as yamnet_finetuned.h5\n"
     ]
    }
   ],
   "source": [
    "import os\n",
    "import numpy as np\n",
    "import tensorflow as tf\n",
    "import tensorflow_hub as hub\n",
    "import librosa\n",
    "\n",
    "# --------------------------\n",
    "# Parameters\n",
    "# --------------------------\n",
    "DATASET_DIR = \"Xeno_split\"   # your dataset folder with train/val/test\n",
    "BATCH_SIZE = 32\n",
    "EPOCHS = 20\n",
    "LEARNING_RATE = 1e-4\n",
    "SR = 16000   # YAMNet expects 16kHz audio\n",
    "\n",
    "# --------------------------\n",
    "# Load YAMNet (feature extractor)\n",
    "# --------------------------\n",
    "yamnet_model_handle = \"https://tfhub.dev/google/yamnet/1\"\n",
    "yamnet_model = hub.load(yamnet_model_handle)\n",
    "\n",
    "# Function: convert wav to YAMNet embedding\n",
    "def extract_embedding(filepath):\n",
    "    # Load audio\n",
    "    waveform, sr = librosa.load(filepath, sr=SR)\n",
    "    waveform = waveform.astype(np.float32)\n",
    "\n",
    "    # Run through YAMNet to get embeddings\n",
    "    scores, embeddings, spectrogram = yamnet_model(waveform)\n",
    "    embedding = tf.reduce_mean(embeddings, axis=0)  # average over time\n",
    "    return embedding.numpy()\n",
    "\n",
    "# --------------------------\n",
    "# Dataset Loader\n",
    "# --------------------------\n",
    "def load_split(split_dir, class_names):\n",
    "    files, labels = [], []\n",
    "    for idx, species in enumerate(sorted(os.listdir(split_dir))):\n",
    "        species_dir = os.path.join(split_dir, species)\n",
    "        if not os.path.isdir(species_dir):\n",
    "            continue\n",
    "        for file in os.listdir(species_dir):\n",
    "            if file.endswith(\".wav\"):\n",
    "                files.append(os.path.join(species_dir, file))\n",
    "                labels.append(class_names.index(species))\n",
    "    return files, labels\n",
    "\n",
    "# Prepare class names from train set\n",
    "train_dir = os.path.join(DATASET_DIR, \"train\")\n",
    "class_names = sorted(os.listdir(train_dir))\n",
    "\n",
    "# Load splits\n",
    "train_files, train_labels = load_split(train_dir, class_names)\n",
    "val_files, val_labels = load_split(os.path.join(DATASET_DIR, \"val\"), class_names)\n",
    "test_files, test_labels = load_split(os.path.join(DATASET_DIR, \"test\"), class_names)\n",
    "\n",
    "print(f\"Classes: {len(class_names)}\")\n",
    "print(f\"Train: {len(train_files)} | Val: {len(val_files)} | Test: {len(test_files)}\")\n",
    "\n",
    "# --------------------------\n",
    "# Convert audio to embeddings\n",
    "# --------------------------\n",
    "def prepare_dataset(file_list, labels):\n",
    "    embeddings, y = [], []\n",
    "    for f, l in zip(file_list, labels):\n",
    "        try:\n",
    "            emb = extract_embedding(f)\n",
    "            embeddings.append(emb)\n",
    "            y.append(l)\n",
    "        except Exception as e:\n",
    "            print(f\"Error with {f}: {e}\")\n",
    "    return np.array(embeddings), np.array(y)\n",
    "\n",
    "X_train, y_train = prepare_dataset(train_files, train_labels)\n",
    "X_val, y_val = prepare_dataset(val_files, val_labels)\n",
    "X_test, y_test = prepare_dataset(test_files, test_labels)\n",
    "\n",
    "# --------------------------\n",
    "# Build Classifier on Top of YAMNet\n",
    "# --------------------------\n",
    "# Freeze 80% of layers: in this case we only train the dense head\n",
    "base_input = tf.keras.Input(shape=(1024,))\n",
    "x = tf.keras.layers.Dense(512, activation=\"relu\")(base_input)\n",
    "x = tf.keras.layers.Dropout(0.3)(x)\n",
    "output = tf.keras.layers.Dense(len(class_names), activation=\"softmax\")(x)\n",
    "\n",
    "model = tf.keras.Model(inputs=base_input, outputs=output)\n",
    "\n",
    "model.compile(\n",
    "    optimizer=tf.keras.optimizers.Adam(learning_rate=LEARNING_RATE),\n",
    "    loss=\"sparse_categorical_crossentropy\",\n",
    "    metrics=[\"accuracy\"]\n",
    ")\n",
    "\n",
    "model.summary()\n",
    "\n",
    "# --------------------------\n",
    "# Train\n",
    "# --------------------------\n",
    "history = model.fit(\n",
    "    X_train, y_train,\n",
    "    validation_data=(X_val, y_val),\n",
    "    epochs=EPOCHS,\n",
    "    batch_size=BATCH_SIZE\n",
    ")\n",
    "\n",
    "# --------------------------\n",
    "# Evaluate\n",
    "# --------------------------\n",
    "test_loss, test_acc = model.evaluate(X_test, y_test)\n",
    "print(f\"\\n✅ Test Accuracy: {test_acc:.4f}\")\n",
    "\n",
    "# --------------------------\n",
    "# Save model\n",
    "# --------------------------\n",
    "model.save(\"yamnet_finetuned.h5\")\n",
    "print(\"Model saved as yamnet_finetuned.h5\")\n"
   ]
  },
  {
   "cell_type": "markdown",
   "id": "81be3cee-859c-46f9-853a-c19d6db82648",
   "metadata": {},
   "source": [
    "# STEP 1: OOF Training"
   ]
  },
  {
   "cell_type": "markdown",
   "id": "fe3b457a-1a59-4b3d-8977-6bf3902cdef9",
   "metadata": {},
   "source": [
    "Although the models were initially trained and evaluated using the conventional train/validation/test split, they were retrained using Out-of-Fold (OOF) predictions to enable effective stacking for the ensemble. A simple train/val approach would introduce bias when training the meta-learner, as the validation set may already influence the base models during fine-tuning. By applying K-Fold cross-validation, each base model generates predictions on unseen data (the held-out fold), producing unbiased OOF predictions across the entire training set. These OOF predictions are then used as inputs to train the meta-learner, ensuring that the ensemble learns from fair representations of model performance and avoids data leakage, ultimately improving generalization on the final test set."
   ]
  },
  {
   "cell_type": "markdown",
   "id": "d2548b09-642d-4a59-8251-6992b977e3e6",
   "metadata": {},
   "source": [
    "## 1.1 Preprocessing Dataset"
   ]
  },
  {
   "cell_type": "markdown",
   "id": "d0a2a7d3-ce53-40cb-9dcb-fdf3535926aa",
   "metadata": {},
   "source": [
    "### 1.11 Combing Test and Val in split datasets (OOF)"
   ]
  },
  {
   "cell_type": "code",
   "execution_count": 2,
   "id": "c9526374-3868-4ce6-8067-227e73d6f2ff",
   "metadata": {},
   "outputs": [
    {
     "name": "stdout",
     "output_type": "stream",
     "text": [
      "✅ Merged train+val → CUB_split_OOF\\train_val\n",
      "✅ Copied test set → CUB_split_OOF\\test\n",
      "✅ Merged train+val → iNat_split_OOF\\train_val\n",
      "✅ Copied test set → iNat_split_OOF\\test\n",
      "✅ Merged train+val → Xeno_split_OOF\\train_val\n",
      "✅ Copied test set → Xeno_split_OOF\\test\n"
     ]
    }
   ],
   "source": [
    "import os\n",
    "import shutil\n",
    "from pathlib import Path\n",
    "\n",
    "def merge_train_val(dataset_dir, output_dir):\n",
    "    dataset_dir = Path(dataset_dir)\n",
    "    output_dir = Path(output_dir)\n",
    "\n",
    "    merged_dir = output_dir / \"train_val\"\n",
    "    merged_dir.mkdir(parents=True, exist_ok=True)\n",
    "\n",
    "    for split in [\"train\", \"val\"]:\n",
    "        split_dir = dataset_dir / split\n",
    "        if not split_dir.exists():\n",
    "            continue\n",
    "\n",
    "        for class_folder in split_dir.iterdir():\n",
    "            if not class_folder.is_dir():\n",
    "                continue\n",
    "            if class_folder.name.startswith(\".\"):  # ✅ skip hidden folders\n",
    "                continue\n",
    "\n",
    "            target_class_dir = merged_dir / class_folder.name\n",
    "            target_class_dir.mkdir(parents=True, exist_ok=True)\n",
    "\n",
    "            for file in class_folder.iterdir():\n",
    "                if file.name.startswith(\".\"):  # ✅ skip hidden files/folders\n",
    "                    continue\n",
    "                try:\n",
    "                    shutil.copy(file, target_class_dir / file.name)\n",
    "                except Exception as e:\n",
    "                    print(f\"⚠️ Skipping {file}: {e}\")\n",
    "\n",
    "    # Copy test set separately\n",
    "    test_dir = dataset_dir / \"test\"\n",
    "    if test_dir.exists():\n",
    "        for class_folder in test_dir.iterdir():\n",
    "            if not class_folder.is_dir():\n",
    "                continue\n",
    "            if class_folder.name.startswith(\".\"):  # ✅ skip hidden\n",
    "                continue\n",
    "\n",
    "            test_class_dir = output_dir / \"test\" / class_folder.name\n",
    "            test_class_dir.mkdir(parents=True, exist_ok=True)\n",
    "\n",
    "            for file in class_folder.iterdir():\n",
    "                if file.name.startswith(\".\"):  # ✅ skip hidden files/folders\n",
    "                    continue\n",
    "                try:\n",
    "                    shutil.copy(file, test_class_dir / file.name)\n",
    "                except Exception as e:\n",
    "                    print(f\"⚠️ Skipping {file}: {e}\")\n",
    "\n",
    "    print(f\"✅ Merged train+val → {merged_dir}\")\n",
    "    print(f\"✅ Copied test set → {output_dir/'test'}\")\n",
    "\n",
    "# Example usage:\n",
    "merge_train_val(\"CUB_split\", \"CUB_split_OOF\")\n",
    "merge_train_val(\"iNat_split\", \"iNat_split_OOF\")\n",
    "merge_train_val(\"Xeno_split\", \"Xeno_split_OOF\")\n",
    "\n"
   ]
  },
  {
   "cell_type": "markdown",
   "id": "75c2caee-fdb1-4b7f-a6cd-e3fa23d4cf72",
   "metadata": {},
   "source": [
    "### 1.12 Split NEW iNat dataset for OOF training"
   ]
  },
  {
   "cell_type": "markdown",
   "id": "84152142-fa5f-4442-8155-94ebdf0b5999",
   "metadata": {},
   "source": [
    "since i am using a new dataset (containing species found in CUB-200-2011), i have to split them for OOF training. "
   ]
  },
  {
   "cell_type": "code",
   "execution_count": 3,
   "id": "45c7c608-bf49-46fc-8038-776164e76880",
   "metadata": {
    "scrolled": true
   },
   "outputs": [
    {
     "name": "stdout",
     "output_type": "stream",
     "text": [
      ".ipynb_checkpoints: 0 train_val, 0 test\n",
      "001_Black_footed_Albatross: 16 train_val, 4 test\n",
      "002_Laysan_Albatross: 8 train_val, 2 test\n",
      "003_Sooty_Albatross: 8 train_val, 2 test\n",
      "004_Groove_billed_Ani: 8 train_val, 2 test\n",
      "005_Crested_Auklet: 8 train_val, 2 test\n",
      "006_Least_Auklet: 8 train_val, 2 test\n",
      "007_Parakeet_Auklet: 8 train_val, 2 test\n",
      "008_Rhinoceros_Auklet: 8 train_val, 2 test\n",
      "009_Brewer_Blackbird: 8 train_val, 2 test\n",
      "010_Red_winged_Blackbird: 8 train_val, 2 test\n",
      "011_Rusty_Blackbird: 8 train_val, 2 test\n",
      "012_Yellow_headed_Blackbird: 8 train_val, 2 test\n",
      "013_Bobolink: 8 train_val, 2 test\n",
      "014_Indigo_Bunting: 8 train_val, 2 test\n",
      "015_Lazuli_Bunting: 8 train_val, 2 test\n",
      "016_Painted_Bunting: 8 train_val, 2 test\n",
      "017_Cardinal: 8 train_val, 2 test\n",
      "018_Spotted_Catbird: 8 train_val, 2 test\n",
      "019_Gray_Catbird: 8 train_val, 2 test\n",
      "020_Yellow_breasted_Chat: 8 train_val, 2 test\n",
      "021_Eastern_Towhee: 8 train_val, 2 test\n",
      "022_Chuck_will_Widow: 8 train_val, 2 test\n",
      "023_Brandt_Cormorant: 8 train_val, 2 test\n",
      "024_Red_faced_Cormorant: 8 train_val, 2 test\n",
      "025_Pelagic_Cormorant: 8 train_val, 2 test\n",
      "026_Bronzed_Cowbird: 8 train_val, 2 test\n",
      "027_Shiny_Cowbird: 8 train_val, 2 test\n",
      "028_Brown_Creeper: 8 train_val, 2 test\n",
      "029_American_Crow: 8 train_val, 2 test\n",
      "030_Fish_Crow: 8 train_val, 2 test\n",
      "031_Black_billed_Cuckoo: 8 train_val, 2 test\n",
      "032_Mangrove_Cuckoo: 8 train_val, 2 test\n",
      "033_Yellow_billed_Cuckoo: 8 train_val, 2 test\n",
      "034_Gray_crowned_Rosy_Finch: 8 train_val, 2 test\n",
      "035_Purple_Finch: 8 train_val, 2 test\n",
      "036_Northern_Flicker: 8 train_val, 2 test\n",
      "037_Acadian_Flycatcher: 8 train_val, 2 test\n",
      "038_Great_Crested_Flycatcher: 8 train_val, 2 test\n",
      "039_Least_Flycatcher: 8 train_val, 2 test\n",
      "040_Olive_sided_Flycatcher: 8 train_val, 2 test\n",
      "041_Scissor_tailed_Flycatcher: 8 train_val, 2 test\n",
      "042_Vermilion_Flycatcher: 8 train_val, 2 test\n",
      "043_Yellow_bellied_Flycatcher: 8 train_val, 2 test\n",
      "044_Frigatebird: 8 train_val, 2 test\n",
      "045_Northern_Fulmar: 8 train_val, 2 test\n",
      "046_Gadwall: 8 train_val, 2 test\n",
      "047_American_Goldfinch: 8 train_val, 2 test\n",
      "048_European_Goldfinch: 8 train_val, 2 test\n",
      "049_Boat_tailed_Grackle: 8 train_val, 2 test\n",
      "050_Eared_Grebe: 8 train_val, 2 test\n",
      "051_Horned_Grebe: 8 train_val, 2 test\n",
      "052_Pied_billed_Grebe: 8 train_val, 2 test\n",
      "053_Western_Grebe: 8 train_val, 2 test\n",
      "054_Blue_Grosbeak: 8 train_val, 2 test\n",
      "055_Evening_Grosbeak: 8 train_val, 2 test\n",
      "056_Pine_Grosbeak: 8 train_val, 2 test\n",
      "057_Rose_breasted_Grosbeak: 8 train_val, 2 test\n",
      "058_Pigeon_Guillemot: 8 train_val, 2 test\n",
      "059_California_Gull: 8 train_val, 2 test\n",
      "060_Glaucous_winged_Gull: 8 train_val, 2 test\n",
      "061_Heermann_Gull: 8 train_val, 2 test\n",
      "062_Herring_Gull: 8 train_val, 2 test\n",
      "063_Ivory_Gull: 8 train_val, 2 test\n",
      "064_Ring_billed_Gull: 8 train_val, 2 test\n",
      "065_Slaty_backed_Gull: 8 train_val, 2 test\n",
      "066_Western_Gull: 8 train_val, 2 test\n",
      "067_Anna_Hummingbird: 8 train_val, 2 test\n",
      "068_Ruby_throated_Hummingbird: 8 train_val, 2 test\n",
      "069_Rufous_Hummingbird: 8 train_val, 2 test\n",
      "070_Green_Violetear: 8 train_val, 2 test\n",
      "071_Long_tailed_Jaeger: 8 train_val, 2 test\n",
      "072_Pomarine_Jaeger: 8 train_val, 2 test\n",
      "073_Blue_Jay: 8 train_val, 2 test\n",
      "074_Florida_Jay: 8 train_val, 2 test\n",
      "075_Green_Jay: 8 train_val, 2 test\n",
      "076_Dark_eyed_Junco: 8 train_val, 2 test\n",
      "077_Tropical_Kingbird: 8 train_val, 2 test\n",
      "078_Gray_Kingbird: 8 train_val, 2 test\n",
      "079_Belted_Kingfisher: 8 train_val, 2 test\n",
      "080_Green_Kingfisher: 8 train_val, 2 test\n",
      "081_Pied_Kingfisher: 8 train_val, 2 test\n",
      "082_Ringed_Kingfisher: 8 train_val, 2 test\n",
      "083_ White_breasted_Kingfisher: 8 train_val, 2 test\n",
      "084_Red_legged_Kittiwake: 8 train_val, 2 test\n",
      "085_Horned_Lark: 8 train_val, 2 test\n",
      "086_Pacific_Loon: 8 train_val, 2 test\n",
      "087_Mallard: 8 train_val, 2 test\n",
      "088_Western_Meadowlark: 8 train_val, 2 test\n",
      "089_Hooded_Merganser: 8 train_val, 2 test\n",
      "090_Red_breasted_Merganser: 8 train_val, 2 test\n",
      "091_Mockingbird: 8 train_val, 2 test\n",
      "092_Nighthawk: 8 train_val, 2 test\n",
      "093_Clark_Nutcracker: 8 train_val, 2 test\n",
      "094_White_breasted_Nuthatch: 8 train_val, 2 test\n",
      "095_Baltimore_Oriole: 8 train_val, 2 test\n",
      "096_Hooded_Oriole: 8 train_val, 2 test\n",
      "097_Orchard_Oriole: 8 train_val, 2 test\n",
      "098_Scott_Oriole: 8 train_val, 2 test\n",
      "099_Ovenbird: 8 train_val, 2 test\n",
      "100_Brown_Pelican: 8 train_val, 2 test\n",
      "101_White_Pelican: 8 train_val, 2 test\n",
      "102_Western_Wood_Pewee: 8 train_val, 2 test\n",
      "103_Sayornis: 8 train_val, 2 test\n",
      "104_American_Pipit: 8 train_val, 2 test\n",
      "105_Whip_poor_Will: 8 train_val, 2 test\n",
      "106_Horned_Puffin: 8 train_val, 2 test\n",
      "107_Common_Raven: 8 train_val, 2 test\n",
      "108_White_necked_Raven: 8 train_val, 2 test\n",
      "109_American_Redstart: 8 train_val, 2 test\n",
      "110_Geococcyx: 8 train_val, 2 test\n",
      "111_Loggerhead_Shrike: 8 train_val, 2 test\n",
      "112_Great_Grey_Shrike: 8 train_val, 2 test\n",
      "113_Baird_Sparrow: 8 train_val, 2 test\n",
      "114_Black_throated_Sparrow: 8 train_val, 2 test\n",
      "115_Brewer_Sparrow: 8 train_val, 2 test\n",
      "116_Chipping_Sparrow: 8 train_val, 2 test\n",
      "117_Clay_colored_Sparrow: 8 train_val, 2 test\n",
      "118_House_Sparrow: 8 train_val, 2 test\n",
      "119_Field_Sparrow: 8 train_val, 2 test\n",
      "120_Fox_Sparrow: 8 train_val, 2 test\n",
      "121_Grasshopper_Sparrow: 8 train_val, 2 test\n",
      "122_Harris_Sparrow: 8 train_val, 2 test\n",
      "123_Henslow_Sparrow: 8 train_val, 2 test\n",
      "124_Le_Conte_Sparrow: 8 train_val, 2 test\n",
      "125_Lincoln_Sparrow: 8 train_val, 2 test\n",
      "126_Nelson_Sharp_tailed_Sparrow: 8 train_val, 2 test\n",
      "127_Savannah_Sparrow: 8 train_val, 2 test\n",
      "128_Seaside_Sparrow: 8 train_val, 2 test\n",
      "129_Song_Sparrow: 8 train_val, 2 test\n",
      "130_Tree_Sparrow: 8 train_val, 2 test\n",
      "131_Vesper_Sparrow: 8 train_val, 2 test\n",
      "132_White_crowned_Sparrow: 8 train_val, 2 test\n",
      "133_White_throated_Sparrow: 8 train_val, 2 test\n",
      "134_Cape_Glossy_Starling: 8 train_val, 2 test\n",
      "135_Bank_Swallow: 8 train_val, 2 test\n",
      "136_Barn_Swallow: 8 train_val, 2 test\n",
      "137_Cliff_Swallow: 8 train_val, 2 test\n",
      "138_Tree_Swallow: 8 train_val, 2 test\n",
      "139_Scarlet_Tanager: 8 train_val, 2 test\n",
      "140_Summer_Tanager: 8 train_val, 2 test\n",
      "141_Artic_Tern: 8 train_val, 3 test\n",
      "142_Black_Tern: 8 train_val, 2 test\n",
      "143_Caspian_Tern: 8 train_val, 2 test\n",
      "144_Common_Tern: 8 train_val, 2 test\n",
      "145_Elegant_Tern: 8 train_val, 2 test\n",
      "146_Forsters_Tern: 8 train_val, 2 test\n",
      "147_Least_Tern: 8 train_val, 2 test\n",
      "148_Green_tailed_Towhee: 8 train_val, 2 test\n",
      "149_Brown_Thrasher: 8 train_val, 2 test\n",
      "150_Sage_Thrasher: 8 train_val, 2 test\n",
      "151_Black_capped_Vireo: 8 train_val, 2 test\n",
      "152_Blue_headed_Vireo: 8 train_val, 2 test\n",
      "153_Philadelphia_Vireo: 8 train_val, 2 test\n",
      "154_Red_eyed_Vireo: 8 train_val, 2 test\n",
      "155_Warbling_Vireo: 8 train_val, 2 test\n",
      "156_White_eyed_Vireo: 8 train_val, 2 test\n",
      "157_Yellow_throated_Vireo: 8 train_val, 2 test\n",
      "158_Bay_breasted_Warbler: 8 train_val, 2 test\n",
      "159_Black_and_white_Warbler: 8 train_val, 2 test\n",
      "160_Black_throated_Blue_Warbler: 8 train_val, 2 test\n",
      "161_Blue_winged_Warbler: 8 train_val, 2 test\n",
      "162_Canada_Warbler: 8 train_val, 2 test\n",
      "163_Cape_May_Warbler: 8 train_val, 2 test\n",
      "164_Cerulean_Warbler: 8 train_val, 2 test\n",
      "165_Chestnut_sided_Warbler: 8 train_val, 2 test\n",
      "166_Golden_winged_Warbler: 8 train_val, 2 test\n",
      "167_Hooded_Warbler: 8 train_val, 2 test\n",
      "168_Kentucky_Warbler: 8 train_val, 2 test\n",
      "169_Magnolia_Warbler: 8 train_val, 2 test\n",
      "170_Mourning_Warbler: 8 train_val, 2 test\n",
      "171_Myrtle_Warbler: 8 train_val, 2 test\n",
      "172_Nashville_Warbler: 8 train_val, 2 test\n",
      "173_Orange_crowned_Warbler: 8 train_val, 2 test\n",
      "174_Palm_Warbler: 8 train_val, 2 test\n",
      "175_Pine_Warbler: 8 train_val, 2 test\n",
      "176_Prairie_Warbler: 8 train_val, 2 test\n",
      "177_Prothonotary_Warbler: 8 train_val, 2 test\n",
      "178_Swainson_Warbler: 8 train_val, 2 test\n",
      "179_Tennessee_Warbler: 8 train_val, 2 test\n",
      "180_Wilson_Warbler: 8 train_val, 2 test\n",
      "181_Worm_eating_Warbler: 8 train_val, 2 test\n",
      "182_Yellow_Warbler: 8 train_val, 2 test\n",
      "183_Northern_Waterthrush: 8 train_val, 2 test\n",
      "184_Louisiana_Waterthrush: 8 train_val, 2 test\n",
      "185_Bohemian_Waxwing: 8 train_val, 2 test\n",
      "186_Cedar_Waxwing: 8 train_val, 2 test\n",
      "187_American_Three_toed_Woodpecker: 8 train_val, 2 test\n",
      "188_Pileated_Woodpecker: 8 train_val, 2 test\n",
      "189_Red_bellied_Woodpecker: 8 train_val, 2 test\n",
      "190_Red_cockaded_Woodpecker: 8 train_val, 2 test\n",
      "191_Red_headed_Woodpecker: 8 train_val, 2 test\n",
      "192_Downy_Woodpecker: 8 train_val, 2 test\n",
      "193_Bewick_Wren: 8 train_val, 2 test\n",
      "194_Cactus_Wren: 8 train_val, 2 test\n",
      "195_Carolina_Wren: 8 train_val, 2 test\n",
      "196_House_Wren: 8 train_val, 2 test\n",
      "197_Marsh_Wren: 8 train_val, 2 test\n",
      "198_Rock_Wren: 8 train_val, 2 test\n",
      "199_Winter_Wren: 8 train_val, 2 test\n",
      "200199_Common_Yellowthroat: 8 train_val, 2 test\n",
      "\n",
      "✅ Dataset split complete!\n",
      "Train/Val dir: iNat_OOF\\train_val\n",
      "Test dir: iNat_OOF\\test\n"
     ]
    }
   ],
   "source": [
    "import os\n",
    "import shutil\n",
    "import random\n",
    "\n",
    "# ---------------------------\n",
    "# Config\n",
    "# ---------------------------\n",
    "src_dir = \"bird_dataset_INAT\"      # Original dataset\n",
    "dst_dir = \"iNat_OOF\"               # Output dataset\n",
    "train_val_ratio = 0.8              # 80% train_val, 20% test\n",
    "random_seed = 42\n",
    "\n",
    "# ---------------------------\n",
    "# Prepare directories\n",
    "# ---------------------------\n",
    "train_val_dir = os.path.join(dst_dir, \"train_val\")\n",
    "test_dir = os.path.join(dst_dir, \"test\")\n",
    "os.makedirs(train_val_dir, exist_ok=True)\n",
    "os.makedirs(test_dir, exist_ok=True)\n",
    "\n",
    "# ---------------------------\n",
    "# Split function\n",
    "# ---------------------------\n",
    "random.seed(random_seed)\n",
    "species_list = [d for d in os.listdir(src_dir) if os.path.isdir(os.path.join(src_dir, d))]\n",
    "\n",
    "for sp in species_list:\n",
    "    sp_src = os.path.join(src_dir, sp)\n",
    "    sp_train_val = os.path.join(train_val_dir, sp)\n",
    "    sp_test = os.path.join(test_dir, sp)\n",
    "    os.makedirs(sp_train_val, exist_ok=True)\n",
    "    os.makedirs(sp_test, exist_ok=True)\n",
    "\n",
    "    # List all images\n",
    "    images = [f for f in os.listdir(sp_src) if os.path.isfile(os.path.join(sp_src, f))]\n",
    "    random.shuffle(images)\n",
    "\n",
    "    split_idx = int(len(images) * train_val_ratio)\n",
    "    train_val_imgs = images[:split_idx]\n",
    "    test_imgs = images[split_idx:]\n",
    "\n",
    "    # Copy files\n",
    "    for f in train_val_imgs:\n",
    "        shutil.copy(os.path.join(sp_src, f), os.path.join(sp_train_val, f))\n",
    "    for f in test_imgs:\n",
    "        shutil.copy(os.path.join(sp_src, f), os.path.join(sp_test, f))\n",
    "\n",
    "    print(f\"{sp}: {len(train_val_imgs)} train_val, {len(test_imgs)} test\")\n",
    "\n",
    "print(\"\\n✅ Dataset split complete!\")\n",
    "print(f\"Train/Val dir: {train_val_dir}\")\n",
    "print(f\"Test dir: {test_dir}\")\n",
    "\n"
   ]
  },
  {
   "cell_type": "markdown",
   "id": "997d8183-b772-4eef-86b6-a4b66ff2a3c1",
   "metadata": {},
   "source": [
    "### 1.13 Split NEW Xenocanto dataset for OOF training"
   ]
  },
  {
   "cell_type": "code",
   "execution_count": 7,
   "id": "09ff590f-54ce-4e50-8005-04fdbbe2b0c6",
   "metadata": {
    "scrolled": true
   },
   "outputs": [
    {
     "name": "stdout",
     "output_type": "stream",
     "text": [
      "001.Black_footed_Albatross: 8 train_val, 2 test\n",
      "002.Laysan_Albatross: 8 train_val, 2 test\n",
      "003.Sooty_Albatross: 6 train_val, 2 test\n",
      "⚠️ No audio found for 004.Groove_billed_Ani, skipping...\n",
      "005.Crested_Auklet: 3 train_val, 1 test\n",
      "006.Least_Auklet: 8 train_val, 2 test\n",
      "007.Parakeet_Auklet: 4 train_val, 2 test\n",
      "008.Rhinoceros_Auklet: 0 train_val, 1 test\n",
      "009.Brewer_Blackbird: 8 train_val, 2 test\n",
      "010.Red_winged_Blackbird: 8 train_val, 2 test\n",
      "011.Rusty_Blackbird: 8 train_val, 2 test\n",
      "012.Yellow_headed_Blackbird: 8 train_val, 2 test\n",
      "013.Bobolink: 8 train_val, 2 test\n",
      "014.Indigo_Bunting: 8 train_val, 2 test\n",
      "015.Lazuli_Bunting: 8 train_val, 2 test\n",
      "016.Painted_Bunting: 8 train_val, 2 test\n",
      "017.Cardinal: 8 train_val, 2 test\n",
      "018.Spotted_Catbird: 8 train_val, 2 test\n",
      "019.Gray_Catbird: 1 train_val, 1 test\n",
      "020.Yellow_breasted_Chat: 4 train_val, 2 test\n",
      "021.Eastern_Towhee: 8 train_val, 2 test\n",
      "022.Chuck_will_Widow: 4 train_val, 2 test\n",
      "023.Brandt_Cormorant: 5 train_val, 2 test\n",
      "024.Red_faced_Cormorant: 4 train_val, 1 test\n",
      "025.Pelagic_Cormorant: 4 train_val, 2 test\n",
      "026.Bronzed_Cowbird: 8 train_val, 2 test\n",
      "027.Shiny_Cowbird: 8 train_val, 2 test\n",
      "028.Brown_Creeper: 8 train_val, 2 test\n",
      "029.American_Crow: 8 train_val, 2 test\n",
      "030.Fish_Crow: 8 train_val, 2 test\n",
      "031.Black_billed_Cuckoo: 7 train_val, 2 test\n",
      "032.Mangrove_Cuckoo: 8 train_val, 2 test\n",
      "033.Yellow_billed_Cuckoo: 8 train_val, 2 test\n",
      "034.Gray_crowned_Rosy_Finch: 8 train_val, 2 test\n",
      "035.Purple_Finch: 8 train_val, 2 test\n",
      "036.Northern_Flicker: 8 train_val, 2 test\n",
      "037.Acadian_Flycatcher: 8 train_val, 2 test\n",
      "038.Great_Crested_Flycatcher: 8 train_val, 2 test\n",
      "039.Least_Flycatcher: 8 train_val, 2 test\n",
      "040.Olive_sided_Flycatcher: 4 train_val, 2 test\n",
      "041.Scissor_tailed_Flycatcher: 7 train_val, 2 test\n",
      "042.Vermilion_Flycatcher: 8 train_val, 2 test\n",
      "043.Yellow_bellied_Flycatcher: 8 train_val, 2 test\n",
      "044.Frigatebird: 8 train_val, 2 test\n",
      "045.Northern_Fulmar: 8 train_val, 2 test\n",
      "046.Gadwall: 8 train_val, 2 test\n",
      "047.American_Goldfinch: 8 train_val, 2 test\n",
      "048.European_Goldfinch: 8 train_val, 2 test\n",
      "049.Boat_tailed_Grackle: 6 train_val, 2 test\n",
      "050.Eared_Grebe: 1 train_val, 1 test\n",
      "051.Horned_Grebe: 8 train_val, 2 test\n",
      "052.Pied_billed_Grebe: 3 train_val, 1 test\n",
      "053.Western_Grebe: 8 train_val, 2 test\n",
      "054.Blue_Grosbeak: 8 train_val, 2 test\n",
      "055.Evening_Grosbeak: 8 train_val, 2 test\n",
      "056.Pine_Grosbeak: 8 train_val, 2 test\n",
      "057.Rose_breasted_Grosbeak: 8 train_val, 3 test\n",
      "058.Pigeon_Guillemot: 8 train_val, 2 test\n",
      "059.California_Gull: 8 train_val, 2 test\n",
      "060.Glaucous_winged_Gull: 7 train_val, 2 test\n",
      "061.Heermann_Gull: 7 train_val, 2 test\n",
      "062.Herring_Gull: 8 train_val, 2 test\n",
      "063.Ivory_Gull: 7 train_val, 2 test\n",
      "064.Ring_billed_Gull: 4 train_val, 2 test\n",
      "065.Slaty_backed_Gull: 8 train_val, 2 test\n",
      "066.Western_Gull: 8 train_val, 2 test\n",
      "067.Anna_Hummingbird: 8 train_val, 2 test\n",
      "068.Ruby_throated_Hummingbird: 6 train_val, 2 test\n",
      "069.Rufous_Hummingbird: 8 train_val, 2 test\n",
      "070.Green_Violetear: 1 train_val, 1 test\n",
      "071.Long_tailed_Jaeger: 2 train_val, 1 test\n",
      "072.Pomarine_Jaeger: 7 train_val, 2 test\n",
      "073.Blue_Jay: 8 train_val, 2 test\n",
      "074.Florida_Jay: 5 train_val, 2 test\n",
      "075.Green_Jay: 8 train_val, 2 test\n",
      "076.Dark_eyed_Junco: 0 train_val, 1 test\n",
      "077.Tropical_Kingbird: 8 train_val, 2 test\n",
      "078.Gray_Kingbird: 5 train_val, 2 test\n",
      "079.Belted_Kingfisher: 8 train_val, 2 test\n",
      "080.Green_Kingfisher: 8 train_val, 2 test\n",
      "081.Pied_Kingfisher: 8 train_val, 2 test\n",
      "082.Ringed_Kingfisher: 8 train_val, 2 test\n",
      "083.White_breasted_Kingfisher: 2 train_val, 1 test\n",
      "084.Red_legged_Kittiwake: 3 train_val, 1 test\n",
      "085.Horned_Lark: 8 train_val, 2 test\n",
      "086.Pacific_Loon: 8 train_val, 2 test\n",
      "087.Mallard: 8 train_val, 2 test\n",
      "088.Western_Meadowlark: 8 train_val, 2 test\n",
      "089.Hooded_Merganser: 8 train_val, 2 test\n",
      "090.Red_breasted_Merganser: 4 train_val, 1 test\n",
      "091.Mockingbird: 8 train_val, 2 test\n",
      "092.Nighthawk: 8 train_val, 2 test\n",
      "093.Clark_Nutcracker: 4 train_val, 1 test\n",
      "094.White_breasted_Nuthatch: 4 train_val, 1 test\n",
      "095.Baltimore_Oriole: 8 train_val, 2 test\n",
      "096.Hooded_Oriole: 8 train_val, 2 test\n",
      "097.Orchard_Oriole: 8 train_val, 2 test\n",
      "098.Scott_Oriole: 2 train_val, 1 test\n",
      "099.Ovenbird: 8 train_val, 2 test\n",
      "100.Brown_Pelic: 8 train_val, 2 test\n",
      "101.White_Pelican: 8 train_val, 2 test\n",
      "102.Western_Wood_Pewee: 8 train_val, 2 test\n",
      "103.Sayornis: 8 train_val, 2 test\n",
      "104.American_Pipit: 0 train_val, 1 test\n",
      "105.Whip_poor_Will: 4 train_val, 1 test\n",
      "106.Horned_Puffin: 0 train_val, 1 test\n",
      "107.Common_Raven: 4 train_val, 1 test\n",
      "108.White_necked_Raven: 4 train_val, 1 test\n",
      "109.American_Redstart: 8 train_val, 2 test\n",
      "110.Geococcyx: 8 train_val, 2 test\n",
      "111.Loggerhead_Shrike: 8 train_val, 2 test\n",
      "112.Great_Grey_Shrike: 8 train_val, 2 test\n",
      "113.Baird_Sparrow: 4 train_val, 1 test\n",
      "114.Black_throated_Sparrow: 2 train_val, 1 test\n",
      "115.Brewer_Sparrow: 1 train_val, 1 test\n",
      "116.Chipping_Sparrow: 8 train_val, 2 test\n",
      "117.Clay_colored_Sparrow: 4 train_val, 1 test\n",
      "118.House_Sparrow: 8 train_val, 2 test\n",
      "119.Field_Sparrow: 8 train_val, 2 test\n",
      "120.Fox_Sparrow: 8 train_val, 2 test\n",
      "121.Grasshopper_Sparrow: 8 train_val, 2 test\n",
      "122.Harris_Sparrow: 4 train_val, 1 test\n",
      "123.Henslow_Sparrow: 4 train_val, 1 test\n",
      "⚠️ No audio found for 124.Le_Conte_Sparrow, skipping...\n",
      "125.Lincoln_Sparrow: 4 train_val, 1 test\n",
      "126.Nelson_Sharp_tailed_Sparrow: 4 train_val, 1 test\n",
      "127.Savannah_Sparrow: 8 train_val, 2 test\n",
      "128.Seaside_Sparrow: 8 train_val, 2 test\n",
      "129.Song_Sparrow: 8 train_val, 2 test\n",
      "130.Tree_Sparrow: 8 train_val, 2 test\n",
      "131.Vesper_Sparrow: 8 train_val, 2 test\n",
      "132.White_crowned_Sparrow: 4 train_val, 1 test\n",
      "133.White_throated_Sparrow: 0 train_val, 1 test\n",
      "134.Cape_Glossy_Starling: 4 train_val, 1 test\n",
      "135.Bank_Swallow: 2 train_val, 1 test\n",
      "136.Barn_Swallow: 8 train_val, 2 test\n",
      "137.Cliff_Swallow: 8 train_val, 2 test\n",
      "138.Tree_Swallow: 8 train_val, 2 test\n",
      "139.Scarlet_Tanager: 8 train_val, 2 test\n",
      "140.Summer_Tanager: 8 train_val, 2 test\n",
      "141.Artic_Tern: 0 train_val, 1 test\n",
      "142.Black_Tern: 8 train_val, 2 test\n",
      "143.Caspian_Tern: 8 train_val, 2 test\n",
      "144.Common_Tern: 8 train_val, 2 test\n",
      "145.Elegant_Tern: 8 train_val, 2 test\n",
      "146.Forsters_Tern: 4 train_val, 1 test\n",
      "147.Least_Tern: 8 train_val, 2 test\n",
      "148.Green_tailed_Towhee: 2 train_val, 1 test\n",
      "149.Brown_Thrasher: 8 train_val, 2 test\n",
      "150.Sage_Thrasher: 8 train_val, 2 test\n",
      "151.Black_capped_Vireo: 1 train_val, 1 test\n",
      "⚠️ No audio found for 152.Blue_headed_Vireo, skipping...\n",
      "153.Philadelphia_Vireo: 8 train_val, 2 test\n",
      "⚠️ No audio found for 154.Red_eyed_Vireo, skipping...\n",
      "155.Warbling_Vireo: 8 train_val, 2 test\n",
      "156.White_eyed_Vireo: 1 train_val, 1 test\n",
      "157.Yellow_throated_Vireo: 4 train_val, 1 test\n",
      "158.Bay_breasted_Warbler: 4 train_val, 1 test\n",
      "159.Black_and_white_Warbler: 4 train_val, 1 test\n",
      "160.Black_throated_Blue_Warbler: 4 train_val, 1 test\n",
      "161.Blue_winged_Warbler: 4 train_val, 1 test\n",
      "162.Canada_Warbler: 8 train_val, 2 test\n",
      "163.Cape_May_Warbler: 8 train_val, 2 test\n",
      "164.Cerulean_Warbler: 8 train_val, 2 test\n",
      "165.Chestnut_sided_Warbler: 4 train_val, 1 test\n",
      "166.Golden_winged_Warbler: 4 train_val, 1 test\n",
      "167.Hooded_Warbler: 8 train_val, 2 test\n",
      "168.Kentucky_Warbler: 8 train_val, 2 test\n",
      "169.Magnolia_Warbler: 8 train_val, 2 test\n",
      "170.Mourning_Warbler: 8 train_val, 2 test\n",
      "171.Myrtle_Warbler: 8 train_val, 2 test\n",
      "172.Nashville_Warbler: 8 train_val, 2 test\n",
      "173.Orange_crowned_Warbler: 2 train_val, 1 test\n",
      "174.Palm_Warbler: 8 train_val, 2 test\n",
      "175.Pine_Warbler: 8 train_val, 2 test\n",
      "176.Prairie_Warbler: 8 train_val, 2 test\n",
      "177.Prothonotary_Warbler: 8 train_val, 2 test\n",
      "178.Swainson_Warbler: 3 train_val, 1 test\n",
      "179.Tennessee_Warbler: 8 train_val, 2 test\n",
      "180.Wilson_Warbler: 4 train_val, 1 test\n",
      "181.Worm_eating_Warbler: 1 train_val, 1 test\n",
      "182.Yellow_Warbler: 8 train_val, 2 test\n",
      "183.Northern_Waterthrush: 8 train_val, 2 test\n",
      "184.Louisiana_Waterthrush: 8 train_val, 2 test\n",
      "185.Bohemian_Waxwing: 8 train_val, 2 test\n",
      "186.Cedar_Waxwing: 8 train_val, 2 test\n",
      "187.American_Three_toed_Woodpecker: 2 train_val, 1 test\n",
      "188.Pileated_Woodpecker: 8 train_val, 2 test\n",
      "189.Red_bellied_Woodpecker: 4 train_val, 1 test\n",
      "190.Red_cockaded_Woodpecker: 3 train_val, 1 test\n",
      "191.Red_headed_Woodpecker: 2 train_val, 1 test\n",
      "192.Downy_Woodpecker: 8 train_val, 2 test\n",
      "193.Bewick_Wren: 4 train_val, 2 test\n",
      "194.Cactus_Wren: 8 train_val, 2 test\n",
      "195.Carolina_Wren: 8 train_val, 2 test\n",
      "196.House_Wren: 8 train_val, 2 test\n",
      "197.Marsh_Wren: 8 train_val, 2 test\n",
      "198.Rock_Wren: 8 train_val, 2 test\n",
      "199.Winter_Wren: 8 train_val, 2 test\n",
      "200.Common_Yellowthroat: 8 train_val, 2 test\n",
      "\n",
      "✅ Audio dataset split complete!\n",
      "Train/Val dir: XENO_OOF\\train_val\n",
      "Test dir: XENO_OOF\\test\n"
     ]
    }
   ],
   "source": [
    "import os\n",
    "import shutil\n",
    "import random\n",
    "\n",
    "# ---------------------------\n",
    "# Config\n",
    "# ---------------------------\n",
    "src_dir = \"bird_dataset_XENO\"     # original dataset\n",
    "dst_dir = \"XENO_OOF\"              # output dataset\n",
    "train_val_ratio = 0.8             # 80% train_val, 20% test\n",
    "random_seed = 42\n",
    "\n",
    "# ---------------------------\n",
    "# Prepare directories\n",
    "# ---------------------------\n",
    "train_val_dir = os.path.join(dst_dir, \"train_val\")\n",
    "test_dir = os.path.join(dst_dir, \"test\")\n",
    "os.makedirs(train_val_dir, exist_ok=True)\n",
    "os.makedirs(test_dir, exist_ok=True)\n",
    "\n",
    "# ---------------------------\n",
    "# Split function\n",
    "# ---------------------------\n",
    "random.seed(random_seed)\n",
    "species_list = [d for d in os.listdir(src_dir) if os.path.isdir(os.path.join(src_dir, d))]\n",
    "\n",
    "for sp in species_list:\n",
    "    sp_src = os.path.join(src_dir, sp)\n",
    "    sp_train_val = os.path.join(train_val_dir, sp)\n",
    "    sp_test = os.path.join(test_dir, sp)\n",
    "    os.makedirs(sp_train_val, exist_ok=True)\n",
    "    os.makedirs(sp_test, exist_ok=True)\n",
    "\n",
    "    # List all audio files (wav, mp3, flac, etc.)\n",
    "    audio_files = [f for f in os.listdir(sp_src) \n",
    "                   if os.path.isfile(os.path.join(sp_src, f)) \n",
    "                   and f.lower().endswith((\".wav\", \".mp3\", \".flac\"))]\n",
    "\n",
    "    if not audio_files:\n",
    "        print(f\"⚠️ No audio found for {sp}, skipping...\")\n",
    "        continue\n",
    "\n",
    "    random.shuffle(audio_files)\n",
    "    split_idx = int(len(audio_files) * train_val_ratio)\n",
    "    train_val_files = audio_files[:split_idx]\n",
    "    test_files = audio_files[split_idx:]\n",
    "\n",
    "    # Copy files\n",
    "    for f in train_val_files:\n",
    "        shutil.copy(os.path.join(sp_src, f), os.path.join(sp_train_val, f))\n",
    "    for f in test_files:\n",
    "        shutil.copy(os.path.join(sp_src, f), os.path.join(sp_test, f))\n",
    "\n",
    "    print(f\"{sp}: {len(train_val_files)} train_val, {len(test_files)} test\")\n",
    "\n",
    "print(\"\\n✅ Audio dataset split complete!\")\n",
    "print(f\"Train/Val dir: {train_val_dir}\")\n",
    "print(f\"Test dir: {test_dir}\")\n"
   ]
  },
  {
   "cell_type": "markdown",
   "id": "27f7384f-b9ef-4a6c-aa2e-99a7ae075f90",
   "metadata": {},
   "source": [
    "## 1.2 Model Training"
   ]
  },
  {
   "cell_type": "markdown",
   "id": "44baae0d-a605-45e7-be08-fc0a9c71c709",
   "metadata": {},
   "source": [
    "### 1.21 Train EfficientNet on CUB (OOF)"
   ]
  },
  {
   "cell_type": "code",
   "execution_count": 4,
   "id": "14d33394-0fe0-490d-85d2-488fdd58cffb",
   "metadata": {
    "scrolled": true
   },
   "outputs": [
    {
     "name": "stdout",
     "output_type": "stream",
     "text": [
      "\n",
      "===== Fold 1/5 =====\n"
     ]
    },
    {
     "name": "stderr",
     "output_type": "stream",
     "text": [
      "C:\\Users\\jayme\\anaconda3\\envs\\bird-env\\lib\\site-packages\\torchvision\\models\\_utils.py:208: UserWarning: The parameter 'pretrained' is deprecated since 0.13 and may be removed in the future, please use 'weights' instead.\n",
      "  warnings.warn(\n",
      "C:\\Users\\jayme\\anaconda3\\envs\\bird-env\\lib\\site-packages\\torchvision\\models\\_utils.py:223: UserWarning: Arguments other than a weight enum or `None` for 'weights' are deprecated since 0.13 and may be removed in the future. The current behavior is equivalent to passing `weights=EfficientNet_B0_Weights.IMAGENET1K_V1`. You can also use `weights=EfficientNet_B0_Weights.DEFAULT` to get the most up-to-date weights.\n",
      "  warnings.warn(msg)\n"
     ]
    },
    {
     "name": "stdout",
     "output_type": "stream",
     "text": [
      "Fold 1 | Epoch 1/10 | Loss: 4.7961\n",
      "Fold 1 | Epoch 2/10 | Loss: 3.0160\n",
      "Fold 1 | Epoch 3/10 | Loss: 1.9160\n",
      "Fold 1 | Epoch 4/10 | Loss: 1.3181\n",
      "Fold 1 | Epoch 5/10 | Loss: 0.9452\n",
      "Fold 1 | Epoch 6/10 | Loss: 0.7036\n",
      "Fold 1 | Epoch 7/10 | Loss: 0.5423\n",
      "Fold 1 | Epoch 8/10 | Loss: 0.4139\n",
      "Fold 1 | Epoch 9/10 | Loss: 0.3223\n",
      "Fold 1 | Epoch 10/10 | Loss: 0.2616\n",
      "\n",
      "===== Fold 2/5 =====\n",
      "Fold 2 | Epoch 1/10 | Loss: 4.8043\n",
      "Fold 2 | Epoch 2/10 | Loss: 3.0517\n",
      "Fold 2 | Epoch 3/10 | Loss: 1.9450\n",
      "Fold 2 | Epoch 4/10 | Loss: 1.3262\n",
      "Fold 2 | Epoch 5/10 | Loss: 0.9617\n",
      "Fold 2 | Epoch 6/10 | Loss: 0.7051\n",
      "Fold 2 | Epoch 7/10 | Loss: 0.5428\n",
      "Fold 2 | Epoch 8/10 | Loss: 0.4315\n",
      "Fold 2 | Epoch 9/10 | Loss: 0.3297\n",
      "Fold 2 | Epoch 10/10 | Loss: 0.2615\n",
      "\n",
      "===== Fold 3/5 =====\n",
      "Fold 3 | Epoch 1/10 | Loss: 4.7793\n",
      "Fold 3 | Epoch 2/10 | Loss: 3.0499\n",
      "Fold 3 | Epoch 3/10 | Loss: 1.9458\n",
      "Fold 3 | Epoch 4/10 | Loss: 1.3274\n",
      "Fold 3 | Epoch 5/10 | Loss: 0.9704\n",
      "Fold 3 | Epoch 6/10 | Loss: 0.7135\n",
      "Fold 3 | Epoch 7/10 | Loss: 0.5491\n",
      "Fold 3 | Epoch 8/10 | Loss: 0.4204\n",
      "Fold 3 | Epoch 9/10 | Loss: 0.3311\n",
      "Fold 3 | Epoch 10/10 | Loss: 0.2613\n",
      "\n",
      "===== Fold 4/5 =====\n",
      "Fold 4 | Epoch 1/10 | Loss: 4.8164\n",
      "Fold 4 | Epoch 2/10 | Loss: 3.0929\n",
      "Fold 4 | Epoch 3/10 | Loss: 1.9562\n",
      "Fold 4 | Epoch 4/10 | Loss: 1.3296\n",
      "Fold 4 | Epoch 5/10 | Loss: 0.9560\n",
      "Fold 4 | Epoch 6/10 | Loss: 0.7199\n",
      "Fold 4 | Epoch 7/10 | Loss: 0.5556\n",
      "Fold 4 | Epoch 8/10 | Loss: 0.4245\n",
      "Fold 4 | Epoch 9/10 | Loss: 0.3250\n",
      "Fold 4 | Epoch 10/10 | Loss: 0.2517\n",
      "\n",
      "===== Fold 5/5 =====\n",
      "Fold 5 | Epoch 1/10 | Loss: 4.7977\n",
      "Fold 5 | Epoch 2/10 | Loss: 3.0325\n",
      "Fold 5 | Epoch 3/10 | Loss: 1.9147\n",
      "Fold 5 | Epoch 4/10 | Loss: 1.3342\n",
      "Fold 5 | Epoch 5/10 | Loss: 0.9499\n",
      "Fold 5 | Epoch 6/10 | Loss: 0.7146\n",
      "Fold 5 | Epoch 7/10 | Loss: 0.5389\n",
      "Fold 5 | Epoch 8/10 | Loss: 0.4179\n",
      "Fold 5 | Epoch 9/10 | Loss: 0.3292\n",
      "Fold 5 | Epoch 10/10 | Loss: 0.2536\n",
      "✅ Finished OOF training and saved predictions.\n"
     ]
    }
   ],
   "source": [
    "import torch\n",
    "import torch.nn as nn\n",
    "import torch.optim as optim\n",
    "from torch.utils.data import DataLoader, Subset\n",
    "from torchvision import datasets, transforms, models\n",
    "from sklearn.model_selection import KFold\n",
    "import numpy as np\n",
    "\n",
    "# -----------------------------\n",
    "# Config\n",
    "# -----------------------------\n",
    "data_dir = \"CUB_split_OOF/train_val\"   # train+val merged\n",
    "test_dir = \"CUB_split_OOF/test\"        # untouched final test set\n",
    "num_classes = 200  # adjust for your dataset\n",
    "batch_size = 32\n",
    "epochs = 10\n",
    "k_folds = 5\n",
    "device = torch.device(\"cuda\" if torch.cuda.is_available() else \"cpu\")\n",
    "\n",
    "# -----------------------------\n",
    "# Transforms\n",
    "# -----------------------------\n",
    "train_transform = transforms.Compose([\n",
    "    transforms.Resize((224, 224)),\n",
    "    transforms.RandomHorizontalFlip(),\n",
    "    transforms.ToTensor(),\n",
    "    transforms.Normalize([0.485, 0.456, 0.406],\n",
    "                         [0.229, 0.224, 0.225])\n",
    "])\n",
    "\n",
    "test_transform = transforms.Compose([\n",
    "    transforms.Resize((224, 224)),\n",
    "    transforms.ToTensor(),\n",
    "    transforms.Normalize([0.485, 0.456, 0.406],\n",
    "                         [0.229, 0.224, 0.225])\n",
    "])\n",
    "\n",
    "# -----------------------------\n",
    "# Dataset & KFold Setup\n",
    "# -----------------------------\n",
    "dataset = datasets.ImageFolder(root=data_dir, transform=train_transform)\n",
    "test_dataset = datasets.ImageFolder(root=test_dir, transform=test_transform)\n",
    "test_loader = DataLoader(test_dataset, batch_size=batch_size, shuffle=False)\n",
    "\n",
    "kf = KFold(n_splits=k_folds, shuffle=True, random_state=42)\n",
    "\n",
    "# OOF predictions storage\n",
    "oof_preds = np.zeros((len(dataset), num_classes))\n",
    "oof_targets = np.zeros(len(dataset))\n",
    "\n",
    "# -----------------------------\n",
    "# Training Loop per Fold\n",
    "# -----------------------------\n",
    "for fold, (train_idx, val_idx) in enumerate(kf.split(dataset)):\n",
    "    print(f\"\\n===== Fold {fold+1}/{k_folds} =====\")\n",
    "\n",
    "    # Subset samplers\n",
    "    train_subset = Subset(dataset, train_idx)\n",
    "    val_subset = Subset(dataset, val_idx)\n",
    "\n",
    "    train_loader = DataLoader(train_subset, batch_size=batch_size, shuffle=True)\n",
    "    val_loader = DataLoader(val_subset, batch_size=batch_size, shuffle=False)\n",
    "\n",
    "    # Model: EfficientNet\n",
    "    model = models.efficientnet_b0(pretrained=True)\n",
    "    model.classifier[1] = nn.Linear(model.classifier[1].in_features, num_classes)\n",
    "    model = model.to(device)\n",
    "\n",
    "    criterion = nn.CrossEntropyLoss()\n",
    "    optimizer = optim.Adam(model.parameters(), lr=1e-4)\n",
    "\n",
    "    # Train\n",
    "    for epoch in range(epochs):\n",
    "        model.train()\n",
    "        running_loss = 0.0\n",
    "        for images, labels in train_loader:\n",
    "            images, labels = images.to(device), labels.to(device)\n",
    "            optimizer.zero_grad()\n",
    "            outputs = model(images)\n",
    "            loss = criterion(outputs, labels)\n",
    "            loss.backward()\n",
    "            optimizer.step()\n",
    "            running_loss += loss.item()\n",
    "        print(f\"Fold {fold+1} | Epoch {epoch+1}/{epochs} | Loss: {running_loss/len(train_loader):.4f}\")\n",
    "\n",
    "    # Validation (OOF predictions)\n",
    "    model.eval()\n",
    "    with torch.no_grad():\n",
    "        for i, (images, labels) in enumerate(val_loader):\n",
    "            images, labels = images.to(device), labels.to(device)\n",
    "            outputs = model(images)\n",
    "            probs = torch.softmax(outputs, dim=1).cpu().numpy()\n",
    "            start = i * batch_size\n",
    "            end = start + len(labels)\n",
    "            oof_preds[val_idx[start:end]] = probs\n",
    "            oof_targets[val_idx[start:end]] = labels.cpu().numpy()\n",
    "\n",
    "# -----------------------------\n",
    "# Save OOF results\n",
    "# -----------------------------\n",
    "np.save(\"efficientnet_oof_preds.npy\", oof_preds)\n",
    "np.save(\"efficientnet_oof_targets.npy\", oof_targets)\n",
    "\n",
    "print(\"✅ Finished OOF training and saved predictions.\")\n"
   ]
  },
  {
   "cell_type": "markdown",
   "id": "6499bd35-844c-496f-8e97-2c69e484cc13",
   "metadata": {},
   "source": [
    "### 1.22 Train ResNet on iNat dataset (OOF)"
   ]
  },
  {
   "cell_type": "code",
   "execution_count": 3,
   "id": "4d086e89-4e93-4a29-b1cc-907cd4f03617",
   "metadata": {
    "scrolled": true
   },
   "outputs": [
    {
     "name": "stdout",
     "output_type": "stream",
     "text": [
      "\n",
      "📂 Fold 1/5\n"
     ]
    },
    {
     "name": "stderr",
     "output_type": "stream",
     "text": [
      "Fold 1 Epoch 1/10: 100%|██████████| 81/81 [03:23<00:00,  2.51s/it]\n"
     ]
    },
    {
     "name": "stdout",
     "output_type": "stream",
     "text": [
      "Train Loss: 5.2218, Train Acc: 4.75%\n",
      "Val Loss: 4.8255, Val Acc: 10.87%\n"
     ]
    },
    {
     "name": "stderr",
     "output_type": "stream",
     "text": [
      "Fold 1 Epoch 2/10: 100%|██████████| 81/81 [03:43<00:00,  2.76s/it]\n"
     ]
    },
    {
     "name": "stdout",
     "output_type": "stream",
     "text": [
      "Train Loss: 3.8822, Train Acc: 32.14%\n",
      "Val Loss: 4.1828, Val Acc: 20.50%\n"
     ]
    },
    {
     "name": "stderr",
     "output_type": "stream",
     "text": [
      "Fold 1 Epoch 3/10: 100%|██████████| 81/81 [04:18<00:00,  3.20s/it]\n"
     ]
    },
    {
     "name": "stdout",
     "output_type": "stream",
     "text": [
      "Train Loss: 2.7828, Train Acc: 62.72%\n",
      "Val Loss: 3.6590, Val Acc: 27.33%\n"
     ]
    },
    {
     "name": "stderr",
     "output_type": "stream",
     "text": [
      "Fold 1 Epoch 4/10: 100%|██████████| 81/81 [04:23<00:00,  3.26s/it]\n"
     ]
    },
    {
     "name": "stdout",
     "output_type": "stream",
     "text": [
      "Train Loss: 1.8085, Train Acc: 82.49%\n",
      "Val Loss: 3.3264, Val Acc: 34.47%\n"
     ]
    },
    {
     "name": "stderr",
     "output_type": "stream",
     "text": [
      "Fold 1 Epoch 5/10: 100%|██████████| 81/81 [03:53<00:00,  2.89s/it]\n"
     ]
    },
    {
     "name": "stdout",
     "output_type": "stream",
     "text": [
      "Train Loss: 1.0700, Train Acc: 94.01%\n",
      "Val Loss: 2.9598, Val Acc: 40.37%\n"
     ]
    },
    {
     "name": "stderr",
     "output_type": "stream",
     "text": [
      "Fold 1 Epoch 6/10: 100%|██████████| 81/81 [03:34<00:00,  2.64s/it]\n"
     ]
    },
    {
     "name": "stdout",
     "output_type": "stream",
     "text": [
      "Train Loss: 0.5462, Train Acc: 98.13%\n",
      "Val Loss: 2.7723, Val Acc: 43.79%\n"
     ]
    },
    {
     "name": "stderr",
     "output_type": "stream",
     "text": [
      "Fold 1 Epoch 7/10: 100%|██████████| 81/81 [03:33<00:00,  2.64s/it]\n"
     ]
    },
    {
     "name": "stdout",
     "output_type": "stream",
     "text": [
      "Train Loss: 0.2763, Train Acc: 99.38%\n",
      "Val Loss: 2.6794, Val Acc: 46.89%\n"
     ]
    },
    {
     "name": "stderr",
     "output_type": "stream",
     "text": [
      "Fold 1 Epoch 8/10: 100%|██████████| 81/81 [03:33<00:00,  2.64s/it]\n"
     ]
    },
    {
     "name": "stdout",
     "output_type": "stream",
     "text": [
      "Train Loss: 0.1569, Train Acc: 99.61%\n",
      "Val Loss: 2.7097, Val Acc: 45.65%\n"
     ]
    },
    {
     "name": "stderr",
     "output_type": "stream",
     "text": [
      "Fold 1 Epoch 9/10: 100%|██████████| 81/81 [03:33<00:00,  2.64s/it]\n"
     ]
    },
    {
     "name": "stdout",
     "output_type": "stream",
     "text": [
      "Train Loss: 0.0985, Train Acc: 99.84%\n",
      "Val Loss: 2.6640, Val Acc: 48.14%\n"
     ]
    },
    {
     "name": "stderr",
     "output_type": "stream",
     "text": [
      "Fold 1 Epoch 10/10: 100%|██████████| 81/81 [03:33<00:00,  2.64s/it]\n"
     ]
    },
    {
     "name": "stdout",
     "output_type": "stream",
     "text": [
      "Train Loss: 0.0709, Train Acc: 99.92%\n",
      "Val Loss: 2.6479, Val Acc: 46.58%\n",
      "\n",
      "📂 Fold 2/5\n"
     ]
    },
    {
     "name": "stderr",
     "output_type": "stream",
     "text": [
      "Fold 2 Epoch 1/10: 100%|██████████| 81/81 [03:33<00:00,  2.64s/it]\n"
     ]
    },
    {
     "name": "stdout",
     "output_type": "stream",
     "text": [
      "Train Loss: 5.2118, Train Acc: 4.98%\n",
      "Val Loss: 4.8203, Val Acc: 7.45%\n"
     ]
    },
    {
     "name": "stderr",
     "output_type": "stream",
     "text": [
      "Fold 2 Epoch 2/10: 100%|██████████| 81/81 [03:33<00:00,  2.64s/it]\n"
     ]
    },
    {
     "name": "stdout",
     "output_type": "stream",
     "text": [
      "Train Loss: 3.8814, Train Acc: 33.54%\n",
      "Val Loss: 4.2851, Val Acc: 16.46%\n"
     ]
    },
    {
     "name": "stderr",
     "output_type": "stream",
     "text": [
      "Fold 2 Epoch 3/10: 100%|██████████| 81/81 [03:50<00:00,  2.84s/it]\n"
     ]
    },
    {
     "name": "stdout",
     "output_type": "stream",
     "text": [
      "Train Loss: 2.8013, Train Acc: 60.23%\n",
      "Val Loss: 3.8219, Val Acc: 27.64%\n"
     ]
    },
    {
     "name": "stderr",
     "output_type": "stream",
     "text": [
      "Fold 2 Epoch 4/10: 100%|██████████| 81/81 [04:06<00:00,  3.05s/it]\n"
     ]
    },
    {
     "name": "stdout",
     "output_type": "stream",
     "text": [
      "Train Loss: 1.8570, Train Acc: 81.09%\n",
      "Val Loss: 3.4228, Val Acc: 35.09%\n"
     ]
    },
    {
     "name": "stderr",
     "output_type": "stream",
     "text": [
      "Fold 2 Epoch 5/10: 100%|██████████| 81/81 [04:08<00:00,  3.06s/it]\n"
     ]
    },
    {
     "name": "stdout",
     "output_type": "stream",
     "text": [
      "Train Loss: 1.0955, Train Acc: 92.37%\n",
      "Val Loss: 3.2125, Val Acc: 38.20%\n"
     ]
    },
    {
     "name": "stderr",
     "output_type": "stream",
     "text": [
      "Fold 2 Epoch 6/10: 100%|██████████| 81/81 [04:38<00:00,  3.43s/it]\n"
     ]
    },
    {
     "name": "stdout",
     "output_type": "stream",
     "text": [
      "Train Loss: 0.5812, Train Acc: 97.98%\n",
      "Val Loss: 3.0484, Val Acc: 40.68%\n"
     ]
    },
    {
     "name": "stderr",
     "output_type": "stream",
     "text": [
      "Fold 2 Epoch 7/10: 100%|██████████| 81/81 [04:20<00:00,  3.21s/it]\n"
     ]
    },
    {
     "name": "stdout",
     "output_type": "stream",
     "text": [
      "Train Loss: 0.2876, Train Acc: 99.38%\n",
      "Val Loss: 2.9304, Val Acc: 44.10%\n"
     ]
    },
    {
     "name": "stderr",
     "output_type": "stream",
     "text": [
      "Fold 2 Epoch 8/10: 100%|██████████| 81/81 [03:54<00:00,  2.89s/it]\n"
     ]
    },
    {
     "name": "stdout",
     "output_type": "stream",
     "text": [
      "Train Loss: 0.1658, Train Acc: 99.77%\n",
      "Val Loss: 2.9070, Val Acc: 46.27%\n"
     ]
    },
    {
     "name": "stderr",
     "output_type": "stream",
     "text": [
      "Fold 2 Epoch 9/10: 100%|██████████| 81/81 [03:54<00:00,  2.90s/it]\n"
     ]
    },
    {
     "name": "stdout",
     "output_type": "stream",
     "text": [
      "Train Loss: 0.1020, Train Acc: 99.61%\n",
      "Val Loss: 2.9029, Val Acc: 45.96%\n"
     ]
    },
    {
     "name": "stderr",
     "output_type": "stream",
     "text": [
      "Fold 2 Epoch 10/10: 100%|██████████| 81/81 [04:09<00:00,  3.08s/it]\n"
     ]
    },
    {
     "name": "stdout",
     "output_type": "stream",
     "text": [
      "Train Loss: 0.0797, Train Acc: 99.53%\n",
      "Val Loss: 2.8797, Val Acc: 46.58%\n",
      "\n",
      "📂 Fold 3/5\n"
     ]
    },
    {
     "name": "stderr",
     "output_type": "stream",
     "text": [
      "Fold 3 Epoch 1/10: 100%|██████████| 81/81 [04:15<00:00,  3.16s/it]\n"
     ]
    },
    {
     "name": "stdout",
     "output_type": "stream",
     "text": [
      "Train Loss: 5.2611, Train Acc: 4.43%\n",
      "Val Loss: 4.7917, Val Acc: 12.15%\n"
     ]
    },
    {
     "name": "stderr",
     "output_type": "stream",
     "text": [
      "Fold 3 Epoch 2/10: 100%|██████████| 81/81 [03:59<00:00,  2.95s/it]\n"
     ]
    },
    {
     "name": "stdout",
     "output_type": "stream",
     "text": [
      "Train Loss: 3.9344, Train Acc: 31.80%\n",
      "Val Loss: 4.1290, Val Acc: 18.69%\n"
     ]
    },
    {
     "name": "stderr",
     "output_type": "stream",
     "text": [
      "Fold 3 Epoch 3/10: 100%|██████████| 81/81 [04:01<00:00,  2.99s/it]\n"
     ]
    },
    {
     "name": "stdout",
     "output_type": "stream",
     "text": [
      "Train Loss: 2.8090, Train Acc: 60.26%\n",
      "Val Loss: 3.5450, Val Acc: 31.46%\n"
     ]
    },
    {
     "name": "stderr",
     "output_type": "stream",
     "text": [
      "Fold 3 Epoch 4/10: 100%|██████████| 81/81 [03:54<00:00,  2.89s/it]\n"
     ]
    },
    {
     "name": "stdout",
     "output_type": "stream",
     "text": [
      "Train Loss: 1.8460, Train Acc: 81.65%\n",
      "Val Loss: 3.2187, Val Acc: 37.38%\n"
     ]
    },
    {
     "name": "stderr",
     "output_type": "stream",
     "text": [
      "Fold 3 Epoch 5/10: 100%|██████████| 81/81 [03:32<00:00,  2.63s/it]\n"
     ]
    },
    {
     "name": "stdout",
     "output_type": "stream",
     "text": [
      "Train Loss: 1.0993, Train Acc: 93.16%\n",
      "Val Loss: 2.9249, Val Acc: 42.99%\n"
     ]
    },
    {
     "name": "stderr",
     "output_type": "stream",
     "text": [
      "Fold 3 Epoch 6/10: 100%|██████████| 81/81 [03:39<00:00,  2.70s/it]\n"
     ]
    },
    {
     "name": "stdout",
     "output_type": "stream",
     "text": [
      "Train Loss: 0.5924, Train Acc: 97.05%\n",
      "Val Loss: 2.7786, Val Acc: 44.55%\n"
     ]
    },
    {
     "name": "stderr",
     "output_type": "stream",
     "text": [
      "Fold 3 Epoch 7/10: 100%|██████████| 81/81 [04:07<00:00,  3.05s/it]\n"
     ]
    },
    {
     "name": "stdout",
     "output_type": "stream",
     "text": [
      "Train Loss: 0.2986, Train Acc: 99.07%\n",
      "Val Loss: 2.6898, Val Acc: 44.24%\n"
     ]
    },
    {
     "name": "stderr",
     "output_type": "stream",
     "text": [
      "Fold 3 Epoch 8/10: 100%|██████████| 81/81 [04:09<00:00,  3.09s/it]\n"
     ]
    },
    {
     "name": "stdout",
     "output_type": "stream",
     "text": [
      "Train Loss: 0.1577, Train Acc: 99.30%\n",
      "Val Loss: 2.6169, Val Acc: 43.30%\n"
     ]
    },
    {
     "name": "stderr",
     "output_type": "stream",
     "text": [
      "Fold 3 Epoch 9/10: 100%|██████████| 81/81 [04:11<00:00,  3.11s/it]\n"
     ]
    },
    {
     "name": "stdout",
     "output_type": "stream",
     "text": [
      "Train Loss: 0.1114, Train Acc: 99.14%\n",
      "Val Loss: 2.6039, Val Acc: 46.73%\n"
     ]
    },
    {
     "name": "stderr",
     "output_type": "stream",
     "text": [
      "Fold 3 Epoch 10/10: 100%|██████████| 81/81 [04:10<00:00,  3.09s/it]\n"
     ]
    },
    {
     "name": "stdout",
     "output_type": "stream",
     "text": [
      "Train Loss: 0.0780, Train Acc: 99.38%\n",
      "Val Loss: 2.5932, Val Acc: 45.17%\n",
      "\n",
      "📂 Fold 4/5\n"
     ]
    },
    {
     "name": "stderr",
     "output_type": "stream",
     "text": [
      "Fold 4 Epoch 1/10: 100%|██████████| 81/81 [04:01<00:00,  2.98s/it]\n"
     ]
    },
    {
     "name": "stdout",
     "output_type": "stream",
     "text": [
      "Train Loss: 5.2215, Train Acc: 5.13%\n",
      "Val Loss: 4.7810, Val Acc: 13.08%\n"
     ]
    },
    {
     "name": "stderr",
     "output_type": "stream",
     "text": [
      "Fold 4 Epoch 2/10: 100%|██████████| 81/81 [04:09<00:00,  3.08s/it]\n"
     ]
    },
    {
     "name": "stdout",
     "output_type": "stream",
     "text": [
      "Train Loss: 3.8645, Train Acc: 36.55%\n",
      "Val Loss: 4.1065, Val Acc: 24.30%\n"
     ]
    },
    {
     "name": "stderr",
     "output_type": "stream",
     "text": [
      "Fold 4 Epoch 3/10: 100%|██████████| 81/81 [04:05<00:00,  3.04s/it]\n"
     ]
    },
    {
     "name": "stdout",
     "output_type": "stream",
     "text": [
      "Train Loss: 2.7572, Train Acc: 64.31%\n",
      "Val Loss: 3.6130, Val Acc: 30.53%\n"
     ]
    },
    {
     "name": "stderr",
     "output_type": "stream",
     "text": [
      "Fold 4 Epoch 4/10: 100%|██████████| 81/81 [03:57<00:00,  2.93s/it]\n"
     ]
    },
    {
     "name": "stdout",
     "output_type": "stream",
     "text": [
      "Train Loss: 1.7678, Train Acc: 82.12%\n",
      "Val Loss: 3.3053, Val Acc: 35.51%\n"
     ]
    },
    {
     "name": "stderr",
     "output_type": "stream",
     "text": [
      "Fold 4 Epoch 5/10: 100%|██████████| 81/81 [04:14<00:00,  3.14s/it]\n"
     ]
    },
    {
     "name": "stdout",
     "output_type": "stream",
     "text": [
      "Train Loss: 1.0205, Train Acc: 93.78%\n",
      "Val Loss: 3.0216, Val Acc: 38.01%\n"
     ]
    },
    {
     "name": "stderr",
     "output_type": "stream",
     "text": [
      "Fold 4 Epoch 6/10: 100%|██████████| 81/81 [04:06<00:00,  3.04s/it]\n"
     ]
    },
    {
     "name": "stdout",
     "output_type": "stream",
     "text": [
      "Train Loss: 0.5254, Train Acc: 98.13%\n",
      "Val Loss: 2.8976, Val Acc: 41.12%\n"
     ]
    },
    {
     "name": "stderr",
     "output_type": "stream",
     "text": [
      "Fold 4 Epoch 7/10: 100%|██████████| 81/81 [04:10<00:00,  3.09s/it]\n"
     ]
    },
    {
     "name": "stdout",
     "output_type": "stream",
     "text": [
      "Train Loss: 0.2689, Train Acc: 98.99%\n",
      "Val Loss: 2.8118, Val Acc: 43.61%\n"
     ]
    },
    {
     "name": "stderr",
     "output_type": "stream",
     "text": [
      "Fold 4 Epoch 8/10: 100%|██████████| 81/81 [04:02<00:00,  2.99s/it]\n"
     ]
    },
    {
     "name": "stdout",
     "output_type": "stream",
     "text": [
      "Train Loss: 0.1633, Train Acc: 98.91%\n",
      "Val Loss: 2.7718, Val Acc: 43.30%\n"
     ]
    },
    {
     "name": "stderr",
     "output_type": "stream",
     "text": [
      "Fold 4 Epoch 9/10: 100%|██████████| 81/81 [03:54<00:00,  2.89s/it]\n"
     ]
    },
    {
     "name": "stdout",
     "output_type": "stream",
     "text": [
      "Train Loss: 0.1030, Train Acc: 99.30%\n",
      "Val Loss: 2.7915, Val Acc: 44.86%\n"
     ]
    },
    {
     "name": "stderr",
     "output_type": "stream",
     "text": [
      "Fold 4 Epoch 10/10: 100%|██████████| 81/81 [04:11<00:00,  3.10s/it]\n"
     ]
    },
    {
     "name": "stdout",
     "output_type": "stream",
     "text": [
      "Train Loss: 0.0793, Train Acc: 99.14%\n",
      "Val Loss: 2.7642, Val Acc: 43.61%\n",
      "\n",
      "📂 Fold 5/5\n"
     ]
    },
    {
     "name": "stderr",
     "output_type": "stream",
     "text": [
      "Fold 5 Epoch 1/10: 100%|██████████| 81/81 [04:11<00:00,  3.10s/it]\n"
     ]
    },
    {
     "name": "stdout",
     "output_type": "stream",
     "text": [
      "Train Loss: 5.2103, Train Acc: 4.82%\n",
      "Val Loss: 4.8548, Val Acc: 7.79%\n"
     ]
    },
    {
     "name": "stderr",
     "output_type": "stream",
     "text": [
      "Fold 5 Epoch 2/10: 100%|██████████| 81/81 [03:56<00:00,  2.91s/it]\n"
     ]
    },
    {
     "name": "stdout",
     "output_type": "stream",
     "text": [
      "Train Loss: 3.8238, Train Acc: 35.30%\n",
      "Val Loss: 4.3259, Val Acc: 19.63%\n"
     ]
    },
    {
     "name": "stderr",
     "output_type": "stream",
     "text": [
      "Fold 5 Epoch 3/10: 100%|██████████| 81/81 [03:56<00:00,  2.91s/it]\n"
     ]
    },
    {
     "name": "stdout",
     "output_type": "stream",
     "text": [
      "Train Loss: 2.6946, Train Acc: 63.61%\n",
      "Val Loss: 3.8118, Val Acc: 25.86%\n"
     ]
    },
    {
     "name": "stderr",
     "output_type": "stream",
     "text": [
      "Fold 5 Epoch 4/10: 100%|██████████| 81/81 [03:55<00:00,  2.91s/it]\n"
     ]
    },
    {
     "name": "stdout",
     "output_type": "stream",
     "text": [
      "Train Loss: 1.7394, Train Acc: 82.35%\n",
      "Val Loss: 3.5035, Val Acc: 34.27%\n"
     ]
    },
    {
     "name": "stderr",
     "output_type": "stream",
     "text": [
      "Fold 5 Epoch 5/10: 100%|██████████| 81/81 [04:04<00:00,  3.02s/it]\n"
     ]
    },
    {
     "name": "stdout",
     "output_type": "stream",
     "text": [
      "Train Loss: 1.0269, Train Acc: 93.78%\n",
      "Val Loss: 3.2394, Val Acc: 35.83%\n"
     ]
    },
    {
     "name": "stderr",
     "output_type": "stream",
     "text": [
      "Fold 5 Epoch 6/10: 100%|██████████| 81/81 [04:15<00:00,  3.15s/it]\n"
     ]
    },
    {
     "name": "stdout",
     "output_type": "stream",
     "text": [
      "Train Loss: 0.5214, Train Acc: 98.52%\n",
      "Val Loss: 2.9896, Val Acc: 37.38%\n"
     ]
    },
    {
     "name": "stderr",
     "output_type": "stream",
     "text": [
      "Fold 5 Epoch 7/10: 100%|██████████| 81/81 [03:49<00:00,  2.84s/it]\n"
     ]
    },
    {
     "name": "stdout",
     "output_type": "stream",
     "text": [
      "Train Loss: 0.2640, Train Acc: 98.91%\n",
      "Val Loss: 2.9130, Val Acc: 38.63%\n"
     ]
    },
    {
     "name": "stderr",
     "output_type": "stream",
     "text": [
      "Fold 5 Epoch 8/10: 100%|██████████| 81/81 [03:29<00:00,  2.59s/it]\n"
     ]
    },
    {
     "name": "stdout",
     "output_type": "stream",
     "text": [
      "Train Loss: 0.1578, Train Acc: 99.53%\n",
      "Val Loss: 2.8653, Val Acc: 41.12%\n"
     ]
    },
    {
     "name": "stderr",
     "output_type": "stream",
     "text": [
      "Fold 5 Epoch 9/10: 100%|██████████| 81/81 [03:30<00:00,  2.59s/it]\n"
     ]
    },
    {
     "name": "stdout",
     "output_type": "stream",
     "text": [
      "Train Loss: 0.1045, Train Acc: 99.46%\n",
      "Val Loss: 2.8721, Val Acc: 40.50%\n"
     ]
    },
    {
     "name": "stderr",
     "output_type": "stream",
     "text": [
      "Fold 5 Epoch 10/10: 100%|██████████| 81/81 [03:29<00:00,  2.58s/it]\n"
     ]
    },
    {
     "name": "stdout",
     "output_type": "stream",
     "text": [
      "Train Loss: 0.0678, Train Acc: 99.53%\n",
      "Val Loss: 2.8369, Val Acc: 40.50%\n",
      "✅ Finished OOF training for ResNet on iNat!\n"
     ]
    }
   ],
   "source": [
    "import os\n",
    "import torch\n",
    "import torch.nn as nn\n",
    "import torch.optim as optim\n",
    "from torchvision import models, datasets, transforms\n",
    "from torch.utils.data import DataLoader, Subset\n",
    "from sklearn.model_selection import KFold\n",
    "import numpy as np\n",
    "from tqdm import tqdm\n",
    "\n",
    "# -------------------------\n",
    "# Config\n",
    "# -------------------------\n",
    "data_dir = \"iNat_OOF/train_val\"   \n",
    "num_classes = 200   # <-- update with the actual number of iNat species\n",
    "batch_size = 16\n",
    "num_epochs = 10\n",
    "k_folds = 5\n",
    "device = torch.device(\"cuda\" if torch.cuda.is_available() else \"cpu\")\n",
    "\n",
    "# -------------------------\n",
    "# Data transforms\n",
    "# -------------------------\n",
    "transform = transforms.Compose([\n",
    "    transforms.Resize((224, 224)),\n",
    "    transforms.ToTensor(),\n",
    "    transforms.Normalize([0.485, 0.456, 0.406], \n",
    "                         [0.229, 0.224, 0.225])\n",
    "])\n",
    "\n",
    "dataset = datasets.ImageFolder(data_dir, transform=transform)\n",
    "\n",
    "# Prepare OOF prediction storage\n",
    "oof_preds = np.zeros((len(dataset), num_classes))\n",
    "oof_targets = np.zeros(len(dataset))\n",
    "\n",
    "# -------------------------\n",
    "# Define model builder\n",
    "# -------------------------\n",
    "def build_model(num_classes):\n",
    "    model = models.resnet50(pretrained=True)\n",
    "    model.fc = nn.Linear(model.fc.in_features, num_classes)\n",
    "    return model.to(device)\n",
    "\n",
    "# -------------------------\n",
    "# K-Fold CV Loop\n",
    "# -------------------------\n",
    "kf = KFold(n_splits=k_folds, shuffle=True, random_state=42)\n",
    "\n",
    "for fold, (train_idx, val_idx) in enumerate(kf.split(np.arange(len(dataset)))):\n",
    "    print(f\"\\n📂 Fold {fold+1}/{k_folds}\")\n",
    "\n",
    "    # Subset samplers\n",
    "    train_subset = Subset(dataset, train_idx)\n",
    "    val_subset = Subset(dataset, val_idx)\n",
    "\n",
    "    train_loader = DataLoader(train_subset, batch_size=batch_size, shuffle=True, num_workers=4)\n",
    "    val_loader = DataLoader(val_subset, batch_size=batch_size, shuffle=False, num_workers=4)\n",
    "\n",
    "    # Model, loss, optimizer\n",
    "    model = build_model(num_classes)\n",
    "    criterion = nn.CrossEntropyLoss()\n",
    "    optimizer = optim.Adam(model.parameters(), lr=1e-4)\n",
    "\n",
    "    # Training loop\n",
    "    for epoch in range(num_epochs):\n",
    "        model.train()\n",
    "        running_loss, correct, total = 0.0, 0, 0\n",
    "\n",
    "        for images, labels in tqdm(train_loader, desc=f\"Fold {fold+1} Epoch {epoch+1}/{num_epochs}\"):\n",
    "            images, labels = images.to(device), labels.to(device)\n",
    "\n",
    "            optimizer.zero_grad()\n",
    "            outputs = model(images)\n",
    "            loss = criterion(outputs, labels)\n",
    "            loss.backward()\n",
    "            optimizer.step()\n",
    "\n",
    "            running_loss += loss.item() * images.size(0)\n",
    "            _, predicted = outputs.max(1)\n",
    "            correct += predicted.eq(labels).sum().item()\n",
    "            total += labels.size(0)\n",
    "\n",
    "        print(f\"Train Loss: {running_loss/total:.4f}, Train Acc: {100.*correct/total:.2f}%\")\n",
    "\n",
    "        # Validation\n",
    "        # Validation loop\n",
    "        model.eval()\n",
    "        val_loss, val_correct, val_total = 0, 0, 0\n",
    "        val_outputs_list, val_targets_list, val_indices_list = [], [], []\n",
    "        \n",
    "        with torch.no_grad():\n",
    "            for batch_idx, (inputs, labels) in enumerate(val_loader):\n",
    "                inputs, labels = inputs.to(device), labels.to(device)\n",
    "                outputs = model(inputs)\n",
    "                loss = criterion(outputs, labels)\n",
    "        \n",
    "                val_loss += loss.item() * labels.size(0)\n",
    "                _, preds = torch.max(outputs, 1)\n",
    "                val_correct += (preds == labels).sum().item()\n",
    "                val_total += labels.size(0)\n",
    "        \n",
    "                # Collect predictions for OOF storage\n",
    "                start = batch_idx * val_loader.batch_size\n",
    "                end = start + labels.size(0)\n",
    "                oof_preds[val_idx[start:end]] = outputs.cpu().numpy()\n",
    "                oof_targets[val_idx[start:end]] = labels.cpu().numpy()\n",
    "\n",
    "\n",
    "        print(f\"Val Loss: {val_loss/val_total:.4f}, Val Acc: {100.*val_correct/val_total:.2f}%\")\n",
    "\n",
    "    # Save model checkpoint\n",
    "    os.makedirs(\"checkpoints_resnet_inat\", exist_ok=True)\n",
    "    torch.save(model.state_dict(), f\"checkpoints_resnet_inat/resnet_fold{fold+1}.pth\")\n",
    "\n",
    "# Save OOF preds for stacking\n",
    "np.save(\"oof_preds_resnet_inat.npy\", oof_preds)\n",
    "np.save(\"oof_targets_resnet_inat.npy\", oof_targets)\n",
    "\n",
    "# Also save separate arrays for union-space stacking\n",
    "np.save(\"oof_res_union.npy\", oof_preds)\n",
    "np.save(\"oof_labels_res.npy\", oof_targets)\n",
    "\n",
    "print(\"✅ Finished OOF training for ResNet on iNat!\")\n"
   ]
  },
  {
   "cell_type": "markdown",
   "id": "9c3ed102-6736-4a4a-b3c2-c4628d8e4d60",
   "metadata": {},
   "source": [
    "### 1.23 Train YAMNet on NEW audio dataset"
   ]
  },
  {
   "cell_type": "code",
   "execution_count": 4,
   "id": "5a2344f5-e810-4a99-ab07-ef89d0e1d018",
   "metadata": {
    "scrolled": true
   },
   "outputs": [
    {
     "name": "stderr",
     "output_type": "stream",
     "text": [
      "C:\\Users\\jayme\\anaconda3\\envs\\bird-env\\lib\\site-packages\\requests\\__init__.py:86: RequestsDependencyWarning: Unable to find acceptable character detection dependency (chardet or charset_normalizer).\n",
      "  warnings.warn(\n"
     ]
    },
    {
     "name": "stdout",
     "output_type": "stream",
     "text": [
      "\n",
      "📂 Fold 1/5\n"
     ]
    },
    {
     "name": "stderr",
     "output_type": "stream",
     "text": [
      "C:\\Users\\jayme\\anaconda3\\envs\\bird-env\\lib\\site-packages\\torchaudio\\_backend\\utils.py:213: UserWarning: In 2.9, this function's implementation will be changed to use torchaudio.load_with_torchcodec` under the hood. Some parameters like ``normalize``, ``format``, ``buffer_size``, and ``backend`` will be ignored. We recommend that you port your code to rely directly on TorchCodec's decoder instead: https://docs.pytorch.org/torchcodec/stable/generated/torchcodec.decoders.AudioDecoder.html#torchcodec.decoders.AudioDecoder.\n",
      "  warnings.warn(\n",
      "Fold 1 Epoch 1/40: 100%|██████████| 4/4 [00:03<00:00,  1.13it/s]\n"
     ]
    },
    {
     "name": "stdout",
     "output_type": "stream",
     "text": [
      "Train Loss: 5.2938, Train Acc: 0.00%\n"
     ]
    },
    {
     "name": "stderr",
     "output_type": "stream",
     "text": [
      "Fold 1 Epoch 2/40: 100%|██████████| 4/4 [00:02<00:00,  1.58it/s]\n"
     ]
    },
    {
     "name": "stdout",
     "output_type": "stream",
     "text": [
      "Train Loss: 5.1748, Train Acc: 0.00%\n"
     ]
    },
    {
     "name": "stderr",
     "output_type": "stream",
     "text": [
      "Fold 1 Epoch 3/40: 100%|██████████| 4/4 [00:02<00:00,  1.47it/s]\n"
     ]
    },
    {
     "name": "stdout",
     "output_type": "stream",
     "text": [
      "Train Loss: 5.0645, Train Acc: 3.51%\n"
     ]
    },
    {
     "name": "stderr",
     "output_type": "stream",
     "text": [
      "Fold 1 Epoch 4/40: 100%|██████████| 4/4 [00:02<00:00,  1.56it/s]\n"
     ]
    },
    {
     "name": "stdout",
     "output_type": "stream",
     "text": [
      "Train Loss: 4.9431, Train Acc: 10.53%\n"
     ]
    },
    {
     "name": "stderr",
     "output_type": "stream",
     "text": [
      "Fold 1 Epoch 5/40: 100%|██████████| 4/4 [00:02<00:00,  1.54it/s]\n"
     ]
    },
    {
     "name": "stdout",
     "output_type": "stream",
     "text": [
      "Train Loss: 4.8380, Train Acc: 14.04%\n"
     ]
    },
    {
     "name": "stderr",
     "output_type": "stream",
     "text": [
      "Fold 1 Epoch 6/40: 100%|██████████| 4/4 [00:02<00:00,  1.61it/s]\n"
     ]
    },
    {
     "name": "stdout",
     "output_type": "stream",
     "text": [
      "Train Loss: 4.7354, Train Acc: 15.79%\n"
     ]
    },
    {
     "name": "stderr",
     "output_type": "stream",
     "text": [
      "Fold 1 Epoch 7/40: 100%|██████████| 4/4 [00:02<00:00,  1.58it/s]\n"
     ]
    },
    {
     "name": "stdout",
     "output_type": "stream",
     "text": [
      "Train Loss: 4.6470, Train Acc: 15.79%\n"
     ]
    },
    {
     "name": "stderr",
     "output_type": "stream",
     "text": [
      "Fold 1 Epoch 8/40: 100%|██████████| 4/4 [00:02<00:00,  1.49it/s]\n"
     ]
    },
    {
     "name": "stdout",
     "output_type": "stream",
     "text": [
      "Train Loss: 4.5604, Train Acc: 17.54%\n"
     ]
    },
    {
     "name": "stderr",
     "output_type": "stream",
     "text": [
      "Fold 1 Epoch 9/40: 100%|██████████| 4/4 [00:02<00:00,  1.56it/s]\n"
     ]
    },
    {
     "name": "stdout",
     "output_type": "stream",
     "text": [
      "Train Loss: 4.4856, Train Acc: 17.54%\n"
     ]
    },
    {
     "name": "stderr",
     "output_type": "stream",
     "text": [
      "Fold 1 Epoch 10/40: 100%|██████████| 4/4 [00:02<00:00,  1.50it/s]\n"
     ]
    },
    {
     "name": "stdout",
     "output_type": "stream",
     "text": [
      "Train Loss: 4.4165, Train Acc: 17.54%\n"
     ]
    },
    {
     "name": "stderr",
     "output_type": "stream",
     "text": [
      "Fold 1 Epoch 11/40: 100%|██████████| 4/4 [00:02<00:00,  1.58it/s]\n"
     ]
    },
    {
     "name": "stdout",
     "output_type": "stream",
     "text": [
      "Train Loss: 4.3510, Train Acc: 17.54%\n"
     ]
    },
    {
     "name": "stderr",
     "output_type": "stream",
     "text": [
      "Fold 1 Epoch 12/40: 100%|██████████| 4/4 [00:02<00:00,  1.59it/s]\n"
     ]
    },
    {
     "name": "stdout",
     "output_type": "stream",
     "text": [
      "Train Loss: 4.2928, Train Acc: 17.54%\n"
     ]
    },
    {
     "name": "stderr",
     "output_type": "stream",
     "text": [
      "Fold 1 Epoch 13/40: 100%|██████████| 4/4 [00:02<00:00,  1.52it/s]\n"
     ]
    },
    {
     "name": "stdout",
     "output_type": "stream",
     "text": [
      "Train Loss: 4.2339, Train Acc: 17.54%\n"
     ]
    },
    {
     "name": "stderr",
     "output_type": "stream",
     "text": [
      "Fold 1 Epoch 14/40: 100%|██████████| 4/4 [00:02<00:00,  1.58it/s]\n"
     ]
    },
    {
     "name": "stdout",
     "output_type": "stream",
     "text": [
      "Train Loss: 4.1824, Train Acc: 17.54%\n"
     ]
    },
    {
     "name": "stderr",
     "output_type": "stream",
     "text": [
      "Fold 1 Epoch 15/40: 100%|██████████| 4/4 [00:02<00:00,  1.60it/s]\n"
     ]
    },
    {
     "name": "stdout",
     "output_type": "stream",
     "text": [
      "Train Loss: 4.1349, Train Acc: 19.30%\n"
     ]
    },
    {
     "name": "stderr",
     "output_type": "stream",
     "text": [
      "Fold 1 Epoch 16/40: 100%|██████████| 4/4 [00:02<00:00,  1.58it/s]\n"
     ]
    },
    {
     "name": "stdout",
     "output_type": "stream",
     "text": [
      "Train Loss: 4.0871, Train Acc: 19.30%\n"
     ]
    },
    {
     "name": "stderr",
     "output_type": "stream",
     "text": [
      "Fold 1 Epoch 17/40: 100%|██████████| 4/4 [00:02<00:00,  1.58it/s]\n"
     ]
    },
    {
     "name": "stdout",
     "output_type": "stream",
     "text": [
      "Train Loss: 4.0448, Train Acc: 19.30%\n"
     ]
    },
    {
     "name": "stderr",
     "output_type": "stream",
     "text": [
      "Fold 1 Epoch 18/40: 100%|██████████| 4/4 [00:02<00:00,  1.51it/s]\n"
     ]
    },
    {
     "name": "stdout",
     "output_type": "stream",
     "text": [
      "Train Loss: 4.0025, Train Acc: 19.30%\n"
     ]
    },
    {
     "name": "stderr",
     "output_type": "stream",
     "text": [
      "Fold 1 Epoch 19/40: 100%|██████████| 4/4 [00:02<00:00,  1.57it/s]\n"
     ]
    },
    {
     "name": "stdout",
     "output_type": "stream",
     "text": [
      "Train Loss: 3.9603, Train Acc: 19.30%\n"
     ]
    },
    {
     "name": "stderr",
     "output_type": "stream",
     "text": [
      "Fold 1 Epoch 20/40: 100%|██████████| 4/4 [00:02<00:00,  1.58it/s]\n"
     ]
    },
    {
     "name": "stdout",
     "output_type": "stream",
     "text": [
      "Train Loss: 3.9227, Train Acc: 19.30%\n"
     ]
    },
    {
     "name": "stderr",
     "output_type": "stream",
     "text": [
      "Fold 1 Epoch 21/40: 100%|██████████| 4/4 [00:02<00:00,  1.58it/s]\n"
     ]
    },
    {
     "name": "stdout",
     "output_type": "stream",
     "text": [
      "Train Loss: 3.8854, Train Acc: 19.30%\n"
     ]
    },
    {
     "name": "stderr",
     "output_type": "stream",
     "text": [
      "Fold 1 Epoch 22/40: 100%|██████████| 4/4 [00:02<00:00,  1.60it/s]\n"
     ]
    },
    {
     "name": "stdout",
     "output_type": "stream",
     "text": [
      "Train Loss: 3.8498, Train Acc: 19.30%\n"
     ]
    },
    {
     "name": "stderr",
     "output_type": "stream",
     "text": [
      "Fold 1 Epoch 23/40: 100%|██████████| 4/4 [00:02<00:00,  1.49it/s]\n"
     ]
    },
    {
     "name": "stdout",
     "output_type": "stream",
     "text": [
      "Train Loss: 3.8145, Train Acc: 19.30%\n"
     ]
    },
    {
     "name": "stderr",
     "output_type": "stream",
     "text": [
      "Fold 1 Epoch 24/40: 100%|██████████| 4/4 [00:02<00:00,  1.59it/s]\n"
     ]
    },
    {
     "name": "stdout",
     "output_type": "stream",
     "text": [
      "Train Loss: 3.7815, Train Acc: 19.30%\n"
     ]
    },
    {
     "name": "stderr",
     "output_type": "stream",
     "text": [
      "Fold 1 Epoch 25/40: 100%|██████████| 4/4 [00:02<00:00,  1.58it/s]\n"
     ]
    },
    {
     "name": "stdout",
     "output_type": "stream",
     "text": [
      "Train Loss: 3.7481, Train Acc: 19.30%\n"
     ]
    },
    {
     "name": "stderr",
     "output_type": "stream",
     "text": [
      "Fold 1 Epoch 26/40: 100%|██████████| 4/4 [00:02<00:00,  1.57it/s]\n"
     ]
    },
    {
     "name": "stdout",
     "output_type": "stream",
     "text": [
      "Train Loss: 3.7156, Train Acc: 19.30%\n"
     ]
    },
    {
     "name": "stderr",
     "output_type": "stream",
     "text": [
      "Fold 1 Epoch 27/40: 100%|██████████| 4/4 [00:02<00:00,  1.56it/s]\n"
     ]
    },
    {
     "name": "stdout",
     "output_type": "stream",
     "text": [
      "Train Loss: 3.6854, Train Acc: 19.30%\n"
     ]
    },
    {
     "name": "stderr",
     "output_type": "stream",
     "text": [
      "Fold 1 Epoch 28/40: 100%|██████████| 4/4 [00:02<00:00,  1.52it/s]\n"
     ]
    },
    {
     "name": "stdout",
     "output_type": "stream",
     "text": [
      "Train Loss: 3.6537, Train Acc: 19.30%\n"
     ]
    },
    {
     "name": "stderr",
     "output_type": "stream",
     "text": [
      "Fold 1 Epoch 29/40: 100%|██████████| 4/4 [00:02<00:00,  1.57it/s]\n"
     ]
    },
    {
     "name": "stdout",
     "output_type": "stream",
     "text": [
      "Train Loss: 3.6232, Train Acc: 19.30%\n"
     ]
    },
    {
     "name": "stderr",
     "output_type": "stream",
     "text": [
      "Fold 1 Epoch 30/40: 100%|██████████| 4/4 [00:02<00:00,  1.58it/s]\n"
     ]
    },
    {
     "name": "stdout",
     "output_type": "stream",
     "text": [
      "Train Loss: 3.5945, Train Acc: 19.30%\n"
     ]
    },
    {
     "name": "stderr",
     "output_type": "stream",
     "text": [
      "Fold 1 Epoch 31/40: 100%|██████████| 4/4 [00:02<00:00,  1.59it/s]\n"
     ]
    },
    {
     "name": "stdout",
     "output_type": "stream",
     "text": [
      "Train Loss: 3.5661, Train Acc: 19.30%\n"
     ]
    },
    {
     "name": "stderr",
     "output_type": "stream",
     "text": [
      "Fold 1 Epoch 32/40: 100%|██████████| 4/4 [00:02<00:00,  1.55it/s]\n"
     ]
    },
    {
     "name": "stdout",
     "output_type": "stream",
     "text": [
      "Train Loss: 3.5389, Train Acc: 19.30%\n"
     ]
    },
    {
     "name": "stderr",
     "output_type": "stream",
     "text": [
      "Fold 1 Epoch 33/40: 100%|██████████| 4/4 [00:02<00:00,  1.56it/s]\n"
     ]
    },
    {
     "name": "stdout",
     "output_type": "stream",
     "text": [
      "Train Loss: 3.5104, Train Acc: 19.30%\n"
     ]
    },
    {
     "name": "stderr",
     "output_type": "stream",
     "text": [
      "Fold 1 Epoch 34/40: 100%|██████████| 4/4 [00:02<00:00,  1.55it/s]\n"
     ]
    },
    {
     "name": "stdout",
     "output_type": "stream",
     "text": [
      "Train Loss: 3.4836, Train Acc: 19.30%\n"
     ]
    },
    {
     "name": "stderr",
     "output_type": "stream",
     "text": [
      "Fold 1 Epoch 35/40: 100%|██████████| 4/4 [00:02<00:00,  1.57it/s]\n"
     ]
    },
    {
     "name": "stdout",
     "output_type": "stream",
     "text": [
      "Train Loss: 3.4567, Train Acc: 21.05%\n"
     ]
    },
    {
     "name": "stderr",
     "output_type": "stream",
     "text": [
      "Fold 1 Epoch 36/40: 100%|██████████| 4/4 [00:02<00:00,  1.58it/s]\n"
     ]
    },
    {
     "name": "stdout",
     "output_type": "stream",
     "text": [
      "Train Loss: 3.4323, Train Acc: 22.81%\n"
     ]
    },
    {
     "name": "stderr",
     "output_type": "stream",
     "text": [
      "Fold 1 Epoch 37/40: 100%|██████████| 4/4 [00:02<00:00,  1.55it/s]\n"
     ]
    },
    {
     "name": "stdout",
     "output_type": "stream",
     "text": [
      "Train Loss: 3.4065, Train Acc: 22.81%\n"
     ]
    },
    {
     "name": "stderr",
     "output_type": "stream",
     "text": [
      "Fold 1 Epoch 38/40: 100%|██████████| 4/4 [00:02<00:00,  1.54it/s]\n"
     ]
    },
    {
     "name": "stdout",
     "output_type": "stream",
     "text": [
      "Train Loss: 3.3805, Train Acc: 24.56%\n"
     ]
    },
    {
     "name": "stderr",
     "output_type": "stream",
     "text": [
      "Fold 1 Epoch 39/40: 100%|██████████| 4/4 [00:02<00:00,  1.60it/s]\n"
     ]
    },
    {
     "name": "stdout",
     "output_type": "stream",
     "text": [
      "Train Loss: 3.3563, Train Acc: 28.07%\n"
     ]
    },
    {
     "name": "stderr",
     "output_type": "stream",
     "text": [
      "Fold 1 Epoch 40/40: 100%|██████████| 4/4 [00:02<00:00,  1.59it/s]\n"
     ]
    },
    {
     "name": "stdout",
     "output_type": "stream",
     "text": [
      "Train Loss: 3.3327, Train Acc: 28.07%\n",
      "\n",
      "📂 Fold 2/5\n"
     ]
    },
    {
     "name": "stderr",
     "output_type": "stream",
     "text": [
      "Fold 2 Epoch 1/40: 100%|██████████| 4/4 [00:02<00:00,  1.50it/s]\n"
     ]
    },
    {
     "name": "stdout",
     "output_type": "stream",
     "text": [
      "Train Loss: 5.3306, Train Acc: 0.00%\n"
     ]
    },
    {
     "name": "stderr",
     "output_type": "stream",
     "text": [
      "Fold 2 Epoch 2/40: 100%|██████████| 4/4 [00:02<00:00,  1.55it/s]\n"
     ]
    },
    {
     "name": "stdout",
     "output_type": "stream",
     "text": [
      "Train Loss: 5.2215, Train Acc: 0.00%\n"
     ]
    },
    {
     "name": "stderr",
     "output_type": "stream",
     "text": [
      "Fold 2 Epoch 3/40: 100%|██████████| 4/4 [00:02<00:00,  1.59it/s]\n"
     ]
    },
    {
     "name": "stdout",
     "output_type": "stream",
     "text": [
      "Train Loss: 5.1160, Train Acc: 0.00%\n"
     ]
    },
    {
     "name": "stderr",
     "output_type": "stream",
     "text": [
      "Fold 2 Epoch 4/40: 100%|██████████| 4/4 [00:02<00:00,  1.62it/s]\n"
     ]
    },
    {
     "name": "stdout",
     "output_type": "stream",
     "text": [
      "Train Loss: 5.0192, Train Acc: 1.75%\n"
     ]
    },
    {
     "name": "stderr",
     "output_type": "stream",
     "text": [
      "Fold 2 Epoch 5/40: 100%|██████████| 4/4 [00:02<00:00,  1.61it/s]\n"
     ]
    },
    {
     "name": "stdout",
     "output_type": "stream",
     "text": [
      "Train Loss: 4.9135, Train Acc: 3.51%\n"
     ]
    },
    {
     "name": "stderr",
     "output_type": "stream",
     "text": [
      "Fold 2 Epoch 6/40: 100%|██████████| 4/4 [00:02<00:00,  1.60it/s]\n"
     ]
    },
    {
     "name": "stdout",
     "output_type": "stream",
     "text": [
      "Train Loss: 4.8293, Train Acc: 3.51%\n"
     ]
    },
    {
     "name": "stderr",
     "output_type": "stream",
     "text": [
      "Fold 2 Epoch 7/40: 100%|██████████| 4/4 [00:02<00:00,  1.56it/s]\n"
     ]
    },
    {
     "name": "stdout",
     "output_type": "stream",
     "text": [
      "Train Loss: 4.7436, Train Acc: 3.51%\n"
     ]
    },
    {
     "name": "stderr",
     "output_type": "stream",
     "text": [
      "Fold 2 Epoch 8/40: 100%|██████████| 4/4 [00:02<00:00,  1.59it/s]\n"
     ]
    },
    {
     "name": "stdout",
     "output_type": "stream",
     "text": [
      "Train Loss: 4.6592, Train Acc: 3.51%\n"
     ]
    },
    {
     "name": "stderr",
     "output_type": "stream",
     "text": [
      "Fold 2 Epoch 9/40: 100%|██████████| 4/4 [00:02<00:00,  1.60it/s]\n"
     ]
    },
    {
     "name": "stdout",
     "output_type": "stream",
     "text": [
      "Train Loss: 4.5814, Train Acc: 3.51%\n"
     ]
    },
    {
     "name": "stderr",
     "output_type": "stream",
     "text": [
      "Fold 2 Epoch 10/40: 100%|██████████| 4/4 [00:02<00:00,  1.61it/s]\n"
     ]
    },
    {
     "name": "stdout",
     "output_type": "stream",
     "text": [
      "Train Loss: 4.5127, Train Acc: 3.51%\n"
     ]
    },
    {
     "name": "stderr",
     "output_type": "stream",
     "text": [
      "Fold 2 Epoch 11/40: 100%|██████████| 4/4 [00:02<00:00,  1.60it/s]\n"
     ]
    },
    {
     "name": "stdout",
     "output_type": "stream",
     "text": [
      "Train Loss: 4.4484, Train Acc: 7.02%\n"
     ]
    },
    {
     "name": "stderr",
     "output_type": "stream",
     "text": [
      "Fold 2 Epoch 12/40: 100%|██████████| 4/4 [00:02<00:00,  1.52it/s]\n"
     ]
    },
    {
     "name": "stdout",
     "output_type": "stream",
     "text": [
      "Train Loss: 4.3902, Train Acc: 7.02%\n"
     ]
    },
    {
     "name": "stderr",
     "output_type": "stream",
     "text": [
      "Fold 2 Epoch 13/40: 100%|██████████| 4/4 [00:02<00:00,  1.62it/s]\n"
     ]
    },
    {
     "name": "stdout",
     "output_type": "stream",
     "text": [
      "Train Loss: 4.3316, Train Acc: 8.77%\n"
     ]
    },
    {
     "name": "stderr",
     "output_type": "stream",
     "text": [
      "Fold 2 Epoch 14/40: 100%|██████████| 4/4 [00:02<00:00,  1.60it/s]\n"
     ]
    },
    {
     "name": "stdout",
     "output_type": "stream",
     "text": [
      "Train Loss: 4.2828, Train Acc: 8.77%\n"
     ]
    },
    {
     "name": "stderr",
     "output_type": "stream",
     "text": [
      "Fold 2 Epoch 15/40: 100%|██████████| 4/4 [00:02<00:00,  1.59it/s]\n"
     ]
    },
    {
     "name": "stdout",
     "output_type": "stream",
     "text": [
      "Train Loss: 4.2321, Train Acc: 10.53%\n"
     ]
    },
    {
     "name": "stderr",
     "output_type": "stream",
     "text": [
      "Fold 2 Epoch 16/40: 100%|██████████| 4/4 [00:02<00:00,  1.55it/s]\n"
     ]
    },
    {
     "name": "stdout",
     "output_type": "stream",
     "text": [
      "Train Loss: 4.1849, Train Acc: 10.53%\n"
     ]
    },
    {
     "name": "stderr",
     "output_type": "stream",
     "text": [
      "Fold 2 Epoch 17/40: 100%|██████████| 4/4 [00:02<00:00,  1.57it/s]\n"
     ]
    },
    {
     "name": "stdout",
     "output_type": "stream",
     "text": [
      "Train Loss: 4.1408, Train Acc: 10.53%\n"
     ]
    },
    {
     "name": "stderr",
     "output_type": "stream",
     "text": [
      "Fold 2 Epoch 18/40: 100%|██████████| 4/4 [00:02<00:00,  1.52it/s]\n"
     ]
    },
    {
     "name": "stdout",
     "output_type": "stream",
     "text": [
      "Train Loss: 4.0998, Train Acc: 10.53%\n"
     ]
    },
    {
     "name": "stderr",
     "output_type": "stream",
     "text": [
      "Fold 2 Epoch 19/40: 100%|██████████| 4/4 [00:02<00:00,  1.50it/s]\n"
     ]
    },
    {
     "name": "stdout",
     "output_type": "stream",
     "text": [
      "Train Loss: 4.0598, Train Acc: 10.53%\n"
     ]
    },
    {
     "name": "stderr",
     "output_type": "stream",
     "text": [
      "Fold 2 Epoch 20/40: 100%|██████████| 4/4 [00:02<00:00,  1.63it/s]\n"
     ]
    },
    {
     "name": "stdout",
     "output_type": "stream",
     "text": [
      "Train Loss: 4.0214, Train Acc: 10.53%\n"
     ]
    },
    {
     "name": "stderr",
     "output_type": "stream",
     "text": [
      "Fold 2 Epoch 21/40: 100%|██████████| 4/4 [00:02<00:00,  1.55it/s]\n"
     ]
    },
    {
     "name": "stdout",
     "output_type": "stream",
     "text": [
      "Train Loss: 3.9841, Train Acc: 10.53%\n"
     ]
    },
    {
     "name": "stderr",
     "output_type": "stream",
     "text": [
      "Fold 2 Epoch 22/40: 100%|██████████| 4/4 [00:02<00:00,  1.65it/s]\n"
     ]
    },
    {
     "name": "stdout",
     "output_type": "stream",
     "text": [
      "Train Loss: 3.9489, Train Acc: 10.53%\n"
     ]
    },
    {
     "name": "stderr",
     "output_type": "stream",
     "text": [
      "Fold 2 Epoch 23/40: 100%|██████████| 4/4 [00:02<00:00,  1.64it/s]\n"
     ]
    },
    {
     "name": "stdout",
     "output_type": "stream",
     "text": [
      "Train Loss: 3.9141, Train Acc: 12.28%\n"
     ]
    },
    {
     "name": "stderr",
     "output_type": "stream",
     "text": [
      "Fold 2 Epoch 24/40: 100%|██████████| 4/4 [00:02<00:00,  1.62it/s]\n"
     ]
    },
    {
     "name": "stdout",
     "output_type": "stream",
     "text": [
      "Train Loss: 3.8806, Train Acc: 12.28%\n"
     ]
    },
    {
     "name": "stderr",
     "output_type": "stream",
     "text": [
      "Fold 2 Epoch 25/40: 100%|██████████| 4/4 [00:02<00:00,  1.62it/s]\n"
     ]
    },
    {
     "name": "stdout",
     "output_type": "stream",
     "text": [
      "Train Loss: 3.8473, Train Acc: 10.53%\n"
     ]
    },
    {
     "name": "stderr",
     "output_type": "stream",
     "text": [
      "Fold 2 Epoch 26/40: 100%|██████████| 4/4 [00:02<00:00,  1.55it/s]\n"
     ]
    },
    {
     "name": "stdout",
     "output_type": "stream",
     "text": [
      "Train Loss: 3.8148, Train Acc: 12.28%\n"
     ]
    },
    {
     "name": "stderr",
     "output_type": "stream",
     "text": [
      "Fold 2 Epoch 27/40: 100%|██████████| 4/4 [00:02<00:00,  1.61it/s]\n"
     ]
    },
    {
     "name": "stdout",
     "output_type": "stream",
     "text": [
      "Train Loss: 3.7826, Train Acc: 12.28%\n"
     ]
    },
    {
     "name": "stderr",
     "output_type": "stream",
     "text": [
      "Fold 2 Epoch 28/40: 100%|██████████| 4/4 [00:02<00:00,  1.63it/s]\n"
     ]
    },
    {
     "name": "stdout",
     "output_type": "stream",
     "text": [
      "Train Loss: 3.7530, Train Acc: 14.04%\n"
     ]
    },
    {
     "name": "stderr",
     "output_type": "stream",
     "text": [
      "Fold 2 Epoch 29/40: 100%|██████████| 4/4 [00:02<00:00,  1.66it/s]\n"
     ]
    },
    {
     "name": "stdout",
     "output_type": "stream",
     "text": [
      "Train Loss: 3.7235, Train Acc: 14.04%\n"
     ]
    },
    {
     "name": "stderr",
     "output_type": "stream",
     "text": [
      "Fold 2 Epoch 30/40: 100%|██████████| 4/4 [00:02<00:00,  1.62it/s]\n"
     ]
    },
    {
     "name": "stdout",
     "output_type": "stream",
     "text": [
      "Train Loss: 3.6939, Train Acc: 14.04%\n"
     ]
    },
    {
     "name": "stderr",
     "output_type": "stream",
     "text": [
      "Fold 2 Epoch 31/40: 100%|██████████| 4/4 [00:02<00:00,  1.55it/s]\n"
     ]
    },
    {
     "name": "stdout",
     "output_type": "stream",
     "text": [
      "Train Loss: 3.6649, Train Acc: 12.28%\n"
     ]
    },
    {
     "name": "stderr",
     "output_type": "stream",
     "text": [
      "Fold 2 Epoch 32/40: 100%|██████████| 4/4 [00:02<00:00,  1.64it/s]\n"
     ]
    },
    {
     "name": "stdout",
     "output_type": "stream",
     "text": [
      "Train Loss: 3.6366, Train Acc: 14.04%\n"
     ]
    },
    {
     "name": "stderr",
     "output_type": "stream",
     "text": [
      "Fold 2 Epoch 33/40: 100%|██████████| 4/4 [00:02<00:00,  1.62it/s]\n"
     ]
    },
    {
     "name": "stdout",
     "output_type": "stream",
     "text": [
      "Train Loss: 3.6086, Train Acc: 14.04%\n"
     ]
    },
    {
     "name": "stderr",
     "output_type": "stream",
     "text": [
      "Fold 2 Epoch 34/40: 100%|██████████| 4/4 [00:02<00:00,  1.64it/s]\n"
     ]
    },
    {
     "name": "stdout",
     "output_type": "stream",
     "text": [
      "Train Loss: 3.5813, Train Acc: 15.79%\n"
     ]
    },
    {
     "name": "stderr",
     "output_type": "stream",
     "text": [
      "Fold 2 Epoch 35/40: 100%|██████████| 4/4 [00:02<00:00,  1.60it/s]\n"
     ]
    },
    {
     "name": "stdout",
     "output_type": "stream",
     "text": [
      "Train Loss: 3.5545, Train Acc: 15.79%\n"
     ]
    },
    {
     "name": "stderr",
     "output_type": "stream",
     "text": [
      "Fold 2 Epoch 36/40: 100%|██████████| 4/4 [00:02<00:00,  1.54it/s]\n"
     ]
    },
    {
     "name": "stdout",
     "output_type": "stream",
     "text": [
      "Train Loss: 3.5283, Train Acc: 19.30%\n"
     ]
    },
    {
     "name": "stderr",
     "output_type": "stream",
     "text": [
      "Fold 2 Epoch 37/40: 100%|██████████| 4/4 [00:02<00:00,  1.64it/s]\n"
     ]
    },
    {
     "name": "stdout",
     "output_type": "stream",
     "text": [
      "Train Loss: 3.5018, Train Acc: 19.30%\n"
     ]
    },
    {
     "name": "stderr",
     "output_type": "stream",
     "text": [
      "Fold 2 Epoch 38/40: 100%|██████████| 4/4 [00:02<00:00,  1.63it/s]\n"
     ]
    },
    {
     "name": "stdout",
     "output_type": "stream",
     "text": [
      "Train Loss: 3.4767, Train Acc: 19.30%\n"
     ]
    },
    {
     "name": "stderr",
     "output_type": "stream",
     "text": [
      "Fold 2 Epoch 39/40: 100%|██████████| 4/4 [00:02<00:00,  1.62it/s]\n"
     ]
    },
    {
     "name": "stdout",
     "output_type": "stream",
     "text": [
      "Train Loss: 3.4506, Train Acc: 19.30%\n"
     ]
    },
    {
     "name": "stderr",
     "output_type": "stream",
     "text": [
      "Fold 2 Epoch 40/40: 100%|██████████| 4/4 [00:02<00:00,  1.60it/s]\n"
     ]
    },
    {
     "name": "stdout",
     "output_type": "stream",
     "text": [
      "Train Loss: 3.4270, Train Acc: 17.54%\n",
      "\n",
      "📂 Fold 3/5\n"
     ]
    },
    {
     "name": "stderr",
     "output_type": "stream",
     "text": [
      "Fold 3 Epoch 1/40: 100%|██████████| 4/4 [00:02<00:00,  1.42it/s]\n"
     ]
    },
    {
     "name": "stdout",
     "output_type": "stream",
     "text": [
      "Train Loss: 5.2778, Train Acc: 0.00%\n"
     ]
    },
    {
     "name": "stderr",
     "output_type": "stream",
     "text": [
      "Fold 3 Epoch 2/40: 100%|██████████| 4/4 [00:02<00:00,  1.51it/s]\n"
     ]
    },
    {
     "name": "stdout",
     "output_type": "stream",
     "text": [
      "Train Loss: 5.1587, Train Acc: 0.00%\n"
     ]
    },
    {
     "name": "stderr",
     "output_type": "stream",
     "text": [
      "Fold 3 Epoch 3/40: 100%|██████████| 4/4 [00:02<00:00,  1.51it/s]\n"
     ]
    },
    {
     "name": "stdout",
     "output_type": "stream",
     "text": [
      "Train Loss: 5.0159, Train Acc: 5.17%\n"
     ]
    },
    {
     "name": "stderr",
     "output_type": "stream",
     "text": [
      "Fold 3 Epoch 4/40: 100%|██████████| 4/4 [00:02<00:00,  1.49it/s]\n"
     ]
    },
    {
     "name": "stdout",
     "output_type": "stream",
     "text": [
      "Train Loss: 4.8980, Train Acc: 5.17%\n"
     ]
    },
    {
     "name": "stderr",
     "output_type": "stream",
     "text": [
      "Fold 3 Epoch 5/40: 100%|██████████| 4/4 [00:02<00:00,  1.45it/s]\n"
     ]
    },
    {
     "name": "stdout",
     "output_type": "stream",
     "text": [
      "Train Loss: 4.7893, Train Acc: 5.17%\n"
     ]
    },
    {
     "name": "stderr",
     "output_type": "stream",
     "text": [
      "Fold 3 Epoch 6/40: 100%|██████████| 4/4 [00:02<00:00,  1.49it/s]\n"
     ]
    },
    {
     "name": "stdout",
     "output_type": "stream",
     "text": [
      "Train Loss: 4.6866, Train Acc: 5.17%\n"
     ]
    },
    {
     "name": "stderr",
     "output_type": "stream",
     "text": [
      "Fold 3 Epoch 7/40: 100%|██████████| 4/4 [00:02<00:00,  1.50it/s]\n"
     ]
    },
    {
     "name": "stdout",
     "output_type": "stream",
     "text": [
      "Train Loss: 4.5931, Train Acc: 3.45%\n"
     ]
    },
    {
     "name": "stderr",
     "output_type": "stream",
     "text": [
      "Fold 3 Epoch 8/40: 100%|██████████| 4/4 [00:02<00:00,  1.49it/s]\n"
     ]
    },
    {
     "name": "stdout",
     "output_type": "stream",
     "text": [
      "Train Loss: 4.5105, Train Acc: 0.00%\n"
     ]
    },
    {
     "name": "stderr",
     "output_type": "stream",
     "text": [
      "Fold 3 Epoch 9/40: 100%|██████████| 4/4 [00:02<00:00,  1.53it/s]\n"
     ]
    },
    {
     "name": "stdout",
     "output_type": "stream",
     "text": [
      "Train Loss: 4.4347, Train Acc: 5.17%\n"
     ]
    },
    {
     "name": "stderr",
     "output_type": "stream",
     "text": [
      "Fold 3 Epoch 10/40: 100%|██████████| 4/4 [00:02<00:00,  1.47it/s]\n"
     ]
    },
    {
     "name": "stdout",
     "output_type": "stream",
     "text": [
      "Train Loss: 4.3666, Train Acc: 5.17%\n"
     ]
    },
    {
     "name": "stderr",
     "output_type": "stream",
     "text": [
      "Fold 3 Epoch 11/40: 100%|██████████| 4/4 [00:02<00:00,  1.51it/s]\n"
     ]
    },
    {
     "name": "stdout",
     "output_type": "stream",
     "text": [
      "Train Loss: 4.3028, Train Acc: 6.90%\n"
     ]
    },
    {
     "name": "stderr",
     "output_type": "stream",
     "text": [
      "Fold 3 Epoch 12/40: 100%|██████████| 4/4 [00:02<00:00,  1.53it/s]\n"
     ]
    },
    {
     "name": "stdout",
     "output_type": "stream",
     "text": [
      "Train Loss: 4.2438, Train Acc: 8.62%\n"
     ]
    },
    {
     "name": "stderr",
     "output_type": "stream",
     "text": [
      "Fold 3 Epoch 13/40: 100%|██████████| 4/4 [00:02<00:00,  1.50it/s]\n"
     ]
    },
    {
     "name": "stdout",
     "output_type": "stream",
     "text": [
      "Train Loss: 4.1901, Train Acc: 6.90%\n"
     ]
    },
    {
     "name": "stderr",
     "output_type": "stream",
     "text": [
      "Fold 3 Epoch 14/40: 100%|██████████| 4/4 [00:02<00:00,  1.51it/s]\n"
     ]
    },
    {
     "name": "stdout",
     "output_type": "stream",
     "text": [
      "Train Loss: 4.1387, Train Acc: 6.90%\n"
     ]
    },
    {
     "name": "stderr",
     "output_type": "stream",
     "text": [
      "Fold 3 Epoch 15/40: 100%|██████████| 4/4 [00:02<00:00,  1.44it/s]\n"
     ]
    },
    {
     "name": "stdout",
     "output_type": "stream",
     "text": [
      "Train Loss: 4.0906, Train Acc: 6.90%\n"
     ]
    },
    {
     "name": "stderr",
     "output_type": "stream",
     "text": [
      "Fold 3 Epoch 16/40: 100%|██████████| 4/4 [00:02<00:00,  1.49it/s]\n"
     ]
    },
    {
     "name": "stdout",
     "output_type": "stream",
     "text": [
      "Train Loss: 4.0461, Train Acc: 6.90%\n"
     ]
    },
    {
     "name": "stderr",
     "output_type": "stream",
     "text": [
      "Fold 3 Epoch 17/40: 100%|██████████| 4/4 [00:02<00:00,  1.51it/s]\n"
     ]
    },
    {
     "name": "stdout",
     "output_type": "stream",
     "text": [
      "Train Loss: 4.0033, Train Acc: 6.90%\n"
     ]
    },
    {
     "name": "stderr",
     "output_type": "stream",
     "text": [
      "Fold 3 Epoch 18/40: 100%|██████████| 4/4 [00:02<00:00,  1.51it/s]\n"
     ]
    },
    {
     "name": "stdout",
     "output_type": "stream",
     "text": [
      "Train Loss: 3.9615, Train Acc: 6.90%\n"
     ]
    },
    {
     "name": "stderr",
     "output_type": "stream",
     "text": [
      "Fold 3 Epoch 19/40: 100%|██████████| 4/4 [00:02<00:00,  1.50it/s]\n"
     ]
    },
    {
     "name": "stdout",
     "output_type": "stream",
     "text": [
      "Train Loss: 3.9216, Train Acc: 6.90%\n"
     ]
    },
    {
     "name": "stderr",
     "output_type": "stream",
     "text": [
      "Fold 3 Epoch 20/40: 100%|██████████| 4/4 [00:02<00:00,  1.44it/s]\n"
     ]
    },
    {
     "name": "stdout",
     "output_type": "stream",
     "text": [
      "Train Loss: 3.8853, Train Acc: 8.62%\n"
     ]
    },
    {
     "name": "stderr",
     "output_type": "stream",
     "text": [
      "Fold 3 Epoch 21/40: 100%|██████████| 4/4 [00:02<00:00,  1.52it/s]\n"
     ]
    },
    {
     "name": "stdout",
     "output_type": "stream",
     "text": [
      "Train Loss: 3.8484, Train Acc: 8.62%\n"
     ]
    },
    {
     "name": "stderr",
     "output_type": "stream",
     "text": [
      "Fold 3 Epoch 22/40: 100%|██████████| 4/4 [00:02<00:00,  1.50it/s]\n"
     ]
    },
    {
     "name": "stdout",
     "output_type": "stream",
     "text": [
      "Train Loss: 3.8118, Train Acc: 6.90%\n"
     ]
    },
    {
     "name": "stderr",
     "output_type": "stream",
     "text": [
      "Fold 3 Epoch 23/40: 100%|██████████| 4/4 [00:02<00:00,  1.53it/s]\n"
     ]
    },
    {
     "name": "stdout",
     "output_type": "stream",
     "text": [
      "Train Loss: 3.7777, Train Acc: 6.90%\n"
     ]
    },
    {
     "name": "stderr",
     "output_type": "stream",
     "text": [
      "Fold 3 Epoch 24/40: 100%|██████████| 4/4 [00:02<00:00,  1.51it/s]\n"
     ]
    },
    {
     "name": "stdout",
     "output_type": "stream",
     "text": [
      "Train Loss: 3.7444, Train Acc: 8.62%\n"
     ]
    },
    {
     "name": "stderr",
     "output_type": "stream",
     "text": [
      "Fold 3 Epoch 25/40: 100%|██████████| 4/4 [00:02<00:00,  1.42it/s]\n"
     ]
    },
    {
     "name": "stdout",
     "output_type": "stream",
     "text": [
      "Train Loss: 3.7122, Train Acc: 8.62%\n"
     ]
    },
    {
     "name": "stderr",
     "output_type": "stream",
     "text": [
      "Fold 3 Epoch 26/40: 100%|██████████| 4/4 [00:02<00:00,  1.52it/s]\n"
     ]
    },
    {
     "name": "stdout",
     "output_type": "stream",
     "text": [
      "Train Loss: 3.6810, Train Acc: 8.62%\n"
     ]
    },
    {
     "name": "stderr",
     "output_type": "stream",
     "text": [
      "Fold 3 Epoch 27/40: 100%|██████████| 4/4 [00:02<00:00,  1.54it/s]\n"
     ]
    },
    {
     "name": "stdout",
     "output_type": "stream",
     "text": [
      "Train Loss: 3.6482, Train Acc: 8.62%\n"
     ]
    },
    {
     "name": "stderr",
     "output_type": "stream",
     "text": [
      "Fold 3 Epoch 28/40: 100%|██████████| 4/4 [00:02<00:00,  1.50it/s]\n"
     ]
    },
    {
     "name": "stdout",
     "output_type": "stream",
     "text": [
      "Train Loss: 3.6189, Train Acc: 8.62%\n"
     ]
    },
    {
     "name": "stderr",
     "output_type": "stream",
     "text": [
      "Fold 3 Epoch 29/40: 100%|██████████| 4/4 [00:02<00:00,  1.50it/s]\n"
     ]
    },
    {
     "name": "stdout",
     "output_type": "stream",
     "text": [
      "Train Loss: 3.5902, Train Acc: 10.34%\n"
     ]
    },
    {
     "name": "stderr",
     "output_type": "stream",
     "text": [
      "Fold 3 Epoch 30/40: 100%|██████████| 4/4 [00:02<00:00,  1.41it/s]\n"
     ]
    },
    {
     "name": "stdout",
     "output_type": "stream",
     "text": [
      "Train Loss: 3.5600, Train Acc: 12.07%\n"
     ]
    },
    {
     "name": "stderr",
     "output_type": "stream",
     "text": [
      "Fold 3 Epoch 31/40: 100%|██████████| 4/4 [00:02<00:00,  1.48it/s]\n"
     ]
    },
    {
     "name": "stdout",
     "output_type": "stream",
     "text": [
      "Train Loss: 3.5315, Train Acc: 12.07%\n"
     ]
    },
    {
     "name": "stderr",
     "output_type": "stream",
     "text": [
      "Fold 3 Epoch 32/40: 100%|██████████| 4/4 [00:02<00:00,  1.48it/s]\n"
     ]
    },
    {
     "name": "stdout",
     "output_type": "stream",
     "text": [
      "Train Loss: 3.5024, Train Acc: 13.79%\n"
     ]
    },
    {
     "name": "stderr",
     "output_type": "stream",
     "text": [
      "Fold 3 Epoch 33/40: 100%|██████████| 4/4 [00:02<00:00,  1.52it/s]\n"
     ]
    },
    {
     "name": "stdout",
     "output_type": "stream",
     "text": [
      "Train Loss: 3.4756, Train Acc: 15.52%\n"
     ]
    },
    {
     "name": "stderr",
     "output_type": "stream",
     "text": [
      "Fold 3 Epoch 34/40: 100%|██████████| 4/4 [00:02<00:00,  1.52it/s]\n"
     ]
    },
    {
     "name": "stdout",
     "output_type": "stream",
     "text": [
      "Train Loss: 3.4505, Train Acc: 15.52%\n"
     ]
    },
    {
     "name": "stderr",
     "output_type": "stream",
     "text": [
      "Fold 3 Epoch 35/40: 100%|██████████| 4/4 [00:02<00:00,  1.44it/s]\n"
     ]
    },
    {
     "name": "stdout",
     "output_type": "stream",
     "text": [
      "Train Loss: 3.4222, Train Acc: 17.24%\n"
     ]
    },
    {
     "name": "stderr",
     "output_type": "stream",
     "text": [
      "Fold 3 Epoch 36/40: 100%|██████████| 4/4 [00:02<00:00,  1.52it/s]\n"
     ]
    },
    {
     "name": "stdout",
     "output_type": "stream",
     "text": [
      "Train Loss: 3.3960, Train Acc: 17.24%\n"
     ]
    },
    {
     "name": "stderr",
     "output_type": "stream",
     "text": [
      "Fold 3 Epoch 37/40: 100%|██████████| 4/4 [00:02<00:00,  1.51it/s]\n"
     ]
    },
    {
     "name": "stdout",
     "output_type": "stream",
     "text": [
      "Train Loss: 3.3720, Train Acc: 17.24%\n"
     ]
    },
    {
     "name": "stderr",
     "output_type": "stream",
     "text": [
      "Fold 3 Epoch 38/40: 100%|██████████| 4/4 [00:02<00:00,  1.53it/s]\n"
     ]
    },
    {
     "name": "stdout",
     "output_type": "stream",
     "text": [
      "Train Loss: 3.3462, Train Acc: 18.97%\n"
     ]
    },
    {
     "name": "stderr",
     "output_type": "stream",
     "text": [
      "Fold 3 Epoch 39/40: 100%|██████████| 4/4 [00:02<00:00,  1.52it/s]\n"
     ]
    },
    {
     "name": "stdout",
     "output_type": "stream",
     "text": [
      "Train Loss: 3.3225, Train Acc: 22.41%\n"
     ]
    },
    {
     "name": "stderr",
     "output_type": "stream",
     "text": [
      "Fold 3 Epoch 40/40: 100%|██████████| 4/4 [00:02<00:00,  1.45it/s]\n"
     ]
    },
    {
     "name": "stdout",
     "output_type": "stream",
     "text": [
      "Train Loss: 3.2977, Train Acc: 22.41%\n",
      "\n",
      "📂 Fold 4/5\n"
     ]
    },
    {
     "name": "stderr",
     "output_type": "stream",
     "text": [
      "Fold 4 Epoch 1/40: 100%|██████████| 4/4 [00:02<00:00,  1.48it/s]\n"
     ]
    },
    {
     "name": "stdout",
     "output_type": "stream",
     "text": [
      "Train Loss: 5.3223, Train Acc: 0.00%\n"
     ]
    },
    {
     "name": "stderr",
     "output_type": "stream",
     "text": [
      "Fold 4 Epoch 2/40: 100%|██████████| 4/4 [00:02<00:00,  1.56it/s]\n"
     ]
    },
    {
     "name": "stdout",
     "output_type": "stream",
     "text": [
      "Train Loss: 5.2042, Train Acc: 0.00%\n"
     ]
    },
    {
     "name": "stderr",
     "output_type": "stream",
     "text": [
      "Fold 4 Epoch 3/40: 100%|██████████| 4/4 [00:02<00:00,  1.56it/s]\n"
     ]
    },
    {
     "name": "stdout",
     "output_type": "stream",
     "text": [
      "Train Loss: 5.0921, Train Acc: 3.45%\n"
     ]
    },
    {
     "name": "stderr",
     "output_type": "stream",
     "text": [
      "Fold 4 Epoch 4/40: 100%|██████████| 4/4 [00:02<00:00,  1.47it/s]\n"
     ]
    },
    {
     "name": "stdout",
     "output_type": "stream",
     "text": [
      "Train Loss: 4.9901, Train Acc: 3.45%\n"
     ]
    },
    {
     "name": "stderr",
     "output_type": "stream",
     "text": [
      "Fold 4 Epoch 5/40: 100%|██████████| 4/4 [00:02<00:00,  1.54it/s]\n"
     ]
    },
    {
     "name": "stdout",
     "output_type": "stream",
     "text": [
      "Train Loss: 4.8900, Train Acc: 5.17%\n"
     ]
    },
    {
     "name": "stderr",
     "output_type": "stream",
     "text": [
      "Fold 4 Epoch 6/40: 100%|██████████| 4/4 [00:02<00:00,  1.55it/s]\n"
     ]
    },
    {
     "name": "stdout",
     "output_type": "stream",
     "text": [
      "Train Loss: 4.8015, Train Acc: 6.90%\n"
     ]
    },
    {
     "name": "stderr",
     "output_type": "stream",
     "text": [
      "Fold 4 Epoch 7/40: 100%|██████████| 4/4 [00:02<00:00,  1.55it/s]\n"
     ]
    },
    {
     "name": "stdout",
     "output_type": "stream",
     "text": [
      "Train Loss: 4.7234, Train Acc: 10.34%\n"
     ]
    },
    {
     "name": "stderr",
     "output_type": "stream",
     "text": [
      "Fold 4 Epoch 8/40: 100%|██████████| 4/4 [00:02<00:00,  1.55it/s]\n"
     ]
    },
    {
     "name": "stdout",
     "output_type": "stream",
     "text": [
      "Train Loss: 4.6481, Train Acc: 10.34%\n"
     ]
    },
    {
     "name": "stderr",
     "output_type": "stream",
     "text": [
      "Fold 4 Epoch 9/40: 100%|██████████| 4/4 [00:02<00:00,  1.50it/s]\n"
     ]
    },
    {
     "name": "stdout",
     "output_type": "stream",
     "text": [
      "Train Loss: 4.5827, Train Acc: 10.34%\n"
     ]
    },
    {
     "name": "stderr",
     "output_type": "stream",
     "text": [
      "Fold 4 Epoch 10/40: 100%|██████████| 4/4 [00:02<00:00,  1.55it/s]\n"
     ]
    },
    {
     "name": "stdout",
     "output_type": "stream",
     "text": [
      "Train Loss: 4.5179, Train Acc: 12.07%\n"
     ]
    },
    {
     "name": "stderr",
     "output_type": "stream",
     "text": [
      "Fold 4 Epoch 11/40: 100%|██████████| 4/4 [00:02<00:00,  1.56it/s]\n"
     ]
    },
    {
     "name": "stdout",
     "output_type": "stream",
     "text": [
      "Train Loss: 4.4601, Train Acc: 12.07%\n"
     ]
    },
    {
     "name": "stderr",
     "output_type": "stream",
     "text": [
      "Fold 4 Epoch 12/40: 100%|██████████| 4/4 [00:02<00:00,  1.52it/s]\n"
     ]
    },
    {
     "name": "stdout",
     "output_type": "stream",
     "text": [
      "Train Loss: 4.4047, Train Acc: 12.07%\n"
     ]
    },
    {
     "name": "stderr",
     "output_type": "stream",
     "text": [
      "Fold 4 Epoch 13/40: 100%|██████████| 4/4 [00:02<00:00,  1.57it/s]\n"
     ]
    },
    {
     "name": "stdout",
     "output_type": "stream",
     "text": [
      "Train Loss: 4.3535, Train Acc: 12.07%\n"
     ]
    },
    {
     "name": "stderr",
     "output_type": "stream",
     "text": [
      "Fold 4 Epoch 14/40: 100%|██████████| 4/4 [00:02<00:00,  1.47it/s]\n"
     ]
    },
    {
     "name": "stdout",
     "output_type": "stream",
     "text": [
      "Train Loss: 4.3028, Train Acc: 12.07%\n"
     ]
    },
    {
     "name": "stderr",
     "output_type": "stream",
     "text": [
      "Fold 4 Epoch 15/40: 100%|██████████| 4/4 [00:02<00:00,  1.55it/s]\n"
     ]
    },
    {
     "name": "stdout",
     "output_type": "stream",
     "text": [
      "Train Loss: 4.2575, Train Acc: 12.07%\n"
     ]
    },
    {
     "name": "stderr",
     "output_type": "stream",
     "text": [
      "Fold 4 Epoch 16/40: 100%|██████████| 4/4 [00:02<00:00,  1.54it/s]\n"
     ]
    },
    {
     "name": "stdout",
     "output_type": "stream",
     "text": [
      "Train Loss: 4.2126, Train Acc: 12.07%\n"
     ]
    },
    {
     "name": "stderr",
     "output_type": "stream",
     "text": [
      "Fold 4 Epoch 17/40: 100%|██████████| 4/4 [00:02<00:00,  1.54it/s]\n"
     ]
    },
    {
     "name": "stdout",
     "output_type": "stream",
     "text": [
      "Train Loss: 4.1689, Train Acc: 12.07%\n"
     ]
    },
    {
     "name": "stderr",
     "output_type": "stream",
     "text": [
      "Fold 4 Epoch 18/40: 100%|██████████| 4/4 [00:02<00:00,  1.54it/s]\n"
     ]
    },
    {
     "name": "stdout",
     "output_type": "stream",
     "text": [
      "Train Loss: 4.1289, Train Acc: 13.79%\n"
     ]
    },
    {
     "name": "stderr",
     "output_type": "stream",
     "text": [
      "Fold 4 Epoch 19/40: 100%|██████████| 4/4 [00:02<00:00,  1.44it/s]\n"
     ]
    },
    {
     "name": "stdout",
     "output_type": "stream",
     "text": [
      "Train Loss: 4.0896, Train Acc: 12.07%\n"
     ]
    },
    {
     "name": "stderr",
     "output_type": "stream",
     "text": [
      "Fold 4 Epoch 20/40: 100%|██████████| 4/4 [00:02<00:00,  1.52it/s]\n"
     ]
    },
    {
     "name": "stdout",
     "output_type": "stream",
     "text": [
      "Train Loss: 4.0504, Train Acc: 13.79%\n"
     ]
    },
    {
     "name": "stderr",
     "output_type": "stream",
     "text": [
      "Fold 4 Epoch 21/40: 100%|██████████| 4/4 [00:02<00:00,  1.57it/s]\n"
     ]
    },
    {
     "name": "stdout",
     "output_type": "stream",
     "text": [
      "Train Loss: 4.0130, Train Acc: 13.79%\n"
     ]
    },
    {
     "name": "stderr",
     "output_type": "stream",
     "text": [
      "Fold 4 Epoch 22/40: 100%|██████████| 4/4 [00:02<00:00,  1.54it/s]\n"
     ]
    },
    {
     "name": "stdout",
     "output_type": "stream",
     "text": [
      "Train Loss: 3.9768, Train Acc: 12.07%\n"
     ]
    },
    {
     "name": "stderr",
     "output_type": "stream",
     "text": [
      "Fold 4 Epoch 23/40: 100%|██████████| 4/4 [00:02<00:00,  1.48it/s]\n"
     ]
    },
    {
     "name": "stdout",
     "output_type": "stream",
     "text": [
      "Train Loss: 3.9413, Train Acc: 12.07%\n"
     ]
    },
    {
     "name": "stderr",
     "output_type": "stream",
     "text": [
      "Fold 4 Epoch 24/40: 100%|██████████| 4/4 [00:02<00:00,  1.49it/s]\n"
     ]
    },
    {
     "name": "stdout",
     "output_type": "stream",
     "text": [
      "Train Loss: 3.9057, Train Acc: 12.07%\n"
     ]
    },
    {
     "name": "stderr",
     "output_type": "stream",
     "text": [
      "Fold 4 Epoch 25/40: 100%|██████████| 4/4 [00:02<00:00,  1.54it/s]\n"
     ]
    },
    {
     "name": "stdout",
     "output_type": "stream",
     "text": [
      "Train Loss: 3.8727, Train Acc: 13.79%\n"
     ]
    },
    {
     "name": "stderr",
     "output_type": "stream",
     "text": [
      "Fold 4 Epoch 26/40: 100%|██████████| 4/4 [00:02<00:00,  1.55it/s]\n"
     ]
    },
    {
     "name": "stdout",
     "output_type": "stream",
     "text": [
      "Train Loss: 3.8398, Train Acc: 13.79%\n"
     ]
    },
    {
     "name": "stderr",
     "output_type": "stream",
     "text": [
      "Fold 4 Epoch 27/40: 100%|██████████| 4/4 [00:02<00:00,  1.55it/s]\n"
     ]
    },
    {
     "name": "stdout",
     "output_type": "stream",
     "text": [
      "Train Loss: 3.8067, Train Acc: 15.52%\n"
     ]
    },
    {
     "name": "stderr",
     "output_type": "stream",
     "text": [
      "Fold 4 Epoch 28/40: 100%|██████████| 4/4 [00:02<00:00,  1.52it/s]\n"
     ]
    },
    {
     "name": "stdout",
     "output_type": "stream",
     "text": [
      "Train Loss: 3.7752, Train Acc: 15.52%\n"
     ]
    },
    {
     "name": "stderr",
     "output_type": "stream",
     "text": [
      "Fold 4 Epoch 29/40: 100%|██████████| 4/4 [00:02<00:00,  1.52it/s]\n"
     ]
    },
    {
     "name": "stdout",
     "output_type": "stream",
     "text": [
      "Train Loss: 3.7438, Train Acc: 15.52%\n"
     ]
    },
    {
     "name": "stderr",
     "output_type": "stream",
     "text": [
      "Fold 4 Epoch 30/40: 100%|██████████| 4/4 [00:02<00:00,  1.55it/s]\n"
     ]
    },
    {
     "name": "stdout",
     "output_type": "stream",
     "text": [
      "Train Loss: 3.7135, Train Acc: 17.24%\n"
     ]
    },
    {
     "name": "stderr",
     "output_type": "stream",
     "text": [
      "Fold 4 Epoch 31/40: 100%|██████████| 4/4 [00:02<00:00,  1.56it/s]\n"
     ]
    },
    {
     "name": "stdout",
     "output_type": "stream",
     "text": [
      "Train Loss: 3.6837, Train Acc: 17.24%\n"
     ]
    },
    {
     "name": "stderr",
     "output_type": "stream",
     "text": [
      "Fold 4 Epoch 32/40: 100%|██████████| 4/4 [00:02<00:00,  1.54it/s]\n"
     ]
    },
    {
     "name": "stdout",
     "output_type": "stream",
     "text": [
      "Train Loss: 3.6538, Train Acc: 17.24%\n"
     ]
    },
    {
     "name": "stderr",
     "output_type": "stream",
     "text": [
      "Fold 4 Epoch 33/40: 100%|██████████| 4/4 [00:02<00:00,  1.52it/s]\n"
     ]
    },
    {
     "name": "stdout",
     "output_type": "stream",
     "text": [
      "Train Loss: 3.6250, Train Acc: 17.24%\n"
     ]
    },
    {
     "name": "stderr",
     "output_type": "stream",
     "text": [
      "Fold 4 Epoch 34/40: 100%|██████████| 4/4 [00:02<00:00,  1.54it/s]\n"
     ]
    },
    {
     "name": "stdout",
     "output_type": "stream",
     "text": [
      "Train Loss: 3.5961, Train Acc: 15.52%\n"
     ]
    },
    {
     "name": "stderr",
     "output_type": "stream",
     "text": [
      "Fold 4 Epoch 35/40: 100%|██████████| 4/4 [00:02<00:00,  1.56it/s]\n"
     ]
    },
    {
     "name": "stdout",
     "output_type": "stream",
     "text": [
      "Train Loss: 3.5679, Train Acc: 17.24%\n"
     ]
    },
    {
     "name": "stderr",
     "output_type": "stream",
     "text": [
      "Fold 4 Epoch 36/40: 100%|██████████| 4/4 [00:02<00:00,  1.55it/s]\n"
     ]
    },
    {
     "name": "stdout",
     "output_type": "stream",
     "text": [
      "Train Loss: 3.5401, Train Acc: 17.24%\n"
     ]
    },
    {
     "name": "stderr",
     "output_type": "stream",
     "text": [
      "Fold 4 Epoch 37/40: 100%|██████████| 4/4 [00:02<00:00,  1.54it/s]\n"
     ]
    },
    {
     "name": "stdout",
     "output_type": "stream",
     "text": [
      "Train Loss: 3.5130, Train Acc: 17.24%\n"
     ]
    },
    {
     "name": "stderr",
     "output_type": "stream",
     "text": [
      "Fold 4 Epoch 38/40: 100%|██████████| 4/4 [00:02<00:00,  1.53it/s]\n"
     ]
    },
    {
     "name": "stdout",
     "output_type": "stream",
     "text": [
      "Train Loss: 3.4866, Train Acc: 17.24%\n"
     ]
    },
    {
     "name": "stderr",
     "output_type": "stream",
     "text": [
      "Fold 4 Epoch 39/40: 100%|██████████| 4/4 [00:02<00:00,  1.55it/s]\n"
     ]
    },
    {
     "name": "stdout",
     "output_type": "stream",
     "text": [
      "Train Loss: 3.4599, Train Acc: 17.24%\n"
     ]
    },
    {
     "name": "stderr",
     "output_type": "stream",
     "text": [
      "Fold 4 Epoch 40/40: 100%|██████████| 4/4 [00:02<00:00,  1.56it/s]\n"
     ]
    },
    {
     "name": "stdout",
     "output_type": "stream",
     "text": [
      "Train Loss: 3.4343, Train Acc: 18.97%\n",
      "\n",
      "📂 Fold 5/5\n"
     ]
    },
    {
     "name": "stderr",
     "output_type": "stream",
     "text": [
      "Fold 5 Epoch 1/40: 100%|██████████| 4/4 [00:02<00:00,  1.42it/s]\n"
     ]
    },
    {
     "name": "stdout",
     "output_type": "stream",
     "text": [
      "Train Loss: 5.2177, Train Acc: 0.00%\n"
     ]
    },
    {
     "name": "stderr",
     "output_type": "stream",
     "text": [
      "Fold 5 Epoch 2/40: 100%|██████████| 4/4 [00:02<00:00,  1.47it/s]\n"
     ]
    },
    {
     "name": "stdout",
     "output_type": "stream",
     "text": [
      "Train Loss: 5.0859, Train Acc: 3.45%\n"
     ]
    },
    {
     "name": "stderr",
     "output_type": "stream",
     "text": [
      "Fold 5 Epoch 3/40: 100%|██████████| 4/4 [00:02<00:00,  1.48it/s]\n"
     ]
    },
    {
     "name": "stdout",
     "output_type": "stream",
     "text": [
      "Train Loss: 4.9772, Train Acc: 3.45%\n"
     ]
    },
    {
     "name": "stderr",
     "output_type": "stream",
     "text": [
      "Fold 5 Epoch 4/40: 100%|██████████| 4/4 [00:02<00:00,  1.51it/s]\n"
     ]
    },
    {
     "name": "stdout",
     "output_type": "stream",
     "text": [
      "Train Loss: 4.8634, Train Acc: 3.45%\n"
     ]
    },
    {
     "name": "stderr",
     "output_type": "stream",
     "text": [
      "Fold 5 Epoch 5/40: 100%|██████████| 4/4 [00:02<00:00,  1.53it/s]\n"
     ]
    },
    {
     "name": "stdout",
     "output_type": "stream",
     "text": [
      "Train Loss: 4.7629, Train Acc: 6.90%\n"
     ]
    },
    {
     "name": "stderr",
     "output_type": "stream",
     "text": [
      "Fold 5 Epoch 6/40: 100%|██████████| 4/4 [00:02<00:00,  1.51it/s]\n"
     ]
    },
    {
     "name": "stdout",
     "output_type": "stream",
     "text": [
      "Train Loss: 4.6767, Train Acc: 6.90%\n"
     ]
    },
    {
     "name": "stderr",
     "output_type": "stream",
     "text": [
      "Fold 5 Epoch 7/40: 100%|██████████| 4/4 [00:02<00:00,  1.46it/s]\n"
     ]
    },
    {
     "name": "stdout",
     "output_type": "stream",
     "text": [
      "Train Loss: 4.5988, Train Acc: 6.90%\n"
     ]
    },
    {
     "name": "stderr",
     "output_type": "stream",
     "text": [
      "Fold 5 Epoch 8/40: 100%|██████████| 4/4 [00:02<00:00,  1.48it/s]\n"
     ]
    },
    {
     "name": "stdout",
     "output_type": "stream",
     "text": [
      "Train Loss: 4.5252, Train Acc: 8.62%\n"
     ]
    },
    {
     "name": "stderr",
     "output_type": "stream",
     "text": [
      "Fold 5 Epoch 9/40: 100%|██████████| 4/4 [00:02<00:00,  1.48it/s]\n"
     ]
    },
    {
     "name": "stdout",
     "output_type": "stream",
     "text": [
      "Train Loss: 4.4614, Train Acc: 8.62%\n"
     ]
    },
    {
     "name": "stderr",
     "output_type": "stream",
     "text": [
      "Fold 5 Epoch 10/40: 100%|██████████| 4/4 [00:02<00:00,  1.48it/s]\n"
     ]
    },
    {
     "name": "stdout",
     "output_type": "stream",
     "text": [
      "Train Loss: 4.4047, Train Acc: 10.34%\n"
     ]
    },
    {
     "name": "stderr",
     "output_type": "stream",
     "text": [
      "Fold 5 Epoch 11/40: 100%|██████████| 4/4 [00:02<00:00,  1.51it/s]\n"
     ]
    },
    {
     "name": "stdout",
     "output_type": "stream",
     "text": [
      "Train Loss: 4.3475, Train Acc: 10.34%\n"
     ]
    },
    {
     "name": "stderr",
     "output_type": "stream",
     "text": [
      "Fold 5 Epoch 12/40: 100%|██████████| 4/4 [00:02<00:00,  1.44it/s]\n"
     ]
    },
    {
     "name": "stdout",
     "output_type": "stream",
     "text": [
      "Train Loss: 4.2948, Train Acc: 12.07%\n"
     ]
    },
    {
     "name": "stderr",
     "output_type": "stream",
     "text": [
      "Fold 5 Epoch 13/40: 100%|██████████| 4/4 [00:02<00:00,  1.52it/s]\n"
     ]
    },
    {
     "name": "stdout",
     "output_type": "stream",
     "text": [
      "Train Loss: 4.2467, Train Acc: 12.07%\n"
     ]
    },
    {
     "name": "stderr",
     "output_type": "stream",
     "text": [
      "Fold 5 Epoch 14/40: 100%|██████████| 4/4 [00:02<00:00,  1.53it/s]\n"
     ]
    },
    {
     "name": "stdout",
     "output_type": "stream",
     "text": [
      "Train Loss: 4.2021, Train Acc: 12.07%\n"
     ]
    },
    {
     "name": "stderr",
     "output_type": "stream",
     "text": [
      "Fold 5 Epoch 15/40: 100%|██████████| 4/4 [00:02<00:00,  1.52it/s]\n"
     ]
    },
    {
     "name": "stdout",
     "output_type": "stream",
     "text": [
      "Train Loss: 4.1582, Train Acc: 12.07%\n"
     ]
    },
    {
     "name": "stderr",
     "output_type": "stream",
     "text": [
      "Fold 5 Epoch 16/40: 100%|██████████| 4/4 [00:02<00:00,  1.48it/s]\n"
     ]
    },
    {
     "name": "stdout",
     "output_type": "stream",
     "text": [
      "Train Loss: 4.1161, Train Acc: 12.07%\n"
     ]
    },
    {
     "name": "stderr",
     "output_type": "stream",
     "text": [
      "Fold 5 Epoch 17/40: 100%|██████████| 4/4 [00:02<00:00,  1.45it/s]\n"
     ]
    },
    {
     "name": "stdout",
     "output_type": "stream",
     "text": [
      "Train Loss: 4.0763, Train Acc: 12.07%\n"
     ]
    },
    {
     "name": "stderr",
     "output_type": "stream",
     "text": [
      "Fold 5 Epoch 18/40: 100%|██████████| 4/4 [00:02<00:00,  1.51it/s]\n"
     ]
    },
    {
     "name": "stdout",
     "output_type": "stream",
     "text": [
      "Train Loss: 4.0383, Train Acc: 13.79%\n"
     ]
    },
    {
     "name": "stderr",
     "output_type": "stream",
     "text": [
      "Fold 5 Epoch 19/40: 100%|██████████| 4/4 [00:02<00:00,  1.51it/s]\n"
     ]
    },
    {
     "name": "stdout",
     "output_type": "stream",
     "text": [
      "Train Loss: 4.0001, Train Acc: 13.79%\n"
     ]
    },
    {
     "name": "stderr",
     "output_type": "stream",
     "text": [
      "Fold 5 Epoch 20/40: 100%|██████████| 4/4 [00:02<00:00,  1.49it/s]\n"
     ]
    },
    {
     "name": "stdout",
     "output_type": "stream",
     "text": [
      "Train Loss: 3.9654, Train Acc: 13.79%\n"
     ]
    },
    {
     "name": "stderr",
     "output_type": "stream",
     "text": [
      "Fold 5 Epoch 21/40: 100%|██████████| 4/4 [00:02<00:00,  1.50it/s]\n"
     ]
    },
    {
     "name": "stdout",
     "output_type": "stream",
     "text": [
      "Train Loss: 3.9299, Train Acc: 12.07%\n"
     ]
    },
    {
     "name": "stderr",
     "output_type": "stream",
     "text": [
      "Fold 5 Epoch 22/40: 100%|██████████| 4/4 [00:02<00:00,  1.44it/s]\n"
     ]
    },
    {
     "name": "stdout",
     "output_type": "stream",
     "text": [
      "Train Loss: 3.8946, Train Acc: 13.79%\n"
     ]
    },
    {
     "name": "stderr",
     "output_type": "stream",
     "text": [
      "Fold 5 Epoch 23/40: 100%|██████████| 4/4 [00:02<00:00,  1.51it/s]\n"
     ]
    },
    {
     "name": "stdout",
     "output_type": "stream",
     "text": [
      "Train Loss: 3.8620, Train Acc: 15.52%\n"
     ]
    },
    {
     "name": "stderr",
     "output_type": "stream",
     "text": [
      "Fold 5 Epoch 24/40: 100%|██████████| 4/4 [00:02<00:00,  1.52it/s]\n"
     ]
    },
    {
     "name": "stdout",
     "output_type": "stream",
     "text": [
      "Train Loss: 3.8281, Train Acc: 15.52%\n"
     ]
    },
    {
     "name": "stderr",
     "output_type": "stream",
     "text": [
      "Fold 5 Epoch 25/40: 100%|██████████| 4/4 [00:02<00:00,  1.49it/s]\n"
     ]
    },
    {
     "name": "stdout",
     "output_type": "stream",
     "text": [
      "Train Loss: 3.7980, Train Acc: 15.52%\n"
     ]
    },
    {
     "name": "stderr",
     "output_type": "stream",
     "text": [
      "Fold 5 Epoch 26/40: 100%|██████████| 4/4 [00:02<00:00,  1.50it/s]\n"
     ]
    },
    {
     "name": "stdout",
     "output_type": "stream",
     "text": [
      "Train Loss: 3.7651, Train Acc: 17.24%\n"
     ]
    },
    {
     "name": "stderr",
     "output_type": "stream",
     "text": [
      "Fold 5 Epoch 27/40: 100%|██████████| 4/4 [00:02<00:00,  1.44it/s]\n"
     ]
    },
    {
     "name": "stdout",
     "output_type": "stream",
     "text": [
      "Train Loss: 3.7338, Train Acc: 17.24%\n"
     ]
    },
    {
     "name": "stderr",
     "output_type": "stream",
     "text": [
      "Fold 5 Epoch 28/40: 100%|██████████| 4/4 [00:02<00:00,  1.51it/s]\n"
     ]
    },
    {
     "name": "stdout",
     "output_type": "stream",
     "text": [
      "Train Loss: 3.7053, Train Acc: 17.24%\n"
     ]
    },
    {
     "name": "stderr",
     "output_type": "stream",
     "text": [
      "Fold 5 Epoch 29/40: 100%|██████████| 4/4 [00:02<00:00,  1.49it/s]\n"
     ]
    },
    {
     "name": "stdout",
     "output_type": "stream",
     "text": [
      "Train Loss: 3.6745, Train Acc: 17.24%\n"
     ]
    },
    {
     "name": "stderr",
     "output_type": "stream",
     "text": [
      "Fold 5 Epoch 30/40: 100%|██████████| 4/4 [00:02<00:00,  1.50it/s]\n"
     ]
    },
    {
     "name": "stdout",
     "output_type": "stream",
     "text": [
      "Train Loss: 3.6463, Train Acc: 17.24%\n"
     ]
    },
    {
     "name": "stderr",
     "output_type": "stream",
     "text": [
      "Fold 5 Epoch 31/40: 100%|██████████| 4/4 [00:02<00:00,  1.50it/s]\n"
     ]
    },
    {
     "name": "stdout",
     "output_type": "stream",
     "text": [
      "Train Loss: 3.6173, Train Acc: 17.24%\n"
     ]
    },
    {
     "name": "stderr",
     "output_type": "stream",
     "text": [
      "Fold 5 Epoch 32/40: 100%|██████████| 4/4 [00:02<00:00,  1.46it/s]\n"
     ]
    },
    {
     "name": "stdout",
     "output_type": "stream",
     "text": [
      "Train Loss: 3.5902, Train Acc: 20.69%\n"
     ]
    },
    {
     "name": "stderr",
     "output_type": "stream",
     "text": [
      "Fold 5 Epoch 33/40: 100%|██████████| 4/4 [00:02<00:00,  1.47it/s]\n"
     ]
    },
    {
     "name": "stdout",
     "output_type": "stream",
     "text": [
      "Train Loss: 3.5630, Train Acc: 24.14%\n"
     ]
    },
    {
     "name": "stderr",
     "output_type": "stream",
     "text": [
      "Fold 5 Epoch 34/40: 100%|██████████| 4/4 [00:02<00:00,  1.51it/s]\n"
     ]
    },
    {
     "name": "stdout",
     "output_type": "stream",
     "text": [
      "Train Loss: 3.5341, Train Acc: 22.41%\n"
     ]
    },
    {
     "name": "stderr",
     "output_type": "stream",
     "text": [
      "Fold 5 Epoch 35/40: 100%|██████████| 4/4 [00:02<00:00,  1.50it/s]\n"
     ]
    },
    {
     "name": "stdout",
     "output_type": "stream",
     "text": [
      "Train Loss: 3.5082, Train Acc: 24.14%\n"
     ]
    },
    {
     "name": "stderr",
     "output_type": "stream",
     "text": [
      "Fold 5 Epoch 36/40: 100%|██████████| 4/4 [00:02<00:00,  1.55it/s]\n"
     ]
    },
    {
     "name": "stdout",
     "output_type": "stream",
     "text": [
      "Train Loss: 3.4824, Train Acc: 24.14%\n"
     ]
    },
    {
     "name": "stderr",
     "output_type": "stream",
     "text": [
      "Fold 5 Epoch 37/40: 100%|██████████| 4/4 [00:02<00:00,  1.45it/s]\n"
     ]
    },
    {
     "name": "stdout",
     "output_type": "stream",
     "text": [
      "Train Loss: 3.4558, Train Acc: 24.14%\n"
     ]
    },
    {
     "name": "stderr",
     "output_type": "stream",
     "text": [
      "Fold 5 Epoch 38/40: 100%|██████████| 4/4 [00:02<00:00,  1.51it/s]\n"
     ]
    },
    {
     "name": "stdout",
     "output_type": "stream",
     "text": [
      "Train Loss: 3.4300, Train Acc: 25.86%\n"
     ]
    },
    {
     "name": "stderr",
     "output_type": "stream",
     "text": [
      "Fold 5 Epoch 39/40: 100%|██████████| 4/4 [00:02<00:00,  1.51it/s]\n"
     ]
    },
    {
     "name": "stdout",
     "output_type": "stream",
     "text": [
      "Train Loss: 3.4060, Train Acc: 24.14%\n"
     ]
    },
    {
     "name": "stderr",
     "output_type": "stream",
     "text": [
      "Fold 5 Epoch 40/40: 100%|██████████| 4/4 [00:02<00:00,  1.51it/s]\n"
     ]
    },
    {
     "name": "stdout",
     "output_type": "stream",
     "text": [
      "Train Loss: 3.3818, Train Acc: 24.14%\n",
      "✅ Finished OOF training for YAMNet on Xeno-Canto dataset!\n"
     ]
    }
   ],
   "source": [
    "import os\n",
    "import numpy as np\n",
    "import torch\n",
    "import torch.nn as nn\n",
    "import torch.optim as optim\n",
    "from torch.utils.data import DataLoader, Subset, Dataset\n",
    "from sklearn.model_selection import KFold\n",
    "import torchaudio\n",
    "from tqdm import tqdm\n",
    "import tensorflow_hub as hub\n",
    "import tensorflow as tf\n",
    "\n",
    "# -----------------------------\n",
    "# Config\n",
    "# -----------------------------\n",
    "data_dir = \"XENO_OOF/train_val\"  # root of dataset\n",
    "num_classes = 200                 # number of bird species\n",
    "batch_size = 16\n",
    "num_epochs = 40\n",
    "k_folds = 5\n",
    "device = torch.device(\"cuda\" if torch.cuda.is_available() else \"cpu\")\n",
    "\n",
    "# -----------------------------\n",
    "# Dataset\n",
    "# -----------------------------\n",
    "class BirdAudioDataset(Dataset):\n",
    "    def __init__(self, root, max_len=16000*5):\n",
    "        self.samples = []\n",
    "        self.max_len = max_len\n",
    "        self.class_to_idx = {cls_name: i for i, cls_name in enumerate(sorted(os.listdir(root)))}\n",
    "        for cls_name, idx in self.class_to_idx.items():\n",
    "            cls_folder = os.path.join(root, cls_name)\n",
    "            for f in os.listdir(cls_folder):\n",
    "                if f.endswith(\".wav\"):\n",
    "                    self.samples.append((os.path.join(cls_folder, f), idx))\n",
    "\n",
    "    def __len__(self):\n",
    "        return len(self.samples)\n",
    "\n",
    "    def __getitem__(self, idx):\n",
    "        path, label = self.samples[idx]\n",
    "        waveform, sr = torchaudio.load(path)\n",
    "        waveform = torchaudio.transforms.Resample(sr, 16000)(waveform)\n",
    "        if waveform.shape[0] > 1:\n",
    "            waveform = waveform.mean(dim=0, keepdim=True)  # convert to mono\n",
    "\n",
    "        # Pad or truncate\n",
    "        if waveform.shape[1] < self.max_len:\n",
    "            pad = self.max_len - waveform.shape[1]\n",
    "            waveform = torch.nn.functional.pad(waveform, (0, pad))\n",
    "        else:\n",
    "            waveform = waveform[:, :self.max_len]\n",
    "\n",
    "        return waveform, label\n",
    "\n",
    "# -----------------------------\n",
    "# YAMNet wrapper\n",
    "# -----------------------------\n",
    "class YAMNetWrapper(nn.Module):\n",
    "    def __init__(self, num_classes):\n",
    "        super().__init__()\n",
    "        # Load YAMNet from TF Hub\n",
    "        self.base_model = hub.load(\"https://tfhub.dev/google/yamnet/1\")\n",
    "        self.fc = nn.Linear(1024, num_classes)  # 1024 = embedding size\n",
    "\n",
    "    def forward(self, x):\n",
    "        embeddings_list = []\n",
    "        for wav in x:\n",
    "            # wav: [1, time] tensor -> numpy float32\n",
    "            wav_np = wav.squeeze().cpu().numpy().astype(np.float32)\n",
    "            _, embeddings, _ = self.base_model(wav_np)\n",
    "            emb_mean = torch.tensor(embeddings.numpy().mean(axis=0), device=device)\n",
    "            embeddings_list.append(emb_mean)\n",
    "        embeddings_batch = torch.stack(embeddings_list)  # [batch, 1024]\n",
    "        return self.fc(embeddings_batch)                 # [batch, num_classes]\n",
    "\n",
    "# -----------------------------\n",
    "# Dataset + OOF storage\n",
    "# -----------------------------\n",
    "dataset = BirdAudioDataset(data_dir)\n",
    "oof_preds = np.zeros((len(dataset), num_classes))\n",
    "oof_targets = np.zeros(len(dataset))\n",
    "\n",
    "# -----------------------------\n",
    "# K-Fold Cross Validation\n",
    "# -----------------------------\n",
    "kf = KFold(n_splits=k_folds, shuffle=True, random_state=42)\n",
    "\n",
    "for fold, (train_idx, val_idx) in enumerate(kf.split(np.arange(len(dataset)))):\n",
    "    print(f\"\\n📂 Fold {fold+1}/{k_folds}\")\n",
    "\n",
    "    train_subset = Subset(dataset, train_idx)\n",
    "    val_subset = Subset(dataset, val_idx)\n",
    "\n",
    "    train_loader = DataLoader(train_subset, batch_size=batch_size, shuffle=True, num_workers=0)\n",
    "    val_loader = DataLoader(val_subset, batch_size=batch_size, shuffle=False, num_workers=0)\n",
    "\n",
    "    model = YAMNetWrapper(num_classes).to(device)\n",
    "    criterion = nn.CrossEntropyLoss()\n",
    "    optimizer = optim.Adam(model.parameters(), lr=1e-4)\n",
    "\n",
    "    # -----------------------------\n",
    "    # Training loop\n",
    "    # -----------------------------\n",
    "    for epoch in range(num_epochs):\n",
    "        model.train()\n",
    "        running_loss, correct, total = 0.0, 0, 0\n",
    "        for waveforms, labels in tqdm(train_loader, desc=f\"Fold {fold+1} Epoch {epoch+1}/{num_epochs}\"):\n",
    "            labels = labels.to(device)\n",
    "            optimizer.zero_grad()\n",
    "            outputs = model(waveforms)\n",
    "            loss = criterion(outputs, labels)\n",
    "            loss.backward()\n",
    "            optimizer.step()\n",
    "\n",
    "            running_loss += loss.item() * labels.size(0)\n",
    "            _, predicted = outputs.max(1)\n",
    "            correct += predicted.eq(labels).sum().item()\n",
    "            total += labels.size(0)\n",
    "        print(f\"Train Loss: {running_loss/total:.4f}, Train Acc: {100.*correct/total:.2f}%\")\n",
    "\n",
    "        # -----------------------------\n",
    "        # Validation loop\n",
    "        # -----------------------------\n",
    "        model.eval()\n",
    "        with torch.no_grad():\n",
    "            for batch_idx, (waveforms, labels) in enumerate(val_loader):\n",
    "                labels = labels.to(device)\n",
    "                outputs = model(waveforms)\n",
    "                start = batch_idx * val_loader.batch_size\n",
    "                end = start + labels.size(0)\n",
    "                oof_preds[val_idx[start:end]] = outputs.cpu().numpy()\n",
    "                oof_targets[val_idx[start:end]] = labels.cpu().numpy()\n",
    "\n",
    "    # Save fold checkpoint\n",
    "    os.makedirs(\"checkpoints_yamnet_xeno\", exist_ok=True)\n",
    "    torch.save(model.state_dict(), f\"checkpoints_yamnet_xeno/yamnet_fold{fold+1}.pth\")\n",
    "\n",
    "# -----------------------------\n",
    "# Save OOF predictions\n",
    "# -----------------------------\n",
    "np.save(\"oof_preds_yamnet_xeno.npy\", oof_preds)\n",
    "np.save(\"oof_targets_yamnet_xeno.npy\", oof_targets)\n",
    "print(\"✅ Finished OOF training for YAMNet on Xeno-Canto dataset!\")\n"
   ]
  },
  {
   "cell_type": "markdown",
   "id": "bfb47756-3bba-4fcb-8d27-2b3929dc2e50",
   "metadata": {},
   "source": [
    "# STEP 2: Evaluation of Individual Models"
   ]
  },
  {
   "cell_type": "code",
   "execution_count": 5,
   "id": "332595e1-4436-49c3-a940-a0e6f83bddac",
   "metadata": {},
   "outputs": [
    {
     "name": "stdout",
     "output_type": "stream",
     "text": [
      "\n",
      "=== Evaluating EfficientNet ===\n",
      "Top-1 Accuracy: 0.7645\n",
      "Top-5 Accuracy: 0.9478\n"
     ]
    },
    {
     "data": {
      "image/png": "[encoded data removed]",
      "text/plain": [
       "<Figure size 1000x800 with 2 Axes>"
      ]
     },
     "metadata": {},
     "output_type": "display_data"
    },
    {
     "name": "stdout",
     "output_type": "stream",
     "text": [
      "\n",
      "=== Evaluating ResNet ===\n",
      "Top-1 Accuracy: 0.4449\n",
      "Top-5 Accuracy: 0.6067\n"
     ]
    },
    {
     "data": {
      "image/png": "[encoded data removed]",
      "text/plain": [
       "<Figure size 1000x800 with 2 Axes>"
      ]
     },
     "metadata": {},
     "output_type": "display_data"
    },
    {
     "name": "stdout",
     "output_type": "stream",
     "text": [
      "\n",
      "=== Evaluating YAMNet ===\n",
      "Top-1 Accuracy: 0.0972\n",
      "Top-5 Accuracy: 0.4722\n"
     ]
    },
    {
     "data": {
      "image/png": "[encoded data removed]",
      "text/plain": [
       "<Figure size 1000x800 with 2 Axes>"
      ]
     },
     "metadata": {},
     "output_type": "display_data"
    },
    {
     "name": "stdout",
     "output_type": "stream",
     "text": [
      "\n",
      "=== Summary ===\n",
      "EfficientNet: Top-1 = 0.7645, Top-5 = 0.9478\n",
      "ResNet: Top-1 = 0.4449, Top-5 = 0.6067\n",
      "YAMNet: Top-1 = 0.0972, Top-5 = 0.4722\n"
     ]
    }
   ],
   "source": [
    "import numpy as np\n",
    "from sklearn.metrics import accuracy_score, top_k_accuracy_score, confusion_matrix\n",
    "import matplotlib.pyplot as plt\n",
    "import seaborn as sns\n",
    "\n",
    "# --------------------------\n",
    "# 1. Configuration: files\n",
    "# --------------------------\n",
    "models_info = {\n",
    "    \"EfficientNet\": {\n",
    "        \"oof_preds\": \"efficientnet_oof_preds.npy\",\n",
    "        \"oof_targets\": \"efficientnet_oof_targets.npy\"\n",
    "    },\n",
    "    \"ResNet\": {\n",
    "        \"oof_preds\": \"oof_preds_resnet_inat.npy\",\n",
    "        \"oof_targets\": \"oof_targets_resnet_inat.npy\"\n",
    "    },\n",
    "    \"YAMNet\": {\n",
    "        \"oof_preds\": \"oof_preds_yamnet_xeno.npy\",\n",
    "        \"oof_targets\": \"oof_targets_yamnet_xeno.npy\"\n",
    "    }\n",
    "}\n",
    "\n",
    "# --------------------------\n",
    "# 2. Evaluate each model\n",
    "# --------------------------\n",
    "results = {}\n",
    "\n",
    "for name, paths in models_info.items():\n",
    "    print(f\"\\n=== Evaluating {name} ===\")\n",
    "    \n",
    "    oof_preds = np.load(paths[\"oof_preds\"])\n",
    "    oof_targets = np.load(paths[\"oof_targets\"])\n",
    "    \n",
    "    # Ensure targets match prediction shape\n",
    "    N_pred = oof_preds.shape[0]\n",
    "    N_tgt = oof_targets.shape[0]\n",
    "    if N_pred != N_tgt:\n",
    "        raise ValueError(f\"Number of predictions ({N_pred}) does not match number of targets ({N_tgt}) for {name}\")\n",
    "    \n",
    "    # Use all possible classes to avoid Top-K mismatch\n",
    "    all_classes = np.arange(oof_preds.shape[1])\n",
    "    \n",
    "    top1 = accuracy_score(oof_targets, oof_preds.argmax(axis=1))\n",
    "    top5 = top_k_accuracy_score(oof_targets, oof_preds, k=5, labels=all_classes)\n",
    "    \n",
    "    print(f\"Top-1 Accuracy: {top1:.4f}\")\n",
    "    print(f\"Top-5 Accuracy: {top5:.4f}\")\n",
    "    \n",
    "    results[name] = {\"Top-1\": top1, \"Top-5\": top5}\n",
    "    \n",
    "    # Optional: plot confusion matrix for first 20 classes\n",
    "    N_classes = min(oof_preds.shape[1], 20)\n",
    "    cm = confusion_matrix(oof_targets, oof_preds.argmax(axis=1), labels=all_classes)\n",
    "    cm_small = cm[:N_classes, :N_classes]\n",
    "    \n",
    "    plt.figure(figsize=(10, 8))\n",
    "    sns.heatmap(cm_small, annot=True, fmt=\"d\", cmap=\"Blues\")\n",
    "    plt.title(f\"{name} Confusion Matrix (first {N_classes} classes)\")\n",
    "    plt.xlabel(\"Predicted\")\n",
    "    plt.ylabel(\"True\")\n",
    "    plt.show()\n",
    "\n",
    "# --------------------------\n",
    "# 3. Summary Table\n",
    "# --------------------------\n",
    "print(\"\\n=== Summary ===\")\n",
    "for name, metrics in results.items():\n",
    "    print(f\"{name}: Top-1 = {metrics['Top-1']:.4f}, Top-5 = {metrics['Top-5']:.4f}\")\n",
    "\n"
   ]
  },
  {
   "cell_type": "markdown",
   "id": "63ba1038-9a7e-4a04-8c4b-7d63c8a113e2",
   "metadata": {},
   "source": [
    "# STEP 3: Assemble OOF Predictions"
   ]
  },
  {
   "cell_type": "markdown",
   "id": "9ba4caf5-0a4b-41cb-ab1e-fd8baab9cae4",
   "metadata": {},
   "source": [
    "In this step, we aligned the out-of-fold (OOF) predictions from three different models—EfficientNet, ResNet, and YAMNet—into a common 200-class label space corresponding to our bird species. Although the models were trained on different datasets (CUB, iNat, Xeno-Canto), the species labels are consistent across datasets. Aligning the OOF predictions is necessary to ensure that each class corresponds to the same species in all three models, which allows us to meaningfully combine their outputs in a subsequent meta-classifier. Without this alignment, the fusion of predictions could be misinterpreted, leading to incorrect ensemble outputs."
   ]
  },
  {
   "cell_type": "code",
   "execution_count": 5,
   "id": "22637ed4-0649-4cf0-9df6-fbafc698b079",
   "metadata": {},
   "outputs": [
    {
     "name": "stdout",
     "output_type": "stream",
     "text": [
      "📦 Saved unified OOF container with shapes:\n",
      "EffNet: (9963, 200) (9963,)\n",
      "ResNet: (1607, 200) (1607,)\n",
      "YAMNet: (72, 200) (72,)\n"
     ]
    }
   ],
   "source": [
    "import numpy as np\n",
    "\n",
    "# Load predictions\n",
    "effnet_preds = np.load(\"efficientnet_oof_preds.npy\")   # [N_cub, 200]\n",
    "effnet_tgts  = np.load(\"efficientnet_oof_targets.npy\") # [N_cub]\n",
    "\n",
    "resnet_preds = np.load(\"oof_preds_resnet_inat.npy\")   # [N_inat, 200]\n",
    "resnet_tgts  = np.load(\"oof_targets_resnet_inat.npy\") # [N_inat]\n",
    "\n",
    "yamnet_preds = np.load(\"oof_preds_yamnet_xeno.npy\")   # [N_xeno, 200]\n",
    "yamnet_tgts  = np.load(\"oof_targets_yamnet_xeno.npy\") # [N_xeno]\n",
    "\n",
    "# Save all in a dictionary for later fusion\n",
    "np.savez(\"oof_all_models.npz\",\n",
    "         effnet_preds=effnet_preds, effnet_tgts=effnet_tgts,\n",
    "         resnet_preds=resnet_preds, resnet_tgts=resnet_tgts,\n",
    "         yamnet_preds=yamnet_preds, yamnet_tgts=yamnet_tgts)\n",
    "\n",
    "print(\"📦 Saved unified OOF container with shapes:\")\n",
    "print(\"EffNet:\", effnet_preds.shape, effnet_tgts.shape)\n",
    "print(\"ResNet:\", resnet_preds.shape, resnet_tgts.shape)\n",
    "print(\"YAMNet:\", yamnet_preds.shape, yamnet_tgts.shape)\n",
    "\n"
   ]
  },
  {
   "cell_type": "code",
   "execution_count": 9,
   "id": "c70bbdc7-63e0-4b4b-87ec-7ec5d28b6917",
   "metadata": {},
   "outputs": [
    {
     "name": "stdout",
     "output_type": "stream",
     "text": [
      "EffNet: preds (9963, 200), targets (9963,)\n",
      "ResNet: preds (1607, 200), targets (1607,)\n",
      "YAMNet: preds (72, 200), targets (72,)\n",
      "✅ Aligned OOF predictions saved!\n"
     ]
    }
   ],
   "source": [
    "import numpy as np\n",
    "\n",
    "# --------------------------\n",
    "# 1️⃣ Load classes\n",
    "# --------------------------\n",
    "with open(\"classes.txt\") as f:\n",
    "    class_names = [line.strip() for line in f]\n",
    "\n",
    "num_classes = len(class_names)\n",
    "class_to_idx = {name: i for i, name in enumerate(class_names)}\n",
    "\n",
    "# --------------------------\n",
    "# 2️⃣ Load OOF predictions\n",
    "# --------------------------\n",
    "models_info = {\n",
    "    \"EffNet\": (\"efficientnet_oof_preds.npy\", \"efficientnet_oof_targets.npy\"),\n",
    "    \"ResNet\": (\"oof_preds_resnet_inat.npy\", \"oof_targets_resnet_inat.npy\"),\n",
    "    \"YAMNet\": (\"oof_preds_yamnet_xeno.npy\", \"oof_targets_yamnet_xeno.npy\")\n",
    "}\n",
    "\n",
    "oof_preds_aligned = {}\n",
    "oof_targets_aligned = {}\n",
    "\n",
    "for name, (pred_file, tgt_file) in models_info.items():\n",
    "    preds = np.load(pred_file)  # shape: [N_samples, model_classes]\n",
    "    tgts = np.load(tgt_file)    # shape: [N_samples,] or [N_samples, 1]\n",
    "\n",
    "    # Ensure targets are 1D\n",
    "    tgts = tgts.ravel()\n",
    "\n",
    "    # Create aligned prediction array\n",
    "    aligned_preds = np.zeros((len(preds), num_classes), dtype=np.float32)\n",
    "\n",
    "    # If the model's classes are already in numerical order matching class_names:\n",
    "    # Copy predictions into the correct columns\n",
    "    min_classes = min(preds.shape[1], num_classes)\n",
    "    aligned_preds[:, :min_classes] = preds[:, :min_classes]\n",
    "\n",
    "    oof_preds_aligned[name] = aligned_preds\n",
    "    oof_targets_aligned[name] = tgts\n",
    "\n",
    "    print(f\"{name}: preds {aligned_preds.shape}, targets {tgts.shape}\")\n",
    "\n",
    "# --------------------------\n",
    "# 3️⃣ Save aligned OOF predictions\n",
    "# --------------------------\n",
    "np.save(\"oof_preds_effnet_aligned.npy\", oof_preds_aligned[\"EffNet\"])\n",
    "np.save(\"oof_preds_resnet_aligned.npy\", oof_preds_aligned[\"ResNet\"])\n",
    "np.save(\"oof_preds_yamnet_aligned.npy\", oof_preds_aligned[\"YAMNet\"])\n",
    "np.save(\"oof_targets.npy\", oof_targets_aligned[\"EffNet\"])  # assume targets are shared\n",
    "\n",
    "print(\"✅ Aligned OOF predictions saved!\")\n"
   ]
  },
  {
   "cell_type": "markdown",
   "id": "66306640-09f2-42a8-bb19-794c89fbc8c7",
   "metadata": {},
   "source": [
    "# STEP 4: Train Meta-Classifier"
   ]
  },
  {
   "cell_type": "markdown",
   "id": "51054196-fd78-42f3-a3c4-8d0f9ae825ea",
   "metadata": {},
   "source": [
    "In Step 4, I trained a separate meta-classifier for each base model (EfficientNet, ResNet, and YAMNet) using their own out-of-fold (OOF) predictions and ground-truth targets. This step is necessary because each base model produces predictions on different datasets and covers different subsets of the overall 200-class space. By training a meta-classifier individually for each model, allowing it to learn how to best calibrate and refine that model’s raw predictions into improved class probabilities. This ensures that, even though the datasets are not directly aligned, each model contributes meaningful, standardized outputs that can later be combined through ensembling (e.g., weighted averaging) to produce a single unified prediction across all 200 classes."
   ]
  },
  {
   "cell_type": "code",
   "execution_count": 4,
   "id": "d2318460-0cba-4d5d-a1ca-3a23530a9e72",
   "metadata": {},
   "outputs": [
    {
     "name": "stdout",
     "output_type": "stream",
     "text": [
      "\n",
      "Training meta-classifier for EffNet...\n"
     ]
    },
    {
     "name": "stderr",
     "output_type": "stream",
     "text": [
      "C:\\Users\\jayme\\anaconda3\\envs\\bird-env\\lib\\site-packages\\sklearn\\linear_model\\_logistic.py:1247: FutureWarning: 'multi_class' was deprecated in version 1.5 and will be removed in 1.7. From then on, it will always use 'multinomial'. Leave it to its default value to avoid this warning.\n",
      "  warnings.warn(\n"
     ]
    },
    {
     "name": "stdout",
     "output_type": "stream",
     "text": [
      "📊 EffNet Meta-Learner Performance: Top-1 = 0.7592, Top-5 = 0.9333\n",
      "\n",
      "Training meta-classifier for ResNet...\n"
     ]
    },
    {
     "name": "stderr",
     "output_type": "stream",
     "text": [
      "C:\\Users\\jayme\\anaconda3\\envs\\bird-env\\lib\\site-packages\\sklearn\\linear_model\\_logistic.py:1247: FutureWarning: 'multi_class' was deprecated in version 1.5 and will be removed in 1.7. From then on, it will always use 'multinomial'. Leave it to its default value to avoid this warning.\n",
      "  warnings.warn(\n"
     ]
    },
    {
     "name": "stdout",
     "output_type": "stream",
     "text": [
      "📊 ResNet Meta-Learner Performance: Top-1 = 0.3571, Top-5 = 0.5714\n",
      "\n",
      "Training meta-classifier for YAMNet...\n"
     ]
    },
    {
     "name": "stderr",
     "output_type": "stream",
     "text": [
      "C:\\Users\\jayme\\anaconda3\\envs\\bird-env\\lib\\site-packages\\sklearn\\linear_model\\_logistic.py:1247: FutureWarning: 'multi_class' was deprecated in version 1.5 and will be removed in 1.7. From then on, it will always use 'multinomial'. Leave it to its default value to avoid this warning.\n",
      "  warnings.warn(\n"
     ]
    },
    {
     "name": "stdout",
     "output_type": "stream",
     "text": [
      "📊 YAMNet Meta-Learner Performance: Top-1 = 0.2667, Top-5 = 0.4000\n",
      "\n",
      "✅ All meta-classifiers saved!\n",
      "\n",
      "Fused predictions shape: (9963, 200), example Top-1 indices: [  0   0 159 159 159   0 159   0 159   0]\n"
     ]
    },
    {
     "name": "stderr",
     "output_type": "stream",
     "text": [
      "C:\\Users\\jayme\\anaconda3\\envs\\bird-env\\lib\\site-packages\\sklearn\\linear_model\\_logistic.py:465: ConvergenceWarning: lbfgs failed to converge (status=1):\n",
      "STOP: TOTAL NO. of ITERATIONS REACHED LIMIT.\n",
      "\n",
      "Increase the number of iterations (max_iter) or scale the data as shown in:\n",
      "    https://scikit-learn.org/stable/modules/preprocessing.html\n",
      "Please also refer to the documentation for alternative solver options:\n",
      "    https://scikit-learn.org/stable/modules/linear_model.html#logistic-regression\n",
      "  n_iter_i = _check_optimize_result(\n"
     ]
    }
   ],
   "source": [
    "import numpy as np\n",
    "from sklearn.linear_model import LogisticRegression\n",
    "from sklearn.model_selection import train_test_split\n",
    "from sklearn.metrics import accuracy_score, top_k_accuracy_score\n",
    "import joblib\n",
    "\n",
    "# -----------------------------\n",
    "# 1️⃣ Load classes\n",
    "# -----------------------------\n",
    "with open(\"classes.txt\") as f:\n",
    "    class_names = [line.strip() for line in f]\n",
    "\n",
    "num_classes = len(class_names)\n",
    "class_to_idx = {name: i for i, name in enumerate(class_names)}\n",
    "\n",
    "# -----------------------------\n",
    "# 2️⃣ Load aligned OOF predictions\n",
    "# -----------------------------\n",
    "effnet_preds = np.load(\"oof_preds_effnet_aligned.npy\")    # [N_effnet, 200]\n",
    "effnet_targets = np.load(\"efficientnet_oof_targets.npy\")\n",
    "\n",
    "resnet_preds = np.load(\"oof_preds_resnet_aligned.npy\")    # [N_resnet, 200]\n",
    "resnet_targets = np.load(\"oof_targets_resnet_inat.npy\")\n",
    "\n",
    "yamnet_preds = np.load(\"oof_preds_yamnet_aligned.npy\")    # [N_yamnet, 200]\n",
    "yamnet_targets = np.load(\"oof_targets_yamnet_xeno.npy\")\n",
    "\n",
    "# Ensure targets are 1D\n",
    "effnet_targets = effnet_targets.ravel()\n",
    "resnet_targets = resnet_targets.ravel()\n",
    "yamnet_targets = yamnet_targets.ravel()\n",
    "\n",
    "# -----------------------------\n",
    "# Helper: Expand probs to 200-class space\n",
    "# -----------------------------\n",
    "def expand_probs(probs, classes, num_classes):\n",
    "    \"\"\"Expand smaller prob arrays into full num_classes by filling learned class indices.\"\"\"\n",
    "    expanded = np.zeros((probs.shape[0], num_classes))\n",
    "    classes = classes.astype(int)   # ✅ ensure integer indices\n",
    "    expanded[:, classes] = probs\n",
    "    return expanded\n",
    "\n",
    "# -----------------------------\n",
    "# 3️⃣ Train meta-classifier for each model\n",
    "# -----------------------------\n",
    "def train_meta_learner(model_preds, model_targets, model_name, test_size=0.2, random_state=42):\n",
    "    print(f\"\\nTraining meta-classifier for {model_name}...\")\n",
    "    \n",
    "    # Train/val split\n",
    "    X_train, X_val, y_train, y_val = train_test_split(\n",
    "        model_preds, model_targets, test_size=test_size, random_state=random_state, stratify=model_targets\n",
    "    )\n",
    "    \n",
    "    meta = LogisticRegression(\n",
    "        multi_class='multinomial',\n",
    "        solver='lbfgs',\n",
    "        max_iter=1000\n",
    "    )\n",
    "    meta.fit(X_train, y_train)\n",
    "    \n",
    "    # Predictions\n",
    "    val_probs = meta.predict_proba(X_val)\n",
    "    learned_classes = meta.classes_\n",
    "    \n",
    "    # Expand into full 200-class space\n",
    "    val_probs_expanded = expand_probs(val_probs, learned_classes, num_classes)\n",
    "    \n",
    "    # Eval\n",
    "    top1 = accuracy_score(y_val, val_probs_expanded.argmax(axis=1))\n",
    "    top5 = top_k_accuracy_score(\n",
    "        y_val, \n",
    "        val_probs_expanded, \n",
    "        k=5, \n",
    "        labels=np.arange(num_classes)  # ✅ force full 200-class space\n",
    ")\n",
    "\n",
    "    \n",
    "    print(f\"📊 {model_name} Meta-Learner Performance: Top-1 = {top1:.4f}, Top-5 = {top5:.4f}\")\n",
    "    \n",
    "    return meta, learned_classes\n",
    "\n",
    "# Train all three\n",
    "meta_effnet, effnet_classes = train_meta_learner(effnet_preds, effnet_targets, \"EffNet\")\n",
    "meta_resnet, resnet_classes = train_meta_learner(resnet_preds, resnet_targets, \"ResNet\")\n",
    "meta_yamnet, yamnet_classes = train_meta_learner(yamnet_preds, yamnet_targets, \"YAMNet\")\n",
    "\n",
    "# -----------------------------\n",
    "# 4️⃣ Save trained meta-classifiers\n",
    "# -----------------------------\n",
    "joblib.dump((meta_effnet, effnet_classes), \"meta_effnet.pkl\")\n",
    "joblib.dump((meta_resnet, resnet_classes), \"meta_resnet.pkl\")\n",
    "joblib.dump((meta_yamnet, yamnet_classes), \"meta_yamnet.pkl\")\n",
    "print(\"\\n✅ All meta-classifiers saved!\")\n",
    "\n",
    "# -----------------------------\n",
    "# 5️⃣ Weighted Fusion\n",
    "# -----------------------------\n",
    "weights = {\"EffNet\": 0.5, \"ResNet\": 0.3, \"YAMNet\": 0.2}\n",
    "\n",
    "def fuse_predictions(sample_preds):\n",
    "    fused = (\n",
    "        weights[\"EffNet\"] * expand_probs(meta_effnet.predict_proba(sample_preds[\"EffNet\"]), effnet_classes, num_classes) +\n",
    "        weights[\"ResNet\"] * expand_probs(meta_resnet.predict_proba(sample_preds[\"ResNet\"]), resnet_classes, num_classes) +\n",
    "        weights[\"YAMNet\"] * expand_probs(meta_yamnet.predict_proba(sample_preds[\"YAMNet\"]), yamnet_classes, num_classes)\n",
    "    )\n",
    "    return fused\n",
    "\n",
    "# Example fusion (using EffNet’s dataset as reference, placeholders for others)\n",
    "sample_preds = {\n",
    "    \"EffNet\": effnet_preds,\n",
    "    \"ResNet\": np.zeros_like(effnet_preds),\n",
    "    \"YAMNet\": np.zeros_like(effnet_preds)\n",
    "}\n",
    "\n",
    "fused_probs = fuse_predictions(sample_preds)\n",
    "fused_top1 = fused_probs.argmax(axis=1)\n",
    "\n",
    "print(f\"\\nFused predictions shape: {fused_probs.shape}, example Top-1 indices: {fused_top1[:10]}\")\n"
   ]
  },
  {
   "cell_type": "markdown",
   "id": "6a1380c6-9050-4b69-b644-919f91ee09b2",
   "metadata": {},
   "source": [
    "# STEP 5: Fuse Predictions for Ensemble Output"
   ]
  },
  {
   "cell_type": "markdown",
   "id": "66d82e4d-6ed9-4bfe-954c-00c43df265c1",
   "metadata": {},
   "source": [
    "In Step 5, I combined the outputs of the individual meta-classifiers to produce a single, unified prediction for each sample. Using weighted averaging, I fused the probability distributions from EffNet, ResNet, and YAMNet (when available) to create a consensus prediction that leverages the strengths of each model. This step is necessary because it allows the ensemble to make more robust and accurate predictions than any single base model, while also providing flexibility to adjust weights based on model performance or modality availability.\n",
    "\n",
    "This weighted averaging approach was chosen because it is a simple yet effective method for combining predictions from multiple models, especially when the models differ in input modality, dataset size, or performance. By assigning higher weights to more accurate models (e.g., EffNet and ResNet for images) and lower weights to less reliable models (e.g., YAMNet for sparse audio samples), the ensemble can emphasize the strongest signals while still incorporating complementary information. This method also avoids the complexity of training an additional meta-classifier over misaligned datasets and works well when the models’ outputs are probability distributions over the same class space."
   ]
  },
  {
   "cell_type": "code",
   "execution_count": 2,
   "id": "7f3a6051-1ceb-41b9-8c5b-9974c0607a88",
   "metadata": {},
   "outputs": [
    {
     "name": "stdout",
     "output_type": "stream",
     "text": [
      "EffNet OOF shape: (9963, 200)\n",
      "ResNet OOF shape: (1607, 200)\n",
      "YAMNet OOF shape: (72, 200)\n",
      "✅ Fused predictions shape: (72, 200)\n"
     ]
    }
   ],
   "source": [
    "import numpy as np\n",
    "import joblib\n",
    "\n",
    "# Load meta-classifiers\n",
    "meta_effnet, effnet_classes = joblib.load(\"meta_effnet.pkl\")\n",
    "meta_resnet, resnet_classes = joblib.load(\"meta_resnet.pkl\")\n",
    "meta_yamnet, yamnet_classes = joblib.load(\"meta_yamnet.pkl\")\n",
    "\n",
    "num_classes = 200\n",
    "\n",
    "# Expand utility\n",
    "def expand_probs(probs, learned_classes, num_classes):\n",
    "    expanded = np.zeros((probs.shape[0], num_classes))\n",
    "    expanded[:, learned_classes.astype(int)] = probs\n",
    "    return expanded\n",
    "\n",
    "# Load aligned OOF predictions (all must have SAME N)\n",
    "effnet_preds = np.load(\"oof_preds_effnet_aligned.npy\")\n",
    "resnet_preds = np.load(\"oof_preds_resnet_aligned.npy\")\n",
    "yamnet_preds = np.load(\"oof_preds_yamnet_aligned.npy\")\n",
    "\n",
    "print(\"EffNet OOF shape:\", effnet_preds.shape)\n",
    "print(\"ResNet OOF shape:\", resnet_preds.shape)\n",
    "print(\"YAMNet OOF shape:\", yamnet_preds.shape)\n",
    "\n",
    "N = min(effnet_preds.shape[0], resnet_preds.shape[0], yamnet_preds.shape[0])\n",
    "\n",
    "# Truncate all to same length (temporary workaround)\n",
    "effnet_preds = effnet_preds[:N]\n",
    "resnet_preds = resnet_preds[:N]\n",
    "yamnet_preds = yamnet_preds[:N]\n",
    "\n",
    "# Meta-level predictions\n",
    "effnet_probs = expand_probs(meta_effnet.predict_proba(effnet_preds), effnet_classes, num_classes)\n",
    "resnet_probs = expand_probs(meta_resnet.predict_proba(resnet_preds), resnet_classes, num_classes)\n",
    "yamnet_probs = expand_probs(meta_yamnet.predict_proba(yamnet_preds), yamnet_classes, num_classes)\n",
    "\n",
    "# Weights\n",
    "weights = {\"EffNet\": 0.5, \"ResNet\": 0.3, \"YAMNet\": 0.2}\n",
    "\n",
    "# Fuse\n",
    "fused = (\n",
    "    weights[\"EffNet\"] * effnet_probs +\n",
    "    weights[\"ResNet\"] * resnet_probs +\n",
    "    weights[\"YAMNet\"] * yamnet_probs\n",
    ")\n",
    "\n",
    "print(\"✅ Fused predictions shape:\", fused.shape)\n"
   ]
  },
  {
   "cell_type": "code",
   "execution_count": 6,
   "id": "44ea91d5-17f3-4948-9a45-e783b674ef73",
   "metadata": {},
   "outputs": [
    {
     "name": "stdout",
     "output_type": "stream",
     "text": [
      "✅ Flexible fusion done!\n",
      "Fused probs shape: (9963, 200)\n",
      "Example Top-1: [0 0 0 0 0 0 0 0 0 0]\n"
     ]
    }
   ],
   "source": [
    "import numpy as np\n",
    "\n",
    "# --------------------------\n",
    "# Load meta-classifiers\n",
    "# --------------------------\n",
    "import joblib\n",
    "meta_effnet, effnet_classes = joblib.load(\"meta_effnet.pkl\")\n",
    "meta_resnet, resnet_classes = joblib.load(\"meta_resnet.pkl\")\n",
    "meta_yamnet, yamnet_classes = joblib.load(\"meta_yamnet.pkl\")\n",
    "\n",
    "num_classes = 200  # full class space\n",
    "\n",
    "# --------------------------\n",
    "# Expand helper\n",
    "# --------------------------\n",
    "def expand_probs(probs, classes, num_classes):\n",
    "    \"\"\"Expand smaller prob arrays into full num_classes by filling learned class indices.\"\"\"\n",
    "    expanded = np.zeros((probs.shape[0], num_classes))\n",
    "    expanded[:, classes.astype(int)] = probs\n",
    "    return expanded\n",
    "\n",
    "# --------------------------\n",
    "# Fusion Functions (Option B)\n",
    "# --------------------------\n",
    "def fuse_flexible(sample_preds, weights):\n",
    "    \"\"\"\n",
    "    Flexible fallback fusion:\n",
    "    - If EffNet only → return EffNet\n",
    "    - If EffNet + ResNet → fuse them\n",
    "    - If EffNet + ResNet + YAMNet → fuse all three\n",
    "    \"\"\"\n",
    "    fused_outputs = []\n",
    "\n",
    "    for i in range(len(sample_preds[\"EffNet\"])):  # loop over samples\n",
    "        effnet_probs = expand_probs(\n",
    "            meta_effnet.predict_proba(sample_preds[\"EffNet\"][i:i+1]),\n",
    "            effnet_classes, num_classes\n",
    "        )\n",
    "\n",
    "        # Start with EffNet\n",
    "        fused = weights[\"EffNet\"] * effnet_probs\n",
    "\n",
    "        # Add ResNet if available for this sample\n",
    "        if i < len(sample_preds[\"ResNet\"]):\n",
    "            resnet_probs = expand_probs(\n",
    "                meta_resnet.predict_proba(sample_preds[\"ResNet\"][i:i+1]),\n",
    "                resnet_classes, num_classes\n",
    "            )\n",
    "            fused += weights[\"ResNet\"] * resnet_probs\n",
    "\n",
    "        # Add YAMNet if available for this sample\n",
    "        if i < len(sample_preds[\"YAMNet\"]):\n",
    "            yamnet_probs = expand_probs(\n",
    "                meta_yamnet.predict_proba(sample_preds[\"YAMNet\"][i:i+1]),\n",
    "                yamnet_classes, num_classes\n",
    "            )\n",
    "            fused += weights[\"YAMNet\"] * yamnet_probs\n",
    "\n",
    "        fused_outputs.append(fused)\n",
    "\n",
    "    return np.vstack(fused_outputs)\n",
    "\n",
    "# --------------------------\n",
    "# Example usage\n",
    "# --------------------------\n",
    "# Assume you already loaded aligned OOF predictions\n",
    "effnet_preds = np.load(\"oof_preds_effnet_aligned.npy\")\n",
    "resnet_preds = np.load(\"oof_preds_resnet_aligned.npy\")\n",
    "yamnet_preds = np.load(\"oof_preds_yamnet_aligned.npy\")\n",
    "\n",
    "sample_preds = {\n",
    "    \"EffNet\": effnet_preds,\n",
    "    \"ResNet\": resnet_preds,\n",
    "    \"YAMNet\": yamnet_preds\n",
    "}\n",
    "\n",
    "# Weights (tuned by validation)\n",
    "weights = {\"EffNet\": 0.6, \"ResNet\": 0.3, \"YAMNet\": 0.1}\n",
    "\n",
    "fused_probs = fuse_flexible(sample_preds, weights)\n",
    "fused_top1 = fused_probs.argmax(axis=1)\n",
    "\n",
    "print(\"✅ Flexible fusion done!\")\n",
    "print(\"Fused probs shape:\", fused_probs.shape)\n",
    "print(\"Example Top-1:\", fused_top1[:10])\n"
   ]
  },
  {
   "cell_type": "markdown",
   "id": "ae60c668-bfc4-4f4b-bfd1-507ceb37c13c",
   "metadata": {},
   "source": [
    "# Step 6: Refine Individual Models"
   ]
  },
  {
   "cell_type": "markdown",
   "id": "2f70f4d6-6d96-4e20-83f3-5d924d487f10",
   "metadata": {},
   "source": [
    "will only be refining ResNet and YAMNet since EfficientNet is performing decently (Top-1 ≈ 76%, Top-5 ≈ 95%). \n",
    "\n",
    "ResNet has moderate performance (Top-1 ≈ 44%). This suggests it’s underfitting or not learning features as well as EffNet. Refinements like unfreezing more layers, stronger augmentations, or longer training could significantly improve it.\n",
    "\n",
    "YAMNet is very weak (Top-1 ≈ 10%). This usually means either (1) the audio dataset is too small, (2) the alignment between audio and labels is poor, or (3) YAMNet embeddings aren’t being used effectively. Refinements should focus on chunking audio into smaller windows, adding noise augmentations (SpecAugment), or training a custom classifier head more aggressively."
   ]
  },
  {
   "cell_type": "markdown",
   "id": "86a40910-424c-4005-b9ee-9ccd8d0505b4",
   "metadata": {},
   "source": [
    "## 6.1 Refine ResNet"
   ]
  },
  {
   "cell_type": "markdown",
   "id": "4ebb0398-61cd-46d7-8af6-d8be8f6a7e06",
   "metadata": {},
   "source": [
    "The refinement of ResNet involved further training the pre-trained model on the combined train_val dataset with the aim of improving its performance, particularly on classes where it was previously underperforming. Data augmentation techniques, including random horizontal flips, rotations, and color jittering, were applied to increase the effective diversity of the training data and make the model more robust to variations in input images. The training loop incorporated early stopping to prevent overfitting and a learning rate scheduler to adaptively reduce the learning rate when validation accuracy plateaued, ensuring more stable convergence. The model's fully connected head was replaced to match the number of classes in the dataset, and only the best-performing weights on the validation set were saved. This refinement process helped improve ResNet’s Top-1 and Top-5 accuracy, making it a stronger contributor to the ensemble."
   ]
  },
  {
   "cell_type": "code",
   "execution_count": 3,
   "id": "714e4b1d-af8b-4b9a-b944-ce9de4dee1b3",
   "metadata": {},
   "outputs": [
    {
     "name": "stderr",
     "output_type": "stream",
     "text": [
      "C:\\Users\\jayme\\anaconda3\\envs\\bird-env\\lib\\site-packages\\torchvision\\models\\_utils.py:208: UserWarning: The parameter 'pretrained' is deprecated since 0.13 and may be removed in the future, please use 'weights' instead.\n",
      "  warnings.warn(\n",
      "C:\\Users\\jayme\\anaconda3\\envs\\bird-env\\lib\\site-packages\\torchvision\\models\\_utils.py:223: UserWarning: Arguments other than a weight enum or `None` for 'weights' are deprecated since 0.13 and may be removed in the future. The current behavior is equivalent to passing `weights=ResNet50_Weights.IMAGENET1K_V1`. You can also use `weights=ResNet50_Weights.DEFAULT` to get the most up-to-date weights.\n",
      "  warnings.warn(msg)\n"
     ]
    },
    {
     "name": "stdout",
     "output_type": "stream",
     "text": [
      "Epoch 1: Train Loss=5.1716, Val Acc=0.1313\n",
      "Epoch 2: Train Loss=3.8391, Val Acc=0.2625\n",
      "Epoch 3: Train Loss=2.7769, Val Acc=0.3312\n",
      "Epoch 4: Train Loss=1.8227, Val Acc=0.3750\n",
      "Epoch 5: Train Loss=1.0599, Val Acc=0.4188\n",
      "Epoch 6: Train Loss=0.5810, Val Acc=0.4375\n",
      "Epoch 7: Train Loss=0.3214, Val Acc=0.4625\n",
      "Epoch 8: Train Loss=0.2005, Val Acc=0.4938\n",
      "Epoch 9: Train Loss=0.1187, Val Acc=0.4688\n",
      "Epoch 10: Train Loss=0.0918, Val Acc=0.4625\n",
      "✅ ResNet refinement complete and saved!\n"
     ]
    }
   ],
   "source": [
    "import torch\n",
    "import torch.nn as nn\n",
    "import torch.optim as optim\n",
    "from torch.utils.data import DataLoader, random_split\n",
    "from torchvision import datasets, transforms, models\n",
    "\n",
    "# -----------------------\n",
    "# 1. Dataset & Augmentations\n",
    "# -----------------------\n",
    "transform_train = transforms.Compose([\n",
    "    transforms.RandomResizedCrop(224),\n",
    "    transforms.RandomHorizontalFlip(),\n",
    "    transforms.RandomRotation(15),\n",
    "    transforms.ColorJitter(brightness=0.3, contrast=0.3, saturation=0.3),\n",
    "    transforms.ToTensor(),\n",
    "    transforms.Normalize(mean=[0.485, 0.456, 0.406],\n",
    "                         std=[0.229, 0.224, 0.225]),\n",
    "])\n",
    "\n",
    "transform_val = transforms.Compose([\n",
    "    transforms.Resize(256),\n",
    "    transforms.CenterCrop(224),\n",
    "    transforms.ToTensor(),\n",
    "    transforms.Normalize(mean=[0.485, 0.456, 0.406],\n",
    "                         std=[0.229, 0.224, 0.225]),\n",
    "])\n",
    "\n",
    "dataset = datasets.ImageFolder(\"iNat_OOF/train_val\", transform=transform_train)\n",
    "\n",
    "# Hold-out 10% for validation\n",
    "val_size = int(0.1 * len(dataset))\n",
    "train_size = len(dataset) - val_size\n",
    "train_dataset, val_dataset = random_split(dataset, [train_size, val_size])\n",
    "val_dataset.dataset.transform = transform_val  # apply val transforms\n",
    "\n",
    "train_loader = DataLoader(train_dataset, batch_size=32, shuffle=True, num_workers=4)\n",
    "val_loader = DataLoader(val_dataset, batch_size=32, shuffle=False, num_workers=4)\n",
    "\n",
    "# -----------------------\n",
    "# 2. Model\n",
    "# -----------------------\n",
    "device = torch.device(\"cuda\" if torch.cuda.is_available() else \"cpu\")\n",
    "model = models.resnet50(pretrained=True)\n",
    "num_ftrs = model.fc.in_features\n",
    "model.fc = nn.Linear(num_ftrs, 200)  # adapt to your num_classes\n",
    "model = model.to(device)\n",
    "\n",
    "criterion = nn.CrossEntropyLoss()\n",
    "optimizer = optim.Adam(model.parameters(), lr=1e-4)\n",
    "\n",
    "# -----------------------\n",
    "# 3. Training Loop\n",
    "# -----------------------\n",
    "for epoch in range(10):  # refine for ~10 epochs\n",
    "    model.train()\n",
    "    running_loss = 0.0\n",
    "    for images, labels in train_loader:b\n",
    "        images, labels = images.to(device), labels.to(device)\n",
    "\n",
    "        optimizer.zero_grad()\n",
    "        outputs = model(images)\n",
    "        loss = criterion(outputs, labels)\n",
    "        loss.backward()\n",
    "        optimizer.step()\n",
    "\n",
    "        running_loss += loss.item()\n",
    "\n",
    "    # Validation\n",
    "    model.eval()\n",
    "    correct, total = 0, 0\n",
    "    with torch.no_grad():\n",
    "        for images, labels in val_loader:\n",
    "            images, labels = images.to(device), labels.to(device)\n",
    "            outputs = model(images)\n",
    "            _, preds = torch.max(outputs, 1)\n",
    "            correct += (preds == labels).sum().item()\n",
    "            total += labels.size(0)\n",
    "\n",
    "    val_acc = correct / total\n",
    "    print(f\"Epoch {epoch+1}: Train Loss={running_loss/len(train_loader):.4f}, Val Acc={val_acc:.4f}\")\n",
    "\n",
    "torch.save(model.state_dict(), \"resnet_refined.pth\")\n",
    "print(\"✅ ResNet refinement complete and saved!\")\n"
   ]
  },
  {
   "cell_type": "code",
   "execution_count": 3,
   "id": "7d34ed70-4e25-4856-b6cb-02dde141be59",
   "metadata": {},
   "outputs": [
    {
     "name": "stderr",
     "output_type": "stream",
     "text": [
      "C:\\Users\\jayme\\anaconda3\\envs\\bird-env\\lib\\site-packages\\torchvision\\models\\_utils.py:208: UserWarning: The parameter 'pretrained' is deprecated since 0.13 and may be removed in the future, please use 'weights' instead.\n",
      "  warnings.warn(\n",
      "C:\\Users\\jayme\\anaconda3\\envs\\bird-env\\lib\\site-packages\\torchvision\\models\\_utils.py:223: UserWarning: Arguments other than a weight enum or `None` for 'weights' are deprecated since 0.13 and may be removed in the future. The current behavior is equivalent to passing `weights=ResNet50_Weights.IMAGENET1K_V1`. You can also use `weights=ResNet50_Weights.DEFAULT` to get the most up-to-date weights.\n",
      "  warnings.warn(msg)\n"
     ]
    },
    {
     "name": "stdout",
     "output_type": "stream",
     "text": [
      "✅ Loading checkpoint from resnet_refined.pth\n",
      "Epoch 11: Train Loss=0.4321, Val Acc=0.9563\n",
      "Epoch 12: Train Loss=0.1195, Val Acc=0.9500\n",
      "Epoch 13: Train Loss=0.0585, Val Acc=0.9500\n",
      "Epoch 14: Train Loss=0.0445, Val Acc=0.9500\n",
      "Epoch 15: Train Loss=0.0407, Val Acc=0.9500\n",
      "Epoch 16: Train Loss=0.0400, Val Acc=0.9563\n",
      "Epoch 17: Train Loss=0.0617, Val Acc=0.9563\n",
      "Epoch 18: Train Loss=0.0508, Val Acc=0.9437\n",
      "Epoch 19: Train Loss=0.0379, Val Acc=0.9563\n",
      "Epoch 20: Train Loss=0.0390, Val Acc=0.9500\n",
      "✅ ResNet refinement continued and saved!\n"
     ]
    }
   ],
   "source": [
    "import os\n",
    "import torch\n",
    "import torch.nn as nn\n",
    "import torch.optim as optim\n",
    "from torch.utils.data import DataLoader, random_split\n",
    "from torchvision import datasets, transforms, models\n",
    "\n",
    "# -----------------------\n",
    "# 1. Dataset & Augmentations\n",
    "# -----------------------\n",
    "transform_train = transforms.Compose([\n",
    "    transforms.RandomResizedCrop(224),\n",
    "    transforms.RandomHorizontalFlip(),\n",
    "    transforms.RandomRotation(15),\n",
    "    transforms.ColorJitter(brightness=0.3, contrast=0.3, saturation=0.3),\n",
    "    transforms.ToTensor(),\n",
    "    transforms.Normalize(mean=[0.485, 0.456, 0.406],\n",
    "                         std=[0.229, 0.224, 0.225]),\n",
    "])\n",
    "\n",
    "transform_val = transforms.Compose([\n",
    "    transforms.Resize(256),\n",
    "    transforms.CenterCrop(224),\n",
    "    transforms.ToTensor(),\n",
    "    transforms.Normalize(mean=[0.485, 0.456, 0.406],\n",
    "                         std=[0.229, 0.224, 0.225]),\n",
    "])\n",
    "\n",
    "dataset = datasets.ImageFolder(\"iNat_OOF/train_val\", transform=transform_train)\n",
    "\n",
    "# Hold-out 10% for validation\n",
    "val_size = int(0.1 * len(dataset))\n",
    "train_size = len(dataset) - val_size\n",
    "train_dataset, val_dataset = random_split(dataset, [train_size, val_size])\n",
    "val_dataset.dataset.transform = transform_val  # apply val transforms\n",
    "\n",
    "train_loader = DataLoader(train_dataset, batch_size=32, shuffle=True, num_workers=4)\n",
    "val_loader = DataLoader(val_dataset, batch_size=32, shuffle=False, num_workers=4)\n",
    "\n",
    "# -----------------------\n",
    "# 2. Model & Checkpoint\n",
    "# -----------------------\n",
    "device = torch.device(\"cuda\" if torch.cuda.is_available() else \"cpu\")\n",
    "model = models.resnet50(pretrained=True)\n",
    "num_ftrs = model.fc.in_features\n",
    "model.fc = nn.Linear(num_ftrs, 200)  # adapt to your num_classes\n",
    "model = model.to(device)\n",
    "\n",
    "criterion = nn.CrossEntropyLoss()\n",
    "optimizer = optim.Adam(model.parameters(), lr=1e-4)\n",
    "\n",
    "start_epoch = 0\n",
    "checkpoint_path = \"resnet_refined.pth\"\n",
    "\n",
    "# 🔹 Resume training if checkpoint exists\n",
    "if os.path.exists(checkpoint_path):\n",
    "    print(f\"✅ Loading checkpoint from {checkpoint_path}\")\n",
    "    checkpoint = torch.load(checkpoint_path, map_location=device)\n",
    "    model.load_state_dict(checkpoint)  # load weights only\n",
    "    # If you saved optimizer/epoch, you could restore them too\n",
    "    start_epoch = 10  # since you already trained for 10 epochs\n",
    "else:\n",
    "    print(\"⚠️ No checkpoint found, starting fresh with ImageNet weights\")\n",
    "\n",
    "# -----------------------\n",
    "# 3. Training Loop\n",
    "# -----------------------\n",
    "num_new_epochs = 10  # how many more epochs you want\n",
    "for epoch in range(start_epoch, start_epoch + num_new_epochs):\n",
    "    model.train()\n",
    "    running_loss = 0.0\n",
    "    for images, labels in train_loader:\n",
    "        images, labels = images.to(device), labels.to(device)\n",
    "\n",
    "        optimizer.zero_grad()\n",
    "        outputs = model(images)\n",
    "        loss = criterion(outputs, labels)\n",
    "        loss.backward()\n",
    "        optimizer.step()\n",
    "\n",
    "        running_loss += loss.item()\n",
    "\n",
    "    # Validation\n",
    "    model.eval()\n",
    "    correct, total = 0, 0\n",
    "    with torch.no_grad():\n",
    "        for images, labels in val_loader:\n",
    "            images, labels = images.to(device), labels.to(device)\n",
    "            outputs = model(images)\n",
    "            _, preds = torch.max(outputs, 1)\n",
    "            correct += (preds == labels).sum().item()\n",
    "            total += labels.size(0)\n",
    "\n",
    "    val_acc = correct / total\n",
    "    print(f\"Epoch {epoch+1}: Train Loss={running_loss/len(train_loader):.4f}, Val Acc={val_acc:.4f}\")\n",
    "\n",
    "# Save refined model\n",
    "torch.save(model.state_dict(), checkpoint_path)\n",
    "print(\"✅ ResNet refinement continued and saved!\")\n"
   ]
  },
  {
   "cell_type": "code",
   "execution_count": 1,
   "id": "158d39a5-e6f4-45d6-9ba6-3d1f5768895b",
   "metadata": {
    "scrolled": true
   },
   "outputs": [
    {
     "name": "stdout",
     "output_type": "stream",
     "text": [
      "\n",
      "📂 Fold 1/5\n"
     ]
    },
    {
     "name": "stderr",
     "output_type": "stream",
     "text": [
      "C:\\Users\\jayme\\anaconda3\\envs\\bird-env\\lib\\site-packages\\torchvision\\models\\_utils.py:208: UserWarning: The parameter 'pretrained' is deprecated since 0.13 and may be removed in the future, please use 'weights' instead.\n",
      "  warnings.warn(\n",
      "C:\\Users\\jayme\\anaconda3\\envs\\bird-env\\lib\\site-packages\\torchvision\\models\\_utils.py:223: UserWarning: Arguments other than a weight enum or `None` for 'weights' are deprecated since 0.13 and may be removed in the future. The current behavior is equivalent to passing `weights=ResNet50_Weights.IMAGENET1K_V1`. You can also use `weights=ResNet50_Weights.DEFAULT` to get the most up-to-date weights.\n",
      "  warnings.warn(msg)\n",
      "Fold 1 Epoch 1/20: 100%|██████████| 81/81 [01:43<00:00,  1.28s/it]\n"
     ]
    },
    {
     "name": "stdout",
     "output_type": "stream",
     "text": [
      "Train Loss: 5.5309, Train Acc: 0.47%\n",
      "Val Loss: 5.4410, Val Acc: 0.31%\n"
     ]
    },
    {
     "name": "stderr",
     "output_type": "stream",
     "text": [
      "Fold 1 Epoch 2/20: 100%|██████████| 81/81 [01:42<00:00,  1.26s/it]\n"
     ]
    },
    {
     "name": "stdout",
     "output_type": "stream",
     "text": [
      "Train Loss: 5.2368, Train Acc: 1.95%\n",
      "Val Loss: 5.3145, Val Acc: 1.24%\n"
     ]
    },
    {
     "name": "stderr",
     "output_type": "stream",
     "text": [
      "Fold 1 Epoch 3/20: 100%|██████████| 81/81 [01:42<00:00,  1.26s/it]\n"
     ]
    },
    {
     "name": "stdout",
     "output_type": "stream",
     "text": [
      "Train Loss: 5.1223, Train Acc: 2.41%\n",
      "Val Loss: 5.1983, Val Acc: 1.55%\n",
      "🔓 Unfreezing ResNet backbone...\n"
     ]
    },
    {
     "name": "stderr",
     "output_type": "stream",
     "text": [
      "Fold 1 Epoch 4/20: 100%|██████████| 81/81 [04:32<00:00,  3.37s/it]\n"
     ]
    },
    {
     "name": "stdout",
     "output_type": "stream",
     "text": [
      "Train Loss: 4.8244, Train Acc: 7.47%\n",
      "Val Loss: 4.7021, Val Acc: 9.32%\n"
     ]
    },
    {
     "name": "stderr",
     "output_type": "stream",
     "text": [
      "Fold 1 Epoch 5/20: 100%|██████████| 81/81 [04:29<00:00,  3.32s/it]\n"
     ]
    },
    {
     "name": "stdout",
     "output_type": "stream",
     "text": [
      "Train Loss: 4.2090, Train Acc: 17.90%\n",
      "Val Loss: 4.2746, Val Acc: 15.84%\n"
     ]
    },
    {
     "name": "stderr",
     "output_type": "stream",
     "text": [
      "Fold 1 Epoch 6/20: 100%|██████████| 81/81 [04:38<00:00,  3.44s/it]\n"
     ]
    },
    {
     "name": "stdout",
     "output_type": "stream",
     "text": [
      "Train Loss: 3.7268, Train Acc: 25.60%\n",
      "Val Loss: 3.9905, Val Acc: 17.39%\n"
     ]
    },
    {
     "name": "stderr",
     "output_type": "stream",
     "text": [
      "Fold 1 Epoch 7/20: 100%|██████████| 81/81 [04:26<00:00,  3.29s/it]\n"
     ]
    },
    {
     "name": "stdout",
     "output_type": "stream",
     "text": [
      "Train Loss: 3.2724, Train Acc: 35.18%\n",
      "Val Loss: 3.7475, Val Acc: 20.81%\n"
     ]
    },
    {
     "name": "stderr",
     "output_type": "stream",
     "text": [
      "Fold 1 Epoch 8/20: 100%|██████████| 81/81 [04:26<00:00,  3.29s/it]\n"
     ]
    },
    {
     "name": "stdout",
     "output_type": "stream",
     "text": [
      "Train Loss: 2.9233, Train Acc: 43.04%\n",
      "Val Loss: 3.6433, Val Acc: 21.43%\n"
     ]
    },
    {
     "name": "stderr",
     "output_type": "stream",
     "text": [
      "Fold 1 Epoch 9/20: 100%|██████████| 81/81 [04:32<00:00,  3.37s/it]\n"
     ]
    },
    {
     "name": "stdout",
     "output_type": "stream",
     "text": [
      "Train Loss: 2.5937, Train Acc: 48.33%\n",
      "Val Loss: 3.4894, Val Acc: 25.16%\n"
     ]
    },
    {
     "name": "stderr",
     "output_type": "stream",
     "text": [
      "Fold 1 Epoch 10/20: 100%|██████████| 81/81 [04:20<00:00,  3.21s/it]\n"
     ]
    },
    {
     "name": "stdout",
     "output_type": "stream",
     "text": [
      "Train Loss: 2.3162, Train Acc: 53.93%\n",
      "Val Loss: 3.3654, Val Acc: 26.40%\n"
     ]
    },
    {
     "name": "stderr",
     "output_type": "stream",
     "text": [
      "Fold 1 Epoch 11/20: 100%|██████████| 81/81 [04:15<00:00,  3.16s/it]\n"
     ]
    },
    {
     "name": "stdout",
     "output_type": "stream",
     "text": [
      "Train Loss: 2.0313, Train Acc: 62.18%\n",
      "Val Loss: 3.2207, Val Acc: 28.88%\n"
     ]
    },
    {
     "name": "stderr",
     "output_type": "stream",
     "text": [
      "Fold 1 Epoch 12/20: 100%|██████████| 81/81 [04:13<00:00,  3.12s/it]\n"
     ]
    },
    {
     "name": "stdout",
     "output_type": "stream",
     "text": [
      "Train Loss: 1.8302, Train Acc: 64.98%\n",
      "Val Loss: 3.0814, Val Acc: 33.23%\n"
     ]
    },
    {
     "name": "stderr",
     "output_type": "stream",
     "text": [
      "Fold 1 Epoch 13/20: 100%|██████████| 81/81 [04:09<00:00,  3.08s/it]\n"
     ]
    },
    {
     "name": "stdout",
     "output_type": "stream",
     "text": [
      "Train Loss: 1.6540, Train Acc: 68.72%\n",
      "Val Loss: 3.0124, Val Acc: 34.16%\n"
     ]
    },
    {
     "name": "stderr",
     "output_type": "stream",
     "text": [
      "Fold 1 Epoch 14/20: 100%|██████████| 81/81 [04:07<00:00,  3.06s/it]\n"
     ]
    },
    {
     "name": "stdout",
     "output_type": "stream",
     "text": [
      "Train Loss: 1.4416, Train Acc: 72.30%\n",
      "Val Loss: 3.0378, Val Acc: 35.71%\n"
     ]
    },
    {
     "name": "stderr",
     "output_type": "stream",
     "text": [
      "Fold 1 Epoch 15/20: 100%|██████████| 81/81 [04:20<00:00,  3.22s/it]\n"
     ]
    },
    {
     "name": "stdout",
     "output_type": "stream",
     "text": [
      "Train Loss: 1.2763, Train Acc: 76.73%\n",
      "Val Loss: 3.0373, Val Acc: 32.92%\n"
     ]
    },
    {
     "name": "stderr",
     "output_type": "stream",
     "text": [
      "Fold 1 Epoch 16/20: 100%|██████████| 81/81 [04:50<00:00,  3.59s/it]\n"
     ]
    },
    {
     "name": "stdout",
     "output_type": "stream",
     "text": [
      "Train Loss: 1.1695, Train Acc: 78.13%\n",
      "Val Loss: 2.9752, Val Acc: 36.96%\n"
     ]
    },
    {
     "name": "stderr",
     "output_type": "stream",
     "text": [
      "Fold 1 Epoch 17/20: 100%|██████████| 81/81 [04:25<00:00,  3.28s/it]\n"
     ]
    },
    {
     "name": "stdout",
     "output_type": "stream",
     "text": [
      "Train Loss: 1.0604, Train Acc: 81.17%\n",
      "Val Loss: 2.9940, Val Acc: 37.58%\n"
     ]
    },
    {
     "name": "stderr",
     "output_type": "stream",
     "text": [
      "Fold 1 Epoch 18/20: 100%|██████████| 81/81 [04:19<00:00,  3.21s/it]\n"
     ]
    },
    {
     "name": "stdout",
     "output_type": "stream",
     "text": [
      "Train Loss: 0.9923, Train Acc: 81.95%\n",
      "Val Loss: 2.9450, Val Acc: 37.89%\n"
     ]
    },
    {
     "name": "stderr",
     "output_type": "stream",
     "text": [
      "Fold 1 Epoch 19/20: 100%|██████████| 81/81 [04:19<00:00,  3.21s/it]\n"
     ]
    },
    {
     "name": "stdout",
     "output_type": "stream",
     "text": [
      "Train Loss: 0.9105, Train Acc: 82.88%\n",
      "Val Loss: 2.8404, Val Acc: 43.48%\n"
     ]
    },
    {
     "name": "stderr",
     "output_type": "stream",
     "text": [
      "Fold 1 Epoch 20/20: 100%|██████████| 81/81 [03:48<00:00,  2.82s/it]\n"
     ]
    },
    {
     "name": "stdout",
     "output_type": "stream",
     "text": [
      "Train Loss: 0.8123, Train Acc: 85.91%\n",
      "Val Loss: 2.7516, Val Acc: 42.86%\n",
      "\n",
      "📂 Fold 2/5\n"
     ]
    },
    {
     "name": "stderr",
     "output_type": "stream",
     "text": [
      "Fold 2 Epoch 1/20: 100%|██████████| 81/81 [01:33<00:00,  1.16s/it]\n"
     ]
    },
    {
     "name": "stdout",
     "output_type": "stream",
     "text": [
      "Train Loss: 5.5046, Train Acc: 0.86%\n",
      "Val Loss: 5.4132, Val Acc: 0.62%\n"
     ]
    },
    {
     "name": "stderr",
     "output_type": "stream",
     "text": [
      "Fold 2 Epoch 2/20: 100%|██████████| 81/81 [01:26<00:00,  1.07s/it]\n"
     ]
    },
    {
     "name": "stdout",
     "output_type": "stream",
     "text": [
      "Train Loss: 5.2252, Train Acc: 1.71%\n",
      "Val Loss: 5.2909, Val Acc: 0.93%\n"
     ]
    },
    {
     "name": "stderr",
     "output_type": "stream",
     "text": [
      "Fold 2 Epoch 3/20: 100%|██████████| 81/81 [01:26<00:00,  1.07s/it]\n"
     ]
    },
    {
     "name": "stdout",
     "output_type": "stream",
     "text": [
      "Train Loss: 5.1055, Train Acc: 2.96%\n",
      "Val Loss: 5.2261, Val Acc: 1.55%\n",
      "🔓 Unfreezing ResNet backbone...\n"
     ]
    },
    {
     "name": "stderr",
     "output_type": "stream",
     "text": [
      "Fold 2 Epoch 4/20: 100%|██████████| 81/81 [03:43<00:00,  2.76s/it]\n"
     ]
    },
    {
     "name": "stdout",
     "output_type": "stream",
     "text": [
      "Train Loss: 4.7910, Train Acc: 5.91%\n",
      "Val Loss: 4.7396, Val Acc: 6.83%\n"
     ]
    },
    {
     "name": "stderr",
     "output_type": "stream",
     "text": [
      "Fold 2 Epoch 5/20: 100%|██████████| 81/81 [03:43<00:00,  2.75s/it]\n"
     ]
    },
    {
     "name": "stdout",
     "output_type": "stream",
     "text": [
      "Train Loss: 4.1947, Train Acc: 16.11%\n",
      "Val Loss: 4.3244, Val Acc: 11.80%\n"
     ]
    },
    {
     "name": "stderr",
     "output_type": "stream",
     "text": [
      "Fold 2 Epoch 6/20: 100%|██████████| 81/81 [03:43<00:00,  2.76s/it]\n"
     ]
    },
    {
     "name": "stdout",
     "output_type": "stream",
     "text": [
      "Train Loss: 3.6419, Train Acc: 27.70%\n",
      "Val Loss: 4.1047, Val Acc: 18.63%\n"
     ]
    },
    {
     "name": "stderr",
     "output_type": "stream",
     "text": [
      "Fold 2 Epoch 7/20: 100%|██████████| 81/81 [03:45<00:00,  2.78s/it]\n"
     ]
    },
    {
     "name": "stdout",
     "output_type": "stream",
     "text": [
      "Train Loss: 3.2272, Train Acc: 36.19%\n",
      "Val Loss: 3.8745, Val Acc: 21.74%\n"
     ]
    },
    {
     "name": "stderr",
     "output_type": "stream",
     "text": [
      "Fold 2 Epoch 8/20: 100%|██████████| 81/81 [03:43<00:00,  2.76s/it]\n"
     ]
    },
    {
     "name": "stdout",
     "output_type": "stream",
     "text": [
      "Train Loss: 2.8551, Train Acc: 43.04%\n",
      "Val Loss: 3.6610, Val Acc: 25.16%\n"
     ]
    },
    {
     "name": "stderr",
     "output_type": "stream",
     "text": [
      "Fold 2 Epoch 9/20: 100%|██████████| 81/81 [03:44<00:00,  2.77s/it]\n"
     ]
    },
    {
     "name": "stdout",
     "output_type": "stream",
     "text": [
      "Train Loss: 2.5361, Train Acc: 50.35%\n",
      "Val Loss: 3.5734, Val Acc: 28.26%\n"
     ]
    },
    {
     "name": "stderr",
     "output_type": "stream",
     "text": [
      "Fold 2 Epoch 10/20: 100%|██████████| 81/81 [03:43<00:00,  2.76s/it]\n"
     ]
    },
    {
     "name": "stdout",
     "output_type": "stream",
     "text": [
      "Train Loss: 2.2868, Train Acc: 54.63%\n",
      "Val Loss: 3.3965, Val Acc: 28.88%\n"
     ]
    },
    {
     "name": "stderr",
     "output_type": "stream",
     "text": [
      "Fold 2 Epoch 11/20: 100%|██████████| 81/81 [03:43<00:00,  2.76s/it]\n"
     ]
    },
    {
     "name": "stdout",
     "output_type": "stream",
     "text": [
      "Train Loss: 1.9972, Train Acc: 60.86%\n",
      "Val Loss: 3.3004, Val Acc: 29.50%\n"
     ]
    },
    {
     "name": "stderr",
     "output_type": "stream",
     "text": [
      "Fold 2 Epoch 12/20: 100%|██████████| 81/81 [03:51<00:00,  2.85s/it]\n"
     ]
    },
    {
     "name": "stdout",
     "output_type": "stream",
     "text": [
      "Train Loss: 1.7805, Train Acc: 66.15%\n",
      "Val Loss: 3.3828, Val Acc: 30.75%\n"
     ]
    },
    {
     "name": "stderr",
     "output_type": "stream",
     "text": [
      "Fold 2 Epoch 13/20: 100%|██████████| 81/81 [03:45<00:00,  2.78s/it]\n"
     ]
    },
    {
     "name": "stdout",
     "output_type": "stream",
     "text": [
      "Train Loss: 1.6127, Train Acc: 69.57%\n",
      "Val Loss: 3.2740, Val Acc: 33.23%\n"
     ]
    },
    {
     "name": "stderr",
     "output_type": "stream",
     "text": [
      "Fold 2 Epoch 14/20: 100%|██████████| 81/81 [03:44<00:00,  2.77s/it]\n"
     ]
    },
    {
     "name": "stdout",
     "output_type": "stream",
     "text": [
      "Train Loss: 1.4434, Train Acc: 73.46%\n",
      "Val Loss: 3.0819, Val Acc: 37.27%\n"
     ]
    },
    {
     "name": "stderr",
     "output_type": "stream",
     "text": [
      "Fold 2 Epoch 15/20: 100%|██████████| 81/81 [03:44<00:00,  2.77s/it]\n"
     ]
    },
    {
     "name": "stdout",
     "output_type": "stream",
     "text": [
      "Train Loss: 1.3202, Train Acc: 75.56%\n",
      "Val Loss: 3.1651, Val Acc: 39.13%\n"
     ]
    },
    {
     "name": "stderr",
     "output_type": "stream",
     "text": [
      "Fold 2 Epoch 16/20: 100%|██████████| 81/81 [03:44<00:00,  2.77s/it]\n"
     ]
    },
    {
     "name": "stdout",
     "output_type": "stream",
     "text": [
      "Train Loss: 1.1380, Train Acc: 79.38%\n",
      "Val Loss: 3.0812, Val Acc: 37.89%\n"
     ]
    },
    {
     "name": "stderr",
     "output_type": "stream",
     "text": [
      "Fold 2 Epoch 17/20: 100%|██████████| 81/81 [03:44<00:00,  2.77s/it]\n"
     ]
    },
    {
     "name": "stdout",
     "output_type": "stream",
     "text": [
      "Train Loss: 1.0663, Train Acc: 81.17%\n",
      "Val Loss: 3.0832, Val Acc: 39.44%\n"
     ]
    },
    {
     "name": "stderr",
     "output_type": "stream",
     "text": [
      "Fold 2 Epoch 18/20: 100%|██████████| 81/81 [03:44<00:00,  2.77s/it]\n"
     ]
    },
    {
     "name": "stdout",
     "output_type": "stream",
     "text": [
      "Train Loss: 0.9026, Train Acc: 83.35%\n",
      "Val Loss: 3.0467, Val Acc: 41.30%\n"
     ]
    },
    {
     "name": "stderr",
     "output_type": "stream",
     "text": [
      "Fold 2 Epoch 19/20: 100%|██████████| 81/81 [03:44<00:00,  2.77s/it]\n"
     ]
    },
    {
     "name": "stdout",
     "output_type": "stream",
     "text": [
      "Train Loss: 0.8820, Train Acc: 83.81%\n",
      "Val Loss: 2.9438, Val Acc: 43.48%\n"
     ]
    },
    {
     "name": "stderr",
     "output_type": "stream",
     "text": [
      "Fold 2 Epoch 20/20: 100%|██████████| 81/81 [03:44<00:00,  2.77s/it]\n"
     ]
    },
    {
     "name": "stdout",
     "output_type": "stream",
     "text": [
      "Train Loss: 0.8182, Train Acc: 85.68%\n",
      "Val Loss: 3.1580, Val Acc: 40.37%\n",
      "\n",
      "📂 Fold 3/5\n"
     ]
    },
    {
     "name": "stderr",
     "output_type": "stream",
     "text": [
      "Fold 3 Epoch 1/20: 100%|██████████| 81/81 [01:26<00:00,  1.07s/it]\n"
     ]
    },
    {
     "name": "stdout",
     "output_type": "stream",
     "text": [
      "Train Loss: 5.5272, Train Acc: 0.16%\n",
      "Val Loss: 5.3808, Val Acc: 1.25%\n"
     ]
    },
    {
     "name": "stderr",
     "output_type": "stream",
     "text": [
      "Fold 3 Epoch 2/20: 100%|██████████| 81/81 [01:27<00:00,  1.08s/it]\n"
     ]
    },
    {
     "name": "stdout",
     "output_type": "stream",
     "text": [
      "Train Loss: 5.2398, Train Acc: 1.79%\n",
      "Val Loss: 5.2709, Val Acc: 2.49%\n"
     ]
    },
    {
     "name": "stderr",
     "output_type": "stream",
     "text": [
      "Fold 3 Epoch 3/20: 100%|██████████| 81/81 [01:26<00:00,  1.07s/it]\n"
     ]
    },
    {
     "name": "stdout",
     "output_type": "stream",
     "text": [
      "Train Loss: 5.1224, Train Acc: 2.18%\n",
      "Val Loss: 5.1796, Val Acc: 1.87%\n",
      "🔓 Unfreezing ResNet backbone...\n"
     ]
    },
    {
     "name": "stderr",
     "output_type": "stream",
     "text": [
      "Fold 3 Epoch 4/20: 100%|██████████| 81/81 [03:44<00:00,  2.77s/it]\n"
     ]
    },
    {
     "name": "stdout",
     "output_type": "stream",
     "text": [
      "Train Loss: 4.8195, Train Acc: 5.99%\n",
      "Val Loss: 4.5967, Val Acc: 9.66%\n"
     ]
    },
    {
     "name": "stderr",
     "output_type": "stream",
     "text": [
      "Fold 3 Epoch 5/20: 100%|██████████| 81/81 [03:50<00:00,  2.85s/it]\n"
     ]
    },
    {
     "name": "stdout",
     "output_type": "stream",
     "text": [
      "Train Loss: 4.2277, Train Acc: 17.73%\n",
      "Val Loss: 4.1628, Val Acc: 16.20%\n"
     ]
    },
    {
     "name": "stderr",
     "output_type": "stream",
     "text": [
      "Fold 3 Epoch 6/20: 100%|██████████| 81/81 [04:12<00:00,  3.12s/it]\n"
     ]
    },
    {
     "name": "stdout",
     "output_type": "stream",
     "text": [
      "Train Loss: 3.6901, Train Acc: 25.89%\n",
      "Val Loss: 3.9096, Val Acc: 18.38%\n"
     ]
    },
    {
     "name": "stderr",
     "output_type": "stream",
     "text": [
      "Fold 3 Epoch 7/20: 100%|██████████| 81/81 [04:26<00:00,  3.29s/it]\n"
     ]
    },
    {
     "name": "stdout",
     "output_type": "stream",
     "text": [
      "Train Loss: 3.2068, Train Acc: 37.48%\n",
      "Val Loss: 3.6887, Val Acc: 22.43%\n"
     ]
    },
    {
     "name": "stderr",
     "output_type": "stream",
     "text": [
      "Fold 3 Epoch 8/20: 100%|██████████| 81/81 [04:31<00:00,  3.35s/it]\n"
     ]
    },
    {
     "name": "stdout",
     "output_type": "stream",
     "text": [
      "Train Loss: 2.8697, Train Acc: 42.30%\n",
      "Val Loss: 3.3902, Val Acc: 28.04%\n"
     ]
    },
    {
     "name": "stderr",
     "output_type": "stream",
     "text": [
      "Fold 3 Epoch 9/20: 100%|██████████| 81/81 [04:31<00:00,  3.35s/it]\n"
     ]
    },
    {
     "name": "stdout",
     "output_type": "stream",
     "text": [
      "Train Loss: 2.5791, Train Acc: 48.60%\n",
      "Val Loss: 3.3709, Val Acc: 29.91%\n"
     ]
    },
    {
     "name": "stderr",
     "output_type": "stream",
     "text": [
      "Fold 3 Epoch 10/20: 100%|██████████| 81/81 [04:37<00:00,  3.42s/it]\n"
     ]
    },
    {
     "name": "stdout",
     "output_type": "stream",
     "text": [
      "Train Loss: 2.2548, Train Acc: 55.44%\n",
      "Val Loss: 3.1502, Val Acc: 34.58%\n"
     ]
    },
    {
     "name": "stderr",
     "output_type": "stream",
     "text": [
      "Fold 3 Epoch 11/20: 100%|██████████| 81/81 [04:37<00:00,  3.43s/it]\n"
     ]
    },
    {
     "name": "stdout",
     "output_type": "stream",
     "text": [
      "Train Loss: 2.0009, Train Acc: 62.52%\n",
      "Val Loss: 3.0945, Val Acc: 34.89%\n"
     ]
    },
    {
     "name": "stderr",
     "output_type": "stream",
     "text": [
      "Fold 3 Epoch 12/20: 100%|██████████| 81/81 [04:24<00:00,  3.26s/it]\n"
     ]
    },
    {
     "name": "stdout",
     "output_type": "stream",
     "text": [
      "Train Loss: 1.8239, Train Acc: 65.55%\n",
      "Val Loss: 2.8801, Val Acc: 38.01%\n"
     ]
    },
    {
     "name": "stderr",
     "output_type": "stream",
     "text": [
      "Fold 3 Epoch 13/20: 100%|██████████| 81/81 [04:21<00:00,  3.22s/it]\n"
     ]
    },
    {
     "name": "stdout",
     "output_type": "stream",
     "text": [
      "Train Loss: 1.6160, Train Acc: 68.35%\n",
      "Val Loss: 2.9130, Val Acc: 35.51%\n"
     ]
    },
    {
     "name": "stderr",
     "output_type": "stream",
     "text": [
      "Fold 3 Epoch 14/20: 100%|██████████| 81/81 [04:22<00:00,  3.25s/it]\n"
     ]
    },
    {
     "name": "stdout",
     "output_type": "stream",
     "text": [
      "Train Loss: 1.4142, Train Acc: 74.73%\n",
      "Val Loss: 2.9223, Val Acc: 36.14%\n"
     ]
    },
    {
     "name": "stderr",
     "output_type": "stream",
     "text": [
      "Fold 3 Epoch 15/20: 100%|██████████| 81/81 [04:34<00:00,  3.39s/it]\n"
     ]
    },
    {
     "name": "stdout",
     "output_type": "stream",
     "text": [
      "Train Loss: 1.2810, Train Acc: 76.83%\n",
      "Val Loss: 2.9563, Val Acc: 35.83%\n"
     ]
    },
    {
     "name": "stderr",
     "output_type": "stream",
     "text": [
      "Fold 3 Epoch 16/20: 100%|██████████| 81/81 [03:49<00:00,  2.84s/it]\n"
     ]
    },
    {
     "name": "stdout",
     "output_type": "stream",
     "text": [
      "Train Loss: 1.1425, Train Acc: 78.30%\n",
      "Val Loss: 2.7474, Val Acc: 40.81%\n"
     ]
    },
    {
     "name": "stderr",
     "output_type": "stream",
     "text": [
      "Fold 3 Epoch 17/20: 100%|██████████| 81/81 [03:35<00:00,  2.66s/it]\n"
     ]
    },
    {
     "name": "stdout",
     "output_type": "stream",
     "text": [
      "Train Loss: 1.0353, Train Acc: 80.87%\n",
      "Val Loss: 2.8365, Val Acc: 42.99%\n"
     ]
    },
    {
     "name": "stderr",
     "output_type": "stream",
     "text": [
      "Fold 3 Epoch 18/20: 100%|██████████| 81/81 [03:43<00:00,  2.75s/it]\n"
     ]
    },
    {
     "name": "stdout",
     "output_type": "stream",
     "text": [
      "Train Loss: 0.9462, Train Acc: 81.88%\n",
      "Val Loss: 2.7648, Val Acc: 41.74%\n"
     ]
    },
    {
     "name": "stderr",
     "output_type": "stream",
     "text": [
      "Fold 3 Epoch 19/20: 100%|██████████| 81/81 [03:37<00:00,  2.69s/it]\n"
     ]
    },
    {
     "name": "stdout",
     "output_type": "stream",
     "text": [
      "Train Loss: 0.8313, Train Acc: 85.46%\n",
      "Val Loss: 2.7711, Val Acc: 45.79%\n"
     ]
    },
    {
     "name": "stderr",
     "output_type": "stream",
     "text": [
      "Fold 3 Epoch 20/20: 100%|██████████| 81/81 [03:38<00:00,  2.70s/it]\n"
     ]
    },
    {
     "name": "stdout",
     "output_type": "stream",
     "text": [
      "Train Loss: 0.8368, Train Acc: 83.67%\n",
      "Val Loss: 2.7829, Val Acc: 42.68%\n",
      "\n",
      "📂 Fold 4/5\n"
     ]
    },
    {
     "name": "stderr",
     "output_type": "stream",
     "text": [
      "Fold 4 Epoch 1/20: 100%|██████████| 81/81 [01:23<00:00,  1.03s/it]\n"
     ]
    },
    {
     "name": "stdout",
     "output_type": "stream",
     "text": [
      "Train Loss: 5.5172, Train Acc: 0.39%\n",
      "Val Loss: 5.4069, Val Acc: 0.93%\n"
     ]
    },
    {
     "name": "stderr",
     "output_type": "stream",
     "text": [
      "Fold 4 Epoch 2/20: 100%|██████████| 81/81 [01:23<00:00,  1.03s/it]\n"
     ]
    },
    {
     "name": "stdout",
     "output_type": "stream",
     "text": [
      "Train Loss: 5.2426, Train Acc: 1.71%\n",
      "Val Loss: 5.2602, Val Acc: 1.56%\n"
     ]
    },
    {
     "name": "stderr",
     "output_type": "stream",
     "text": [
      "Fold 4 Epoch 3/20: 100%|██████████| 81/81 [01:22<00:00,  1.02s/it]\n"
     ]
    },
    {
     "name": "stdout",
     "output_type": "stream",
     "text": [
      "Train Loss: 5.1172, Train Acc: 2.57%\n",
      "Val Loss: 5.1903, Val Acc: 1.87%\n",
      "🔓 Unfreezing ResNet backbone...\n"
     ]
    },
    {
     "name": "stderr",
     "output_type": "stream",
     "text": [
      "Fold 4 Epoch 4/20: 100%|██████████| 81/81 [03:43<00:00,  2.76s/it]\n"
     ]
    },
    {
     "name": "stdout",
     "output_type": "stream",
     "text": [
      "Train Loss: 4.7921, Train Acc: 6.22%\n",
      "Val Loss: 4.5775, Val Acc: 13.08%\n"
     ]
    },
    {
     "name": "stderr",
     "output_type": "stream",
     "text": [
      "Fold 4 Epoch 5/20: 100%|██████████| 81/81 [03:39<00:00,  2.71s/it]\n"
     ]
    },
    {
     "name": "stdout",
     "output_type": "stream",
     "text": [
      "Train Loss: 4.1837, Train Acc: 18.12%\n",
      "Val Loss: 4.2380, Val Acc: 16.20%\n"
     ]
    },
    {
     "name": "stderr",
     "output_type": "stream",
     "text": [
      "Fold 4 Epoch 6/20: 100%|██████████| 81/81 [03:45<00:00,  2.78s/it]\n"
     ]
    },
    {
     "name": "stdout",
     "output_type": "stream",
     "text": [
      "Train Loss: 3.6475, Train Acc: 29.00%\n",
      "Val Loss: 3.9620, Val Acc: 19.94%\n"
     ]
    },
    {
     "name": "stderr",
     "output_type": "stream",
     "text": [
      "Fold 4 Epoch 7/20: 100%|██████████| 81/81 [03:45<00:00,  2.78s/it]\n"
     ]
    },
    {
     "name": "stdout",
     "output_type": "stream",
     "text": [
      "Train Loss: 3.2248, Train Acc: 36.78%\n",
      "Val Loss: 3.6957, Val Acc: 25.23%\n"
     ]
    },
    {
     "name": "stderr",
     "output_type": "stream",
     "text": [
      "Fold 4 Epoch 8/20: 100%|██████████| 81/81 [03:47<00:00,  2.81s/it]\n"
     ]
    },
    {
     "name": "stdout",
     "output_type": "stream",
     "text": [
      "Train Loss: 2.8707, Train Acc: 43.31%\n",
      "Val Loss: 3.5353, Val Acc: 26.48%\n"
     ]
    },
    {
     "name": "stderr",
     "output_type": "stream",
     "text": [
      "Fold 4 Epoch 9/20: 100%|██████████| 81/81 [03:43<00:00,  2.76s/it]\n"
     ]
    },
    {
     "name": "stdout",
     "output_type": "stream",
     "text": [
      "Train Loss: 2.4823, Train Acc: 51.01%\n",
      "Val Loss: 3.4154, Val Acc: 28.97%\n"
     ]
    },
    {
     "name": "stderr",
     "output_type": "stream",
     "text": [
      "Fold 4 Epoch 10/20: 100%|██████████| 81/81 [03:44<00:00,  2.77s/it]\n"
     ]
    },
    {
     "name": "stdout",
     "output_type": "stream",
     "text": [
      "Train Loss: 2.2130, Train Acc: 57.15%\n",
      "Val Loss: 3.2737, Val Acc: 30.22%\n"
     ]
    },
    {
     "name": "stderr",
     "output_type": "stream",
     "text": [
      "Fold 4 Epoch 11/20: 100%|██████████| 81/81 [03:42<00:00,  2.75s/it]\n"
     ]
    },
    {
     "name": "stdout",
     "output_type": "stream",
     "text": [
      "Train Loss: 1.9582, Train Acc: 61.28%\n",
      "Val Loss: 3.1531, Val Acc: 32.71%\n"
     ]
    },
    {
     "name": "stderr",
     "output_type": "stream",
     "text": [
      "Fold 4 Epoch 12/20: 100%|██████████| 81/81 [03:35<00:00,  2.66s/it]\n"
     ]
    },
    {
     "name": "stdout",
     "output_type": "stream",
     "text": [
      "Train Loss: 1.7642, Train Acc: 65.01%\n",
      "Val Loss: 3.1715, Val Acc: 36.14%\n"
     ]
    },
    {
     "name": "stderr",
     "output_type": "stream",
     "text": [
      "Fold 4 Epoch 13/20: 100%|██████████| 81/81 [03:35<00:00,  2.66s/it]\n"
     ]
    },
    {
     "name": "stdout",
     "output_type": "stream",
     "text": [
      "Train Loss: 1.6125, Train Acc: 69.13%\n",
      "Val Loss: 3.1335, Val Acc: 33.64%\n"
     ]
    },
    {
     "name": "stderr",
     "output_type": "stream",
     "text": [
      "Fold 4 Epoch 14/20: 100%|██████████| 81/81 [03:34<00:00,  2.65s/it]\n"
     ]
    },
    {
     "name": "stdout",
     "output_type": "stream",
     "text": [
      "Train Loss: 1.4834, Train Acc: 72.01%\n",
      "Val Loss: 3.0310, Val Acc: 38.01%\n"
     ]
    },
    {
     "name": "stderr",
     "output_type": "stream",
     "text": [
      "Fold 4 Epoch 15/20: 100%|██████████| 81/81 [03:35<00:00,  2.66s/it]\n"
     ]
    },
    {
     "name": "stdout",
     "output_type": "stream",
     "text": [
      "Train Loss: 1.3163, Train Acc: 76.13%\n",
      "Val Loss: 2.9162, Val Acc: 37.69%\n"
     ]
    },
    {
     "name": "stderr",
     "output_type": "stream",
     "text": [
      "Fold 4 Epoch 16/20: 100%|██████████| 81/81 [03:39<00:00,  2.72s/it]\n"
     ]
    },
    {
     "name": "stdout",
     "output_type": "stream",
     "text": [
      "Train Loss: 1.1830, Train Acc: 77.76%\n",
      "Val Loss: 3.1536, Val Acc: 39.25%\n"
     ]
    },
    {
     "name": "stderr",
     "output_type": "stream",
     "text": [
      "Fold 4 Epoch 17/20: 100%|██████████| 81/81 [03:49<00:00,  2.83s/it]\n"
     ]
    },
    {
     "name": "stdout",
     "output_type": "stream",
     "text": [
      "Train Loss: 1.0163, Train Acc: 81.03%\n",
      "Val Loss: 2.9466, Val Acc: 39.88%\n"
     ]
    },
    {
     "name": "stderr",
     "output_type": "stream",
     "text": [
      "Fold 4 Epoch 18/20: 100%|██████████| 81/81 [03:43<00:00,  2.75s/it]\n"
     ]
    },
    {
     "name": "stdout",
     "output_type": "stream",
     "text": [
      "Train Loss: 0.9628, Train Acc: 82.58%\n",
      "Val Loss: 3.0453, Val Acc: 39.88%\n"
     ]
    },
    {
     "name": "stderr",
     "output_type": "stream",
     "text": [
      "Fold 4 Epoch 19/20: 100%|██████████| 81/81 [03:41<00:00,  2.74s/it]\n"
     ]
    },
    {
     "name": "stdout",
     "output_type": "stream",
     "text": [
      "Train Loss: 0.9034, Train Acc: 82.04%\n",
      "Val Loss: 3.0435, Val Acc: 39.25%\n"
     ]
    },
    {
     "name": "stderr",
     "output_type": "stream",
     "text": [
      "Fold 4 Epoch 20/20: 100%|██████████| 81/81 [03:40<00:00,  2.73s/it]\n"
     ]
    },
    {
     "name": "stdout",
     "output_type": "stream",
     "text": [
      "Train Loss: 0.7964, Train Acc: 85.15%\n",
      "Val Loss: 2.9924, Val Acc: 41.43%\n",
      "\n",
      "📂 Fold 5/5\n"
     ]
    },
    {
     "name": "stderr",
     "output_type": "stream",
     "text": [
      "Fold 5 Epoch 1/20: 100%|██████████| 81/81 [01:25<00:00,  1.05s/it]\n"
     ]
    },
    {
     "name": "stdout",
     "output_type": "stream",
     "text": [
      "Train Loss: 5.5183, Train Acc: 0.16%\n",
      "Val Loss: 5.4582, Val Acc: 1.25%\n"
     ]
    },
    {
     "name": "stderr",
     "output_type": "stream",
     "text": [
      "Fold 5 Epoch 2/20: 100%|██████████| 81/81 [01:25<00:00,  1.05s/it]\n"
     ]
    },
    {
     "name": "stdout",
     "output_type": "stream",
     "text": [
      "Train Loss: 5.2531, Train Acc: 1.24%\n",
      "Val Loss: 5.3928, Val Acc: 2.80%\n"
     ]
    },
    {
     "name": "stderr",
     "output_type": "stream",
     "text": [
      "Fold 5 Epoch 3/20: 100%|██████████| 81/81 [01:25<00:00,  1.05s/it]\n"
     ]
    },
    {
     "name": "stdout",
     "output_type": "stream",
     "text": [
      "Train Loss: 5.1119, Train Acc: 3.03%\n",
      "Val Loss: 5.3170, Val Acc: 1.87%\n",
      "🔓 Unfreezing ResNet backbone...\n"
     ]
    },
    {
     "name": "stderr",
     "output_type": "stream",
     "text": [
      "Fold 5 Epoch 4/20: 100%|██████████| 81/81 [03:41<00:00,  2.73s/it]\n"
     ]
    },
    {
     "name": "stdout",
     "output_type": "stream",
     "text": [
      "Train Loss: 4.7921, Train Acc: 8.01%\n",
      "Val Loss: 4.7800, Val Acc: 8.10%\n"
     ]
    },
    {
     "name": "stderr",
     "output_type": "stream",
     "text": [
      "Fold 5 Epoch 5/20: 100%|██████████| 81/81 [03:41<00:00,  2.73s/it]\n"
     ]
    },
    {
     "name": "stdout",
     "output_type": "stream",
     "text": [
      "Train Loss: 4.1603, Train Acc: 17.34%\n",
      "Val Loss: 4.4065, Val Acc: 14.33%\n"
     ]
    },
    {
     "name": "stderr",
     "output_type": "stream",
     "text": [
      "Fold 5 Epoch 6/20: 100%|██████████| 81/81 [03:40<00:00,  2.73s/it]\n"
     ]
    },
    {
     "name": "stdout",
     "output_type": "stream",
     "text": [
      "Train Loss: 3.6692, Train Acc: 26.36%\n",
      "Val Loss: 4.0783, Val Acc: 17.13%\n"
     ]
    },
    {
     "name": "stderr",
     "output_type": "stream",
     "text": [
      "Fold 5 Epoch 7/20: 100%|██████████| 81/81 [03:46<00:00,  2.80s/it]\n"
     ]
    },
    {
     "name": "stdout",
     "output_type": "stream",
     "text": [
      "Train Loss: 3.2857, Train Acc: 34.14%\n",
      "Val Loss: 3.8950, Val Acc: 19.94%\n"
     ]
    },
    {
     "name": "stderr",
     "output_type": "stream",
     "text": [
      "Fold 5 Epoch 8/20: 100%|██████████| 81/81 [03:41<00:00,  2.74s/it]\n"
     ]
    },
    {
     "name": "stdout",
     "output_type": "stream",
     "text": [
      "Train Loss: 2.8722, Train Acc: 42.07%\n",
      "Val Loss: 3.7387, Val Acc: 23.05%\n"
     ]
    },
    {
     "name": "stderr",
     "output_type": "stream",
     "text": [
      "Fold 5 Epoch 9/20: 100%|██████████| 81/81 [03:41<00:00,  2.74s/it]\n"
     ]
    },
    {
     "name": "stdout",
     "output_type": "stream",
     "text": [
      "Train Loss: 2.5847, Train Acc: 47.28%\n",
      "Val Loss: 3.5462, Val Acc: 23.05%\n"
     ]
    },
    {
     "name": "stderr",
     "output_type": "stream",
     "text": [
      "Fold 5 Epoch 10/20: 100%|██████████| 81/81 [03:41<00:00,  2.73s/it]\n"
     ]
    },
    {
     "name": "stdout",
     "output_type": "stream",
     "text": [
      "Train Loss: 2.3198, Train Acc: 52.57%\n",
      "Val Loss: 3.4865, Val Acc: 27.10%\n"
     ]
    },
    {
     "name": "stderr",
     "output_type": "stream",
     "text": [
      "Fold 5 Epoch 11/20: 100%|██████████| 81/81 [03:49<00:00,  2.84s/it]\n"
     ]
    },
    {
     "name": "stdout",
     "output_type": "stream",
     "text": [
      "Train Loss: 2.0075, Train Acc: 61.35%\n",
      "Val Loss: 3.3205, Val Acc: 32.09%\n"
     ]
    },
    {
     "name": "stderr",
     "output_type": "stream",
     "text": [
      "Fold 5 Epoch 12/20: 100%|██████████| 81/81 [03:49<00:00,  2.83s/it]\n"
     ]
    },
    {
     "name": "stdout",
     "output_type": "stream",
     "text": [
      "Train Loss: 1.7853, Train Acc: 67.03%\n",
      "Val Loss: 3.2350, Val Acc: 32.09%\n"
     ]
    },
    {
     "name": "stderr",
     "output_type": "stream",
     "text": [
      "Fold 5 Epoch 13/20: 100%|██████████| 81/81 [03:40<00:00,  2.72s/it]\n"
     ]
    },
    {
     "name": "stdout",
     "output_type": "stream",
     "text": [
      "Train Loss: 1.5901, Train Acc: 68.35%\n",
      "Val Loss: 3.0841, Val Acc: 36.14%\n"
     ]
    },
    {
     "name": "stderr",
     "output_type": "stream",
     "text": [
      "Fold 5 Epoch 14/20: 100%|██████████| 81/81 [03:39<00:00,  2.72s/it]\n"
     ]
    },
    {
     "name": "stdout",
     "output_type": "stream",
     "text": [
      "Train Loss: 1.4479, Train Acc: 71.93%\n",
      "Val Loss: 3.1645, Val Acc: 34.27%\n"
     ]
    },
    {
     "name": "stderr",
     "output_type": "stream",
     "text": [
      "Fold 5 Epoch 15/20: 100%|██████████| 81/81 [03:43<00:00,  2.76s/it]\n"
     ]
    },
    {
     "name": "stdout",
     "output_type": "stream",
     "text": [
      "Train Loss: 1.3232, Train Acc: 74.42%\n",
      "Val Loss: 3.0590, Val Acc: 36.45%\n"
     ]
    },
    {
     "name": "stderr",
     "output_type": "stream",
     "text": [
      "Fold 5 Epoch 16/20: 100%|██████████| 81/81 [03:46<00:00,  2.79s/it]\n"
     ]
    },
    {
     "name": "stdout",
     "output_type": "stream",
     "text": [
      "Train Loss: 1.1659, Train Acc: 78.23%\n",
      "Val Loss: 3.0361, Val Acc: 37.38%\n"
     ]
    },
    {
     "name": "stderr",
     "output_type": "stream",
     "text": [
      "Fold 5 Epoch 17/20: 100%|██████████| 81/81 [03:42<00:00,  2.74s/it]\n"
     ]
    },
    {
     "name": "stdout",
     "output_type": "stream",
     "text": [
      "Train Loss: 1.0349, Train Acc: 81.65%\n",
      "Val Loss: 3.0232, Val Acc: 40.50%\n"
     ]
    },
    {
     "name": "stderr",
     "output_type": "stream",
     "text": [
      "Fold 5 Epoch 18/20: 100%|██████████| 81/81 [03:40<00:00,  2.72s/it]\n"
     ]
    },
    {
     "name": "stdout",
     "output_type": "stream",
     "text": [
      "Train Loss: 0.9870, Train Acc: 82.58%\n",
      "Val Loss: 2.9823, Val Acc: 38.94%\n"
     ]
    },
    {
     "name": "stderr",
     "output_type": "stream",
     "text": [
      "Fold 5 Epoch 19/20: 100%|██████████| 81/81 [03:37<00:00,  2.69s/it]\n"
     ]
    },
    {
     "name": "stdout",
     "output_type": "stream",
     "text": [
      "Train Loss: 0.8570, Train Acc: 84.45%\n",
      "Val Loss: 3.0127, Val Acc: 40.50%\n"
     ]
    },
    {
     "name": "stderr",
     "output_type": "stream",
     "text": [
      "Fold 5 Epoch 20/20: 100%|██████████| 81/81 [03:38<00:00,  2.70s/it]\n"
     ]
    },
    {
     "name": "stdout",
     "output_type": "stream",
     "text": [
      "Train Loss: 0.8427, Train Acc: 83.90%\n",
      "Val Loss: 2.9969, Val Acc: 38.32%\n",
      "✅ Finished OOF training for ResNet with refinement on iNat!\n"
     ]
    }
   ],
   "source": [
    "import os\n",
    "import torch\n",
    "import torch.nn as nn\n",
    "import torch.optim as optim\n",
    "from torchvision import models, datasets, transforms\n",
    "from torch.utils.data import DataLoader, Subset\n",
    "from sklearn.model_selection import KFold\n",
    "import numpy as np\n",
    "from tqdm import tqdm\n",
    "\n",
    "# -------------------------\n",
    "# Config\n",
    "# -------------------------\n",
    "data_dir = \"iNat_OOF/train_val\"\n",
    "num_classes = 200   # update with actual number\n",
    "batch_size = 16\n",
    "num_epochs = 20     # longer training\n",
    "k_folds = 5\n",
    "freeze_epochs = 3   # only train fc for first few epochs\n",
    "device = torch.device(\"cuda\" if torch.cuda.is_available() else \"cpu\")\n",
    "\n",
    "# -------------------------\n",
    "# Data transforms (with augmentation)\n",
    "# -------------------------\n",
    "transform = transforms.Compose([\n",
    "    transforms.RandomResizedCrop(224),\n",
    "    transforms.RandomHorizontalFlip(),\n",
    "    transforms.RandomRotation(15),\n",
    "    transforms.ColorJitter(brightness=0.3, contrast=0.3, saturation=0.3),\n",
    "    transforms.ToTensor(),\n",
    "    transforms.Normalize([0.485, 0.456, 0.406],\n",
    "                         [0.229, 0.224, 0.225])\n",
    "])\n",
    "\n",
    "dataset = datasets.ImageFolder(data_dir, transform=transform)\n",
    "\n",
    "# Prepare OOF prediction storage\n",
    "oof_preds = np.zeros((len(dataset), num_classes))\n",
    "oof_targets = np.zeros(len(dataset))\n",
    "\n",
    "# -------------------------\n",
    "# Model builder\n",
    "# -------------------------\n",
    "def build_model(num_classes, freeze_backbone=True):\n",
    "    model = models.resnet50(pretrained=True)\n",
    "    in_feats = model.fc.in_features\n",
    "    model.fc = nn.Sequential(\n",
    "        nn.Dropout(0.3),\n",
    "        nn.Linear(in_feats, num_classes)\n",
    "    )\n",
    "    if freeze_backbone:\n",
    "        for param in model.parameters():\n",
    "            param.requires_grad = False\n",
    "        # allow training of final classifier\n",
    "        for param in model.fc.parameters():\n",
    "            param.requires_grad = True\n",
    "    return model.to(device)\n",
    "\n",
    "# -------------------------\n",
    "# K-Fold CV Loop\n",
    "# -------------------------\n",
    "kf = KFold(n_splits=k_folds, shuffle=True, random_state=42)\n",
    "\n",
    "for fold, (train_idx, val_idx) in enumerate(kf.split(np.arange(len(dataset)))):\n",
    "    print(f\"\\n📂 Fold {fold+1}/{k_folds}\")\n",
    "\n",
    "    train_subset = Subset(dataset, train_idx)\n",
    "    val_subset = Subset(dataset, val_idx)\n",
    "\n",
    "    train_loader = DataLoader(train_subset, batch_size=batch_size, shuffle=True, num_workers=4)\n",
    "    val_loader = DataLoader(val_subset, batch_size=batch_size, shuffle=False, num_workers=4)\n",
    "\n",
    "    # Start with frozen backbone\n",
    "    model = build_model(num_classes, freeze_backbone=True)\n",
    "    criterion = nn.CrossEntropyLoss()\n",
    "    optimizer = optim.Adam(model.parameters(), lr=1e-4, weight_decay=1e-4)\n",
    "    scheduler = optim.lr_scheduler.ReduceLROnPlateau(optimizer, mode=\"max\", factor=0.5, patience=3)\n",
    "\n",
    "    # Training loop\n",
    "    for epoch in range(num_epochs):\n",
    "        # Unfreeze backbone after freeze_epochs\n",
    "        if epoch == freeze_epochs:\n",
    "            print(\"🔓 Unfreezing ResNet backbone...\")\n",
    "            for param in model.parameters():\n",
    "                param.requires_grad = True\n",
    "\n",
    "        model.train()\n",
    "        running_loss, correct, total = 0.0, 0, 0\n",
    "\n",
    "        for images, labels in tqdm(train_loader, desc=f\"Fold {fold+1} Epoch {epoch+1}/{num_epochs}\"):\n",
    "            images, labels = images.to(device), labels.to(device)\n",
    "\n",
    "            optimizer.zero_grad()\n",
    "            outputs = model(images)\n",
    "            loss = criterion(outputs, labels)\n",
    "            loss.backward()\n",
    "            optimizer.step()\n",
    "\n",
    "            running_loss += loss.item() * images.size(0)\n",
    "            _, predicted = outputs.max(1)\n",
    "            correct += predicted.eq(labels).sum().item()\n",
    "            total += labels.size(0)\n",
    "\n",
    "        train_acc = 100. * correct / total\n",
    "        print(f\"Train Loss: {running_loss/total:.4f}, Train Acc: {train_acc:.2f}%\")\n",
    "\n",
    "        # Validation\n",
    "        model.eval()\n",
    "        val_loss, val_correct, val_total = 0, 0, 0\n",
    "        with torch.no_grad():\n",
    "            for batch_idx, (inputs, labels) in enumerate(val_loader):\n",
    "                inputs, labels = inputs.to(device), labels.to(device)\n",
    "                outputs = model(inputs)\n",
    "                loss = criterion(outputs, labels)\n",
    "\n",
    "                val_loss += loss.item() * labels.size(0)\n",
    "                _, preds = torch.max(outputs, 1)\n",
    "                val_correct += (preds == labels).sum().item()\n",
    "                val_total += labels.size(0)\n",
    "\n",
    "                # Store OOF preds\n",
    "                start = batch_idx * val_loader.batch_size\n",
    "                end = start + labels.size(0)\n",
    "                oof_preds[val_idx[start:end]] = outputs.cpu().numpy()\n",
    "                oof_targets[val_idx[start:end]] = labels.cpu().numpy()\n",
    "\n",
    "        val_acc = val_correct / val_total\n",
    "        print(f\"Val Loss: {val_loss/val_total:.4f}, Val Acc: {100.*val_acc:.2f}%\")\n",
    "\n",
    "        # Step scheduler\n",
    "        scheduler.step(val_acc)\n",
    "\n",
    "    # Save model checkpoint\n",
    "    os.makedirs(\"checkpoints_resnet_inat_refined\", exist_ok=True)\n",
    "    torch.save(model.state_dict(), f\"checkpoints_resnet_inat_refined/resnet_fold{fold+1}.pth\")\n",
    "\n",
    "# Save OOF preds for stacking\n",
    "np.save(\"oof_preds_resnet_inat_refined.npy\", oof_preds)\n",
    "np.save(\"oof_targets_resnet_inat_refined.npy\", oof_targets)\n",
    "\n",
    "print(\"✅ Finished OOF training for ResNet with refinement on iNat!\")\n"
   ]
  },
  {
   "cell_type": "markdown",
   "id": "498b3fa8-74ef-48ec-aad6-b732128ecd34",
   "metadata": {},
   "source": [
    "## 6.2 YAMNet refinement"
   ]
  },
  {
   "cell_type": "code",
   "execution_count": 40,
   "id": "4226c20f-898c-4560-b930-db2e0a5cb035",
   "metadata": {
    "scrolled": true
   },
   "outputs": [
    {
     "name": "stdout",
     "output_type": "stream",
     "text": [
      "\n",
      "📂 Fold 1/5\n"
     ]
    },
    {
     "name": "stderr",
     "output_type": "stream",
     "text": [
      "C:\\Users\\jayme\\anaconda3\\envs\\bird-env\\lib\\site-packages\\torchaudio\\_backend\\utils.py:213: UserWarning: In 2.9, this function's implementation will be changed to use torchaudio.load_with_torchcodec` under the hood. Some parameters like ``normalize``, ``format``, ``buffer_size``, and ``backend`` will be ignored. We recommend that you port your code to rely directly on TorchCodec's decoder instead: https://docs.pytorch.org/torchcodec/stable/generated/torchcodec.decoders.AudioDecoder.html#torchcodec.decoders.AudioDecoder.\n",
      "  warnings.warn(\n",
      "Fold 1 Epoch 1/40: 100%|██████████| 4/4 [00:04<00:00,  1.18s/it]\n"
     ]
    },
    {
     "name": "stdout",
     "output_type": "stream",
     "text": [
      "Train Loss: 5.2646, Train Acc: 1.75%\n",
      "Val Loss: 5.1272, Val Acc: 6.67%\n"
     ]
    },
    {
     "name": "stderr",
     "output_type": "stream",
     "text": [
      "Fold 1 Epoch 2/40: 100%|██████████| 4/4 [00:03<00:00,  1.22it/s]\n"
     ]
    },
    {
     "name": "stdout",
     "output_type": "stream",
     "text": [
      "Train Loss: 5.1006, Train Acc: 8.77%\n",
      "Val Loss: 4.9278, Val Acc: 13.33%\n"
     ]
    },
    {
     "name": "stderr",
     "output_type": "stream",
     "text": [
      "Fold 1 Epoch 3/40: 100%|██████████| 4/4 [00:03<00:00,  1.18it/s]\n"
     ]
    },
    {
     "name": "stdout",
     "output_type": "stream",
     "text": [
      "Train Loss: 4.9064, Train Acc: 12.28%\n",
      "Val Loss: 4.7368, Val Acc: 13.33%\n"
     ]
    },
    {
     "name": "stderr",
     "output_type": "stream",
     "text": [
      "Fold 1 Epoch 4/40: 100%|██████████| 4/4 [00:03<00:00,  1.20it/s]\n"
     ]
    },
    {
     "name": "stdout",
     "output_type": "stream",
     "text": [
      "Train Loss: 4.5679, Train Acc: 7.02%\n",
      "Val Loss: 4.3810, Val Acc: 13.33%\n"
     ]
    },
    {
     "name": "stderr",
     "output_type": "stream",
     "text": [
      "Fold 1 Epoch 5/40: 100%|██████████| 4/4 [00:04<00:00,  1.00s/it]\n"
     ]
    },
    {
     "name": "stdout",
     "output_type": "stream",
     "text": [
      "Train Loss: 4.1946, Train Acc: 14.04%\n",
      "Val Loss: 3.8625, Val Acc: 13.33%\n"
     ]
    },
    {
     "name": "stderr",
     "output_type": "stream",
     "text": [
      "Fold 1 Epoch 6/40: 100%|██████████| 4/4 [00:03<00:00,  1.10it/s]\n"
     ]
    },
    {
     "name": "stdout",
     "output_type": "stream",
     "text": [
      "Train Loss: 3.8469, Train Acc: 12.28%\n",
      "Val Loss: 3.4328, Val Acc: 6.67%\n"
     ]
    },
    {
     "name": "stderr",
     "output_type": "stream",
     "text": [
      "Fold 1 Epoch 7/40: 100%|██████████| 4/4 [00:04<00:00,  1.06s/it]\n"
     ]
    },
    {
     "name": "stdout",
     "output_type": "stream",
     "text": [
      "Train Loss: 3.4894, Train Acc: 15.79%\n",
      "Val Loss: 3.2328, Val Acc: 6.67%\n"
     ]
    },
    {
     "name": "stderr",
     "output_type": "stream",
     "text": [
      "Fold 1 Epoch 8/40: 100%|██████████| 4/4 [00:03<00:00,  1.19it/s]\n"
     ]
    },
    {
     "name": "stdout",
     "output_type": "stream",
     "text": [
      "Train Loss: 3.1648, Train Acc: 14.04%\n",
      "Val Loss: 2.9810, Val Acc: 6.67%\n"
     ]
    },
    {
     "name": "stderr",
     "output_type": "stream",
     "text": [
      "Fold 1 Epoch 9/40: 100%|██████████| 4/4 [00:03<00:00,  1.22it/s]\n"
     ]
    },
    {
     "name": "stdout",
     "output_type": "stream",
     "text": [
      "Train Loss: 3.0798, Train Acc: 10.53%\n",
      "Val Loss: 3.0965, Val Acc: 20.00%\n"
     ]
    },
    {
     "name": "stderr",
     "output_type": "stream",
     "text": [
      "Fold 1 Epoch 10/40: 100%|██████████| 4/4 [00:03<00:00,  1.22it/s]\n"
     ]
    },
    {
     "name": "stdout",
     "output_type": "stream",
     "text": [
      "Train Loss: 2.8934, Train Acc: 17.54%\n",
      "Val Loss: 2.8348, Val Acc: 6.67%\n"
     ]
    },
    {
     "name": "stderr",
     "output_type": "stream",
     "text": [
      "Fold 1 Epoch 11/40: 100%|██████████| 4/4 [00:03<00:00,  1.12it/s]\n"
     ]
    },
    {
     "name": "stdout",
     "output_type": "stream",
     "text": [
      "Train Loss: 2.8519, Train Acc: 12.28%\n",
      "Val Loss: 2.8808, Val Acc: 6.67%\n"
     ]
    },
    {
     "name": "stderr",
     "output_type": "stream",
     "text": [
      "Fold 1 Epoch 12/40: 100%|██████████| 4/4 [00:03<00:00,  1.12it/s]\n"
     ]
    },
    {
     "name": "stdout",
     "output_type": "stream",
     "text": [
      "Train Loss: 2.7996, Train Acc: 10.53%\n",
      "Val Loss: 2.8395, Val Acc: 6.67%\n"
     ]
    },
    {
     "name": "stderr",
     "output_type": "stream",
     "text": [
      "Fold 1 Epoch 13/40: 100%|██████████| 4/4 [00:03<00:00,  1.18it/s]\n"
     ]
    },
    {
     "name": "stdout",
     "output_type": "stream",
     "text": [
      "Train Loss: 2.7387, Train Acc: 10.53%\n",
      "Val Loss: 2.8323, Val Acc: 6.67%\n"
     ]
    },
    {
     "name": "stderr",
     "output_type": "stream",
     "text": [
      "Fold 1 Epoch 14/40: 100%|██████████| 4/4 [00:03<00:00,  1.18it/s]\n"
     ]
    },
    {
     "name": "stdout",
     "output_type": "stream",
     "text": [
      "Train Loss: 2.6338, Train Acc: 8.77%\n",
      "Val Loss: 2.7734, Val Acc: 6.67%\n"
     ]
    },
    {
     "name": "stderr",
     "output_type": "stream",
     "text": [
      "Fold 1 Epoch 15/40: 100%|██████████| 4/4 [00:03<00:00,  1.27it/s]\n"
     ]
    },
    {
     "name": "stdout",
     "output_type": "stream",
     "text": [
      "Train Loss: 2.8755, Train Acc: 7.02%\n",
      "Val Loss: 2.7289, Val Acc: 6.67%\n"
     ]
    },
    {
     "name": "stderr",
     "output_type": "stream",
     "text": [
      "Fold 1 Epoch 16/40: 100%|██████████| 4/4 [00:03<00:00,  1.25it/s]\n"
     ]
    },
    {
     "name": "stdout",
     "output_type": "stream",
     "text": [
      "Train Loss: 2.8238, Train Acc: 7.02%\n",
      "Val Loss: 2.7167, Val Acc: 6.67%\n"
     ]
    },
    {
     "name": "stderr",
     "output_type": "stream",
     "text": [
      "Fold 1 Epoch 17/40: 100%|██████████| 4/4 [00:03<00:00,  1.25it/s]\n"
     ]
    },
    {
     "name": "stdout",
     "output_type": "stream",
     "text": [
      "Train Loss: 2.7565, Train Acc: 8.77%\n",
      "Val Loss: 2.7091, Val Acc: 6.67%\n"
     ]
    },
    {
     "name": "stderr",
     "output_type": "stream",
     "text": [
      "Fold 1 Epoch 18/40: 100%|██████████| 4/4 [00:03<00:00,  1.18it/s]\n"
     ]
    },
    {
     "name": "stdout",
     "output_type": "stream",
     "text": [
      "Train Loss: 2.8301, Train Acc: 7.02%\n",
      "Val Loss: 2.6874, Val Acc: 6.67%\n"
     ]
    },
    {
     "name": "stderr",
     "output_type": "stream",
     "text": [
      "Fold 1 Epoch 19/40: 100%|██████████| 4/4 [00:03<00:00,  1.23it/s]\n"
     ]
    },
    {
     "name": "stdout",
     "output_type": "stream",
     "text": [
      "Train Loss: 2.8347, Train Acc: 8.77%\n",
      "Val Loss: 2.6833, Val Acc: 13.33%\n"
     ]
    },
    {
     "name": "stderr",
     "output_type": "stream",
     "text": [
      "Fold 1 Epoch 20/40: 100%|██████████| 4/4 [00:03<00:00,  1.14it/s]\n"
     ]
    },
    {
     "name": "stdout",
     "output_type": "stream",
     "text": [
      "Train Loss: 2.8101, Train Acc: 8.77%\n",
      "Val Loss: 2.6878, Val Acc: 6.67%\n"
     ]
    },
    {
     "name": "stderr",
     "output_type": "stream",
     "text": [
      "Fold 1 Epoch 21/40: 100%|██████████| 4/4 [00:03<00:00,  1.14it/s]\n"
     ]
    },
    {
     "name": "stdout",
     "output_type": "stream",
     "text": [
      "Train Loss: 2.8318, Train Acc: 3.51%\n",
      "Val Loss: 2.6816, Val Acc: 6.67%\n"
     ]
    },
    {
     "name": "stderr",
     "output_type": "stream",
     "text": [
      "Fold 1 Epoch 22/40: 100%|██████████| 4/4 [00:03<00:00,  1.10it/s]\n"
     ]
    },
    {
     "name": "stdout",
     "output_type": "stream",
     "text": [
      "Train Loss: 2.8146, Train Acc: 7.02%\n",
      "Val Loss: 2.6632, Val Acc: 6.67%\n"
     ]
    },
    {
     "name": "stderr",
     "output_type": "stream",
     "text": [
      "Fold 1 Epoch 23/40: 100%|██████████| 4/4 [00:03<00:00,  1.14it/s]\n"
     ]
    },
    {
     "name": "stdout",
     "output_type": "stream",
     "text": [
      "Train Loss: 2.8989, Train Acc: 7.02%\n",
      "Val Loss: 2.6380, Val Acc: 6.67%\n"
     ]
    },
    {
     "name": "stderr",
     "output_type": "stream",
     "text": [
      "Fold 1 Epoch 24/40: 100%|██████████| 4/4 [00:03<00:00,  1.12it/s]\n"
     ]
    },
    {
     "name": "stdout",
     "output_type": "stream",
     "text": [
      "Train Loss: 2.8857, Train Acc: 7.02%\n",
      "Val Loss: 2.6390, Val Acc: 6.67%\n"
     ]
    },
    {
     "name": "stderr",
     "output_type": "stream",
     "text": [
      "Fold 1 Epoch 25/40: 100%|██████████| 4/4 [00:03<00:00,  1.09it/s]\n"
     ]
    },
    {
     "name": "stdout",
     "output_type": "stream",
     "text": [
      "Train Loss: 2.7608, Train Acc: 10.53%\n",
      "Val Loss: 2.6312, Val Acc: 6.67%\n"
     ]
    },
    {
     "name": "stderr",
     "output_type": "stream",
     "text": [
      "Fold 1 Epoch 26/40: 100%|██████████| 4/4 [00:03<00:00,  1.07it/s]\n"
     ]
    },
    {
     "name": "stdout",
     "output_type": "stream",
     "text": [
      "Train Loss: 2.7025, Train Acc: 7.02%\n",
      "Val Loss: 2.6742, Val Acc: 6.67%\n"
     ]
    },
    {
     "name": "stderr",
     "output_type": "stream",
     "text": [
      "Fold 1 Epoch 27/40: 100%|██████████| 4/4 [00:03<00:00,  1.16it/s]\n"
     ]
    },
    {
     "name": "stdout",
     "output_type": "stream",
     "text": [
      "Train Loss: 2.6603, Train Acc: 14.04%\n",
      "Val Loss: 2.7036, Val Acc: 6.67%\n"
     ]
    },
    {
     "name": "stderr",
     "output_type": "stream",
     "text": [
      "Fold 1 Epoch 28/40: 100%|██████████| 4/4 [00:03<00:00,  1.17it/s]\n"
     ]
    },
    {
     "name": "stdout",
     "output_type": "stream",
     "text": [
      "Train Loss: 2.7378, Train Acc: 7.02%\n",
      "Val Loss: 2.7020, Val Acc: 6.67%\n"
     ]
    },
    {
     "name": "stderr",
     "output_type": "stream",
     "text": [
      "Fold 1 Epoch 29/40: 100%|██████████| 4/4 [00:03<00:00,  1.11it/s]\n"
     ]
    },
    {
     "name": "stdout",
     "output_type": "stream",
     "text": [
      "Train Loss: 2.6989, Train Acc: 8.77%\n",
      "Val Loss: 2.6903, Val Acc: 6.67%\n"
     ]
    },
    {
     "name": "stderr",
     "output_type": "stream",
     "text": [
      "Fold 1 Epoch 30/40: 100%|██████████| 4/4 [00:03<00:00,  1.17it/s]\n"
     ]
    },
    {
     "name": "stdout",
     "output_type": "stream",
     "text": [
      "Train Loss: 2.8334, Train Acc: 7.02%\n",
      "Val Loss: 2.6864, Val Acc: 6.67%\n"
     ]
    },
    {
     "name": "stderr",
     "output_type": "stream",
     "text": [
      "Fold 1 Epoch 31/40: 100%|██████████| 4/4 [00:03<00:00,  1.18it/s]\n"
     ]
    },
    {
     "name": "stdout",
     "output_type": "stream",
     "text": [
      "Train Loss: 2.7146, Train Acc: 5.26%\n",
      "Val Loss: 2.6780, Val Acc: 13.33%\n"
     ]
    },
    {
     "name": "stderr",
     "output_type": "stream",
     "text": [
      "Fold 1 Epoch 32/40: 100%|██████████| 4/4 [00:03<00:00,  1.15it/s]\n"
     ]
    },
    {
     "name": "stdout",
     "output_type": "stream",
     "text": [
      "Train Loss: 2.6264, Train Acc: 15.79%\n",
      "Val Loss: 2.6816, Val Acc: 13.33%\n"
     ]
    },
    {
     "name": "stderr",
     "output_type": "stream",
     "text": [
      "Fold 1 Epoch 33/40: 100%|██████████| 4/4 [00:03<00:00,  1.11it/s]\n"
     ]
    },
    {
     "name": "stdout",
     "output_type": "stream",
     "text": [
      "Train Loss: 2.6881, Train Acc: 10.53%\n",
      "Val Loss: 2.6910, Val Acc: 13.33%\n"
     ]
    },
    {
     "name": "stderr",
     "output_type": "stream",
     "text": [
      "Fold 1 Epoch 34/40: 100%|██████████| 4/4 [00:03<00:00,  1.22it/s]\n"
     ]
    },
    {
     "name": "stdout",
     "output_type": "stream",
     "text": [
      "Train Loss: 2.6856, Train Acc: 7.02%\n",
      "Val Loss: 2.6826, Val Acc: 13.33%\n"
     ]
    },
    {
     "name": "stderr",
     "output_type": "stream",
     "text": [
      "Fold 1 Epoch 35/40: 100%|██████████| 4/4 [00:03<00:00,  1.23it/s]\n"
     ]
    },
    {
     "name": "stdout",
     "output_type": "stream",
     "text": [
      "Train Loss: 2.8182, Train Acc: 3.51%\n",
      "Val Loss: 2.6813, Val Acc: 13.33%\n"
     ]
    },
    {
     "name": "stderr",
     "output_type": "stream",
     "text": [
      "Fold 1 Epoch 36/40: 100%|██████████| 4/4 [00:03<00:00,  1.20it/s]\n"
     ]
    },
    {
     "name": "stdout",
     "output_type": "stream",
     "text": [
      "Train Loss: 2.5376, Train Acc: 14.04%\n",
      "Val Loss: 2.6876, Val Acc: 6.67%\n"
     ]
    },
    {
     "name": "stderr",
     "output_type": "stream",
     "text": [
      "Fold 1 Epoch 37/40: 100%|██████████| 4/4 [00:03<00:00,  1.10it/s]\n"
     ]
    },
    {
     "name": "stdout",
     "output_type": "stream",
     "text": [
      "Train Loss: 2.7451, Train Acc: 7.02%\n",
      "Val Loss: 2.6757, Val Acc: 6.67%\n"
     ]
    },
    {
     "name": "stderr",
     "output_type": "stream",
     "text": [
      "Fold 1 Epoch 38/40: 100%|██████████| 4/4 [00:03<00:00,  1.06it/s]\n"
     ]
    },
    {
     "name": "stdout",
     "output_type": "stream",
     "text": [
      "Train Loss: 2.8261, Train Acc: 8.77%\n",
      "Val Loss: 2.6785, Val Acc: 6.67%\n"
     ]
    },
    {
     "name": "stderr",
     "output_type": "stream",
     "text": [
      "Fold 1 Epoch 39/40: 100%|██████████| 4/4 [00:03<00:00,  1.06it/s]\n"
     ]
    },
    {
     "name": "stdout",
     "output_type": "stream",
     "text": [
      "Train Loss: 2.6329, Train Acc: 8.77%\n",
      "Val Loss: 2.6754, Val Acc: 6.67%\n"
     ]
    },
    {
     "name": "stderr",
     "output_type": "stream",
     "text": [
      "Fold 1 Epoch 40/40: 100%|██████████| 4/4 [00:03<00:00,  1.06it/s]\n"
     ]
    },
    {
     "name": "stdout",
     "output_type": "stream",
     "text": [
      "Train Loss: 2.7026, Train Acc: 14.04%\n",
      "Val Loss: 2.6706, Val Acc: 6.67%\n",
      "\n",
      "📂 Fold 2/5\n"
     ]
    },
    {
     "name": "stderr",
     "output_type": "stream",
     "text": [
      "Fold 2 Epoch 1/40: 100%|██████████| 4/4 [00:03<00:00,  1.18it/s]\n"
     ]
    },
    {
     "name": "stdout",
     "output_type": "stream",
     "text": [
      "Train Loss: 5.2579, Train Acc: 1.75%\n",
      "Val Loss: 5.2061, Val Acc: 6.67%\n"
     ]
    },
    {
     "name": "stderr",
     "output_type": "stream",
     "text": [
      "Fold 2 Epoch 2/40: 100%|██████████| 4/4 [00:03<00:00,  1.27it/s]\n"
     ]
    },
    {
     "name": "stdout",
     "output_type": "stream",
     "text": [
      "Train Loss: 5.0833, Train Acc: 10.53%\n",
      "Val Loss: 5.0743, Val Acc: 6.67%\n"
     ]
    },
    {
     "name": "stderr",
     "output_type": "stream",
     "text": [
      "Fold 2 Epoch 3/40: 100%|██████████| 4/4 [00:03<00:00,  1.20it/s]\n"
     ]
    },
    {
     "name": "stdout",
     "output_type": "stream",
     "text": [
      "Train Loss: 4.8949, Train Acc: 12.28%\n",
      "Val Loss: 4.9624, Val Acc: 6.67%\n"
     ]
    },
    {
     "name": "stderr",
     "output_type": "stream",
     "text": [
      "Fold 2 Epoch 4/40: 100%|██████████| 4/4 [00:03<00:00,  1.25it/s]\n"
     ]
    },
    {
     "name": "stdout",
     "output_type": "stream",
     "text": [
      "Train Loss: 4.5857, Train Acc: 12.28%\n",
      "Val Loss: 4.6045, Val Acc: 0.00%\n"
     ]
    },
    {
     "name": "stderr",
     "output_type": "stream",
     "text": [
      "Fold 2 Epoch 5/40: 100%|██████████| 4/4 [00:03<00:00,  1.19it/s]\n"
     ]
    },
    {
     "name": "stdout",
     "output_type": "stream",
     "text": [
      "Train Loss: 4.2327, Train Acc: 15.79%\n",
      "Val Loss: 4.3128, Val Acc: 0.00%\n"
     ]
    },
    {
     "name": "stderr",
     "output_type": "stream",
     "text": [
      "Fold 2 Epoch 6/40: 100%|██████████| 4/4 [00:03<00:00,  1.19it/s]\n"
     ]
    },
    {
     "name": "stdout",
     "output_type": "stream",
     "text": [
      "Train Loss: 3.7925, Train Acc: 15.79%\n",
      "Val Loss: 4.0456, Val Acc: 0.00%\n"
     ]
    },
    {
     "name": "stderr",
     "output_type": "stream",
     "text": [
      "Fold 2 Epoch 7/40: 100%|██████████| 4/4 [00:03<00:00,  1.14it/s]\n"
     ]
    },
    {
     "name": "stdout",
     "output_type": "stream",
     "text": [
      "Train Loss: 3.3615, Train Acc: 12.28%\n",
      "Val Loss: 3.9192, Val Acc: 0.00%\n"
     ]
    },
    {
     "name": "stderr",
     "output_type": "stream",
     "text": [
      "Fold 2 Epoch 8/40: 100%|██████████| 4/4 [00:03<00:00,  1.25it/s]\n"
     ]
    },
    {
     "name": "stdout",
     "output_type": "stream",
     "text": [
      "Train Loss: 3.2262, Train Acc: 15.79%\n",
      "Val Loss: 3.8020, Val Acc: 0.00%\n"
     ]
    },
    {
     "name": "stderr",
     "output_type": "stream",
     "text": [
      "Fold 2 Epoch 9/40: 100%|██████████| 4/4 [00:03<00:00,  1.26it/s]\n"
     ]
    },
    {
     "name": "stdout",
     "output_type": "stream",
     "text": [
      "Train Loss: 3.0196, Train Acc: 14.04%\n",
      "Val Loss: 3.7213, Val Acc: 0.00%\n"
     ]
    },
    {
     "name": "stderr",
     "output_type": "stream",
     "text": [
      "Fold 2 Epoch 10/40: 100%|██████████| 4/4 [00:03<00:00,  1.24it/s]\n"
     ]
    },
    {
     "name": "stdout",
     "output_type": "stream",
     "text": [
      "Train Loss: 2.9017, Train Acc: 12.28%\n",
      "Val Loss: 3.5747, Val Acc: 0.00%\n"
     ]
    },
    {
     "name": "stderr",
     "output_type": "stream",
     "text": [
      "Fold 2 Epoch 11/40: 100%|██████████| 4/4 [00:03<00:00,  1.19it/s]\n"
     ]
    },
    {
     "name": "stdout",
     "output_type": "stream",
     "text": [
      "Train Loss: 2.8205, Train Acc: 19.30%\n",
      "Val Loss: 3.3707, Val Acc: 0.00%\n"
     ]
    },
    {
     "name": "stderr",
     "output_type": "stream",
     "text": [
      "Fold 2 Epoch 12/40: 100%|██████████| 4/4 [00:03<00:00,  1.20it/s]\n"
     ]
    },
    {
     "name": "stdout",
     "output_type": "stream",
     "text": [
      "Train Loss: 2.7604, Train Acc: 14.04%\n",
      "Val Loss: 3.2688, Val Acc: 0.00%\n"
     ]
    },
    {
     "name": "stderr",
     "output_type": "stream",
     "text": [
      "Fold 2 Epoch 13/40: 100%|██████████| 4/4 [00:03<00:00,  1.25it/s]\n"
     ]
    },
    {
     "name": "stdout",
     "output_type": "stream",
     "text": [
      "Train Loss: 2.8146, Train Acc: 12.28%\n",
      "Val Loss: 3.1553, Val Acc: 0.00%\n"
     ]
    },
    {
     "name": "stderr",
     "output_type": "stream",
     "text": [
      "Fold 2 Epoch 14/40: 100%|██████████| 4/4 [00:03<00:00,  1.21it/s]\n"
     ]
    },
    {
     "name": "stdout",
     "output_type": "stream",
     "text": [
      "Train Loss: 2.6466, Train Acc: 17.54%\n",
      "Val Loss: 3.0862, Val Acc: 0.00%\n"
     ]
    },
    {
     "name": "stderr",
     "output_type": "stream",
     "text": [
      "Fold 2 Epoch 15/40: 100%|██████████| 4/4 [00:03<00:00,  1.12it/s]\n"
     ]
    },
    {
     "name": "stdout",
     "output_type": "stream",
     "text": [
      "Train Loss: 2.7565, Train Acc: 8.77%\n",
      "Val Loss: 3.0668, Val Acc: 0.00%\n"
     ]
    },
    {
     "name": "stderr",
     "output_type": "stream",
     "text": [
      "Fold 2 Epoch 16/40: 100%|██████████| 4/4 [00:03<00:00,  1.19it/s]\n"
     ]
    },
    {
     "name": "stdout",
     "output_type": "stream",
     "text": [
      "Train Loss: 2.7221, Train Acc: 7.02%\n",
      "Val Loss: 3.0442, Val Acc: 0.00%\n"
     ]
    },
    {
     "name": "stderr",
     "output_type": "stream",
     "text": [
      "Fold 2 Epoch 17/40: 100%|██████████| 4/4 [00:03<00:00,  1.24it/s]\n"
     ]
    },
    {
     "name": "stdout",
     "output_type": "stream",
     "text": [
      "Train Loss: 2.6846, Train Acc: 10.53%\n",
      "Val Loss: 3.0331, Val Acc: 0.00%\n"
     ]
    },
    {
     "name": "stderr",
     "output_type": "stream",
     "text": [
      "Fold 2 Epoch 18/40: 100%|██████████| 4/4 [00:03<00:00,  1.22it/s]\n"
     ]
    },
    {
     "name": "stdout",
     "output_type": "stream",
     "text": [
      "Train Loss: 2.7245, Train Acc: 15.79%\n",
      "Val Loss: 3.0366, Val Acc: 0.00%\n"
     ]
    },
    {
     "name": "stderr",
     "output_type": "stream",
     "text": [
      "Fold 2 Epoch 19/40: 100%|██████████| 4/4 [00:03<00:00,  1.21it/s]\n"
     ]
    },
    {
     "name": "stdout",
     "output_type": "stream",
     "text": [
      "Train Loss: 2.7195, Train Acc: 8.77%\n",
      "Val Loss: 3.0255, Val Acc: 0.00%\n"
     ]
    },
    {
     "name": "stderr",
     "output_type": "stream",
     "text": [
      "Fold 2 Epoch 20/40: 100%|██████████| 4/4 [00:03<00:00,  1.11it/s]\n"
     ]
    },
    {
     "name": "stdout",
     "output_type": "stream",
     "text": [
      "Train Loss: 2.6407, Train Acc: 12.28%\n",
      "Val Loss: 2.9939, Val Acc: 0.00%\n"
     ]
    },
    {
     "name": "stderr",
     "output_type": "stream",
     "text": [
      "Fold 2 Epoch 21/40: 100%|██████████| 4/4 [00:03<00:00,  1.13it/s]\n"
     ]
    },
    {
     "name": "stdout",
     "output_type": "stream",
     "text": [
      "Train Loss: 2.5049, Train Acc: 21.05%\n",
      "Val Loss: 2.9680, Val Acc: 0.00%\n"
     ]
    },
    {
     "name": "stderr",
     "output_type": "stream",
     "text": [
      "Fold 2 Epoch 22/40: 100%|██████████| 4/4 [00:03<00:00,  1.09it/s]\n"
     ]
    },
    {
     "name": "stdout",
     "output_type": "stream",
     "text": [
      "Train Loss: 2.7080, Train Acc: 15.79%\n",
      "Val Loss: 2.9611, Val Acc: 6.67%\n"
     ]
    },
    {
     "name": "stderr",
     "output_type": "stream",
     "text": [
      "Fold 2 Epoch 23/40: 100%|██████████| 4/4 [00:03<00:00,  1.15it/s]\n"
     ]
    },
    {
     "name": "stdout",
     "output_type": "stream",
     "text": [
      "Train Loss: 2.5669, Train Acc: 15.79%\n",
      "Val Loss: 2.9737, Val Acc: 0.00%\n"
     ]
    },
    {
     "name": "stderr",
     "output_type": "stream",
     "text": [
      "Fold 2 Epoch 24/40: 100%|██████████| 4/4 [00:03<00:00,  1.14it/s]\n"
     ]
    },
    {
     "name": "stdout",
     "output_type": "stream",
     "text": [
      "Train Loss: 2.5892, Train Acc: 14.04%\n",
      "Val Loss: 2.9580, Val Acc: 0.00%\n"
     ]
    },
    {
     "name": "stderr",
     "output_type": "stream",
     "text": [
      "Fold 2 Epoch 25/40: 100%|██████████| 4/4 [00:03<00:00,  1.11it/s]\n"
     ]
    },
    {
     "name": "stdout",
     "output_type": "stream",
     "text": [
      "Train Loss: 2.6426, Train Acc: 14.04%\n",
      "Val Loss: 2.9609, Val Acc: 0.00%\n"
     ]
    },
    {
     "name": "stderr",
     "output_type": "stream",
     "text": [
      "Fold 2 Epoch 26/40: 100%|██████████| 4/4 [00:03<00:00,  1.11it/s]\n"
     ]
    },
    {
     "name": "stdout",
     "output_type": "stream",
     "text": [
      "Train Loss: 2.6365, Train Acc: 12.28%\n",
      "Val Loss: 2.9504, Val Acc: 0.00%\n"
     ]
    },
    {
     "name": "stderr",
     "output_type": "stream",
     "text": [
      "Fold 2 Epoch 27/40: 100%|██████████| 4/4 [00:03<00:00,  1.14it/s]\n"
     ]
    },
    {
     "name": "stdout",
     "output_type": "stream",
     "text": [
      "Train Loss: 2.6058, Train Acc: 14.04%\n",
      "Val Loss: 2.9653, Val Acc: 0.00%\n"
     ]
    },
    {
     "name": "stderr",
     "output_type": "stream",
     "text": [
      "Fold 2 Epoch 28/40: 100%|██████████| 4/4 [00:03<00:00,  1.14it/s]\n"
     ]
    },
    {
     "name": "stdout",
     "output_type": "stream",
     "text": [
      "Train Loss: 2.7023, Train Acc: 5.26%\n",
      "Val Loss: 2.9661, Val Acc: 0.00%\n"
     ]
    },
    {
     "name": "stderr",
     "output_type": "stream",
     "text": [
      "Fold 2 Epoch 29/40: 100%|██████████| 4/4 [00:03<00:00,  1.08it/s]\n"
     ]
    },
    {
     "name": "stdout",
     "output_type": "stream",
     "text": [
      "Train Loss: 2.7034, Train Acc: 5.26%\n",
      "Val Loss: 2.9622, Val Acc: 6.67%\n"
     ]
    },
    {
     "name": "stderr",
     "output_type": "stream",
     "text": [
      "Fold 2 Epoch 30/40: 100%|██████████| 4/4 [00:03<00:00,  1.13it/s]\n"
     ]
    },
    {
     "name": "stdout",
     "output_type": "stream",
     "text": [
      "Train Loss: 2.7859, Train Acc: 12.28%\n",
      "Val Loss: 2.9479, Val Acc: 6.67%\n"
     ]
    },
    {
     "name": "stderr",
     "output_type": "stream",
     "text": [
      "Fold 2 Epoch 31/40: 100%|██████████| 4/4 [00:03<00:00,  1.15it/s]\n"
     ]
    },
    {
     "name": "stdout",
     "output_type": "stream",
     "text": [
      "Train Loss: 2.6842, Train Acc: 17.54%\n",
      "Val Loss: 2.9497, Val Acc: 6.67%\n"
     ]
    },
    {
     "name": "stderr",
     "output_type": "stream",
     "text": [
      "Fold 2 Epoch 32/40: 100%|██████████| 4/4 [00:03<00:00,  1.14it/s]\n"
     ]
    },
    {
     "name": "stdout",
     "output_type": "stream",
     "text": [
      "Train Loss: 2.5756, Train Acc: 17.54%\n",
      "Val Loss: 2.9649, Val Acc: 6.67%\n"
     ]
    },
    {
     "name": "stderr",
     "output_type": "stream",
     "text": [
      "Fold 2 Epoch 33/40: 100%|██████████| 4/4 [00:03<00:00,  1.09it/s]\n"
     ]
    },
    {
     "name": "stdout",
     "output_type": "stream",
     "text": [
      "Train Loss: 2.5828, Train Acc: 19.30%\n",
      "Val Loss: 2.9832, Val Acc: 0.00%\n"
     ]
    },
    {
     "name": "stderr",
     "output_type": "stream",
     "text": [
      "Fold 2 Epoch 34/40: 100%|██████████| 4/4 [00:03<00:00,  1.10it/s]\n"
     ]
    },
    {
     "name": "stdout",
     "output_type": "stream",
     "text": [
      "Train Loss: 2.6846, Train Acc: 12.28%\n",
      "Val Loss: 2.9856, Val Acc: 0.00%\n"
     ]
    },
    {
     "name": "stderr",
     "output_type": "stream",
     "text": [
      "Fold 2 Epoch 35/40: 100%|██████████| 4/4 [00:03<00:00,  1.14it/s]\n"
     ]
    },
    {
     "name": "stdout",
     "output_type": "stream",
     "text": [
      "Train Loss: 2.6963, Train Acc: 12.28%\n",
      "Val Loss: 2.9790, Val Acc: 0.00%\n"
     ]
    },
    {
     "name": "stderr",
     "output_type": "stream",
     "text": [
      "Fold 2 Epoch 36/40: 100%|██████████| 4/4 [00:03<00:00,  1.08it/s]\n"
     ]
    },
    {
     "name": "stdout",
     "output_type": "stream",
     "text": [
      "Train Loss: 2.7591, Train Acc: 5.26%\n",
      "Val Loss: 2.9628, Val Acc: 0.00%\n"
     ]
    },
    {
     "name": "stderr",
     "output_type": "stream",
     "text": [
      "Fold 2 Epoch 37/40: 100%|██████████| 4/4 [00:03<00:00,  1.09it/s]\n"
     ]
    },
    {
     "name": "stdout",
     "output_type": "stream",
     "text": [
      "Train Loss: 2.7326, Train Acc: 10.53%\n",
      "Val Loss: 2.9468, Val Acc: 0.00%\n"
     ]
    },
    {
     "name": "stderr",
     "output_type": "stream",
     "text": [
      "Fold 2 Epoch 38/40: 100%|██████████| 4/4 [00:03<00:00,  1.13it/s]\n"
     ]
    },
    {
     "name": "stdout",
     "output_type": "stream",
     "text": [
      "Train Loss: 2.5634, Train Acc: 14.04%\n",
      "Val Loss: 2.9356, Val Acc: 0.00%\n"
     ]
    },
    {
     "name": "stderr",
     "output_type": "stream",
     "text": [
      "Fold 2 Epoch 39/40: 100%|██████████| 4/4 [00:03<00:00,  1.15it/s]\n"
     ]
    },
    {
     "name": "stdout",
     "output_type": "stream",
     "text": [
      "Train Loss: 2.7204, Train Acc: 5.26%\n",
      "Val Loss: 2.9283, Val Acc: 0.00%\n"
     ]
    },
    {
     "name": "stderr",
     "output_type": "stream",
     "text": [
      "Fold 2 Epoch 40/40: 100%|██████████| 4/4 [00:03<00:00,  1.10it/s]\n"
     ]
    },
    {
     "name": "stdout",
     "output_type": "stream",
     "text": [
      "Train Loss: 2.6917, Train Acc: 15.79%\n",
      "Val Loss: 2.9183, Val Acc: 0.00%\n",
      "\n",
      "📂 Fold 3/5\n"
     ]
    },
    {
     "name": "stderr",
     "output_type": "stream",
     "text": [
      "Fold 3 Epoch 1/40: 100%|██████████| 4/4 [00:03<00:00,  1.02it/s]\n"
     ]
    },
    {
     "name": "stdout",
     "output_type": "stream",
     "text": [
      "Train Loss: 5.2607, Train Acc: 5.17%\n",
      "Val Loss: 5.1572, Val Acc: 14.29%\n"
     ]
    },
    {
     "name": "stderr",
     "output_type": "stream",
     "text": [
      "Fold 3 Epoch 2/40: 100%|██████████| 4/4 [00:03<00:00,  1.06it/s]\n"
     ]
    },
    {
     "name": "stdout",
     "output_type": "stream",
     "text": [
      "Train Loss: 5.1185, Train Acc: 8.62%\n",
      "Val Loss: 5.0015, Val Acc: 14.29%\n"
     ]
    },
    {
     "name": "stderr",
     "output_type": "stream",
     "text": [
      "Fold 3 Epoch 3/40: 100%|██████████| 4/4 [00:03<00:00,  1.04it/s]\n"
     ]
    },
    {
     "name": "stdout",
     "output_type": "stream",
     "text": [
      "Train Loss: 4.9540, Train Acc: 10.34%\n",
      "Val Loss: 4.7695, Val Acc: 14.29%\n"
     ]
    },
    {
     "name": "stderr",
     "output_type": "stream",
     "text": [
      "Fold 3 Epoch 4/40: 100%|██████████| 4/4 [00:03<00:00,  1.06it/s]\n"
     ]
    },
    {
     "name": "stdout",
     "output_type": "stream",
     "text": [
      "Train Loss: 4.6366, Train Acc: 12.07%\n",
      "Val Loss: 4.4391, Val Acc: 14.29%\n"
     ]
    },
    {
     "name": "stderr",
     "output_type": "stream",
     "text": [
      "Fold 3 Epoch 5/40: 100%|██████████| 4/4 [00:03<00:00,  1.08it/s]\n"
     ]
    },
    {
     "name": "stdout",
     "output_type": "stream",
     "text": [
      "Train Loss: 4.2956, Train Acc: 6.90%\n",
      "Val Loss: 4.0470, Val Acc: 14.29%\n"
     ]
    },
    {
     "name": "stderr",
     "output_type": "stream",
     "text": [
      "Fold 3 Epoch 6/40: 100%|██████████| 4/4 [00:03<00:00,  1.04it/s]\n"
     ]
    },
    {
     "name": "stdout",
     "output_type": "stream",
     "text": [
      "Train Loss: 3.9510, Train Acc: 13.79%\n",
      "Val Loss: 3.8664, Val Acc: 14.29%\n"
     ]
    },
    {
     "name": "stderr",
     "output_type": "stream",
     "text": [
      "Fold 3 Epoch 7/40: 100%|██████████| 4/4 [00:03<00:00,  1.07it/s]\n"
     ]
    },
    {
     "name": "stdout",
     "output_type": "stream",
     "text": [
      "Train Loss: 3.5152, Train Acc: 10.34%\n",
      "Val Loss: 3.6051, Val Acc: 14.29%\n"
     ]
    },
    {
     "name": "stderr",
     "output_type": "stream",
     "text": [
      "Fold 3 Epoch 8/40: 100%|██████████| 4/4 [00:03<00:00,  1.08it/s]\n"
     ]
    },
    {
     "name": "stdout",
     "output_type": "stream",
     "text": [
      "Train Loss: 3.1965, Train Acc: 10.34%\n",
      "Val Loss: 3.2568, Val Acc: 7.14%\n"
     ]
    },
    {
     "name": "stderr",
     "output_type": "stream",
     "text": [
      "Fold 3 Epoch 9/40: 100%|██████████| 4/4 [00:03<00:00,  1.08it/s]\n"
     ]
    },
    {
     "name": "stdout",
     "output_type": "stream",
     "text": [
      "Train Loss: 2.9943, Train Acc: 10.34%\n",
      "Val Loss: 3.2470, Val Acc: 7.14%\n"
     ]
    },
    {
     "name": "stderr",
     "output_type": "stream",
     "text": [
      "Fold 3 Epoch 10/40: 100%|██████████| 4/4 [00:03<00:00,  1.02it/s]\n"
     ]
    },
    {
     "name": "stdout",
     "output_type": "stream",
     "text": [
      "Train Loss: 2.9841, Train Acc: 6.90%\n",
      "Val Loss: 3.0678, Val Acc: 7.14%\n"
     ]
    },
    {
     "name": "stderr",
     "output_type": "stream",
     "text": [
      "Fold 3 Epoch 11/40: 100%|██████████| 4/4 [00:03<00:00,  1.08it/s]\n"
     ]
    },
    {
     "name": "stdout",
     "output_type": "stream",
     "text": [
      "Train Loss: 2.9396, Train Acc: 8.62%\n",
      "Val Loss: 3.0018, Val Acc: 14.29%\n"
     ]
    },
    {
     "name": "stderr",
     "output_type": "stream",
     "text": [
      "Fold 3 Epoch 12/40: 100%|██████████| 4/4 [00:03<00:00,  1.09it/s]\n"
     ]
    },
    {
     "name": "stdout",
     "output_type": "stream",
     "text": [
      "Train Loss: 2.7543, Train Acc: 12.07%\n",
      "Val Loss: 2.9346, Val Acc: 14.29%\n"
     ]
    },
    {
     "name": "stderr",
     "output_type": "stream",
     "text": [
      "Fold 3 Epoch 13/40: 100%|██████████| 4/4 [00:03<00:00,  1.06it/s]\n"
     ]
    },
    {
     "name": "stdout",
     "output_type": "stream",
     "text": [
      "Train Loss: 2.6867, Train Acc: 13.79%\n",
      "Val Loss: 2.9041, Val Acc: 14.29%\n"
     ]
    },
    {
     "name": "stderr",
     "output_type": "stream",
     "text": [
      "Fold 3 Epoch 14/40: 100%|██████████| 4/4 [00:03<00:00,  1.06it/s]\n"
     ]
    },
    {
     "name": "stdout",
     "output_type": "stream",
     "text": [
      "Train Loss: 2.8445, Train Acc: 8.62%\n",
      "Val Loss: 2.8745, Val Acc: 14.29%\n"
     ]
    },
    {
     "name": "stderr",
     "output_type": "stream",
     "text": [
      "Fold 3 Epoch 15/40: 100%|██████████| 4/4 [00:03<00:00,  1.05it/s]\n"
     ]
    },
    {
     "name": "stdout",
     "output_type": "stream",
     "text": [
      "Train Loss: 2.6889, Train Acc: 6.90%\n",
      "Val Loss: 2.8449, Val Acc: 14.29%\n"
     ]
    },
    {
     "name": "stderr",
     "output_type": "stream",
     "text": [
      "Fold 3 Epoch 16/40: 100%|██████████| 4/4 [00:03<00:00,  1.08it/s]\n"
     ]
    },
    {
     "name": "stdout",
     "output_type": "stream",
     "text": [
      "Train Loss: 2.8456, Train Acc: 5.17%\n",
      "Val Loss: 2.8149, Val Acc: 7.14%\n"
     ]
    },
    {
     "name": "stderr",
     "output_type": "stream",
     "text": [
      "Fold 3 Epoch 17/40: 100%|██████████| 4/4 [00:03<00:00,  1.03it/s]\n"
     ]
    },
    {
     "name": "stdout",
     "output_type": "stream",
     "text": [
      "Train Loss: 2.7729, Train Acc: 5.17%\n",
      "Val Loss: 2.7924, Val Acc: 7.14%\n"
     ]
    },
    {
     "name": "stderr",
     "output_type": "stream",
     "text": [
      "Fold 3 Epoch 18/40: 100%|██████████| 4/4 [00:03<00:00,  1.07it/s]\n"
     ]
    },
    {
     "name": "stdout",
     "output_type": "stream",
     "text": [
      "Train Loss: 2.7539, Train Acc: 8.62%\n",
      "Val Loss: 2.7543, Val Acc: 7.14%\n"
     ]
    },
    {
     "name": "stderr",
     "output_type": "stream",
     "text": [
      "Fold 3 Epoch 19/40: 100%|██████████| 4/4 [00:03<00:00,  1.03it/s]\n"
     ]
    },
    {
     "name": "stdout",
     "output_type": "stream",
     "text": [
      "Train Loss: 2.7813, Train Acc: 8.62%\n",
      "Val Loss: 2.7630, Val Acc: 7.14%\n"
     ]
    },
    {
     "name": "stderr",
     "output_type": "stream",
     "text": [
      "Fold 3 Epoch 20/40: 100%|██████████| 4/4 [00:03<00:00,  1.03it/s]\n"
     ]
    },
    {
     "name": "stdout",
     "output_type": "stream",
     "text": [
      "Train Loss: 2.7363, Train Acc: 3.45%\n",
      "Val Loss: 2.7660, Val Acc: 7.14%\n"
     ]
    },
    {
     "name": "stderr",
     "output_type": "stream",
     "text": [
      "Fold 3 Epoch 21/40: 100%|██████████| 4/4 [00:03<00:00,  1.08it/s]\n"
     ]
    },
    {
     "name": "stdout",
     "output_type": "stream",
     "text": [
      "Train Loss: 2.7484, Train Acc: 5.17%\n",
      "Val Loss: 2.7615, Val Acc: 7.14%\n"
     ]
    },
    {
     "name": "stderr",
     "output_type": "stream",
     "text": [
      "Fold 3 Epoch 22/40: 100%|██████████| 4/4 [00:03<00:00,  1.07it/s]\n"
     ]
    },
    {
     "name": "stdout",
     "output_type": "stream",
     "text": [
      "Train Loss: 2.8432, Train Acc: 0.00%\n",
      "Val Loss: 2.7517, Val Acc: 14.29%\n"
     ]
    },
    {
     "name": "stderr",
     "output_type": "stream",
     "text": [
      "Fold 3 Epoch 23/40: 100%|██████████| 4/4 [00:03<00:00,  1.10it/s]\n"
     ]
    },
    {
     "name": "stdout",
     "output_type": "stream",
     "text": [
      "Train Loss: 2.7566, Train Acc: 13.79%\n",
      "Val Loss: 2.7563, Val Acc: 14.29%\n"
     ]
    },
    {
     "name": "stderr",
     "output_type": "stream",
     "text": [
      "Fold 3 Epoch 24/40: 100%|██████████| 4/4 [00:03<00:00,  1.02it/s]\n"
     ]
    },
    {
     "name": "stdout",
     "output_type": "stream",
     "text": [
      "Train Loss: 2.6325, Train Acc: 13.79%\n",
      "Val Loss: 2.7585, Val Acc: 7.14%\n"
     ]
    },
    {
     "name": "stderr",
     "output_type": "stream",
     "text": [
      "Fold 3 Epoch 25/40: 100%|██████████| 4/4 [00:03<00:00,  1.08it/s]\n"
     ]
    },
    {
     "name": "stdout",
     "output_type": "stream",
     "text": [
      "Train Loss: 2.7437, Train Acc: 13.79%\n",
      "Val Loss: 2.7529, Val Acc: 7.14%\n"
     ]
    },
    {
     "name": "stderr",
     "output_type": "stream",
     "text": [
      "Fold 3 Epoch 26/40: 100%|██████████| 4/4 [00:03<00:00,  1.08it/s]\n"
     ]
    },
    {
     "name": "stdout",
     "output_type": "stream",
     "text": [
      "Train Loss: 2.6585, Train Acc: 8.62%\n",
      "Val Loss: 2.7523, Val Acc: 7.14%\n"
     ]
    },
    {
     "name": "stderr",
     "output_type": "stream",
     "text": [
      "Fold 3 Epoch 27/40: 100%|██████████| 4/4 [00:03<00:00,  1.06it/s]\n"
     ]
    },
    {
     "name": "stdout",
     "output_type": "stream",
     "text": [
      "Train Loss: 2.7970, Train Acc: 3.45%\n",
      "Val Loss: 2.7514, Val Acc: 7.14%\n"
     ]
    },
    {
     "name": "stderr",
     "output_type": "stream",
     "text": [
      "Fold 3 Epoch 28/40: 100%|██████████| 4/4 [00:03<00:00,  1.04it/s]\n"
     ]
    },
    {
     "name": "stdout",
     "output_type": "stream",
     "text": [
      "Train Loss: 2.6925, Train Acc: 8.62%\n",
      "Val Loss: 2.7522, Val Acc: 7.14%\n"
     ]
    },
    {
     "name": "stderr",
     "output_type": "stream",
     "text": [
      "Fold 3 Epoch 29/40: 100%|██████████| 4/4 [00:03<00:00,  1.07it/s]\n"
     ]
    },
    {
     "name": "stdout",
     "output_type": "stream",
     "text": [
      "Train Loss: 2.6664, Train Acc: 5.17%\n",
      "Val Loss: 2.7445, Val Acc: 7.14%\n"
     ]
    },
    {
     "name": "stderr",
     "output_type": "stream",
     "text": [
      "Fold 3 Epoch 30/40: 100%|██████████| 4/4 [00:03<00:00,  1.08it/s]\n"
     ]
    },
    {
     "name": "stdout",
     "output_type": "stream",
     "text": [
      "Train Loss: 2.7265, Train Acc: 3.45%\n",
      "Val Loss: 2.7395, Val Acc: 7.14%\n"
     ]
    },
    {
     "name": "stderr",
     "output_type": "stream",
     "text": [
      "Fold 3 Epoch 31/40: 100%|██████████| 4/4 [00:03<00:00,  1.04it/s]\n"
     ]
    },
    {
     "name": "stdout",
     "output_type": "stream",
     "text": [
      "Train Loss: 2.7552, Train Acc: 6.90%\n",
      "Val Loss: 2.7430, Val Acc: 7.14%\n"
     ]
    },
    {
     "name": "stderr",
     "output_type": "stream",
     "text": [
      "Fold 3 Epoch 32/40: 100%|██████████| 4/4 [00:03<00:00,  1.08it/s]\n"
     ]
    },
    {
     "name": "stdout",
     "output_type": "stream",
     "text": [
      "Train Loss: 2.6185, Train Acc: 3.45%\n",
      "Val Loss: 2.7399, Val Acc: 7.14%\n"
     ]
    },
    {
     "name": "stderr",
     "output_type": "stream",
     "text": [
      "Fold 3 Epoch 33/40: 100%|██████████| 4/4 [00:03<00:00,  1.09it/s]\n"
     ]
    },
    {
     "name": "stdout",
     "output_type": "stream",
     "text": [
      "Train Loss: 2.7526, Train Acc: 10.34%\n",
      "Val Loss: 2.7414, Val Acc: 7.14%\n"
     ]
    },
    {
     "name": "stderr",
     "output_type": "stream",
     "text": [
      "Fold 3 Epoch 34/40: 100%|██████████| 4/4 [00:03<00:00,  1.05it/s]\n"
     ]
    },
    {
     "name": "stdout",
     "output_type": "stream",
     "text": [
      "Train Loss: 2.8036, Train Acc: 5.17%\n",
      "Val Loss: 2.7345, Val Acc: 7.14%\n"
     ]
    },
    {
     "name": "stderr",
     "output_type": "stream",
     "text": [
      "Fold 3 Epoch 35/40: 100%|██████████| 4/4 [00:03<00:00,  1.05it/s]\n"
     ]
    },
    {
     "name": "stdout",
     "output_type": "stream",
     "text": [
      "Train Loss: 2.7499, Train Acc: 10.34%\n",
      "Val Loss: 2.7359, Val Acc: 7.14%\n"
     ]
    },
    {
     "name": "stderr",
     "output_type": "stream",
     "text": [
      "Fold 3 Epoch 36/40: 100%|██████████| 4/4 [00:03<00:00,  1.06it/s]\n"
     ]
    },
    {
     "name": "stdout",
     "output_type": "stream",
     "text": [
      "Train Loss: 2.7316, Train Acc: 8.62%\n",
      "Val Loss: 2.7383, Val Acc: 7.14%\n"
     ]
    },
    {
     "name": "stderr",
     "output_type": "stream",
     "text": [
      "Fold 3 Epoch 37/40: 100%|██████████| 4/4 [00:03<00:00,  1.06it/s]\n"
     ]
    },
    {
     "name": "stdout",
     "output_type": "stream",
     "text": [
      "Train Loss: 2.7327, Train Acc: 13.79%\n",
      "Val Loss: 2.7440, Val Acc: 7.14%\n"
     ]
    },
    {
     "name": "stderr",
     "output_type": "stream",
     "text": [
      "Fold 3 Epoch 38/40: 100%|██████████| 4/4 [00:03<00:00,  1.09it/s]\n"
     ]
    },
    {
     "name": "stdout",
     "output_type": "stream",
     "text": [
      "Train Loss: 2.7094, Train Acc: 10.34%\n",
      "Val Loss: 2.7358, Val Acc: 7.14%\n"
     ]
    },
    {
     "name": "stderr",
     "output_type": "stream",
     "text": [
      "Fold 3 Epoch 39/40: 100%|██████████| 4/4 [00:03<00:00,  1.11it/s]\n"
     ]
    },
    {
     "name": "stdout",
     "output_type": "stream",
     "text": [
      "Train Loss: 2.7480, Train Acc: 15.52%\n",
      "Val Loss: 2.7363, Val Acc: 7.14%\n"
     ]
    },
    {
     "name": "stderr",
     "output_type": "stream",
     "text": [
      "Fold 3 Epoch 40/40: 100%|██████████| 4/4 [00:03<00:00,  1.10it/s]\n"
     ]
    },
    {
     "name": "stdout",
     "output_type": "stream",
     "text": [
      "Train Loss: 2.6808, Train Acc: 13.79%\n",
      "Val Loss: 2.7355, Val Acc: 7.14%\n",
      "\n",
      "📂 Fold 4/5\n"
     ]
    },
    {
     "name": "stderr",
     "output_type": "stream",
     "text": [
      "Fold 4 Epoch 1/40: 100%|██████████| 4/4 [00:03<00:00,  1.09it/s]\n"
     ]
    },
    {
     "name": "stdout",
     "output_type": "stream",
     "text": [
      "Train Loss: 5.2601, Train Acc: 1.72%\n",
      "Val Loss: 5.1718, Val Acc: 0.00%\n"
     ]
    },
    {
     "name": "stderr",
     "output_type": "stream",
     "text": [
      "Fold 4 Epoch 2/40: 100%|██████████| 4/4 [00:03<00:00,  1.17it/s]\n"
     ]
    },
    {
     "name": "stdout",
     "output_type": "stream",
     "text": [
      "Train Loss: 5.1101, Train Acc: 5.17%\n",
      "Val Loss: 5.0734, Val Acc: 0.00%\n"
     ]
    },
    {
     "name": "stderr",
     "output_type": "stream",
     "text": [
      "Fold 4 Epoch 3/40: 100%|██████████| 4/4 [00:03<00:00,  1.11it/s]\n"
     ]
    },
    {
     "name": "stdout",
     "output_type": "stream",
     "text": [
      "Train Loss: 4.8857, Train Acc: 6.90%\n",
      "Val Loss: 4.8769, Val Acc: 0.00%\n"
     ]
    },
    {
     "name": "stderr",
     "output_type": "stream",
     "text": [
      "Fold 4 Epoch 4/40: 100%|██████████| 4/4 [00:03<00:00,  1.13it/s]\n"
     ]
    },
    {
     "name": "stdout",
     "output_type": "stream",
     "text": [
      "Train Loss: 4.5558, Train Acc: 17.24%\n",
      "Val Loss: 4.6353, Val Acc: 0.00%\n"
     ]
    },
    {
     "name": "stderr",
     "output_type": "stream",
     "text": [
      "Fold 4 Epoch 5/40: 100%|██████████| 4/4 [00:03<00:00,  1.06it/s]\n"
     ]
    },
    {
     "name": "stdout",
     "output_type": "stream",
     "text": [
      "Train Loss: 4.2156, Train Acc: 12.07%\n",
      "Val Loss: 4.3030, Val Acc: 0.00%\n"
     ]
    },
    {
     "name": "stderr",
     "output_type": "stream",
     "text": [
      "Fold 4 Epoch 6/40: 100%|██████████| 4/4 [00:03<00:00,  1.11it/s]\n"
     ]
    },
    {
     "name": "stdout",
     "output_type": "stream",
     "text": [
      "Train Loss: 3.8876, Train Acc: 17.24%\n",
      "Val Loss: 4.0325, Val Acc: 0.00%\n"
     ]
    },
    {
     "name": "stderr",
     "output_type": "stream",
     "text": [
      "Fold 4 Epoch 7/40: 100%|██████████| 4/4 [00:03<00:00,  1.17it/s]\n"
     ]
    },
    {
     "name": "stdout",
     "output_type": "stream",
     "text": [
      "Train Loss: 3.5370, Train Acc: 13.79%\n",
      "Val Loss: 3.8368, Val Acc: 0.00%\n"
     ]
    },
    {
     "name": "stderr",
     "output_type": "stream",
     "text": [
      "Fold 4 Epoch 8/40: 100%|██████████| 4/4 [00:03<00:00,  1.07it/s]\n"
     ]
    },
    {
     "name": "stdout",
     "output_type": "stream",
     "text": [
      "Train Loss: 3.1974, Train Acc: 13.79%\n",
      "Val Loss: 3.6335, Val Acc: 0.00%\n"
     ]
    },
    {
     "name": "stderr",
     "output_type": "stream",
     "text": [
      "Fold 4 Epoch 9/40: 100%|██████████| 4/4 [00:03<00:00,  1.01it/s]\n"
     ]
    },
    {
     "name": "stdout",
     "output_type": "stream",
     "text": [
      "Train Loss: 3.1480, Train Acc: 12.07%\n",
      "Val Loss: 3.5929, Val Acc: 0.00%\n"
     ]
    },
    {
     "name": "stderr",
     "output_type": "stream",
     "text": [
      "Fold 4 Epoch 10/40: 100%|██████████| 4/4 [00:03<00:00,  1.11it/s]\n"
     ]
    },
    {
     "name": "stdout",
     "output_type": "stream",
     "text": [
      "Train Loss: 3.0126, Train Acc: 8.62%\n",
      "Val Loss: 3.2845, Val Acc: 0.00%\n"
     ]
    },
    {
     "name": "stderr",
     "output_type": "stream",
     "text": [
      "Fold 4 Epoch 11/40: 100%|██████████| 4/4 [00:03<00:00,  1.04it/s]\n"
     ]
    },
    {
     "name": "stdout",
     "output_type": "stream",
     "text": [
      "Train Loss: 2.8959, Train Acc: 15.52%\n",
      "Val Loss: 3.2511, Val Acc: 14.29%\n"
     ]
    },
    {
     "name": "stderr",
     "output_type": "stream",
     "text": [
      "Fold 4 Epoch 12/40: 100%|██████████| 4/4 [00:04<00:00,  1.01s/it]\n"
     ]
    },
    {
     "name": "stdout",
     "output_type": "stream",
     "text": [
      "Train Loss: 2.7028, Train Acc: 15.52%\n",
      "Val Loss: 3.0865, Val Acc: 14.29%\n"
     ]
    },
    {
     "name": "stderr",
     "output_type": "stream",
     "text": [
      "Fold 4 Epoch 13/40: 100%|██████████| 4/4 [00:03<00:00,  1.06it/s]\n"
     ]
    },
    {
     "name": "stdout",
     "output_type": "stream",
     "text": [
      "Train Loss: 2.7214, Train Acc: 8.62%\n",
      "Val Loss: 3.0535, Val Acc: 0.00%\n"
     ]
    },
    {
     "name": "stderr",
     "output_type": "stream",
     "text": [
      "Fold 4 Epoch 14/40: 100%|██████████| 4/4 [00:03<00:00,  1.08it/s]\n"
     ]
    },
    {
     "name": "stdout",
     "output_type": "stream",
     "text": [
      "Train Loss: 2.7226, Train Acc: 12.07%\n",
      "Val Loss: 3.0469, Val Acc: 0.00%\n"
     ]
    },
    {
     "name": "stderr",
     "output_type": "stream",
     "text": [
      "Fold 4 Epoch 15/40: 100%|██████████| 4/4 [00:03<00:00,  1.08it/s]\n"
     ]
    },
    {
     "name": "stdout",
     "output_type": "stream",
     "text": [
      "Train Loss: 2.6019, Train Acc: 13.79%\n",
      "Val Loss: 3.0301, Val Acc: 0.00%\n"
     ]
    },
    {
     "name": "stderr",
     "output_type": "stream",
     "text": [
      "Fold 4 Epoch 16/40: 100%|██████████| 4/4 [00:03<00:00,  1.03it/s]\n"
     ]
    },
    {
     "name": "stdout",
     "output_type": "stream",
     "text": [
      "Train Loss: 2.6582, Train Acc: 15.52%\n",
      "Val Loss: 3.0048, Val Acc: 0.00%\n"
     ]
    },
    {
     "name": "stderr",
     "output_type": "stream",
     "text": [
      "Fold 4 Epoch 17/40: 100%|██████████| 4/4 [00:03<00:00,  1.08it/s]\n"
     ]
    },
    {
     "name": "stdout",
     "output_type": "stream",
     "text": [
      "Train Loss: 2.7443, Train Acc: 12.07%\n",
      "Val Loss: 2.9635, Val Acc: 0.00%\n"
     ]
    },
    {
     "name": "stderr",
     "output_type": "stream",
     "text": [
      "Fold 4 Epoch 18/40: 100%|██████████| 4/4 [00:03<00:00,  1.10it/s]\n"
     ]
    },
    {
     "name": "stdout",
     "output_type": "stream",
     "text": [
      "Train Loss: 2.7971, Train Acc: 8.62%\n",
      "Val Loss: 2.9326, Val Acc: 0.00%\n"
     ]
    },
    {
     "name": "stderr",
     "output_type": "stream",
     "text": [
      "Fold 4 Epoch 19/40: 100%|██████████| 4/4 [00:03<00:00,  1.05it/s]\n"
     ]
    },
    {
     "name": "stdout",
     "output_type": "stream",
     "text": [
      "Train Loss: 2.6114, Train Acc: 17.24%\n",
      "Val Loss: 2.9066, Val Acc: 0.00%\n"
     ]
    },
    {
     "name": "stderr",
     "output_type": "stream",
     "text": [
      "Fold 4 Epoch 20/40: 100%|██████████| 4/4 [00:03<00:00,  1.10it/s]\n"
     ]
    },
    {
     "name": "stdout",
     "output_type": "stream",
     "text": [
      "Train Loss: 2.5991, Train Acc: 12.07%\n",
      "Val Loss: 2.8811, Val Acc: 0.00%\n"
     ]
    },
    {
     "name": "stderr",
     "output_type": "stream",
     "text": [
      "Fold 4 Epoch 21/40: 100%|██████████| 4/4 [00:03<00:00,  1.11it/s]\n"
     ]
    },
    {
     "name": "stdout",
     "output_type": "stream",
     "text": [
      "Train Loss: 2.7610, Train Acc: 8.62%\n",
      "Val Loss: 2.8454, Val Acc: 0.00%\n"
     ]
    },
    {
     "name": "stderr",
     "output_type": "stream",
     "text": [
      "Fold 4 Epoch 22/40: 100%|██████████| 4/4 [00:03<00:00,  1.10it/s]\n"
     ]
    },
    {
     "name": "stdout",
     "output_type": "stream",
     "text": [
      "Train Loss: 2.6945, Train Acc: 15.52%\n",
      "Val Loss: 2.8610, Val Acc: 0.00%\n"
     ]
    },
    {
     "name": "stderr",
     "output_type": "stream",
     "text": [
      "Fold 4 Epoch 23/40: 100%|██████████| 4/4 [00:04<00:00,  1.00s/it]\n"
     ]
    },
    {
     "name": "stdout",
     "output_type": "stream",
     "text": [
      "Train Loss: 2.6452, Train Acc: 10.34%\n",
      "Val Loss: 2.8736, Val Acc: 0.00%\n"
     ]
    },
    {
     "name": "stderr",
     "output_type": "stream",
     "text": [
      "Fold 4 Epoch 24/40: 100%|██████████| 4/4 [00:03<00:00,  1.10it/s]\n"
     ]
    },
    {
     "name": "stdout",
     "output_type": "stream",
     "text": [
      "Train Loss: 2.7116, Train Acc: 15.52%\n",
      "Val Loss: 2.9105, Val Acc: 0.00%\n"
     ]
    },
    {
     "name": "stderr",
     "output_type": "stream",
     "text": [
      "Fold 4 Epoch 25/40: 100%|██████████| 4/4 [00:03<00:00,  1.10it/s]\n"
     ]
    },
    {
     "name": "stdout",
     "output_type": "stream",
     "text": [
      "Train Loss: 2.8284, Train Acc: 5.17%\n",
      "Val Loss: 2.9074, Val Acc: 0.00%\n"
     ]
    },
    {
     "name": "stderr",
     "output_type": "stream",
     "text": [
      "Fold 4 Epoch 26/40: 100%|██████████| 4/4 [00:03<00:00,  1.05it/s]\n"
     ]
    },
    {
     "name": "stdout",
     "output_type": "stream",
     "text": [
      "Train Loss: 2.7167, Train Acc: 13.79%\n",
      "Val Loss: 2.8931, Val Acc: 0.00%\n"
     ]
    },
    {
     "name": "stderr",
     "output_type": "stream",
     "text": [
      "Fold 4 Epoch 27/40: 100%|██████████| 4/4 [00:03<00:00,  1.15it/s]\n"
     ]
    },
    {
     "name": "stdout",
     "output_type": "stream",
     "text": [
      "Train Loss: 2.6420, Train Acc: 10.34%\n",
      "Val Loss: 2.8859, Val Acc: 0.00%\n"
     ]
    },
    {
     "name": "stderr",
     "output_type": "stream",
     "text": [
      "Fold 4 Epoch 28/40: 100%|██████████| 4/4 [00:03<00:00,  1.15it/s]\n"
     ]
    },
    {
     "name": "stdout",
     "output_type": "stream",
     "text": [
      "Train Loss: 2.7818, Train Acc: 6.90%\n",
      "Val Loss: 2.8805, Val Acc: 0.00%\n"
     ]
    },
    {
     "name": "stderr",
     "output_type": "stream",
     "text": [
      "Fold 4 Epoch 29/40: 100%|██████████| 4/4 [00:03<00:00,  1.14it/s]\n"
     ]
    },
    {
     "name": "stdout",
     "output_type": "stream",
     "text": [
      "Train Loss: 2.7044, Train Acc: 12.07%\n",
      "Val Loss: 2.8671, Val Acc: 0.00%\n"
     ]
    },
    {
     "name": "stderr",
     "output_type": "stream",
     "text": [
      "Fold 4 Epoch 30/40: 100%|██████████| 4/4 [00:03<00:00,  1.12it/s]\n"
     ]
    },
    {
     "name": "stdout",
     "output_type": "stream",
     "text": [
      "Train Loss: 2.7040, Train Acc: 5.17%\n",
      "Val Loss: 2.8636, Val Acc: 0.00%\n"
     ]
    },
    {
     "name": "stderr",
     "output_type": "stream",
     "text": [
      "Fold 4 Epoch 31/40: 100%|██████████| 4/4 [00:03<00:00,  1.14it/s]\n"
     ]
    },
    {
     "name": "stdout",
     "output_type": "stream",
     "text": [
      "Train Loss: 2.7242, Train Acc: 8.62%\n",
      "Val Loss: 2.8678, Val Acc: 0.00%\n"
     ]
    },
    {
     "name": "stderr",
     "output_type": "stream",
     "text": [
      "Fold 4 Epoch 32/40: 100%|██████████| 4/4 [00:03<00:00,  1.10it/s]\n"
     ]
    },
    {
     "name": "stdout",
     "output_type": "stream",
     "text": [
      "Train Loss: 2.5987, Train Acc: 12.07%\n",
      "Val Loss: 2.8761, Val Acc: 0.00%\n"
     ]
    },
    {
     "name": "stderr",
     "output_type": "stream",
     "text": [
      "Fold 4 Epoch 33/40: 100%|██████████| 4/4 [00:03<00:00,  1.10it/s]\n"
     ]
    },
    {
     "name": "stdout",
     "output_type": "stream",
     "text": [
      "Train Loss: 2.6740, Train Acc: 17.24%\n",
      "Val Loss: 2.8762, Val Acc: 0.00%\n"
     ]
    },
    {
     "name": "stderr",
     "output_type": "stream",
     "text": [
      "Fold 4 Epoch 34/40: 100%|██████████| 4/4 [00:03<00:00,  1.07it/s]\n"
     ]
    },
    {
     "name": "stdout",
     "output_type": "stream",
     "text": [
      "Train Loss: 2.6008, Train Acc: 10.34%\n",
      "Val Loss: 2.8800, Val Acc: 0.00%\n"
     ]
    },
    {
     "name": "stderr",
     "output_type": "stream",
     "text": [
      "Fold 4 Epoch 35/40: 100%|██████████| 4/4 [00:03<00:00,  1.09it/s]\n"
     ]
    },
    {
     "name": "stdout",
     "output_type": "stream",
     "text": [
      "Train Loss: 2.5670, Train Acc: 17.24%\n",
      "Val Loss: 2.8824, Val Acc: 0.00%\n"
     ]
    },
    {
     "name": "stderr",
     "output_type": "stream",
     "text": [
      "Fold 4 Epoch 36/40: 100%|██████████| 4/4 [00:03<00:00,  1.11it/s]\n"
     ]
    },
    {
     "name": "stdout",
     "output_type": "stream",
     "text": [
      "Train Loss: 2.5736, Train Acc: 15.52%\n",
      "Val Loss: 2.8819, Val Acc: 0.00%\n"
     ]
    },
    {
     "name": "stderr",
     "output_type": "stream",
     "text": [
      "Fold 4 Epoch 37/40: 100%|██████████| 4/4 [00:03<00:00,  1.06it/s]\n"
     ]
    },
    {
     "name": "stdout",
     "output_type": "stream",
     "text": [
      "Train Loss: 2.5219, Train Acc: 15.52%\n",
      "Val Loss: 2.8880, Val Acc: 0.00%\n"
     ]
    },
    {
     "name": "stderr",
     "output_type": "stream",
     "text": [
      "Fold 4 Epoch 38/40: 100%|██████████| 4/4 [00:03<00:00,  1.11it/s]\n"
     ]
    },
    {
     "name": "stdout",
     "output_type": "stream",
     "text": [
      "Train Loss: 2.7069, Train Acc: 8.62%\n",
      "Val Loss: 2.8879, Val Acc: 0.00%\n"
     ]
    },
    {
     "name": "stderr",
     "output_type": "stream",
     "text": [
      "Fold 4 Epoch 39/40: 100%|██████████| 4/4 [00:03<00:00,  1.10it/s]\n"
     ]
    },
    {
     "name": "stdout",
     "output_type": "stream",
     "text": [
      "Train Loss: 2.7774, Train Acc: 5.17%\n",
      "Val Loss: 2.8883, Val Acc: 0.00%\n"
     ]
    },
    {
     "name": "stderr",
     "output_type": "stream",
     "text": [
      "Fold 4 Epoch 40/40: 100%|██████████| 4/4 [00:03<00:00,  1.12it/s]\n"
     ]
    },
    {
     "name": "stdout",
     "output_type": "stream",
     "text": [
      "Train Loss: 2.7145, Train Acc: 13.79%\n",
      "Val Loss: 2.8879, Val Acc: 0.00%\n",
      "\n",
      "📂 Fold 5/5\n"
     ]
    },
    {
     "name": "stderr",
     "output_type": "stream",
     "text": [
      "Fold 5 Epoch 1/40: 100%|██████████| 4/4 [00:04<00:00,  1.04s/it]\n"
     ]
    },
    {
     "name": "stdout",
     "output_type": "stream",
     "text": [
      "Train Loss: 5.2532, Train Acc: 1.72%\n",
      "Val Loss: 5.1251, Val Acc: 14.29%\n"
     ]
    },
    {
     "name": "stderr",
     "output_type": "stream",
     "text": [
      "Fold 5 Epoch 2/40: 100%|██████████| 4/4 [00:04<00:00,  1.13s/it]\n"
     ]
    },
    {
     "name": "stdout",
     "output_type": "stream",
     "text": [
      "Train Loss: 5.0850, Train Acc: 8.62%\n",
      "Val Loss: 4.9698, Val Acc: 14.29%\n"
     ]
    },
    {
     "name": "stderr",
     "output_type": "stream",
     "text": [
      "Fold 5 Epoch 3/40: 100%|██████████| 4/4 [00:04<00:00,  1.03s/it]\n"
     ]
    },
    {
     "name": "stdout",
     "output_type": "stream",
     "text": [
      "Train Loss: 4.8600, Train Acc: 8.62%\n",
      "Val Loss: 4.7554, Val Acc: 14.29%\n"
     ]
    },
    {
     "name": "stderr",
     "output_type": "stream",
     "text": [
      "Fold 5 Epoch 4/40: 100%|██████████| 4/4 [00:03<00:00,  1.01it/s]\n"
     ]
    },
    {
     "name": "stdout",
     "output_type": "stream",
     "text": [
      "Train Loss: 4.5434, Train Acc: 6.90%\n",
      "Val Loss: 4.4441, Val Acc: 14.29%\n"
     ]
    },
    {
     "name": "stderr",
     "output_type": "stream",
     "text": [
      "Fold 5 Epoch 5/40: 100%|██████████| 4/4 [00:04<00:00,  1.07s/it]\n"
     ]
    },
    {
     "name": "stdout",
     "output_type": "stream",
     "text": [
      "Train Loss: 4.1546, Train Acc: 15.52%\n",
      "Val Loss: 3.9707, Val Acc: 14.29%\n"
     ]
    },
    {
     "name": "stderr",
     "output_type": "stream",
     "text": [
      "Fold 5 Epoch 6/40: 100%|██████████| 4/4 [00:04<00:00,  1.17s/it]\n"
     ]
    },
    {
     "name": "stdout",
     "output_type": "stream",
     "text": [
      "Train Loss: 3.8877, Train Acc: 10.34%\n",
      "Val Loss: 3.6838, Val Acc: 14.29%\n"
     ]
    },
    {
     "name": "stderr",
     "output_type": "stream",
     "text": [
      "Fold 5 Epoch 7/40: 100%|██████████| 4/4 [00:04<00:00,  1.16s/it]\n"
     ]
    },
    {
     "name": "stdout",
     "output_type": "stream",
     "text": [
      "Train Loss: 3.4741, Train Acc: 10.34%\n",
      "Val Loss: 3.2704, Val Acc: 7.14%\n"
     ]
    },
    {
     "name": "stderr",
     "output_type": "stream",
     "text": [
      "Fold 5 Epoch 8/40: 100%|██████████| 4/4 [00:04<00:00,  1.06s/it]\n"
     ]
    },
    {
     "name": "stdout",
     "output_type": "stream",
     "text": [
      "Train Loss: 3.2603, Train Acc: 8.62%\n",
      "Val Loss: 3.2103, Val Acc: 7.14%\n"
     ]
    },
    {
     "name": "stderr",
     "output_type": "stream",
     "text": [
      "Fold 5 Epoch 9/40: 100%|██████████| 4/4 [00:04<00:00,  1.05s/it]\n"
     ]
    },
    {
     "name": "stdout",
     "output_type": "stream",
     "text": [
      "Train Loss: 3.0089, Train Acc: 10.34%\n",
      "Val Loss: 3.0362, Val Acc: 7.14%\n"
     ]
    },
    {
     "name": "stderr",
     "output_type": "stream",
     "text": [
      "Fold 5 Epoch 10/40: 100%|██████████| 4/4 [00:04<00:00,  1.07s/it]\n"
     ]
    },
    {
     "name": "stdout",
     "output_type": "stream",
     "text": [
      "Train Loss: 3.0230, Train Acc: 10.34%\n",
      "Val Loss: 2.9482, Val Acc: 7.14%\n"
     ]
    },
    {
     "name": "stderr",
     "output_type": "stream",
     "text": [
      "Fold 5 Epoch 11/40: 100%|██████████| 4/4 [00:04<00:00,  1.04s/it]\n"
     ]
    },
    {
     "name": "stdout",
     "output_type": "stream",
     "text": [
      "Train Loss: 2.8574, Train Acc: 8.62%\n",
      "Val Loss: 2.9271, Val Acc: 7.14%\n"
     ]
    },
    {
     "name": "stderr",
     "output_type": "stream",
     "text": [
      "Fold 5 Epoch 12/40: 100%|██████████| 4/4 [00:04<00:00,  1.05s/it]\n"
     ]
    },
    {
     "name": "stdout",
     "output_type": "stream",
     "text": [
      "Train Loss: 2.8315, Train Acc: 10.34%\n",
      "Val Loss: 2.8704, Val Acc: 7.14%\n"
     ]
    },
    {
     "name": "stderr",
     "output_type": "stream",
     "text": [
      "Fold 5 Epoch 13/40: 100%|██████████| 4/4 [00:04<00:00,  1.08s/it]\n"
     ]
    },
    {
     "name": "stdout",
     "output_type": "stream",
     "text": [
      "Train Loss: 2.8683, Train Acc: 6.90%\n",
      "Val Loss: 2.8429, Val Acc: 7.14%\n"
     ]
    },
    {
     "name": "stderr",
     "output_type": "stream",
     "text": [
      "Fold 5 Epoch 14/40: 100%|██████████| 4/4 [00:04<00:00,  1.05s/it]\n"
     ]
    },
    {
     "name": "stdout",
     "output_type": "stream",
     "text": [
      "Train Loss: 2.7680, Train Acc: 5.17%\n",
      "Val Loss: 2.8265, Val Acc: 7.14%\n"
     ]
    },
    {
     "name": "stderr",
     "output_type": "stream",
     "text": [
      "Fold 5 Epoch 15/40: 100%|██████████| 4/4 [00:04<00:00,  1.04s/it]\n"
     ]
    },
    {
     "name": "stdout",
     "output_type": "stream",
     "text": [
      "Train Loss: 2.8232, Train Acc: 3.45%\n",
      "Val Loss: 2.8047, Val Acc: 7.14%\n"
     ]
    },
    {
     "name": "stderr",
     "output_type": "stream",
     "text": [
      "Fold 5 Epoch 16/40: 100%|██████████| 4/4 [00:04<00:00,  1.08s/it]\n"
     ]
    },
    {
     "name": "stdout",
     "output_type": "stream",
     "text": [
      "Train Loss: 2.7933, Train Acc: 5.17%\n",
      "Val Loss: 2.7659, Val Acc: 7.14%\n"
     ]
    },
    {
     "name": "stderr",
     "output_type": "stream",
     "text": [
      "Fold 5 Epoch 17/40: 100%|██████████| 4/4 [00:04<00:00,  1.04s/it]\n"
     ]
    },
    {
     "name": "stdout",
     "output_type": "stream",
     "text": [
      "Train Loss: 2.6913, Train Acc: 10.34%\n",
      "Val Loss: 2.7186, Val Acc: 7.14%\n"
     ]
    },
    {
     "name": "stderr",
     "output_type": "stream",
     "text": [
      "Fold 5 Epoch 18/40: 100%|██████████| 4/4 [00:04<00:00,  1.04s/it]\n"
     ]
    },
    {
     "name": "stdout",
     "output_type": "stream",
     "text": [
      "Train Loss: 2.7847, Train Acc: 6.90%\n",
      "Val Loss: 2.6985, Val Acc: 7.14%\n"
     ]
    },
    {
     "name": "stderr",
     "output_type": "stream",
     "text": [
      "Fold 5 Epoch 19/40: 100%|██████████| 4/4 [00:04<00:00,  1.09s/it]\n"
     ]
    },
    {
     "name": "stdout",
     "output_type": "stream",
     "text": [
      "Train Loss: 2.6317, Train Acc: 12.07%\n",
      "Val Loss: 2.6737, Val Acc: 7.14%\n"
     ]
    },
    {
     "name": "stderr",
     "output_type": "stream",
     "text": [
      "Fold 5 Epoch 20/40: 100%|██████████| 4/4 [00:04<00:00,  1.05s/it]\n"
     ]
    },
    {
     "name": "stdout",
     "output_type": "stream",
     "text": [
      "Train Loss: 2.6684, Train Acc: 13.79%\n",
      "Val Loss: 2.6680, Val Acc: 7.14%\n"
     ]
    },
    {
     "name": "stderr",
     "output_type": "stream",
     "text": [
      "Fold 5 Epoch 21/40: 100%|██████████| 4/4 [00:03<00:00,  1.00it/s]\n"
     ]
    },
    {
     "name": "stdout",
     "output_type": "stream",
     "text": [
      "Train Loss: 2.6933, Train Acc: 8.62%\n",
      "Val Loss: 2.6707, Val Acc: 7.14%\n"
     ]
    },
    {
     "name": "stderr",
     "output_type": "stream",
     "text": [
      "Fold 5 Epoch 22/40: 100%|██████████| 4/4 [00:04<00:00,  1.03s/it]\n"
     ]
    },
    {
     "name": "stdout",
     "output_type": "stream",
     "text": [
      "Train Loss: 2.6638, Train Acc: 12.07%\n",
      "Val Loss: 2.6740, Val Acc: 7.14%\n"
     ]
    },
    {
     "name": "stderr",
     "output_type": "stream",
     "text": [
      "Fold 5 Epoch 23/40: 100%|██████████| 4/4 [00:03<00:00,  1.00it/s]\n"
     ]
    },
    {
     "name": "stdout",
     "output_type": "stream",
     "text": [
      "Train Loss: 2.7765, Train Acc: 8.62%\n",
      "Val Loss: 2.7028, Val Acc: 7.14%\n"
     ]
    },
    {
     "name": "stderr",
     "output_type": "stream",
     "text": [
      "Fold 5 Epoch 24/40: 100%|██████████| 4/4 [00:04<00:00,  1.00s/it]\n"
     ]
    },
    {
     "name": "stdout",
     "output_type": "stream",
     "text": [
      "Train Loss: 2.7051, Train Acc: 15.52%\n",
      "Val Loss: 2.7129, Val Acc: 7.14%\n"
     ]
    },
    {
     "name": "stderr",
     "output_type": "stream",
     "text": [
      "Fold 5 Epoch 25/40: 100%|██████████| 4/4 [00:04<00:00,  1.04s/it]\n"
     ]
    },
    {
     "name": "stdout",
     "output_type": "stream",
     "text": [
      "Train Loss: 2.6968, Train Acc: 13.79%\n",
      "Val Loss: 2.7257, Val Acc: 7.14%\n"
     ]
    },
    {
     "name": "stderr",
     "output_type": "stream",
     "text": [
      "Fold 5 Epoch 26/40: 100%|██████████| 4/4 [00:04<00:00,  1.03s/it]\n"
     ]
    },
    {
     "name": "stdout",
     "output_type": "stream",
     "text": [
      "Train Loss: 2.7881, Train Acc: 8.62%\n",
      "Val Loss: 2.7354, Val Acc: 14.29%\n"
     ]
    },
    {
     "name": "stderr",
     "output_type": "stream",
     "text": [
      "Fold 5 Epoch 27/40: 100%|██████████| 4/4 [00:03<00:00,  1.01it/s]\n"
     ]
    },
    {
     "name": "stdout",
     "output_type": "stream",
     "text": [
      "Train Loss: 2.6474, Train Acc: 15.52%\n",
      "Val Loss: 2.7348, Val Acc: 14.29%\n"
     ]
    },
    {
     "name": "stderr",
     "output_type": "stream",
     "text": [
      "Fold 5 Epoch 28/40: 100%|██████████| 4/4 [00:03<00:00,  1.02it/s]\n"
     ]
    },
    {
     "name": "stdout",
     "output_type": "stream",
     "text": [
      "Train Loss: 2.7852, Train Acc: 12.07%\n",
      "Val Loss: 2.7244, Val Acc: 7.14%\n"
     ]
    },
    {
     "name": "stderr",
     "output_type": "stream",
     "text": [
      "Fold 5 Epoch 29/40: 100%|██████████| 4/4 [00:04<00:00,  1.03s/it]\n"
     ]
    },
    {
     "name": "stdout",
     "output_type": "stream",
     "text": [
      "Train Loss: 2.8850, Train Acc: 6.90%\n",
      "Val Loss: 2.7249, Val Acc: 7.14%\n"
     ]
    },
    {
     "name": "stderr",
     "output_type": "stream",
     "text": [
      "Fold 5 Epoch 30/40: 100%|██████████| 4/4 [00:03<00:00,  1.01it/s]\n"
     ]
    },
    {
     "name": "stdout",
     "output_type": "stream",
     "text": [
      "Train Loss: 2.8219, Train Acc: 5.17%\n",
      "Val Loss: 2.7206, Val Acc: 7.14%\n"
     ]
    },
    {
     "name": "stderr",
     "output_type": "stream",
     "text": [
      "Fold 5 Epoch 31/40: 100%|██████████| 4/4 [00:03<00:00,  1.01it/s]\n"
     ]
    },
    {
     "name": "stdout",
     "output_type": "stream",
     "text": [
      "Train Loss: 2.7328, Train Acc: 10.34%\n",
      "Val Loss: 2.7181, Val Acc: 7.14%\n"
     ]
    },
    {
     "name": "stderr",
     "output_type": "stream",
     "text": [
      "Fold 5 Epoch 32/40: 100%|██████████| 4/4 [00:04<00:00,  1.02s/it]\n"
     ]
    },
    {
     "name": "stdout",
     "output_type": "stream",
     "text": [
      "Train Loss: 2.7373, Train Acc: 17.24%\n",
      "Val Loss: 2.7101, Val Acc: 7.14%\n"
     ]
    },
    {
     "name": "stderr",
     "output_type": "stream",
     "text": [
      "Fold 5 Epoch 33/40: 100%|██████████| 4/4 [00:03<00:00,  1.02it/s]\n"
     ]
    },
    {
     "name": "stdout",
     "output_type": "stream",
     "text": [
      "Train Loss: 2.8314, Train Acc: 6.90%\n",
      "Val Loss: 2.7015, Val Acc: 7.14%\n"
     ]
    },
    {
     "name": "stderr",
     "output_type": "stream",
     "text": [
      "Fold 5 Epoch 34/40: 100%|██████████| 4/4 [00:03<00:00,  1.02it/s]\n"
     ]
    },
    {
     "name": "stdout",
     "output_type": "stream",
     "text": [
      "Train Loss: 2.6289, Train Acc: 6.90%\n",
      "Val Loss: 2.7057, Val Acc: 7.14%\n"
     ]
    },
    {
     "name": "stderr",
     "output_type": "stream",
     "text": [
      "Fold 5 Epoch 35/40: 100%|██████████| 4/4 [00:04<00:00,  1.00s/it]\n"
     ]
    },
    {
     "name": "stdout",
     "output_type": "stream",
     "text": [
      "Train Loss: 2.7026, Train Acc: 6.90%\n",
      "Val Loss: 2.7039, Val Acc: 7.14%\n"
     ]
    },
    {
     "name": "stderr",
     "output_type": "stream",
     "text": [
      "Fold 5 Epoch 36/40: 100%|██████████| 4/4 [00:04<00:00,  1.02s/it]\n"
     ]
    },
    {
     "name": "stdout",
     "output_type": "stream",
     "text": [
      "Train Loss: 2.7019, Train Acc: 12.07%\n",
      "Val Loss: 2.7048, Val Acc: 7.14%\n"
     ]
    },
    {
     "name": "stderr",
     "output_type": "stream",
     "text": [
      "Fold 5 Epoch 37/40: 100%|██████████| 4/4 [00:03<00:00,  1.00it/s]\n"
     ]
    },
    {
     "name": "stdout",
     "output_type": "stream",
     "text": [
      "Train Loss: 2.8291, Train Acc: 10.34%\n",
      "Val Loss: 2.7005, Val Acc: 7.14%\n"
     ]
    },
    {
     "name": "stderr",
     "output_type": "stream",
     "text": [
      "Fold 5 Epoch 38/40: 100%|██████████| 4/4 [00:03<00:00,  1.03it/s]\n"
     ]
    },
    {
     "name": "stdout",
     "output_type": "stream",
     "text": [
      "Train Loss: 2.6595, Train Acc: 8.62%\n",
      "Val Loss: 2.7050, Val Acc: 7.14%\n"
     ]
    },
    {
     "name": "stderr",
     "output_type": "stream",
     "text": [
      "Fold 5 Epoch 39/40: 100%|██████████| 4/4 [00:04<00:00,  1.05s/it]\n"
     ]
    },
    {
     "name": "stdout",
     "output_type": "stream",
     "text": [
      "Train Loss: 2.7370, Train Acc: 10.34%\n",
      "Val Loss: 2.7017, Val Acc: 7.14%\n"
     ]
    },
    {
     "name": "stderr",
     "output_type": "stream",
     "text": [
      "Fold 5 Epoch 40/40: 100%|██████████| 4/4 [00:03<00:00,  1.01it/s]\n"
     ]
    },
    {
     "name": "stdout",
     "output_type": "stream",
     "text": [
      "Train Loss: 2.6931, Train Acc: 24.14%\n",
      "Val Loss: 2.7024, Val Acc: 7.14%\n",
      "✅ Finished refined YAMNet training with BiLSTM on Xeno-Canto dataset!\n"
     ]
    }
   ],
   "source": [
    "import os\n",
    "import numpy as np\n",
    "import torch\n",
    "import torch.nn as nn\n",
    "import torch.optim as optim\n",
    "from torch.utils.data import DataLoader, Subset, Dataset\n",
    "from sklearn.model_selection import KFold\n",
    "import torchaudio\n",
    "from tqdm import tqdm\n",
    "import tensorflow_hub as hub\n",
    "\n",
    "# -----------------------------\n",
    "# Config\n",
    "# -----------------------------\n",
    "data_dir = \"XENO_OOF/train_val\"\n",
    "num_classes = 200\n",
    "batch_size = 16\n",
    "num_epochs = 40\n",
    "k_folds = 5\n",
    "device = torch.device(\"cuda\" if torch.cuda.is_available() else \"cpu\")\n",
    "\n",
    "# -----------------------------\n",
    "# Dataset (safe, no TF Hub here)\n",
    "# -----------------------------\n",
    "class BirdAudioDataset(Dataset):\n",
    "    def __init__(self, root, max_len=16000*5, augment=False):\n",
    "        self.samples = []\n",
    "        self.max_len = max_len\n",
    "        self.augment = augment\n",
    "        self.class_to_idx = {cls_name: i for i, cls_name in enumerate(sorted(os.listdir(root)))}\n",
    "        for cls_name, idx in self.class_to_idx.items():\n",
    "            cls_folder = os.path.join(root, cls_name)\n",
    "            for f in os.listdir(cls_folder):\n",
    "                if f.endswith(\".wav\"):\n",
    "                    self.samples.append((os.path.join(cls_folder, f), idx))\n",
    "\n",
    "    def __len__(self):\n",
    "        return len(self.samples)\n",
    "\n",
    "    def __getitem__(self, idx):\n",
    "        path, label = self.samples[idx]\n",
    "        waveform, sr = torchaudio.load(path)\n",
    "        waveform = torchaudio.transforms.Resample(sr, 16000)(waveform)\n",
    "        if waveform.shape[0] > 1:\n",
    "            waveform = waveform.mean(dim=0, keepdim=True)  # mono\n",
    "\n",
    "        # Pad or truncate\n",
    "        if waveform.shape[1] < self.max_len:\n",
    "            pad = self.max_len - waveform.shape[1]\n",
    "            waveform = torch.nn.functional.pad(waveform, (0, pad))\n",
    "        else:\n",
    "            waveform = waveform[:, :self.max_len]\n",
    "\n",
    "        # Augmentation\n",
    "        if self.augment:\n",
    "            waveform = torchaudio.transforms.FrequencyMasking(freq_mask_param=15)(waveform)\n",
    "            waveform = torchaudio.transforms.TimeMasking(time_mask_param=35)(waveform)\n",
    "\n",
    "        return waveform, label\n",
    "\n",
    "# -----------------------------\n",
    "# Refined YAMNet model with BiLSTM\n",
    "# -----------------------------\n",
    "class YAMNetRefined(nn.Module):\n",
    "    def __init__(self, num_classes, hidden_size=512, num_layers=2, dropout=0.3):\n",
    "        super().__init__()\n",
    "        # Load YAMNet once in forward\n",
    "        self.base_model = hub.load(\"https://tfhub.dev/google/yamnet/1\")\n",
    "        self.lstm = nn.LSTM(input_size=1024,\n",
    "                            hidden_size=hidden_size,\n",
    "                            num_layers=num_layers,\n",
    "                            batch_first=True,\n",
    "                            bidirectional=True,\n",
    "                            dropout=dropout)\n",
    "        self.fc = nn.Sequential(\n",
    "            nn.Linear(hidden_size*2, hidden_size),\n",
    "            nn.ReLU(),\n",
    "            nn.Dropout(dropout),\n",
    "            nn.Linear(hidden_size, num_classes)\n",
    "        )\n",
    "\n",
    "    def forward(self, x):\n",
    "        embeddings_list = []\n",
    "        for wav in x:\n",
    "            wav_np = wav.squeeze().cpu().numpy().astype(np.float32)\n",
    "            _, embeddings, _ = self.base_model(wav_np)\n",
    "            embeddings_tensor = torch.tensor(embeddings.numpy(), device=device)\n",
    "            embeddings_list.append(embeddings_tensor)\n",
    "\n",
    "        # Pad sequences\n",
    "        lengths = [e.shape[0] for e in embeddings_list]\n",
    "        max_len = max(lengths)\n",
    "        padded = []\n",
    "        for e in embeddings_list:\n",
    "            if e.shape[0] < max_len:\n",
    "                pad = torch.zeros(max_len - e.shape[0], e.shape[1], device=device)\n",
    "                e = torch.cat([e, pad], dim=0)\n",
    "            padded.append(e)\n",
    "        embeddings_batch = torch.stack(padded)  # [batch, time, 1024]\n",
    "\n",
    "        # LSTM\n",
    "        packed_output, (hn, cn) = self.lstm(embeddings_batch)\n",
    "        hn = torch.cat([hn[-2], hn[-1]], dim=1)  # bi-direction last layer\n",
    "        return self.fc(hn)  # [batch, num_classes]\n",
    "\n",
    "# -----------------------------\n",
    "# Prepare dataset and OOF storage\n",
    "# -----------------------------\n",
    "dataset = BirdAudioDataset(data_dir, augment=True)\n",
    "oof_preds = np.zeros((len(dataset), num_classes))\n",
    "oof_targets = np.zeros(len(dataset))\n",
    "\n",
    "# -----------------------------\n",
    "# K-Fold CV\n",
    "# -----------------------------\n",
    "kf = KFold(n_splits=k_folds, shuffle=True, random_state=42)\n",
    "\n",
    "for fold, (train_idx, val_idx) in enumerate(kf.split(np.arange(len(dataset)))):\n",
    "    print(f\"\\n📂 Fold {fold+1}/{k_folds}\")\n",
    "\n",
    "    train_subset = Subset(dataset, train_idx)\n",
    "    val_subset = Subset(dataset, val_idx)\n",
    "\n",
    "    train_loader = DataLoader(train_subset, batch_size=batch_size, shuffle=True, num_workers=0)\n",
    "    val_loader = DataLoader(val_subset, batch_size=batch_size, shuffle=False, num_workers=0)\n",
    "\n",
    "    model = YAMNetRefined(num_classes).to(device)\n",
    "    criterion = nn.CrossEntropyLoss()\n",
    "    optimizer = optim.Adam(model.parameters(), lr=1e-4)\n",
    "    scheduler = optim.lr_scheduler.ReduceLROnPlateau(optimizer, mode='min', factor=0.5, patience=3)\n",
    "\n",
    "    for epoch in range(num_epochs):\n",
    "        model.train()\n",
    "        running_loss, correct, total = 0.0, 0, 0\n",
    "        for waveforms, labels in tqdm(train_loader, desc=f\"Fold {fold+1} Epoch {epoch+1}/{num_epochs}\"):\n",
    "            labels = labels.to(device)\n",
    "            optimizer.zero_grad()\n",
    "            outputs = model(waveforms)\n",
    "            loss = criterion(outputs, labels)\n",
    "            loss.backward()\n",
    "            optimizer.step()\n",
    "\n",
    "            running_loss += loss.item() * labels.size(0)\n",
    "            _, predicted = outputs.max(1)\n",
    "            correct += predicted.eq(labels).sum().item()\n",
    "            total += labels.size(0)\n",
    "\n",
    "        train_loss = running_loss / total\n",
    "        train_acc = 100. * correct / total\n",
    "        print(f\"Train Loss: {train_loss:.4f}, Train Acc: {train_acc:.2f}%\")\n",
    "\n",
    "        # Validation\n",
    "        model.eval()\n",
    "        val_loss, val_correct, val_total = 0.0, 0, 0\n",
    "        with torch.no_grad():\n",
    "            for batch_idx, (waveforms, labels) in enumerate(val_loader):\n",
    "                labels = labels.to(device)\n",
    "                outputs = model(waveforms)\n",
    "                loss = criterion(outputs, labels)\n",
    "\n",
    "                val_loss += loss.item() * labels.size(0)\n",
    "                _, predicted = outputs.max(1)\n",
    "                val_correct += predicted.eq(labels).sum().item()\n",
    "                val_total += labels.size(0)\n",
    "\n",
    "                start = batch_idx * val_loader.batch_size\n",
    "                end = start + labels.size(0)\n",
    "                oof_preds[val_idx[start:end]] = outputs.cpu().numpy()\n",
    "                oof_targets[val_idx[start:end]] = labels.cpu().numpy()\n",
    "\n",
    "        val_loss /= val_total\n",
    "        val_acc = 100. * val_correct / val_total\n",
    "        scheduler.step(val_loss)\n",
    "        print(f\"Val Loss: {val_loss:.4f}, Val Acc: {val_acc:.2f}%\")\n",
    "\n",
    "    os.makedirs(\"checkpoints_yamnet_refined\", exist_ok=True)\n",
    "    torch.save(model.state_dict(), f\"checkpoints_yamnet_refined/yamnet_fold{fold+1}.pth\")\n",
    "\n",
    "np.save(\"oof_preds_yamnet_refined.npy\", oof_preds)\n",
    "np.save(\"oof_targets_yamnet_refined.npy\", oof_targets)\n",
    "print(\"✅ Finished refined YAMNet training with BiLSTM on Xeno-Canto dataset!\")\n"
   ]
  },
  {
   "cell_type": "markdown",
   "id": "3ab6d13f-7069-435f-8480-ec2cfcad02c7",
   "metadata": {},
   "source": [
    "### 6.21 Refined YAMNet Confusion Matrix"
   ]
  },
  {
   "cell_type": "code",
   "execution_count": 36,
   "id": "75073abc-a9d9-4e0d-a9b3-2d90aab88af3",
   "metadata": {},
   "outputs": [
    {
     "data": {
      "image/png": "[encoded data removed]",
      "text/plain": [
       "<Figure size 640x480 with 2 Axes>"
      ]
     },
     "metadata": {},
     "output_type": "display_data"
    }
   ],
   "source": [
    "import numpy as np\n",
    "from sklearn.metrics import confusion_matrix, ConfusionMatrixDisplay\n",
    "import matplotlib.pyplot as plt\n",
    "\n",
    "# Load saved predictions and targets\n",
    "oof_preds = np.load(\"oof_preds_yamnet_refined.npy\")  # shape: (num_samples, num_classes)\n",
    "oof_targets = np.load(\"oof_targets_yamnet_refined.npy\")  # shape: (num_samples,)\n",
    "\n",
    "# Convert softmax/logits to predicted class indices\n",
    "pred_labels = np.argmax(oof_preds, axis=1)\n",
    "\n",
    "# Generate confusion matrix\n",
    "cm = confusion_matrix(oof_targets, pred_labels)\n",
    "\n",
    "# Optional: add class names if available\n",
    "num_classes = len(np.unique(oof_targets))\n",
    "class_names = [f\"Class {i}\" for i in range(num_classes)]\n",
    "\n",
    "disp = ConfusionMatrixDisplay(confusion_matrix=cm, display_labels=class_names)\n",
    "disp.plot(xticks_rotation=90, cmap=plt.cm.Blues)\n",
    "plt.title(\"YAMNet Refined Confusion Matrix\")\n",
    "plt.tight_layout()\n",
    "plt.show()\n"
   ]
  },
  {
   "cell_type": "markdown",
   "id": "e3a61fe5-49f1-4164-adcb-de8ae32c9bdb",
   "metadata": {},
   "source": [
    "## 6.3 Re-train Meta-Classifier with refined Base Models"
   ]
  },
  {
   "cell_type": "code",
   "execution_count": 6,
   "id": "70352d18-6198-4d45-b1a2-0e864f11d561",
   "metadata": {},
   "outputs": [
    {
     "name": "stdout",
     "output_type": "stream",
     "text": [
      "\n",
      "Training meta-classifier for EffNet...\n"
     ]
    },
    {
     "name": "stderr",
     "output_type": "stream",
     "text": [
      "C:\\Users\\jayme\\anaconda3\\envs\\bird-env\\lib\\site-packages\\sklearn\\linear_model\\_logistic.py:1247: FutureWarning: 'multi_class' was deprecated in version 1.5 and will be removed in 1.7. From then on, it will always use 'multinomial'. Leave it to its default value to avoid this warning.\n",
      "  warnings.warn(\n"
     ]
    },
    {
     "name": "stdout",
     "output_type": "stream",
     "text": [
      "📊 EffNet Meta-Learner Performance: Top-1 = 0.7592, Top-5 = 0.9333\n",
      "\n",
      "Training meta-classifier for ResNet...\n"
     ]
    },
    {
     "name": "stderr",
     "output_type": "stream",
     "text": [
      "C:\\Users\\jayme\\anaconda3\\envs\\bird-env\\lib\\site-packages\\sklearn\\linear_model\\_logistic.py:1247: FutureWarning: 'multi_class' was deprecated in version 1.5 and will be removed in 1.7. From then on, it will always use 'multinomial'. Leave it to its default value to avoid this warning.\n",
      "  warnings.warn(\n"
     ]
    },
    {
     "name": "stdout",
     "output_type": "stream",
     "text": [
      "📊 ResNet Meta-Learner Performance: Top-1 = 0.3075, Top-5 = 0.5621\n",
      "\n",
      "Training meta-classifier for YAMNet...\n",
      "📊 YAMNet Meta-Learner Performance: Top-1 = 0.0667, Top-5 = 0.3333\n",
      "\n",
      "✅ All meta-classifiers saved!\n"
     ]
    },
    {
     "name": "stderr",
     "output_type": "stream",
     "text": [
      "C:\\Users\\jayme\\anaconda3\\envs\\bird-env\\lib\\site-packages\\sklearn\\linear_model\\_logistic.py:1247: FutureWarning: 'multi_class' was deprecated in version 1.5 and will be removed in 1.7. From then on, it will always use 'multinomial'. Leave it to its default value to avoid this warning.\n",
      "  warnings.warn(\n"
     ]
    },
    {
     "name": "stdout",
     "output_type": "stream",
     "text": [
      "\n",
      "Fused predictions shape: (9963, 200), example Top-1 indices: [  0   0 116 116 116   0 116   0 116   0]\n"
     ]
    }
   ],
   "source": [
    "A"
   ]
  },
  {
   "cell_type": "markdown",
   "id": "08a628dd-be02-4f01-b22b-b00c1224c161",
   "metadata": {},
   "source": [
    "# Step 7: Fuse Predictions for Ensemble Output"
   ]
  },
  {
   "cell_type": "code",
   "execution_count": 7,
   "id": "09cd23c5-fe37-4f36-97eb-fb52eec7421f",
   "metadata": {},
   "outputs": [
    {
     "name": "stdout",
     "output_type": "stream",
     "text": [
      "✅ Flexible fusion done!\n",
      "Fused probs shape: (9963, 200)\n",
      "Example Top-1: [0 0 0 0 0 0 0 0 0 0]\n",
      "📊 Ensemble Performance: Top-1 = 0.7614, Top-5 = 0.9384\n",
      "💾 Saved fused predictions and Top-1 labels!\n"
     ]
    }
   ],
   "source": [
    "import numpy as np\n",
    "import joblib\n",
    "from sklearn.metrics import accuracy_score, top_k_accuracy_score\n",
    "\n",
    "# --------------------------\n",
    "# Config\n",
    "# --------------------------\n",
    "num_classes = 200\n",
    "weights = {\"EffNet\": 0.6, \"ResNet\": 0.3, \"YAMNet\": 0.1}  # tune as needed\n",
    "\n",
    "# --------------------------\n",
    "# Load meta-classifiers\n",
    "# --------------------------\n",
    "meta_effnet, effnet_classes = joblib.load(\"meta_effnet.pkl\")\n",
    "meta_resnet, resnet_classes = joblib.load(\"meta_resnet.pkl\")\n",
    "meta_yamnet, yamnet_classes = joblib.load(\"meta_yamnet.pkl\")\n",
    "\n",
    "# --------------------------\n",
    "# Expand helper\n",
    "# --------------------------\n",
    "def expand_probs(probs, classes, num_classes):\n",
    "    \"\"\"Expand smaller prob arrays into full num_classes by filling learned class indices.\"\"\"\n",
    "    expanded = np.zeros((probs.shape[0], num_classes))\n",
    "    expanded[:, classes.astype(int)] = probs\n",
    "    return expanded\n",
    "\n",
    "# --------------------------\n",
    "# Flexible Fusion\n",
    "# --------------------------\n",
    "def fuse_flexible(sample_preds, weights):\n",
    "    fused_outputs = []\n",
    "\n",
    "    for i in range(len(sample_preds[\"EffNet\"])):  # loop over samples\n",
    "        effnet_probs = expand_probs(\n",
    "            meta_effnet.predict_proba(sample_preds[\"EffNet\"][i:i+1]),\n",
    "            effnet_classes, num_classes\n",
    "        )\n",
    "        fused = weights[\"EffNet\"] * effnet_probs\n",
    "\n",
    "        if i < len(sample_preds[\"ResNet\"]):\n",
    "            resnet_probs = expand_probs(\n",
    "                meta_resnet.predict_proba(sample_preds[\"ResNet\"][i:i+1]),\n",
    "                resnet_classes, num_classes\n",
    "            )\n",
    "            fused += weights[\"ResNet\"] * resnet_probs\n",
    "\n",
    "        if i < len(sample_preds[\"YAMNet\"]):\n",
    "            yamnet_probs = expand_probs(\n",
    "                meta_yamnet.predict_proba(sample_preds[\"YAMNet\"][i:i+1]),\n",
    "                yamnet_classes, num_classes\n",
    "            )\n",
    "            fused += weights[\"YAMNet\"] * yamnet_probs\n",
    "\n",
    "        fused_outputs.append(fused)\n",
    "\n",
    "    return np.vstack(fused_outputs)\n",
    "\n",
    "# --------------------------\n",
    "# Load aligned OOF predictions\n",
    "# --------------------------\n",
    "effnet_preds = np.load(\"oof_preds_effnet_aligned.npy\")\n",
    "resnet_preds = np.load(\"oof_preds_resnet_aligned.npy\")\n",
    "yamnet_preds = np.load(\"oof_preds_yamnet_aligned.npy\")\n",
    "targets = np.load(\"efficientnet_oof_targets.npy\")  # reference labels\n",
    "\n",
    "# Pack into dict\n",
    "sample_preds = {\n",
    "    \"EffNet\": effnet_preds,\n",
    "    \"ResNet\": resnet_preds,\n",
    "    \"YAMNet\": yamnet_preds\n",
    "}\n",
    "\n",
    "# --------------------------\n",
    "# Run Fusion\n",
    "# --------------------------\n",
    "fused_probs = fuse_flexible(sample_preds, weights)\n",
    "fused_top1 = fused_probs.argmax(axis=1)\n",
    "\n",
    "print(\"✅ Flexible fusion done!\")\n",
    "print(\"Fused probs shape:\", fused_probs.shape)\n",
    "print(\"Example Top-1:\", fused_top1[:10])\n",
    "\n",
    "# --------------------------\n",
    "# Evaluate Ensemble\n",
    "# --------------------------\n",
    "N = min(len(fused_probs), len(targets))  # match sizes\n",
    "top1 = accuracy_score(targets[:N], fused_probs[:N].argmax(axis=1))\n",
    "top5 = top_k_accuracy_score(\n",
    "    targets[:N], fused_probs[:N], k=5, labels=np.arange(num_classes)\n",
    ")\n",
    "\n",
    "print(f\"📊 Ensemble Performance: Top-1 = {top1:.4f}, Top-5 = {top5:.4f}\")\n",
    "\n",
    "# --------------------------\n",
    "# Save Results\n",
    "# --------------------------\n",
    "np.save(\"fused_probs.npy\", fused_probs)\n",
    "np.save(\"fused_top1.npy\", fused_top1)\n",
    "print(\"💾 Saved fused predictions and Top-1 labels!\")\n"
   ]
  },
  {
   "cell_type": "markdown",
   "id": "4511412b-fb95-4e42-9b78-770c2a2ff490",
   "metadata": {},
   "source": [
    "# Step 8: Evaluate Ensemble Performance"
   ]
  },
  {
   "cell_type": "code",
   "execution_count": 11,
   "id": "653ad189-b4ba-43ae-901e-2bed0f4f3acf",
   "metadata": {
    "scrolled": true
   },
   "outputs": [
    {
     "name": "stdout",
     "output_type": "stream",
     "text": [
      "\n",
      "===== Evaluating on CUB Test Set =====\n",
      "📊 Ensemble Performance on CUB: Top-1 = 0.7712, Top-5 = 0.9538\n",
      "Confusion Matrix shape: (200, 200)\n",
      "Classification Report:\n",
      "               precision    recall  f1-score   support\n",
      "\n",
      "           0       0.74      0.78      0.76        51\n",
      "           1       0.73      0.73      0.73        51\n",
      "           2       0.70      0.69      0.69        48\n",
      "           3       0.81      0.84      0.83        51\n",
      "           4       0.88      0.81      0.84        36\n",
      "           5       0.94      0.85      0.89        34\n",
      "           6       0.89      0.93      0.91        44\n",
      "           7       0.82      0.88      0.85        41\n",
      "           8       0.52      0.51      0.51        51\n",
      "           9       0.91      0.94      0.92        51\n",
      "          10       0.62      0.61      0.61        51\n",
      "          11       0.95      0.89      0.92        47\n",
      "          12       0.94      0.90      0.92        51\n",
      "          13       0.84      0.92      0.88        51\n",
      "          14       0.92      0.92      0.92        48\n",
      "          15       0.98      0.85      0.91        48\n",
      "          16       0.92      0.94      0.93        47\n",
      "          17       1.00      0.92      0.96        37\n",
      "          18       0.86      0.76      0.80        49\n",
      "          19       0.76      0.76      0.76        49\n",
      "          20       0.90      0.84      0.87        51\n",
      "          21       0.62      0.64      0.63        47\n",
      "          22       0.54      0.53      0.54        49\n",
      "          23       0.92      0.84      0.88        43\n",
      "          24       0.61      0.59      0.60        51\n",
      "          25       0.74      0.67      0.70        51\n",
      "          26       0.33      0.35      0.34        51\n",
      "          27       0.94      0.94      0.94        49\n",
      "          28       0.46      0.59      0.52        51\n",
      "          29       0.30      0.27      0.29        51\n",
      "          30       0.74      0.73      0.73        51\n",
      "          31       0.77      0.77      0.77        44\n",
      "          32       0.65      0.63      0.64        49\n",
      "          33       0.92      0.96      0.94        49\n",
      "          34       0.88      0.98      0.93        51\n",
      "          35       1.00      0.96      0.98        51\n",
      "          36       0.47      0.51      0.49        49\n",
      "          37       0.80      0.69      0.74        51\n",
      "          38       0.39      0.45      0.42        49\n",
      "          39       0.56      0.57      0.56        51\n",
      "          40       0.88      0.84      0.86        51\n",
      "          41       0.86      0.86      0.86        51\n",
      "          42       0.46      0.37      0.41        49\n",
      "          43       0.91      0.80      0.85        51\n",
      "          44       0.76      0.75      0.75        51\n",
      "          45       0.90      0.92      0.91        51\n",
      "          46       0.87      0.88      0.87        51\n",
      "          47       0.98      0.94      0.96        51\n",
      "          48       0.59      0.51      0.55        51\n",
      "          49       0.70      0.75      0.72        51\n",
      "          50       0.69      0.67      0.68        51\n",
      "          51       0.85      0.88      0.87        51\n",
      "          52       0.94      0.96      0.95        51\n",
      "          53       0.91      0.78      0.84        51\n",
      "          54       0.92      0.94      0.93        51\n",
      "          55       0.91      0.84      0.88        51\n",
      "          56       0.94      0.94      0.94        51\n",
      "          57       0.78      0.79      0.78        48\n",
      "          58       0.42      0.35      0.38        51\n",
      "          59       0.36      0.41      0.38        49\n",
      "          60       0.92      0.94      0.93        51\n",
      "          61       0.41      0.33      0.37        51\n",
      "          62       0.91      0.94      0.92        52\n",
      "          63       0.56      0.65      0.60        51\n",
      "          64       0.57      0.40      0.47        42\n",
      "          65       0.40      0.49      0.44        51\n",
      "          66       0.78      0.76      0.77        51\n",
      "          67       0.79      0.67      0.72        51\n",
      "          68       0.85      0.88      0.87        51\n",
      "          69       0.94      0.98      0.96        51\n",
      "          70       0.56      0.59      0.57        51\n",
      "          71       0.62      0.61      0.61        51\n",
      "          72       0.90      0.88      0.89        51\n",
      "          73       0.90      0.88      0.89        51\n",
      "          74       1.00      0.98      0.99        47\n",
      "          75       0.78      0.92      0.85        51\n",
      "          76       0.87      0.92      0.90        51\n",
      "          77       0.79      0.86      0.82        49\n",
      "          78       0.76      0.80      0.78        51\n",
      "          79       0.88      0.82      0.85        51\n",
      "          80       0.89      0.94      0.91        51\n",
      "          81       0.75      0.80      0.77        51\n",
      "          82       1.00      0.96      0.98        51\n",
      "          83       0.82      0.82      0.82        44\n",
      "          84       0.92      0.90      0.91        51\n",
      "          85       0.80      0.88      0.84        51\n",
      "          86       1.00      0.90      0.95        51\n",
      "          87       0.98      0.98      0.98        51\n",
      "          88       0.92      0.88      0.90        51\n",
      "          89       0.87      0.90      0.88        51\n",
      "          90       0.72      0.67      0.69        51\n",
      "          91       0.70      0.75      0.72        51\n",
      "          92       0.94      0.92      0.93        51\n",
      "          93       0.92      0.92      0.92        51\n",
      "          94       0.89      0.78      0.83        51\n",
      "          95       0.77      0.86      0.81        51\n",
      "          96       0.83      0.80      0.81        49\n",
      "          97       0.79      0.82      0.81        51\n",
      "          98       0.98      0.82      0.89        51\n",
      "          99       0.94      0.92      0.93        51\n",
      "         100       0.97      0.93      0.95        42\n",
      "         101       0.37      0.41      0.39        51\n",
      "         102       0.54      0.57      0.55        51\n",
      "         103       0.77      0.78      0.78        51\n",
      "         104       0.71      0.61      0.66        41\n",
      "         105       0.98      0.84      0.91        51\n",
      "         106       0.53      0.63      0.57        49\n",
      "         107       0.80      0.71      0.75        51\n",
      "         108       0.92      0.90      0.91        51\n",
      "         109       0.98      0.96      0.97        51\n",
      "         110       0.56      0.65      0.60        51\n",
      "         111       0.67      0.65      0.66        51\n",
      "         112       0.60      0.74      0.66        42\n",
      "         113       0.87      0.90      0.88        51\n",
      "         114       0.59      0.65      0.62        49\n",
      "         115       0.69      0.53      0.60        51\n",
      "         116       0.66      0.71      0.69        49\n",
      "         117       0.62      0.59      0.61        51\n",
      "         118       0.71      0.59      0.64        49\n",
      "         119       0.91      0.80      0.85        51\n",
      "         120       0.78      0.63      0.70        51\n",
      "         121       0.88      0.88      0.88        51\n",
      "         122       0.77      0.73      0.75        51\n",
      "         123       0.78      0.80      0.79        49\n",
      "         124       0.68      0.78      0.72        49\n",
      "         125       0.76      0.76      0.76        49\n",
      "         126       0.57      0.65      0.61        51\n",
      "         127       0.76      0.67      0.71        51\n",
      "         128       0.69      0.75      0.72        51\n",
      "         129       0.53      0.59      0.56        51\n",
      "         130       0.57      0.63      0.60        51\n",
      "         131       0.98      0.86      0.92        51\n",
      "         132       0.83      0.75      0.78        51\n",
      "         133       0.88      0.90      0.89        51\n",
      "         134       0.61      0.61      0.61        49\n",
      "         135       0.81      0.76      0.79        51\n",
      "         136       0.61      0.59      0.60        51\n",
      "         137       0.91      0.84      0.88        51\n",
      "         138       0.90      0.88      0.89        51\n",
      "         139       0.92      0.92      0.92        51\n",
      "         140       0.67      0.71      0.69        48\n",
      "         141       0.70      0.75      0.72        51\n",
      "         142       0.55      0.53      0.54        51\n",
      "         143       0.42      0.43      0.42        51\n",
      "         144       0.55      0.57      0.56        51\n",
      "         145       0.48      0.57      0.52        51\n",
      "         146       0.84      0.73      0.78        51\n",
      "         147       0.90      0.86      0.88        51\n",
      "         148       0.82      0.86      0.84        49\n",
      "         149       0.87      0.88      0.87        51\n",
      "         150       0.92      0.81      0.86        42\n",
      "         151       0.66      0.73      0.69        51\n",
      "         152       0.62      0.71      0.67        49\n",
      "         153       0.79      0.73      0.76        51\n",
      "         154       0.65      0.65      0.65        51\n",
      "         155       0.78      0.78      0.78        51\n",
      "         156       0.67      0.63      0.65        49\n",
      "         157       0.91      0.78      0.84        51\n",
      "         158       0.92      0.96      0.94        51\n",
      "         159       0.83      0.82      0.82        49\n",
      "         160       0.64      0.67      0.65        51\n",
      "         161       0.94      0.88      0.91        51\n",
      "         162       0.82      0.90      0.86        51\n",
      "         163       0.87      0.90      0.88        51\n",
      "         164       0.91      0.80      0.85        51\n",
      "         165       0.92      0.90      0.91        49\n",
      "         166       0.87      0.78      0.82        51\n",
      "         167       0.88      0.92      0.90        49\n",
      "         168       0.92      0.90      0.91        49\n",
      "         169       0.84      0.80      0.82        51\n",
      "         170       0.86      0.86      0.86        51\n",
      "         171       0.65      0.80      0.72        51\n",
      "         172       0.49      0.65      0.56        51\n",
      "         173       0.82      0.71      0.76        51\n",
      "         174       0.61      0.71      0.65        51\n",
      "         175       0.88      0.88      0.88        51\n",
      "         176       0.82      0.90      0.86        51\n",
      "         177       0.76      0.79      0.77        47\n",
      "         178       0.46      0.55      0.50        49\n",
      "         179       0.83      0.86      0.85        51\n",
      "         180       0.93      0.82      0.87        49\n",
      "         181       0.84      0.80      0.82        51\n",
      "         182       0.84      0.80      0.82        51\n",
      "         183       0.85      0.76      0.80        51\n",
      "         184       0.90      0.90      0.90        51\n",
      "         185       0.94      0.88      0.91        51\n",
      "         186       0.95      0.83      0.89        42\n",
      "         187       0.93      0.98      0.95        51\n",
      "         188       0.91      0.98      0.94        51\n",
      "         189       0.94      0.96      0.95        48\n",
      "         190       0.94      0.88      0.91        51\n",
      "         191       0.91      0.94      0.92        51\n",
      "         192       0.60      0.69      0.64        51\n",
      "         193       0.87      0.92      0.90        51\n",
      "         194       0.84      0.80      0.82        51\n",
      "         195       0.61      0.69      0.65        49\n",
      "         196       0.63      0.67      0.65        51\n",
      "         197       0.88      0.82      0.85        51\n",
      "         198       0.85      0.80      0.83        51\n",
      "         199       0.82      0.88      0.85        51\n",
      "\n",
      "    accuracy                           0.77      9963\n",
      "   macro avg       0.78      0.77      0.77      9963\n",
      "weighted avg       0.78      0.77      0.77      9963\n",
      "\n",
      "💾 Saved CUB fused predictions + labels!\n",
      "\n",
      "===== Evaluating on iNat Test Set =====\n",
      "📊 Ensemble Performance on iNat: Top-1 = 0.8612, Top-5 = 0.9123\n",
      "Confusion Matrix shape: (200, 200)\n",
      "Classification Report:\n",
      "               precision    recall  f1-score   support\n",
      "\n",
      "           0       0.88      0.94      0.91        16\n",
      "           1       0.88      0.88      0.88         8\n",
      "           2       1.00      0.75      0.86         8\n",
      "           3       1.00      0.88      0.93         8\n",
      "           4       0.88      0.88      0.88         8\n",
      "           5       0.88      0.88      0.88         8\n",
      "           6       0.88      0.88      0.88         8\n",
      "           7       0.78      0.88      0.82         8\n",
      "           8       1.00      0.88      0.93         8\n",
      "           9       0.86      0.75      0.80         8\n",
      "          10       1.00      0.88      0.93         8\n",
      "          11       0.67      0.75      0.71         8\n",
      "          12       0.80      1.00      0.89         8\n",
      "          13       0.88      0.88      0.88         8\n",
      "          14       1.00      0.75      0.86         8\n",
      "          15       0.86      0.75      0.80         8\n",
      "          16       1.00      1.00      1.00         8\n",
      "          17       1.00      1.00      1.00         8\n",
      "          18       0.89      1.00      0.94         8\n",
      "          19       1.00      1.00      1.00         8\n",
      "          20       0.78      0.88      0.82         8\n",
      "          21       0.64      0.88      0.74         8\n",
      "          22       0.75      0.75      0.75         8\n",
      "          23       0.75      0.75      0.75         8\n",
      "          24       0.88      0.88      0.88         8\n",
      "          25       0.88      0.88      0.88         8\n",
      "          26       1.00      0.75      0.86         8\n",
      "          27       1.00      0.88      0.93         8\n",
      "          28       0.88      0.88      0.88         8\n",
      "          29       0.75      0.75      0.75         8\n",
      "          30       1.00      1.00      1.00         8\n",
      "          31       0.88      0.88      0.88         8\n",
      "          32       1.00      0.88      0.93         8\n",
      "          33       1.00      1.00      1.00         8\n",
      "          34       1.00      0.75      0.86         8\n",
      "          35       1.00      0.75      0.86         8\n",
      "          36       0.88      0.88      0.88         8\n",
      "          37       0.86      0.75      0.80         8\n",
      "          38       0.75      0.75      0.75         8\n",
      "          39       1.00      0.88      0.93         8\n",
      "          40       1.00      0.88      0.93         8\n",
      "          41       0.78      0.88      0.82         8\n",
      "          42       0.78      0.88      0.82         8\n",
      "          43       0.88      0.88      0.88         8\n",
      "          44       0.88      0.88      0.88         8\n",
      "          45       0.86      0.75      0.80         8\n",
      "          46       0.78      0.88      0.82         8\n",
      "          47       0.88      0.88      0.88         8\n",
      "          48       1.00      0.75      0.86         8\n",
      "          49       0.88      0.88      0.88         8\n",
      "          50       1.00      0.75      0.86         8\n",
      "          51       0.88      0.88      0.88         8\n",
      "          52       0.80      1.00      0.89         8\n",
      "          53       1.00      0.88      0.93         8\n",
      "          54       1.00      0.88      0.93         8\n",
      "          55       1.00      1.00      1.00         8\n",
      "          56       0.88      0.88      0.88         8\n",
      "          57       1.00      0.88      0.93         8\n",
      "          58       1.00      0.88      0.93         8\n",
      "          59       0.78      0.88      0.82         8\n",
      "          60       0.60      0.75      0.67         8\n",
      "          61       0.88      0.88      0.88         8\n",
      "          62       0.86      0.75      0.80         8\n",
      "          63       0.86      0.75      0.80         8\n",
      "          64       0.60      0.75      0.67         8\n",
      "          65       0.89      1.00      0.94         8\n",
      "          66       0.70      0.88      0.78         8\n",
      "          67       0.88      0.88      0.88         8\n",
      "          68       0.88      0.88      0.88         8\n",
      "          69       0.89      1.00      0.94         8\n",
      "          70       0.78      0.88      0.82         8\n",
      "          71       0.86      0.75      0.80         8\n",
      "          72       0.89      1.00      0.94         8\n",
      "          73       1.00      0.75      0.86         8\n",
      "          74       1.00      0.88      0.93         8\n",
      "          75       0.75      0.75      0.75         8\n",
      "          76       0.80      1.00      0.89         8\n",
      "          77       0.89      1.00      0.94         8\n",
      "          78       1.00      0.75      0.86         8\n",
      "          79       0.89      1.00      0.94         8\n",
      "          80       1.00      0.75      0.86         8\n",
      "          81       1.00      0.88      0.93         8\n",
      "          82       1.00      0.75      0.86         8\n",
      "          83       0.88      0.88      0.88         8\n",
      "          84       1.00      1.00      1.00         8\n",
      "          85       1.00      0.75      0.86         8\n",
      "          86       0.78      0.88      0.82         8\n",
      "          87       0.88      0.88      0.88         8\n",
      "          88       0.70      0.88      0.78         8\n",
      "          89       1.00      0.75      0.86         8\n",
      "          90       1.00      0.75      0.86         8\n",
      "          91       0.78      0.88      0.82         8\n",
      "          92       0.88      0.88      0.88         8\n",
      "          93       0.86      0.75      0.80         8\n",
      "          94       0.73      1.00      0.84         8\n",
      "          95       1.00      0.88      0.93         8\n",
      "          96       0.78      0.88      0.82         8\n",
      "          97       0.89      1.00      0.94         8\n",
      "          98       0.88      0.88      0.88         8\n",
      "          99       0.64      0.88      0.74         8\n",
      "         100       1.00      0.75      0.86         8\n",
      "         101       0.89      1.00      0.94         8\n",
      "         102       0.78      0.88      0.82         8\n",
      "         103       1.00      1.00      1.00         8\n",
      "         104       0.75      0.75      0.75         8\n",
      "         105       1.00      1.00      1.00         8\n",
      "         106       0.75      0.75      0.75         8\n",
      "         107       0.86      0.75      0.80         8\n",
      "         108       0.60      0.75      0.67         8\n",
      "         109       0.70      0.88      0.78         8\n",
      "         110       0.55      0.75      0.63         8\n",
      "         111       0.86      0.75      0.80         8\n",
      "         112       1.00      1.00      1.00         8\n",
      "         113       0.86      0.75      0.80         8\n",
      "         114       0.89      1.00      0.94         8\n",
      "         115       0.78      0.88      0.82         8\n",
      "         116       1.00      1.00      1.00         8\n",
      "         117       1.00      0.75      0.86         8\n",
      "         118       0.73      1.00      0.84         8\n",
      "         119       0.67      0.75      0.71         8\n",
      "         120       0.73      1.00      0.84         8\n",
      "         121       1.00      0.75      0.86         8\n",
      "         122       1.00      0.75      0.86         8\n",
      "         123       0.70      0.88      0.78         8\n",
      "         124       0.78      0.88      0.82         8\n",
      "         125       0.88      0.88      0.88         8\n",
      "         126       0.88      0.88      0.88         8\n",
      "         127       1.00      0.88      0.93         8\n",
      "         128       0.88      0.88      0.88         8\n",
      "         129       0.88      0.88      0.88         8\n",
      "         130       0.86      0.75      0.80         8\n",
      "         131       1.00      0.75      0.86         8\n",
      "         132       1.00      0.75      0.86         8\n",
      "         133       0.80      1.00      0.89         8\n",
      "         134       1.00      0.75      0.86         8\n",
      "         135       0.78      0.88      0.82         8\n",
      "         136       0.88      0.88      0.88         8\n",
      "         137       1.00      0.88      0.93         8\n",
      "         138       0.54      0.88      0.67         8\n",
      "         139       0.88      0.88      0.88         8\n",
      "         140       1.00      0.86      0.92         7\n",
      "         141       1.00      0.88      0.93         8\n",
      "         142       0.88      0.88      0.88         8\n",
      "         143       0.80      1.00      0.89         8\n",
      "         144       1.00      1.00      1.00         8\n",
      "         145       0.86      0.75      0.80         8\n",
      "         146       0.86      0.75      0.80         8\n",
      "         147       0.89      1.00      0.94         8\n",
      "         148       0.88      0.88      0.88         8\n",
      "         149       0.88      0.88      0.88         8\n",
      "         150       0.89      1.00      0.94         8\n",
      "         151       0.73      1.00      0.84         8\n",
      "         152       0.88      0.88      0.88         8\n",
      "         153       0.88      0.88      0.88         8\n",
      "         154       0.86      0.75      0.80         8\n",
      "         155       0.67      0.75      0.71         8\n",
      "         156       0.88      0.88      0.88         8\n",
      "         157       0.86      0.75      0.80         8\n",
      "         158       1.00      0.88      0.93         8\n",
      "         159       0.64      0.88      0.74         8\n",
      "         160       0.70      0.88      0.78         8\n",
      "         161       1.00      1.00      1.00         8\n",
      "         162       1.00      0.88      0.93         8\n",
      "         163       0.70      0.88      0.78         8\n",
      "         164       0.88      0.88      0.88         8\n",
      "         165       0.88      0.88      0.88         8\n",
      "         166       1.00      0.88      0.93         8\n",
      "         167       1.00      0.88      0.93         8\n",
      "         168       1.00      0.75      0.86         8\n",
      "         169       0.70      0.88      0.78         8\n",
      "         170       0.88      0.88      0.88         8\n",
      "         171       0.75      0.75      0.75         8\n",
      "         172       1.00      0.88      0.93         8\n",
      "         173       0.78      0.88      0.82         8\n",
      "         174       1.00      1.00      1.00         8\n",
      "         175       0.88      0.88      0.88         8\n",
      "         176       1.00      0.88      0.93         8\n",
      "         177       0.88      0.88      0.88         8\n",
      "         178       1.00      0.75      0.86         8\n",
      "         179       1.00      1.00      1.00         8\n",
      "         180       0.89      1.00      0.94         8\n",
      "         181       1.00      0.75      0.86         8\n",
      "         182       1.00      0.88      0.93         8\n",
      "         183       0.86      0.75      0.80         8\n",
      "         184       0.88      0.88      0.88         8\n",
      "         185       0.78      0.88      0.82         8\n",
      "         186       0.75      0.75      0.75         8\n",
      "         187       1.00      1.00      1.00         8\n",
      "         188       0.86      0.75      0.80         8\n",
      "         189       0.89      1.00      0.94         8\n",
      "         190       0.86      0.75      0.80         8\n",
      "         191       0.88      0.88      0.88         8\n",
      "         192       0.75      0.75      0.75         8\n",
      "         193       0.78      0.88      0.82         8\n",
      "         194       1.00      0.75      0.86         8\n",
      "         195       1.00      1.00      1.00         8\n",
      "         196       0.89      1.00      0.94         8\n",
      "         197       0.70      0.88      0.78         8\n",
      "         198       1.00      0.75      0.86         8\n",
      "         199       0.75      0.75      0.75         8\n",
      "\n",
      "    accuracy                           0.86      1607\n",
      "   macro avg       0.88      0.86      0.86      1607\n",
      "weighted avg       0.88      0.86      0.86      1607\n",
      "\n",
      "💾 Saved iNat fused predictions + labels!\n",
      "\n",
      "===== Evaluating on XENO Test Set =====\n",
      "📊 Ensemble Performance on XENO: Top-1 = 0.1806, Top-5 = 0.6389\n",
      "Confusion Matrix shape: (200, 200)\n",
      "Classification Report:\n",
      "               precision    recall  f1-score   support\n",
      "\n",
      "           0       0.00      0.00      0.00         0\n",
      "           1       0.00      0.00      0.00         0\n",
      "           2       0.00      0.00      0.00         0\n",
      "           3       0.00      0.00      0.00         0\n",
      "           4       0.00      0.00      0.00         0\n",
      "           5       0.00      0.00      0.00         0\n",
      "           6       0.00      0.00      0.00         0\n",
      "           7       0.00      0.00      0.00         0\n",
      "           8       0.00      0.00      0.00         0\n",
      "           9       0.17      0.62      0.27         8\n",
      "          10       0.00      0.00      0.00         0\n",
      "          11       0.00      0.00      0.00         0\n",
      "          12       0.00      0.00      0.00         0\n",
      "          13       0.00      0.00      0.00         0\n",
      "          14       0.00      0.00      0.00         0\n",
      "          15       0.00      0.00      0.00         0\n",
      "          16       0.00      0.00      0.00         0\n",
      "          17       0.00      0.00      0.00         0\n",
      "          18       0.00      0.00      0.00         0\n",
      "          19       0.00      0.00      0.00         0\n",
      "          20       0.00      0.00      0.00         0\n",
      "          21       0.00      0.00      0.00         0\n",
      "          22       0.00      0.00      0.00         0\n",
      "          23       0.00      0.00      0.00         0\n",
      "          24       0.00      0.00      0.00         0\n",
      "          25       0.00      0.00      0.00         0\n",
      "          26       0.00      0.00      0.00         0\n",
      "          27       0.00      0.00      0.00         0\n",
      "          28       0.00      0.00      0.00         0\n",
      "          29       0.00      0.00      0.00         0\n",
      "          30       0.00      0.00      0.00         0\n",
      "          31       0.00      0.00      0.00         0\n",
      "          32       0.00      0.00      0.00         0\n",
      "          33       0.00      0.00      0.00         0\n",
      "          34       0.00      0.00      0.00         0\n",
      "          35       0.00      0.00      0.00         0\n",
      "          36       0.00      0.00      0.00         0\n",
      "          37       0.00      0.00      0.00         0\n",
      "          38       0.00      0.00      0.00         0\n",
      "          39       0.00      0.00      0.00         0\n",
      "          40       0.00      0.00      0.00         0\n",
      "          41       0.00      0.00      0.00         0\n",
      "          42       0.14      0.25      0.18         8\n",
      "          43       0.00      0.00      0.00         0\n",
      "          44       0.00      0.00      0.00         0\n",
      "          45       0.00      0.00      0.00         0\n",
      "          46       0.00      0.00      0.00         0\n",
      "          47       0.00      0.00      0.00         0\n",
      "          48       0.00      0.00      0.00         0\n",
      "          49       0.00      0.00      0.00         0\n",
      "          50       0.00      0.00      0.00         0\n",
      "          51       0.00      0.00      0.00         0\n",
      "          52       0.00      0.00      0.00         0\n",
      "          53       0.00      0.00      0.00         0\n",
      "          54       0.00      0.00      0.00         0\n",
      "          55       0.00      0.00      0.00         0\n",
      "          56       0.19      0.62      0.29         8\n",
      "          57       0.00      0.00      0.00         0\n",
      "          58       0.00      0.00      0.00         0\n",
      "          59       0.00      0.00      0.00         0\n",
      "          60       0.00      0.00      0.00         0\n",
      "          61       0.00      0.00      0.00         0\n",
      "          62       0.00      0.00      0.00         0\n",
      "          63       0.00      0.00      0.00         0\n",
      "          64       0.00      0.00      0.00         0\n",
      "          65       0.00      0.00      0.00         0\n",
      "          66       0.00      0.00      0.00         8\n",
      "          67       0.00      0.00      0.00         0\n",
      "          68       0.00      0.00      0.00         0\n",
      "          69       0.00      0.00      0.00         0\n",
      "          70       0.00      0.00      0.00         0\n",
      "          71       0.00      0.00      0.00         0\n",
      "          72       0.00      0.00      0.00         0\n",
      "          73       0.00      0.00      0.00         0\n",
      "          74       0.00      0.00      0.00         0\n",
      "          75       0.00      0.00      0.00         0\n",
      "          76       0.00      0.00      0.00         0\n",
      "          77       0.00      0.00      0.00         0\n",
      "          78       0.00      0.00      0.00         0\n",
      "          79       0.00      0.00      0.00         0\n",
      "          80       0.00      0.00      0.00         0\n",
      "          81       0.00      0.00      0.00         0\n",
      "          82       0.00      0.00      0.00         0\n",
      "          83       0.00      0.00      0.00         0\n",
      "          84       0.00      0.00      0.00         0\n",
      "          85       0.00      0.00      0.00         0\n",
      "          86       0.00      0.00      0.00         0\n",
      "          87       0.00      0.00      0.00         0\n",
      "          88       0.00      0.00      0.00         0\n",
      "          89       0.00      0.00      0.00         0\n",
      "          90       0.00      0.00      0.00         0\n",
      "          91       0.00      0.00      0.00         0\n",
      "          92       0.00      0.00      0.00         0\n",
      "          93       0.00      0.00      0.00         0\n",
      "          94       0.00      0.00      0.00         0\n",
      "          95       0.00      0.00      0.00         0\n",
      "          96       0.00      0.00      0.00         0\n",
      "          97       0.00      0.00      0.00         0\n",
      "          98       0.00      0.00      0.00         0\n",
      "          99       0.00      0.00      0.00         0\n",
      "         100       0.00      0.00      0.00         0\n",
      "         101       0.00      0.00      0.00         0\n",
      "         102       0.00      0.00      0.00         0\n",
      "         103       0.00      0.00      0.00         0\n",
      "         104       0.00      0.00      0.00         4\n",
      "         105       0.00      0.00      0.00         0\n",
      "         106       0.00      0.00      0.00         0\n",
      "         107       0.00      0.00      0.00         0\n",
      "         108       0.00      0.00      0.00         0\n",
      "         109       0.00      0.00      0.00         0\n",
      "         110       0.00      0.00      0.00         0\n",
      "         111       0.00      0.00      0.00         0\n",
      "         112       0.00      0.00      0.00         0\n",
      "         113       0.00      0.00      0.00         0\n",
      "         114       0.00      0.00      0.00         0\n",
      "         115       0.00      0.00      0.00         0\n",
      "         116       0.50      0.25      0.33         4\n",
      "         117       0.00      0.00      0.00         0\n",
      "         118       0.00      0.00      0.00         0\n",
      "         119       0.00      0.00      0.00         0\n",
      "         120       0.00      0.00      0.00         0\n",
      "         121       0.00      0.00      0.00         0\n",
      "         122       0.00      0.00      0.00         0\n",
      "         123       0.00      0.00      0.00         0\n",
      "         124       0.00      0.00      0.00         4\n",
      "         125       0.00      0.00      0.00         0\n",
      "         126       0.00      0.00      0.00         0\n",
      "         127       0.00      0.00      0.00         0\n",
      "         128       0.00      0.00      0.00         0\n",
      "         129       0.00      0.00      0.00         0\n",
      "         130       0.00      0.00      0.00         0\n",
      "         131       0.00      0.00      0.00         0\n",
      "         132       0.00      0.00      0.00         0\n",
      "         133       0.00      0.00      0.00         4\n",
      "         134       0.00      0.00      0.00         0\n",
      "         135       0.00      0.00      0.00         0\n",
      "         136       0.00      0.00      0.00         0\n",
      "         137       0.00      0.00      0.00         0\n",
      "         138       0.00      0.00      0.00         0\n",
      "         139       0.00      0.00      0.00         0\n",
      "         140       0.00      0.00      0.00         0\n",
      "         141       0.00      0.00      0.00         0\n",
      "         142       0.00      0.00      0.00         0\n",
      "         143       0.00      0.00      0.00         0\n",
      "         144       0.00      0.00      0.00         0\n",
      "         145       0.00      0.00      0.00         0\n",
      "         146       0.00      0.00      0.00         0\n",
      "         147       0.00      0.00      0.00         0\n",
      "         148       0.00      0.00      0.00         0\n",
      "         149       0.00      0.00      0.00         0\n",
      "         150       0.00      0.00      0.00         0\n",
      "         151       0.00      0.00      0.00         0\n",
      "         152       0.00      0.00      0.00         0\n",
      "         153       0.00      0.00      0.00         0\n",
      "         154       0.00      0.00      0.00         0\n",
      "         155       0.00      0.00      0.00         0\n",
      "         156       0.00      0.00      0.00         4\n",
      "         157       0.00      0.00      0.00         4\n",
      "         158       0.00      0.00      0.00         4\n",
      "         159       0.00      0.00      0.00         4\n",
      "         160       0.00      0.00      0.00         0\n",
      "         161       0.00      0.00      0.00         0\n",
      "         162       0.00      0.00      0.00         0\n",
      "         163       0.00      0.00      0.00         0\n",
      "         164       0.00      0.00      0.00         4\n",
      "         165       0.00      0.00      0.00         0\n",
      "         166       0.00      0.00      0.00         0\n",
      "         167       0.00      0.00      0.00         0\n",
      "         168       0.00      0.00      0.00         0\n",
      "         169       0.00      0.00      0.00         0\n",
      "         170       0.00      0.00      0.00         0\n",
      "         171       0.00      0.00      0.00         0\n",
      "         172       0.00      0.00      0.00         0\n",
      "         173       0.00      0.00      0.00         0\n",
      "         174       0.00      0.00      0.00         0\n",
      "         175       0.00      0.00      0.00         0\n",
      "         176       0.00      0.00      0.00         0\n",
      "         177       0.00      0.00      0.00         0\n",
      "         178       0.00      0.00      0.00         0\n",
      "         179       0.00      0.00      0.00         4\n",
      "         180       0.00      0.00      0.00         0\n",
      "         181       0.00      0.00      0.00         0\n",
      "         182       0.00      0.00      0.00         0\n",
      "         183       0.00      0.00      0.00         0\n",
      "         184       0.00      0.00      0.00         0\n",
      "         185       0.00      0.00      0.00         0\n",
      "         186       0.00      0.00      0.00         0\n",
      "         187       0.00      0.00      0.00         0\n",
      "         188       0.00      0.00      0.00         0\n",
      "         189       0.00      0.00      0.00         0\n",
      "         190       0.00      0.00      0.00         0\n",
      "         191       0.00      0.00      0.00         0\n",
      "         192       0.00      0.00      0.00         0\n",
      "         193       0.00      0.00      0.00         0\n",
      "         194       0.00      0.00      0.00         0\n",
      "         195       0.00      0.00      0.00         0\n",
      "         196       0.00      0.00      0.00         0\n",
      "         197       0.00      0.00      0.00         0\n",
      "         198       0.00      0.00      0.00         0\n",
      "         199       0.00      0.00      0.00         0\n",
      "\n",
      "    accuracy                           0.18        72\n",
      "   macro avg       0.01      0.01      0.01        72\n",
      "weighted avg       0.08      0.18      0.10        72\n",
      "\n",
      "💾 Saved XENO fused predictions + labels!\n",
      "\n",
      "✅ Final evaluation done across all test datasets!\n"
     ]
    }
   ],
   "source": [
    "import numpy as np\n",
    "import joblib\n",
    "from sklearn.metrics import (\n",
    "    accuracy_score,\n",
    "    top_k_accuracy_score,\n",
    "    confusion_matrix,\n",
    "    classification_report\n",
    ")\n",
    "\n",
    "# --------------------------\n",
    "# Config\n",
    "# --------------------------\n",
    "num_classes = 200\n",
    "weights = {\"EffNet\": 0.6, \"ResNet\": 0.3, \"YAMNet\": 0.1}  # tune as needed\n",
    "\n",
    "# --------------------------\n",
    "# Load meta-classifiers\n",
    "# --------------------------\n",
    "meta_effnet, effnet_classes = joblib.load(\"meta_effnet.pkl\")\n",
    "meta_resnet, resnet_classes = joblib.load(\"meta_resnet.pkl\")\n",
    "meta_yamnet, yamnet_classes = joblib.load(\"meta_yamnet.pkl\")\n",
    "\n",
    "# --------------------------\n",
    "# Expand helper\n",
    "# --------------------------\n",
    "def expand_probs(probs, classes, num_classes):\n",
    "    expanded = np.zeros((probs.shape[0], num_classes))\n",
    "    expanded[:, classes.astype(int)] = probs\n",
    "    return expanded\n",
    "\n",
    "# --------------------------\n",
    "# Flexible Fusion\n",
    "# --------------------------\n",
    "def fuse_flexible(sample_preds, weights):\n",
    "    fused_outputs = []\n",
    "\n",
    "    num_samples = len(next(iter(sample_preds.values())))  # length from any model\n",
    "\n",
    "    for i in range(num_samples):\n",
    "        fused = np.zeros((1, num_classes))\n",
    "\n",
    "        if \"EffNet\" in sample_preds:\n",
    "            effnet_probs = expand_probs(\n",
    "                meta_effnet.predict_proba(sample_preds[\"EffNet\"][i:i+1]),\n",
    "                effnet_classes, num_classes\n",
    "            )\n",
    "            fused += weights[\"EffNet\"] * effnet_probs\n",
    "\n",
    "        if \"ResNet\" in sample_preds:\n",
    "            resnet_probs = expand_probs(\n",
    "                meta_resnet.predict_proba(sample_preds[\"ResNet\"][i:i+1]),\n",
    "                resnet_classes, num_classes\n",
    "            )\n",
    "            fused += weights[\"ResNet\"] * resnet_probs\n",
    "\n",
    "        if \"YAMNet\" in sample_preds:\n",
    "            yamnet_probs = expand_probs(\n",
    "                meta_yamnet.predict_proba(sample_preds[\"YAMNet\"][i:i+1]),\n",
    "                yamnet_classes, num_classes\n",
    "            )\n",
    "            fused += weights[\"YAMNet\"] * yamnet_probs\n",
    "\n",
    "        fused_outputs.append(fused)\n",
    "\n",
    "    return np.vstack(fused_outputs)\n",
    "\n",
    "# --------------------------\n",
    "# Dataset dictionary (test splits)\n",
    "# --------------------------\n",
    "datasets = {\n",
    "    \"CUB\": {\n",
    "        \"preds\": np.load(\"oof_preds_effnet_aligned.npy\"),\n",
    "        \"targets\": np.load(\"efficientnet_oof_targets.npy\")\n",
    "    },\n",
    "    \"iNat\": {\n",
    "        \"preds\": np.load(\"oof_preds_resnet_inat_refined.npy\"),\n",
    "        \"targets\": np.load(\"oof_targets_resnet_inat_refined.npy\")\n",
    "    },\n",
    "    \"XENO\": {\n",
    "        \"preds\": np.load(\"oof_preds_yamnet_refined.npy\"),\n",
    "        \"targets\": np.load(\"oof_targets_yamnet_refined.npy\")\n",
    "    }\n",
    "}\n",
    "\n",
    "# --------------------------\n",
    "# Run evaluation on each dataset\n",
    "# --------------------------\n",
    "for name, data in datasets.items():\n",
    "    print(f\"\\n===== Evaluating on {name} Test Set =====\")\n",
    "\n",
    "    # Select model preds for this dataset\n",
    "    if name == \"CUB\":\n",
    "        sample_preds = {\"EffNet\": data[\"preds\"]}\n",
    "    elif name == \"iNat\":\n",
    "        sample_preds = {\"ResNet\": data[\"preds\"]}\n",
    "    elif name == \"XENO\":\n",
    "        sample_preds = {\"YAMNet\": data[\"preds\"]}\n",
    "    else:\n",
    "        raise ValueError(f\"Unknown dataset: {name}\")\n",
    "\n",
    "    targets = data[\"targets\"]\n",
    "\n",
    "    # Run fusion\n",
    "    fused_probs = fuse_flexible(sample_preds, weights)\n",
    "    fused_top1 = fused_probs.argmax(axis=1)\n",
    "\n",
    "    # Metrics\n",
    "    top1 = accuracy_score(targets, fused_top1)\n",
    "    top5 = top_k_accuracy_score(\n",
    "        targets, fused_probs, k=5, labels=np.arange(num_classes)\n",
    "    )\n",
    "\n",
    "    print(f\"📊 Ensemble Performance on {name}: Top-1 = {top1:.4f}, Top-5 = {top5:.4f}\")\n",
    "\n",
    "    # Confusion matrix\n",
    "    cm = confusion_matrix(targets, fused_top1, labels=np.arange(num_classes))\n",
    "    print(f\"Confusion Matrix shape: {cm.shape}\")\n",
    "\n",
    "    # Per-class precision/recall\n",
    "    report = classification_report(\n",
    "        targets, fused_top1, labels=np.arange(num_classes), zero_division=0\n",
    "    )\n",
    "    print(\"Classification Report:\\n\", report)\n",
    "\n",
    "    # Save outputs\n",
    "    np.save(f\"fused_probs_{name}.npy\", fused_probs)\n",
    "    np.save(f\"fused_top1_{name}.npy\", fused_top1)\n",
    "    print(f\"💾 Saved {name} fused predictions + labels!\")\n",
    "\n",
    "print(\"\\n✅ Final evaluation done across all test datasets!\")\n"
   ]
  },
  {
   "cell_type": "markdown",
   "id": "f5eb9f93-a973-4167-95be-a4ce5b6ae764",
   "metadata": {},
   "source": [
    "## 8.1 Data Visualisation"
   ]
  },
  {
   "cell_type": "code",
   "execution_count": 13,
   "id": "cc6725dc-d333-4b60-be0f-1cdc8ec9af4d",
   "metadata": {},
   "outputs": [
    {
     "name": "stdout",
     "output_type": "stream",
     "text": [
      "\n",
      "📊 Visualizing CUB results...\n",
      "CUB: Top-1 = 0.7712, Top-5 = 0.9538\n"
     ]
    },
    {
     "data": {
      "image/png": "[encoded data removed]",
      "text/plain": [
       "<Figure size 1200x1000 with 2 Axes>"
      ]
     },
     "metadata": {},
     "output_type": "display_data"
    },
    {
     "name": "stdout",
     "output_type": "stream",
     "text": [
      "\n",
      "📊 Visualizing iNat results...\n",
      "iNat: Top-1 = 0.8612, Top-5 = 0.9123\n"
     ]
    },
    {
     "data": {
      "image/png": "[encoded data removed]",
      "text/plain": [
       "<Figure size 1200x1000 with 2 Axes>"
      ]
     },
     "metadata": {},
     "output_type": "display_data"
    },
    {
     "name": "stdout",
     "output_type": "stream",
     "text": [
      "\n",
      "📊 Visualizing XENO results...\n",
      "XENO: Top-1 = 0.1806, Top-5 = 0.6389\n"
     ]
    },
    {
     "name": "stderr",
     "output_type": "stream",
     "text": [
      "C:\\Users\\jayme\\AppData\\Local\\Temp\\ipykernel_23268\\4260735772.py:20: RuntimeWarning: invalid value encountered in divide\n",
      "  cm_normalized = cm.astype(\"float\") / cm.sum(axis=1)[:, np.newaxis]\n"
     ]
    },
    {
     "data": {
      "image/png": "[encoded data removed]",
      "text/plain": [
       "<Figure size 1200x1000 with 2 Axes>"
      ]
     },
     "metadata": {},
     "output_type": "display_data"
    },
    {
     "data": {
      "image/png": "[encoded data removed]",
      "text/plain": [
       "<Figure size 800x600 with 1 Axes>"
      ]
     },
     "metadata": {},
     "output_type": "display_data"
    },
    {
     "name": "stdout",
     "output_type": "stream",
     "text": [
      "\n",
      "✅ Visualization complete!\n"
     ]
    }
   ],
   "source": [
    "import numpy as np\n",
    "import matplotlib.pyplot as plt\n",
    "import seaborn as sns\n",
    "from sklearn.metrics import confusion_matrix, ConfusionMatrixDisplay\n",
    "\n",
    "# --------------------------\n",
    "# Config\n",
    "# --------------------------\n",
    "num_classes = 200\n",
    "datasets = [\"CUB\", \"iNat\", \"XENO\"]\n",
    "\n",
    "# Optional: replace with real class names if you have them\n",
    "class_names = [f\"Class {i}\" for i in range(num_classes)]\n",
    "\n",
    "# --------------------------\n",
    "# Function to plot confusion matrix\n",
    "# --------------------------\n",
    "def plot_confusion_matrix(targets, preds, dataset_name):\n",
    "    cm = confusion_matrix(targets, preds, labels=np.arange(num_classes))\n",
    "    cm_normalized = cm.astype(\"float\") / cm.sum(axis=1)[:, np.newaxis]\n",
    "\n",
    "    plt.figure(figsize=(12, 10))\n",
    "    sns.heatmap(\n",
    "        cm_normalized,\n",
    "        cmap=\"Blues\",\n",
    "        xticklabels=False,  # hide labels if too many classes\n",
    "        yticklabels=False,\n",
    "        cbar=True,\n",
    "    )\n",
    "    plt.title(f\"{dataset_name} – Normalized Confusion Matrix\", fontsize=14)\n",
    "    plt.xlabel(\"Predicted Label\")\n",
    "    plt.ylabel(\"True Label\")\n",
    "    plt.tight_layout()\n",
    "    plt.show()\n",
    "\n",
    "# --------------------------\n",
    "# Function to plot accuracy bars\n",
    "# --------------------------\n",
    "def plot_accuracy_bars(results):\n",
    "    datasets = list(results.keys())\n",
    "    top1_scores = [results[d][\"top1\"] for d in datasets]\n",
    "    top5_scores = [results[d][\"top5\"] for d in datasets]\n",
    "\n",
    "    x = np.arange(len(datasets))\n",
    "    width = 0.35\n",
    "\n",
    "    fig, ax = plt.subplots(figsize=(8, 6))\n",
    "    ax.bar(x - width/2, top1_scores, width, label=\"Top-1\")\n",
    "    ax.bar(x + width/2, top5_scores, width, label=\"Top-5\")\n",
    "\n",
    "    ax.set_ylabel(\"Accuracy\")\n",
    "    ax.set_title(\"Ensemble Accuracy Across Datasets\")\n",
    "    ax.set_xticks(x)\n",
    "    ax.set_xticklabels(datasets)\n",
    "    ax.legend()\n",
    "    plt.ylim(0, 1.0)\n",
    "    plt.tight_layout()\n",
    "    plt.show()\n",
    "\n",
    "# --------------------------\n",
    "# Load results + visualize\n",
    "# --------------------------\n",
    "results = {}\n",
    "\n",
    "for dataset in datasets:\n",
    "    print(f\"\\n📊 Visualizing {dataset} results...\")\n",
    "\n",
    "    # Load predictions + targets\n",
    "    fused_probs = np.load(f\"fused_probs_{dataset}.npy\")\n",
    "    fused_top1 = np.load(f\"fused_top1_{dataset}.npy\")\n",
    "\n",
    "    if dataset == \"CUB\":\n",
    "        targets = np.load(\"efficientnet_oof_targets.npy\")\n",
    "    elif dataset == \"iNat\":\n",
    "        targets = np.load(\"oof_targets_resnet_inat_refined.npy\")\n",
    "    elif dataset == \"XENO\":\n",
    "        targets = np.load(\"oof_targets_yamnet_refined.npy\")\n",
    "    else:\n",
    "        raise ValueError(f\"Unknown dataset: {dataset}\")\n",
    "\n",
    "    # Compute metrics\n",
    "    top1 = (fused_top1 == targets).mean()\n",
    "    top5 = np.mean([\n",
    "        targets[i] in np.argsort(fused_probs[i])[-5:]\n",
    "        for i in range(len(targets))\n",
    "    ])\n",
    "\n",
    "    results[dataset] = {\"top1\": top1, \"top5\": top5}\n",
    "\n",
    "    print(f\"{dataset}: Top-1 = {top1:.4f}, Top-5 = {top5:.4f}\")\n",
    "\n",
    "    # Plot confusion matrix\n",
    "    plot_confusion_matrix(targets, fused_top1, dataset)\n",
    "\n",
    "# Plot overall accuracy bar chart\n",
    "plot_accuracy_bars(results)\n",
    "\n",
    "print(\"\\n✅ Visualization complete!\")\n"
   ]
  },
  {
   "cell_type": "code",
   "execution_count": 14,
   "id": "9595212f-5ac5-4849-a201-6ca059deb7da",
   "metadata": {
    "collapsed": true,
    "jupyter": {
     "outputs_hidden": true,
     "source_hidden": true
    }
   },
   "outputs": [
    {
     "name": "stdout",
     "output_type": "stream",
     "text": [
      "\n",
      "📦 Inspecting meta_effnet.pkl...\n",
      "  Tuple contents:\n",
      "   [0] -> <class 'sklearn.linear_model._logistic.LogisticRegression'>\n",
      "   [1] -> <class 'numpy.ndarray'>\n",
      "\n",
      "📦 Inspecting meta_resnet.pkl...\n",
      "  Tuple contents:\n",
      "   [0] -> <class 'sklearn.linear_model._logistic.LogisticRegression'>\n",
      "   [1] -> <class 'numpy.ndarray'>\n",
      "\n",
      "📦 Inspecting meta_yamnet.pkl...\n",
      "  Tuple contents:\n",
      "   [0] -> <class 'sklearn.linear_model._logistic.LogisticRegression'>\n",
      "   [1] -> <class 'numpy.ndarray'>\n"
     ]
    }
   ],
   "source": [
    "import joblib\n",
    "import os\n",
    "\n",
    "# Folder where your models are stored\n",
    "model_dir = \"./\"  \n",
    "\n",
    "for fname in os.listdir(model_dir):\n",
    "    if fname.endswith(\".pkl\"):\n",
    "        print(f\"\\n📦 Inspecting {fname}...\")\n",
    "        try:\n",
    "            obj = joblib.load(os.path.join(model_dir, fname))\n",
    "            if isinstance(obj, tuple):\n",
    "                print(\"  Tuple contents:\")\n",
    "                for i, item in enumerate(obj):\n",
    "                    print(f\"   [{i}] -> {type(item)}\")\n",
    "            else:\n",
    "                print(f\"  Loaded object type: {type(obj)}\")\n",
    "        except Exception as e:\n",
    "            print(f\"  ⚠️ Could not load: {e}\")\n"
   ]
  },
  {
   "cell_type": "markdown",
   "id": "02f68810-9c25-4d5e-927d-dbeb4d771fbd",
   "metadata": {},
   "source": [
    "# Step 9: Inference on Raw Data"
   ]
  },
  {
   "cell_type": "code",
   "execution_count": 6,
   "id": "a31e33ee-fb03-4aa8-8c96-1a908f4aca13",
   "metadata": {},
   "outputs": [
    {
     "name": "stdout",
     "output_type": "stream",
     "text": [
      "Prediction (image only): 001.Black_footed_Albatross\n",
      "⚠️ Audio file not found: example_bird.wav\n"
     ]
    },
    {
     "ename": "ValueError",
     "evalue": "No valid input provided. Please give an image or audio file.",
     "output_type": "error",
     "traceback": [
      "\u001b[1;31m---------------------------------------------------------------------------\u001b[0m",
      "\u001b[1;31mValueError\u001b[0m                                Traceback (most recent call last)",
      "Cell \u001b[1;32mIn[6], line 143\u001b[0m\n\u001b[0;32m    141\u001b[0m \u001b[38;5;28;01mif\u001b[39;00m \u001b[38;5;18m__name__\u001b[39m \u001b[38;5;241m==\u001b[39m \u001b[38;5;124m\"\u001b[39m\u001b[38;5;124m__main__\u001b[39m\u001b[38;5;124m\"\u001b[39m:\n\u001b[0;32m    142\u001b[0m     \u001b[38;5;28mprint\u001b[39m(\u001b[38;5;124m\"\u001b[39m\u001b[38;5;124mPrediction (image only):\u001b[39m\u001b[38;5;124m\"\u001b[39m, predict(image_path\u001b[38;5;241m=\u001b[39m\u001b[38;5;124m\"\u001b[39m\u001b[38;5;124mexample_bird.jpg\u001b[39m\u001b[38;5;124m\"\u001b[39m))\n\u001b[1;32m--> 143\u001b[0m     \u001b[38;5;28mprint\u001b[39m(\u001b[38;5;124m\"\u001b[39m\u001b[38;5;124mPrediction (audio only):\u001b[39m\u001b[38;5;124m\"\u001b[39m, \u001b[43mpredict\u001b[49m\u001b[43m(\u001b[49m\u001b[43maudio_path\u001b[49m\u001b[38;5;241;43m=\u001b[39;49m\u001b[38;5;124;43m\"\u001b[39;49m\u001b[38;5;124;43mexample_bird.wav\u001b[39;49m\u001b[38;5;124;43m\"\u001b[39;49m\u001b[43m)\u001b[49m)\n\u001b[0;32m    144\u001b[0m     \u001b[38;5;28mprint\u001b[39m(\u001b[38;5;124m\"\u001b[39m\u001b[38;5;124mPrediction (image + audio):\u001b[39m\u001b[38;5;124m\"\u001b[39m, predict(image_path\u001b[38;5;241m=\u001b[39m\u001b[38;5;124m\"\u001b[39m\u001b[38;5;124mexample_bird.jpg\u001b[39m\u001b[38;5;124m\"\u001b[39m, audio_path\u001b[38;5;241m=\u001b[39m\u001b[38;5;124m\"\u001b[39m\u001b[38;5;124mexample_bird.wav\u001b[39m\u001b[38;5;124m\"\u001b[39m))\n",
      "Cell \u001b[1;32mIn[6], line 130\u001b[0m, in \u001b[0;36mpredict\u001b[1;34m(image_path, audio_path)\u001b[0m\n\u001b[0;32m    128\u001b[0m \u001b[38;5;66;03m# Fusion\u001b[39;00m\n\u001b[0;32m    129\u001b[0m \u001b[38;5;28;01mif\u001b[39;00m \u001b[38;5;129;01mnot\u001b[39;00m probs_list:\n\u001b[1;32m--> 130\u001b[0m     \u001b[38;5;28;01mraise\u001b[39;00m \u001b[38;5;167;01mValueError\u001b[39;00m(\u001b[38;5;124m\"\u001b[39m\u001b[38;5;124mNo valid input provided. Please give an image or audio file.\u001b[39m\u001b[38;5;124m\"\u001b[39m)\n\u001b[0;32m    131\u001b[0m fused_probs \u001b[38;5;241m=\u001b[39m np\u001b[38;5;241m.\u001b[39mmean(probs_list, axis\u001b[38;5;241m=\u001b[39m\u001b[38;5;241m0\u001b[39m)\n\u001b[0;32m    133\u001b[0m \u001b[38;5;66;03m# Final prediction\u001b[39;00m\n",
      "\u001b[1;31mValueError\u001b[0m: No valid input provided. Please give an image or audio file."
     ]
    }
   ],
   "source": [
    "import torch\n",
    "import torch.nn as nn\n",
    "import torchaudio\n",
    "import torchvision.transforms as transforms\n",
    "from torchvision import models\n",
    "import numpy as np\n",
    "from PIL import Image\n",
    "import os\n",
    "\n",
    "# -----------------------------\n",
    "# Config\n",
    "# -----------------------------\n",
    "device = torch.device(\"cuda\" if torch.cuda.is_available() else \"cpu\")\n",
    "\n",
    "# Paths to models\n",
    "efficientnet_path = \"efficientnet_birds.pth\"\n",
    "resnet_path = \"resnet_refined.pth\"\n",
    "yamnet_dir = \"checkpoints_yamnet_refined\"\n",
    "\n",
    "# Class names (shared across models after alignment)\n",
    "classes = np.load(\"classes_efficientnet.npy\")  # shape: (200,)\n",
    "\n",
    "# -----------------------------\n",
    "# Load Models\n",
    "# -----------------------------\n",
    "def load_efficientnet():\n",
    "    model = models.efficientnet_b0(pretrained=False)\n",
    "    model.classifier[1] = nn.Linear(model.classifier[1].in_features, len(classes))\n",
    "    model.load_state_dict(torch.load(efficientnet_path, map_location=device))\n",
    "    model.to(device).eval()\n",
    "    return model\n",
    "\n",
    "def load_resnet():\n",
    "    model = models.resnet50(pretrained=False)\n",
    "    model.fc = nn.Linear(model.fc.in_features, len(classes))\n",
    "    model.load_state_dict(torch.load(resnet_path, map_location=device))\n",
    "    model.to(device).eval()\n",
    "    return model\n",
    "\n",
    "def load_yamnet_folds():\n",
    "    folds = []\n",
    "    for i in range(1, 6):\n",
    "        path = os.path.join(yamnet_dir, f\"yamnet_fold{i}.pth\")\n",
    "        if not os.path.exists(path):\n",
    "            print(f\"⚠️ Missing {path}, skipping this fold\")\n",
    "            continue\n",
    "        model = torch.load(path, map_location=device)  # assumes torch.save(model) was used\n",
    "        model.to(device).eval()\n",
    "        folds.append(model)\n",
    "    return folds\n",
    "\n",
    "# -----------------------------\n",
    "# Preprocessing\n",
    "# -----------------------------\n",
    "img_transform = transforms.Compose([\n",
    "    transforms.Resize((224, 224)),\n",
    "    transforms.ToTensor(),\n",
    "    transforms.Normalize(mean=[0.485, 0.456, 0.406],\n",
    "                         std=[0.229, 0.224, 0.225])\n",
    "])\n",
    "\n",
    "def preprocess_image(image_path):\n",
    "    try:\n",
    "        img = Image.open(image_path).convert(\"RGB\")\n",
    "        return img_transform(img).unsqueeze(0).to(device)\n",
    "    except Exception as e:\n",
    "        print(f\"⚠️ Could not load image {image_path}: {e}\")\n",
    "        return None\n",
    "\n",
    "def preprocess_audio(audio_path, target_sr=16000):\n",
    "    try:\n",
    "        waveform, sr = torchaudio.load(audio_path)\n",
    "        if sr != target_sr:\n",
    "            waveform = torchaudio.functional.resample(waveform, sr, target_sr)\n",
    "        return waveform.to(device)\n",
    "    except Exception as e:\n",
    "        print(f\"⚠️ Could not load audio {audio_path}: {e}\")\n",
    "        return None\n",
    "\n",
    "# -----------------------------\n",
    "# Inference Functions\n",
    "# -----------------------------\n",
    "def predict_image(model, tensor):\n",
    "    if tensor is None:\n",
    "        return None\n",
    "    with torch.no_grad():\n",
    "        logits = model(tensor)\n",
    "        probs = torch.softmax(logits, dim=1).cpu().numpy()[0]\n",
    "    return probs\n",
    "\n",
    "def predict_audio(models, waveform):\n",
    "    if waveform is None or not models:\n",
    "        return None\n",
    "    all_probs = []\n",
    "    for m in models:\n",
    "        with torch.no_grad():\n",
    "            logits = m(waveform)\n",
    "            probs = torch.softmax(logits, dim=1).cpu().numpy()[0]\n",
    "            all_probs.append(probs)\n",
    "    return np.mean(all_probs, axis=0) if all_probs else None\n",
    "\n",
    "# -----------------------------\n",
    "# Ensemble Inference\n",
    "# -----------------------------\n",
    "def predict(image_path=None, audio_path=None):\n",
    "    probs_list = []\n",
    "\n",
    "    # Image models\n",
    "    if image_path and os.path.exists(image_path):\n",
    "        img_tensor = preprocess_image(image_path)\n",
    "        if img_tensor is not None:\n",
    "            effnet_probs = predict_image(load_efficientnet(), img_tensor)\n",
    "            resnet_probs = predict_image(load_resnet(), img_tensor)\n",
    "            if effnet_probs is not None: probs_list.append(effnet_probs)\n",
    "            if resnet_probs is not None: probs_list.append(resnet_probs)\n",
    "    elif image_path:\n",
    "        print(f\"⚠️ Image file not found: {image_path}\")\n",
    "\n",
    "    # Audio models\n",
    "    if audio_path and os.path.exists(audio_path):\n",
    "        yamnet_folds = load_yamnet_folds()\n",
    "        waveform = preprocess_audio(audio_path)\n",
    "        yamnet_probs = predict_audio(yamnet_folds, waveform)\n",
    "        if yamnet_probs is not None: probs_list.append(yamnet_probs)\n",
    "    elif audio_path:\n",
    "        print(f\"⚠️ Audio file not found: {audio_path}\")\n",
    "\n",
    "    # Fusion\n",
    "    if not probs_list:\n",
    "        raise ValueError(\"No valid input provided. Please give an image or audio file.\")\n",
    "    fused_probs = np.mean(probs_list, axis=0)\n",
    "\n",
    "    # Final prediction\n",
    "    pred_idx = np.argmax(fused_probs)\n",
    "    pred_name = classes[pred_idx]\n",
    "    return pred_name\n",
    "\n",
    "# -----------------------------\n",
    "# Example Usage\n",
    "# -----------------------------\n",
    "if __name__ == \"__main__\":\n",
    "    print(\"Prediction (image only):\", predict(image_path=\"example_bird.jpg\"))\n",
    "    print(\"Prediction (audio only):\", predict(audio_path=\"example_bird.wav\"))\n",
    "    print(\"Prediction (image + audio):\", predict(image_path=\"example_bird.jpg\", audio_path=\"example_bird.wav\"))\n"
   ]
  },
  {
   "cell_type": "code",
   "execution_count": null,
   "id": "93511c6d-4953-4e26-8a7d-a5702d2b490f",
   "metadata": {},
   "outputs": [],
   "source": []
  }
 ],
 "metadata": {
  "kernelspec": {
   "display_name": "Python 3 (ipykernel)",
   "language": "python",
   "name": "python3"
  },
  "language_info": {
   "codemirror_mode": {
    "name": "ipython",
    "version": 3
   },
   "file_extension": ".py",
   "mimetype": "text/x-python",
   "name": "python",
   "nbconvert_exporter": "python",
   "pygments_lexer": "ipython3",
   "version": "3.9.23"
  }
 },
 "nbformat": 4,
 "nbformat_minor": 5
}
